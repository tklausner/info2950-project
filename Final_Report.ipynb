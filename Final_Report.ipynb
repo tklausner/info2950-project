{
 "cells": [
  {
   "cell_type": "markdown",
   "metadata": {},
   "source": [
    "# INFO 2950 Project - Final Report \n",
    "Net IDs: tjk223, bsp73, amm643, swp42\n",
    "\n",
    "Names: Teddy Klausner, Ben Polson, Sasha Miranda, Spencer Pettee\n",
    "### Details\n",
    "This file is the final report section of our final project. There are multiple sections in the notebook and they will be organized in the following format: **Introduction, Data Description, Preregistration Statement, Data Analysis, Evaluation of Signifigance, Interpretation and Conclusion, Limitations, Souce Code, and Acknowledgements.** In addition to this file we also have two appendicies. The first appendix shows our cleaning and merging of the data files. The second appedix shows other work that is not shown in this file. \n",
    "\n",
    "#### Github Repo: https://github.com/tklausner/info2950-project\n",
    "<hr>"
   ]
  },
  {
   "cell_type": "markdown",
   "metadata": {},
   "source": [
    "## Introduction\n",
    "\n",
    "In this project we wanted to work with multiple data sets, so we decided explore internet data and food expenditure across countries. As online food delivery services become more popular, we wanted to explore the connection between internet and food expenditure.\n",
    "\n",
    "The first step was to clean both data files. After both files were clean and ready to work with we merged them based on country. Another goal was discovering how factors impact internet quality by country. To do this we built a multiple regression model which told us that some of the most important factors on internet quality are. \n",
    "\n",
    "**Research Question 1: By country, is there any correlation between food expenditure and various factors having to do with the internet?**\n",
    "\n",
    "We were curious about these results because food expenditure and internet information are seemingly very unrelated, and we wanted to find out if there were any surprising relationships that may show links between economic and political factors throughout the world. \n",
    "\n",
    "For analysis one, we analyze the relationship between food expenditure and each of the columns in the internet dataset that we kept after cleaning. We hypothesize that some of these columns may have a relationship with food expenditure, and we would like to find out which ones do. We ran the correlation and then found the four variables with the highest negative and positive correlation. This was visualized in a heat map. These variables ended up being phone costs, internet users, gender gap, and privacy trust. The original data provided an explanation for what each variable stood for within the column name. Since we renamed the columns to shorter names, we have provided a description of the variables below.\n",
    "\n",
    "- gender gap in internet access (% difference) = gender gap\n",
    "\n",
    "- smartphone cost (score of 0-100, 100=most affordable) = phone cost\n",
    "\n",
    "- internet users (% of population) = internet users\n",
    "\n",
    "- trust in online privacy (% of population) = privacy trust\n",
    "\n",
    "We concluded by using p-values and confidence intervals to examine whether these relationships are statistically significant. We used the r-squared values to determine the strength of the relationship. We found that phone cost and internet users had a solid relationship with food expenditure (shown in part one and two of analysis 1) while gender gap and privacy trust had a relatively weak relationship with food expenditure. \n",
    " \n",
    "In analysis two, we want to build a model for internet accessibility given all of the other columns in the dataset that we kept after cleaning. \n",
    "\n",
    "**Research Question 2: What factors have the strongest correlation to web accessibility by country?**\n",
    "\n",
    "In analysis two, we built a model for web accessibility given all of the other columns in the internet dataset. \n",
    "We used BIC and AIC to determine which columns (AKA variables or predictors) that were statistically significant in the model. These are computer programs where BIC underestimates the number of predictors and AIC overestimates (we’ll go into more detail later). We then took the model created by AIC and removed predictors one by one until all had p-values less than 0.05.\n",
    "\n",
    "We then checked if there were any polynomial terms that were significant by squaring the significant predictors and adding them to the model. The squares were not significant but we then tested interactions between each predictor in case of covariance, which was done by multiplying each predictor with each other and adding them to the model. We found one interaction to be significant which was the interaction between availability of information in the local language with government efforts to promote 5g. We dropped the rest of the interactions and ran the regression one more time which included the added interaction. \n",
    "\n",
    "The result was a 9 feature multiple regression model that we can use to estimate a country’s web accessibility. Although it’s not causal, since we confirmed that the correlation is strong (R-squared of 0.83), we can rely on this model to predict web accessibility of a country. This means we could use the model to help countries improve their web accessibility by improving the significant predictors.\n"
   ]
  },
  {
   "cell_type": "markdown",
   "metadata": {},
   "source": [
    "## Data Description\n",
    "\n",
    "**What are the observations (rows) and the attributes (columns)?**\n",
    "\n",
    "We are using data about internet usage internationally and a separate dataset containing GDP and food expenditure internationally. We combined the two datasets into one where rows are countries and columns of interest from the internet dataset are gender gap in internet access, urban electricity access, rural electricity access, smartphone cost, level of web accessibility, trust in online privacy, total electricity access, internet users. The columns of interest from the other dataset are GDP, and food expenditure.\n",
    "\n",
    "**Why was this dataset created?**\n",
    "\n",
    "The internet data set was created to measure four categories of “The Inclusive Internet Index,” which tracks internet services in countries across the world. The four categories are affordability, availability, relevance and readiness. The index is meant for advocacy organizations, local governments and journalists. \n",
    "\n",
    "This dataset was created by Our World in Data, which wanted to look at the relationship between GDP per person and food expenditure per person. The data was originally sourced from the World Bank, whose goal is to help countries solve issues. They record many general statistics for nearly every country.\n",
    "\n",
    "**Who funded the creation of the dataset?**\n",
    "\n",
    "The internet service dataset was funded by Facebook. The data seems to be funded to support Facebook's internet.org whose mission is to bring internet access to those who do not have it. \n",
    "\n",
    "The World Bank funded the creation of the second dataset, and they receive funding from returns on their investments, country membership fees, and donations made by members\n",
    "\n",
    "**What processes might have influenced what data was observed and recorded and what was not?**\n",
    "\n",
    "The idea of finding how connected people are is more than just taking a survey of <5,000 people. This information may not be representative of the true experience people have in their country. Lastly there is the issue of having a device that connects to the internet. People may be able to afford internet access, but cannot afford the initial price of buying a device. Although the survey apparently covers 91% of the population, can we be sure of that number? \n",
    "\n",
    "For the GDP and food expenditure per person, they are calculated by dividing total GDP and food expenditure by population. The World Bank sources this data from other organizations that are more specific to countries or groups of countries, such as the U.S. Census Bureau. What data was recorded and what wasn’t is determined by how well these organizations sampled and surveyed the population, and also how well the population responded to these surveys.\n",
    "\n",
    "**What preprocessing was done, and how did the data come to be in the form that you are using?**\n",
    "\n",
    "The data appears to be compiled into a single file with many different columns that measure a variety of metrics about internet service. If the data was from surveys was then compiled into countries. The data also combines some of information into categories like regions (such as North America and others). \n",
    "\n",
    "Similarly to the internet data, the food/GDP data was taken from survey within each country. This data was taken from these countries by the World Bank and they compiled all of it into one table.\n",
    "\n",
    "**If people are involved, were they aware of the data collection and if so, what purpose did they expect the data to be used for?**\n",
    "\n",
    "Yes the data was collected through a survey which asked 4,953 participants from 99 countries across Asia-Pacific, the Americas, Europe, the Middle East, North Africa and Sub-Saharan Africa. Considering they took a survey they likely knew the data was being collected. The source is unclear about what the participants thought the data was for. \n",
    "\n",
    "People were certainly aware of this data collection, and the purpose that the participants expected the data to be used for was not specified online. We would guess that they expect it to be used for general government purposes.\n",
    "\n",
    "**Where can your raw source data be found, if applicable? Provide a link to the raw data.** \n",
    "\n",
    "https://drive.google.com/file/d/1R-GW2DyhUh5zsnOQBfxtm36_PCGUV3Kn/view?usp=sharing\n",
    "\n",
    "https://drive.google.com/file/d/11-kbLU49T1SuG5k_y8ENJqKn6eAqwlUo/view?usp=sharing"
   ]
  },
  {
   "cell_type": "markdown",
   "metadata": {},
   "source": [
    "## Preregistration Statement\n",
    "#### Our Two Analyses\n",
    "1) We will analyze the relationship between food expenditure and each of the columns in the internet dataset that we kept after cleaning. We hypothesize that some of these columns may have a relationship with food expenditure, and we would like to find out which ones do. We will conclude by using p-values and confidence intervals to examine whether these relationships are statistically significant.\n",
    "\n",
    "2) We would like to build a model for internet accessibility given all of the other columns in the dataset that we kept after cleaning. We will build a multiple regression model where we will find out which predictors are statistically significant. From the final model, we will not only know what factors impact internet accessibility within countries, but we will also be able to predict the internet accessibility of a country that isn’t listed in the dataset using this model."
   ]
  },
  {
   "cell_type": "markdown",
   "metadata": {},
   "source": [
    "## Data Analysis"
   ]
  },
  {
   "cell_type": "code",
   "execution_count": 51,
   "metadata": {},
   "outputs": [],
   "source": [
    "## load libraries\n",
    "import pandas as pd\n",
    "import numpy as np\n",
    "import matplotlib.pyplot as plt\n",
    "import seaborn as sns\n",
    "from scipy import stats\n",
    "import statsmodels.api as sm\n",
    "\n",
    "## load data\n",
    "if_data = pd.read_csv(\"clean_data.csv\", encoding='latin-1') #merged if_data "
   ]
  },
  {
   "cell_type": "code",
   "execution_count": 52,
   "metadata": {},
   "outputs": [
    {
     "data": {
      "image/png": "[encoded data removed]",
      "text/plain": [
       "<Figure size 432x288 with 1 Axes>"
      ]
     },
     "metadata": {
      "needs_background": "light"
     },
     "output_type": "display_data"
    }
   ],
   "source": [
    "plt.scatter(if_data['GDP'],if_data['food_expenditure'], alpha=0.5)\n",
    "plt.xlabel('GDP')\n",
    "plt.ylabel('Food Expenditure')\n",
    "plt.show()"
   ]
  },
  {
   "cell_type": "markdown",
   "metadata": {},
   "source": [
    "As we can see the data points between GDP and food expenditure are correlated. From this scatter plot the association appears to be linear with many points in the range of GDP <20,000 and food expenditure <2,000. "
   ]
  },
  {
   "cell_type": "code",
   "execution_count": 53,
   "metadata": {},
   "outputs": [
    {
     "data": {
      "image/png": "[encoded data removed]",
      "text/plain": [
       "<Figure size 432x288 with 1 Axes>"
      ]
     },
     "metadata": {
      "needs_background": "light"
     },
     "output_type": "display_data"
    }
   ],
   "source": [
    "plt.scatter(if_data['phone_cost'],if_data['food_expenditure'], alpha=0.5)\n",
    "plt.xlabel('Phone Cost')\n",
    "plt.ylabel('Food Expenditure')\n",
    "plt.show()"
   ]
  },
  {
   "cell_type": "markdown",
   "metadata": {},
   "source": [
    "This graph shows the food expenditure as a function of food cost. Again the data appears to have a positive linear correlation with food expenditure increasing as phone cost increases."
   ]
  },
  {
   "cell_type": "code",
   "execution_count": 54,
   "metadata": {},
   "outputs": [
    {
     "data": {
      "image/png": "[encoded data removed]",
      "text/plain": [
       "<Figure size 432x288 with 1 Axes>"
      ]
     },
     "metadata": {
      "needs_background": "light"
     },
     "output_type": "display_data"
    }
   ],
   "source": [
    "plt.scatter(if_data['internet_users'],if_data['rural_elec_access'], alpha=0.5)\n",
    "plt.xlabel('Internet Users')\n",
    "plt.ylabel('Rural Electricity Access')\n",
    "plt.show()"
   ]
  },
  {
   "cell_type": "markdown",
   "metadata": {},
   "source": [
    "This graph shows the relationship between Internet Users and Rural Electricity Access. The plot has many of the points clustered in the top right. To gain a better idea of the relationship we can perform a log transformation to attempt to linearize the data.  "
   ]
  },
  {
   "cell_type": "code",
   "execution_count": 55,
   "metadata": {},
   "outputs": [
    {
     "data": {
      "image/png": "[encoded data removed]",
      "text/plain": [
       "<Figure size 432x288 with 1 Axes>"
      ]
     },
     "metadata": {
      "needs_background": "light"
     },
     "output_type": "display_data"
    }
   ],
   "source": [
    "plt.scatter(if_data['internet_users'],if_data['urban_elec_access'], alpha=0.5)\n",
    "plt.xlabel('Internet Users')\n",
    "plt.ylabel('Urban Electricity Access')\n",
    "plt.show()"
   ]
  },
  {
   "cell_type": "markdown",
   "metadata": {},
   "source": [
    "This final plot is similar to the last in how the data has many points in the top right. We can also perform a log transformation on this plot to try and linearize the data.\n",
    "<hr>"
   ]
  },
  {
   "cell_type": "markdown",
   "metadata": {},
   "source": [
    "# Analysis 1"
   ]
  },
  {
   "cell_type": "code",
   "execution_count": 56,
   "metadata": {},
   "outputs": [
    {
     "name": "stdout",
     "output_type": "stream",
     "text": [
      "Correlation Coefficients of Food Expenditure and Internet Data\n",
      "Unnamed: 0          -0.085651\n",
      "gender_gap          -0.358075\n",
      "urban_elec_access    0.229720\n",
      "rural_elec_access    0.330072\n",
      "phone_cost           0.661712\n",
      "web_access           0.419633\n",
      "privacy_trust       -0.212550\n",
      "electric_access      0.335970\n",
      "gender_gap_pt       -0.238277\n",
      "internet_users       0.663592\n",
      "total_population    -0.285394\n",
      "GDP                  0.740374\n",
      "food_expenditure     1.000000\n",
      "Name: food_expenditure, dtype: float64\n"
     ]
    }
   ],
   "source": [
    "corr=if_data.corr()\n",
    "corr_table=corr.loc['food_expenditure',:]\n",
    "print('Correlation Coefficients of Food Expenditure and Internet Data')\n",
    "print(corr_table)"
   ]
  },
  {
   "cell_type": "code",
   "execution_count": 57,
   "metadata": {},
   "outputs": [
    {
     "data": {
      "text/plain": [
       "<matplotlib.axes._subplots.AxesSubplot at 0x7ff566310310>"
      ]
     },
     "execution_count": 57,
     "metadata": {},
     "output_type": "execute_result"
    },
    {
     "data": {
      "image/png": "[encoded data removed]",
      "text/plain": [
       "<Figure size 432x288 with 2 Axes>"
      ]
     },
     "metadata": {
      "needs_background": "light"
     },
     "output_type": "display_data"
    }
   ],
   "source": [
    "sns.heatmap(if_data.corr())"
   ]
  },
  {
   "cell_type": "markdown",
   "metadata": {},
   "source": [
    "Based on the correlations listed above and the heatmap(which visualizes the correlations), we can conclude that the gender gap and privacy trust have the strongest negative correlation while phone cost and internet users have the strongest positive correlation with food expenditure. Below, we define two functions. The function plotreg makes a scatter plot of data. Plotreg_resid makes a scatter plot of predicted values for data vs standardized residuals. We used these two functions to help visualize the data and to make sure we can run linear regression on the data. "
   ]
  },
  {
   "cell_type": "code",
   "execution_count": 58,
   "metadata": {},
   "outputs": [],
   "source": [
    "def plotreg(data, x_label, y_label):\n",
    "    \"\"\"\n",
    "    Makes a scatter plot of data['x_label'] vs data['y_label']\n",
    "    \"\"\"\n",
    "    plt.scatter(data[x_label], data[y_label], alpha=.6)\n",
    "    plt.title(x_label + ' vs ' + y_label)\n",
    "    plt.xlabel(x_label)\n",
    "    plt.ylabel(y_label)\n",
    "    plt.show()"
   ]
  },
  {
   "cell_type": "code",
   "execution_count": 59,
   "metadata": {},
   "outputs": [],
   "source": [
    "def plotreg_resid(data, x_label, y_label):\n",
    "    \"\"\"\n",
    "    Makes a scatter plot of predicted values for data['y_label'] vs standardized residuals\n",
    "    (the number of standard deviations the actual values are away from their predicted value)\n",
    "    \"\"\"\n",
    "    X=data[x_label]\n",
    "    Y=data[y_label]\n",
    "    X=sm.add_constant(X)\n",
    "    model = sm.OLS(Y,X).fit()\n",
    "    \n",
    "    student_residuals = pd.Series(model.get_influence().resid_studentized_internal)\n",
    "    fitted = model.fittedvalues\n",
    "    plt.scatter(fitted, student_residuals, alpha=.6)\n",
    "    plt.title('Fitted values vs Standardized Residuals')\n",
    "    plt.xlabel('Fits')\n",
    "    plt.ylabel('Std Resids')\n",
    "    plt.hlines(y=0, colors='red', xmin=min(fitted), xmax=max(fitted))\n",
    "    plt.show()\n",
    "    return student_residuals"
   ]
  },
  {
   "cell_type": "markdown",
   "metadata": {},
   "source": [
    "## Analysis 1, Part 1: Regression Analysis for Food Expenditure and Phone Cost "
   ]
  },
  {
   "cell_type": "code",
   "execution_count": 60,
   "metadata": {},
   "outputs": [
    {
     "data": {
      "image/png": "[encoded data removed]",
      "text/plain": [
       "<Figure size 432x288 with 1 Axes>"
      ]
     },
     "metadata": {
      "needs_background": "light"
     },
     "output_type": "display_data"
    }
   ],
   "source": [
    "plotreg(if_data, 'food_expenditure', 'phone_cost')"
   ]
  },
  {
   "cell_type": "code",
   "execution_count": 61,
   "metadata": {},
   "outputs": [
    {
     "data": {
      "image/png": "[encoded data removed]",
      "text/plain": [
       "<Figure size 432x288 with 1 Axes>"
      ]
     },
     "metadata": {
      "needs_background": "light"
     },
     "output_type": "display_data"
    }
   ],
   "source": [
    "student_residuals = plotreg_resid(if_data, 'food_expenditure', 'phone_cost')"
   ]
  },
  {
   "cell_type": "markdown",
   "metadata": {},
   "source": [
    "Since one of the points is more than 3 standard deviations from its predicted value, we will consider it an outlier. This country probably has an unusual situation where phone cost is way higher than expected due to tariffs or other specific factors. We will also remove the point in the bottom right corner because it is well outside of the range of the rest of the data in addition to being more than 2 standard deviations below its expected value."
   ]
  },
  {
   "cell_type": "code",
   "execution_count": 62,
   "metadata": {},
   "outputs": [
    {
     "data": {
      "text/html": [
       "<div>\n",
       "<style scoped>\n",
       "    .dataframe tbody tr th:only-of-type {\n",
       "        vertical-align: middle;\n",
       "    }\n",
       "\n",
       "    .dataframe tbody tr th {\n",
       "        vertical-align: top;\n",
       "    }\n",
       "\n",
       "    .dataframe thead th {\n",
       "        text-align: right;\n",
       "    }\n",
       "</style>\n",
       "<table border=\"1\" class=\"dataframe\">\n",
       "  <thead>\n",
       "    <tr style=\"text-align: right;\">\n",
       "      <th></th>\n",
       "      <th>food_expenditure</th>\n",
       "      <th>phone_cost</th>\n",
       "    </tr>\n",
       "  </thead>\n",
       "  <tbody>\n",
       "    <tr>\n",
       "      <th>0</th>\n",
       "      <td>639.0</td>\n",
       "      <td>32.0</td>\n",
       "    </tr>\n",
       "    <tr>\n",
       "      <th>1</th>\n",
       "      <td>2306.0</td>\n",
       "      <td>43.9</td>\n",
       "    </tr>\n",
       "    <tr>\n",
       "      <th>2</th>\n",
       "      <td>2927.0</td>\n",
       "      <td>93.6</td>\n",
       "    </tr>\n",
       "    <tr>\n",
       "      <th>3</th>\n",
       "      <td>2273.0</td>\n",
       "      <td>68.8</td>\n",
       "    </tr>\n",
       "    <tr>\n",
       "      <th>4</th>\n",
       "      <td>896.0</td>\n",
       "      <td>22.7</td>\n",
       "    </tr>\n",
       "  </tbody>\n",
       "</table>\n",
       "</div>"
      ],
      "text/plain": [
       "   food_expenditure  phone_cost\n",
       "0             639.0        32.0\n",
       "1            2306.0        43.9\n",
       "2            2927.0        93.6\n",
       "3            2273.0        68.8\n",
       "4             896.0        22.7"
      ]
     },
     "execution_count": 62,
     "metadata": {},
     "output_type": "execute_result"
    }
   ],
   "source": [
    "#subset data to just phone cost and food expenditure\n",
    "phone_data = if_data[['food_expenditure','phone_cost']]\n",
    "\n",
    "#remove point more than 3 SD from predicted value\n",
    "phone_data = phone_data[abs(student_residuals) <= 3]\n",
    "#remove point outside of range\n",
    "phone_data = phone_data[phone_data['food_expenditure'] < 4000]\n",
    "\n",
    "phone_data.head()"
   ]
  },
  {
   "cell_type": "code",
   "execution_count": 63,
   "metadata": {},
   "outputs": [
    {
     "data": {
      "image/png": "[encoded data removed]",
      "text/plain": [
       "<Figure size 432x288 with 1 Axes>"
      ]
     },
     "metadata": {
      "needs_background": "light"
     },
     "output_type": "display_data"
    }
   ],
   "source": [
    "new_resid_plot =plotreg_resid(phone_data, 'food_expenditure', 'phone_cost')"
   ]
  },
  {
   "cell_type": "code",
   "execution_count": 64,
   "metadata": {},
   "outputs": [
    {
     "data": {
      "text/plain": [
       "<matplotlib.axes._subplots.AxesSubplot at 0x7ff565b3ef10>"
      ]
     },
     "execution_count": 64,
     "metadata": {},
     "output_type": "execute_result"
    },
    {
     "data": {
      "image/png": "[encoded data removed]",
      "text/plain": [
       "<Figure size 432x288 with 1 Axes>"
      ]
     },
     "metadata": {
      "needs_background": "light"
     },
     "output_type": "display_data"
    }
   ],
   "source": [
    "sns.regplot(x='food_expenditure', y='phone_cost', data=phone_data)"
   ]
  },
  {
   "cell_type": "markdown",
   "metadata": {},
   "source": [
    "As you can see, the new plots look much more evenly spread."
   ]
  },
  {
   "cell_type": "code",
   "execution_count": 65,
   "metadata": {},
   "outputs": [
    {
     "name": "stdout",
     "output_type": "stream",
     "text": [
      "the slope of food expenditure and phone cost is: 0.0168\n",
      "the intercept of food expenditure and phone cost is: 27.6338\n",
      "the r-squared of food expenditure and phone cost is: 0.5376\n",
      "the p-value of food expenditure and phone cost is: 0.0000\n"
     ]
    }
   ],
   "source": [
    "food_phone=stats.linregress(phone_data['food_expenditure'], phone_data['phone_cost'])\n",
    "slope_fp=food_phone[0]\n",
    "intercept_fp=food_phone[1]\n",
    "rsquared_fp=(food_phone[2]**2)\n",
    "pvalue_fp=food_phone[3]\n",
    "std_error_fp=food_phone[4]\n",
    "print(\"the slope of food expenditure and phone cost is: {:.4f}\".format(slope_fp))\n",
    "print(\"the intercept of food expenditure and phone cost is: {:.4f}\".format(intercept_fp))\n",
    "print(\"the r-squared of food expenditure and phone cost is: {:.4f}\".format(rsquared_fp))\n",
    "print(\"the p-value of food expenditure and phone cost is: {:.4f}\".format(pvalue_fp))"
   ]
  },
  {
   "cell_type": "code",
   "execution_count": 66,
   "metadata": {},
   "outputs": [
    {
     "name": "stdout",
     "output_type": "stream",
     "text": [
      "(0.012807202606773933, 0.020837701082847576)\n"
     ]
    }
   ],
   "source": [
    "#confidence interval calculated here \n",
    "conf_int_fp=(slope_fp - std_error_fp * 1.96, slope_fp + std_error_fp * 1.96 )\n",
    "print(conf_int_fp)"
   ]
  },
  {
   "cell_type": "markdown",
   "metadata": {},
   "source": [
    "Since the p-value of the t-test is 0.000, which is less than 0.05, there is clearly a relationship between food expenditure and phone cost. The regression equation is $phoneCost = 0.0168(foodExpenditure) + 27.6338$. In addition, the r-squared value is 0.5376 which shows that the relationship is relatively weak but it still exists. We calculated the confidence interval for the slope above and found that it was (0.0128,0.0208)."
   ]
  },
  {
   "cell_type": "markdown",
   "metadata": {},
   "source": [
    "## Analysis 1, Part 2: Regression Analysis for Food Expenditure and Internet Users  "
   ]
  },
  {
   "cell_type": "code",
   "execution_count": 67,
   "metadata": {
    "scrolled": false
   },
   "outputs": [
    {
     "data": {
      "image/png": "[encoded data removed]",
      "text/plain": [
       "<Figure size 432x288 with 1 Axes>"
      ]
     },
     "metadata": {
      "needs_background": "light"
     },
     "output_type": "display_data"
    }
   ],
   "source": [
    "plotreg(if_data, 'food_expenditure', 'internet_users')"
   ]
  },
  {
   "cell_type": "code",
   "execution_count": 68,
   "metadata": {},
   "outputs": [
    {
     "data": {
      "image/png": "[encoded data removed]",
      "text/plain": [
       "<Figure size 432x288 with 1 Axes>"
      ]
     },
     "metadata": {
      "needs_background": "light"
     },
     "output_type": "display_data"
    }
   ],
   "source": [
    "student_residuals = plotreg_resid(if_data, 'food_expenditure', 'internet_users')"
   ]
  },
  {
   "cell_type": "code",
   "execution_count": 69,
   "metadata": {},
   "outputs": [
    {
     "data": {
      "text/html": [
       "<div>\n",
       "<style scoped>\n",
       "    .dataframe tbody tr th:only-of-type {\n",
       "        vertical-align: middle;\n",
       "    }\n",
       "\n",
       "    .dataframe tbody tr th {\n",
       "        vertical-align: top;\n",
       "    }\n",
       "\n",
       "    .dataframe thead th {\n",
       "        text-align: right;\n",
       "    }\n",
       "</style>\n",
       "<table border=\"1\" class=\"dataframe\">\n",
       "  <thead>\n",
       "    <tr style=\"text-align: right;\">\n",
       "      <th></th>\n",
       "      <th>food_expenditure</th>\n",
       "      <th>internet_users</th>\n",
       "    </tr>\n",
       "  </thead>\n",
       "  <tbody>\n",
       "    <tr>\n",
       "      <th>0</th>\n",
       "      <td>639.0</td>\n",
       "      <td>59.6</td>\n",
       "    </tr>\n",
       "    <tr>\n",
       "      <th>1</th>\n",
       "      <td>2306.0</td>\n",
       "      <td>74.3</td>\n",
       "    </tr>\n",
       "    <tr>\n",
       "      <th>2</th>\n",
       "      <td>2927.0</td>\n",
       "      <td>86.5</td>\n",
       "    </tr>\n",
       "    <tr>\n",
       "      <th>3</th>\n",
       "      <td>2273.0</td>\n",
       "      <td>87.7</td>\n",
       "    </tr>\n",
       "    <tr>\n",
       "      <th>4</th>\n",
       "      <td>896.0</td>\n",
       "      <td>79.8</td>\n",
       "    </tr>\n",
       "  </tbody>\n",
       "</table>\n",
       "</div>"
      ],
      "text/plain": [
       "   food_expenditure  internet_users\n",
       "0             639.0            59.6\n",
       "1            2306.0            74.3\n",
       "2            2927.0            86.5\n",
       "3            2273.0            87.7\n",
       "4             896.0            79.8"
      ]
     },
     "execution_count": 69,
     "metadata": {},
     "output_type": "execute_result"
    }
   ],
   "source": [
    "#subset data to just internent_users and food_expenditure \n",
    "user_data = if_data[['food_expenditure','internet_users']]\n",
    "\n",
    "#remove point outside of range\n",
    "user_data = user_data[user_data['food_expenditure'] < 4000]\n",
    "\n",
    "user_data.head()"
   ]
  },
  {
   "cell_type": "code",
   "execution_count": 70,
   "metadata": {},
   "outputs": [
    {
     "data": {
      "image/png": "[encoded data removed]",
      "text/plain": [
       "<Figure size 432x288 with 1 Axes>"
      ]
     },
     "metadata": {
      "needs_background": "light"
     },
     "output_type": "display_data"
    }
   ],
   "source": [
    "new_resid_plot =plotreg_resid(user_data, 'food_expenditure', 'internet_users')"
   ]
  },
  {
   "cell_type": "markdown",
   "metadata": {},
   "source": [
    "Since the points are not evenly spread around the line in the graph above, we have to linearize the data. We will achieve this through taking the log of each variable "
   ]
  },
  {
   "cell_type": "code",
   "execution_count": 71,
   "metadata": {},
   "outputs": [],
   "source": [
    "user_data['log_foodexpend']=np.log(user_data['food_expenditure'])\n",
    "user_data['log_internet_users']=np.log(user_data['internet_users'])"
   ]
  },
  {
   "cell_type": "code",
   "execution_count": 72,
   "metadata": {},
   "outputs": [
    {
     "data": {
      "image/png": "[encoded data removed]",
      "text/plain": [
       "<Figure size 432x288 with 1 Axes>"
      ]
     },
     "metadata": {
      "needs_background": "light"
     },
     "output_type": "display_data"
    }
   ],
   "source": [
    "plotreg(user_data, 'log_foodexpend', 'log_internet_users')"
   ]
  },
  {
   "cell_type": "code",
   "execution_count": 73,
   "metadata": {},
   "outputs": [
    {
     "data": {
      "image/png": "[encoded data removed]",
      "text/plain": [
       "<Figure size 432x288 with 1 Axes>"
      ]
     },
     "metadata": {
      "needs_background": "light"
     },
     "output_type": "display_data"
    }
   ],
   "source": [
    "new_resid_plot =plotreg_resid(user_data, 'log_foodexpend', 'internet_users')"
   ]
  },
  {
   "cell_type": "markdown",
   "metadata": {},
   "source": [
    "Taking the log of both variables did not result in a better plot, so we just took the log of food expenditure. The data is better distributed now, so we can now do linear regression. "
   ]
  },
  {
   "cell_type": "code",
   "execution_count": 74,
   "metadata": {},
   "outputs": [
    {
     "data": {
      "text/plain": [
       "<matplotlib.axes._subplots.AxesSubplot at 0x7ff565ff6990>"
      ]
     },
     "execution_count": 74,
     "metadata": {},
     "output_type": "execute_result"
    },
    {
     "data": {
      "image/png": "[encoded data removed]",
      "text/plain": [
       "<Figure size 432x288 with 1 Axes>"
      ]
     },
     "metadata": {
      "needs_background": "light"
     },
     "output_type": "display_data"
    }
   ],
   "source": [
    "sns.regplot(x='log_foodexpend', y='internet_users', data=user_data)"
   ]
  },
  {
   "cell_type": "code",
   "execution_count": 75,
   "metadata": {},
   "outputs": [
    {
     "name": "stdout",
     "output_type": "stream",
     "text": [
      "the slope of the log of food expenditure and internet users is: 26.0245\n",
      "the intercept of the log of food expenditure and internent users is: -114.2829\n",
      "the r-squared of the log of food expenditure and internet users is: 0.5816\n",
      "the p-value of the log of food expenditure and internet users  is: 0.0000\n"
     ]
    }
   ],
   "source": [
    "food_user=stats.linregress(user_data['log_foodexpend'], user_data['internet_users'])\n",
    "slope_fu=food_user[0]\n",
    "intercept_fu=food_user[1]\n",
    "rsquared_fu=(food_user[2]**2)\n",
    "pvalue_fu=food_user[3]\n",
    "std_error_fu=food_user[4]\n",
    "print(\"the slope of the log of food expenditure and internet users is: {:.4f}\".format(slope_fu))\n",
    "print(\"the intercept of the log of food expenditure and internent users is: {:.4f}\".format(intercept_fu))\n",
    "print(\"the r-squared of the log of food expenditure and internet users is: {:.4f}\".format(rsquared_fu))\n",
    "print(\"the p-value of the log of food expenditure and internet users  is: {:.4f}\".format(pvalue_fu))"
   ]
  },
  {
   "cell_type": "code",
   "execution_count": 76,
   "metadata": {},
   "outputs": [
    {
     "name": "stdout",
     "output_type": "stream",
     "text": [
      "(20.391950720509456, 31.65710715773845)\n"
     ]
    }
   ],
   "source": [
    "#confidence interval calculated here \n",
    "conf_int_fu=(slope_fu - std_error_fu * 1.96, slope_fu + std_error_fu * 1.96 )\n",
    "print(conf_int_fu)"
   ]
  },
  {
   "cell_type": "markdown",
   "metadata": {},
   "source": [
    "Since the p-value of the t-test is 0.000, which is less than 0.05, there is clearly a relationship between food expenditure and internet users. The regression equation is $internetUsers = 26.0245(log(FoodExpenditure)) - 114.2829$. In addition, the r-squared value is 0.5816 which shows that the relationship is relatively weak but it still exists. We calculated the confidence interval for the slope above and found that it was (20.3916, 31.6571). "
   ]
  },
  {
   "cell_type": "markdown",
   "metadata": {},
   "source": [
    "## Analysis 1, Part 3: Regression Analysis for Food Expenditure and Gender Gap"
   ]
  },
  {
   "cell_type": "code",
   "execution_count": 77,
   "metadata": {
    "scrolled": true
   },
   "outputs": [
    {
     "data": {
      "image/png": "[encoded data removed]",
      "text/plain": [
       "<Figure size 432x288 with 1 Axes>"
      ]
     },
     "metadata": {
      "needs_background": "light"
     },
     "output_type": "display_data"
    }
   ],
   "source": [
    "plotreg(if_data, 'food_expenditure', 'gender_gap')"
   ]
  },
  {
   "cell_type": "code",
   "execution_count": 78,
   "metadata": {},
   "outputs": [
    {
     "data": {
      "image/png": "[encoded data removed]",
      "text/plain": [
       "<Figure size 432x288 with 1 Axes>"
      ]
     },
     "metadata": {
      "needs_background": "light"
     },
     "output_type": "display_data"
    }
   ],
   "source": [
    "student_residuals = plotreg_resid(if_data, 'food_expenditure', 'gender_gap')"
   ]
  },
  {
   "cell_type": "code",
   "execution_count": 79,
   "metadata": {},
   "outputs": [
    {
     "data": {
      "text/html": [
       "<div>\n",
       "<style scoped>\n",
       "    .dataframe tbody tr th:only-of-type {\n",
       "        vertical-align: middle;\n",
       "    }\n",
       "\n",
       "    .dataframe tbody tr th {\n",
       "        vertical-align: top;\n",
       "    }\n",
       "\n",
       "    .dataframe thead th {\n",
       "        text-align: right;\n",
       "    }\n",
       "</style>\n",
       "<table border=\"1\" class=\"dataframe\">\n",
       "  <thead>\n",
       "    <tr style=\"text-align: right;\">\n",
       "      <th></th>\n",
       "      <th>food_expenditure</th>\n",
       "      <th>gender_gap</th>\n",
       "    </tr>\n",
       "  </thead>\n",
       "  <tbody>\n",
       "    <tr>\n",
       "      <th>0</th>\n",
       "      <td>639.0</td>\n",
       "      <td>21.7</td>\n",
       "    </tr>\n",
       "    <tr>\n",
       "      <th>1</th>\n",
       "      <td>2306.0</td>\n",
       "      <td>-5.7</td>\n",
       "    </tr>\n",
       "    <tr>\n",
       "      <th>2</th>\n",
       "      <td>2927.0</td>\n",
       "      <td>2.1</td>\n",
       "    </tr>\n",
       "    <tr>\n",
       "      <th>3</th>\n",
       "      <td>2273.0</td>\n",
       "      <td>2.2</td>\n",
       "    </tr>\n",
       "    <tr>\n",
       "      <th>4</th>\n",
       "      <td>896.0</td>\n",
       "      <td>15.0</td>\n",
       "    </tr>\n",
       "  </tbody>\n",
       "</table>\n",
       "</div>"
      ],
      "text/plain": [
       "   food_expenditure  gender_gap\n",
       "0             639.0        21.7\n",
       "1            2306.0        -5.7\n",
       "2            2927.0         2.1\n",
       "3            2273.0         2.2\n",
       "4             896.0        15.0"
      ]
     },
     "execution_count": 79,
     "metadata": {},
     "output_type": "execute_result"
    }
   ],
   "source": [
    "#subset data to just gender_gap and food_expenditure \n",
    "gender_data = if_data[['food_expenditure','gender_gap']]\n",
    "\n",
    "#remove point more than 3 SD from predicted value\n",
    "gender_data = gender_data[abs(student_residuals) <= 3]\n",
    "#remove point outside of range\n",
    "gender_data = gender_data[gender_data['food_expenditure'] < 4000]\n",
    "\n",
    "gender_data.head()"
   ]
  },
  {
   "cell_type": "code",
   "execution_count": 80,
   "metadata": {},
   "outputs": [
    {
     "data": {
      "image/png": "[encoded data removed]",
      "text/plain": [
       "<Figure size 432x288 with 1 Axes>"
      ]
     },
     "metadata": {
      "needs_background": "light"
     },
     "output_type": "display_data"
    }
   ],
   "source": [
    "new_resid_plot =plotreg_resid(gender_data, 'food_expenditure', 'gender_gap')"
   ]
  },
  {
   "cell_type": "markdown",
   "metadata": {},
   "source": [
    "The graph above shows that the variance increases as the graph goes up. We took the log of both variables (as shown through the commented out code below); however we experienced errors when taking the log in this situation. We were able to take the log in part two since we only had to manipulate the X variable. In this situation, we would have to manipulate both the X and Y variable which is much more complicated. Since it is beyond the scope of this course, we ran the linear regression on unlinearized variables."
   ]
  },
  {
   "cell_type": "code",
   "execution_count": 81,
   "metadata": {},
   "outputs": [],
   "source": [
    "#gender_data['log_gendergap']=np.log(gender_data['gender_gap'])\n",
    "#gender_data['log_foodexpend']=np.log(gender_data['food_expenditure'])"
   ]
  },
  {
   "cell_type": "code",
   "execution_count": 82,
   "metadata": {},
   "outputs": [],
   "source": [
    "#plotreg(gender_data, 'log_foodexpend', 'log_gendergap')"
   ]
  },
  {
   "cell_type": "code",
   "execution_count": 83,
   "metadata": {},
   "outputs": [],
   "source": [
    "#new_resid_plot =plotreg_resid(gender_data, 'log_foodexpend', 'log_gendergap')"
   ]
  },
  {
   "cell_type": "code",
   "execution_count": 84,
   "metadata": {},
   "outputs": [
    {
     "data": {
      "text/plain": [
       "<matplotlib.axes._subplots.AxesSubplot at 0x7ff5668a7250>"
      ]
     },
     "execution_count": 84,
     "metadata": {},
     "output_type": "execute_result"
    },
    {
     "data": {
      "image/png": "[encoded data removed]",
      "text/plain": [
       "<Figure size 432x288 with 1 Axes>"
      ]
     },
     "metadata": {
      "needs_background": "light"
     },
     "output_type": "display_data"
    }
   ],
   "source": [
    "sns.regplot(x='food_expenditure', y='gender_gap', data=gender_data)"
   ]
  },
  {
   "cell_type": "code",
   "execution_count": 85,
   "metadata": {},
   "outputs": [
    {
     "name": "stdout",
     "output_type": "stream",
     "text": [
      "the slope of food expenditure and gender gap is: -0.0037\n",
      "the intercept of food expenditure and gender gap is: 12.4341\n",
      "the r-squared of food expenditure and gender gap is: 0.1036\n",
      "the p-value of food expenditure and gender gap is: 0.0129\n"
     ]
    }
   ],
   "source": [
    "food_gender=stats.linregress(gender_data['food_expenditure'], gender_data['gender_gap'])\n",
    "slope_fg=food_gender[0]\n",
    "intercept_fg=food_gender[1]\n",
    "rsquared_fg=(food_gender[2]**2)\n",
    "pvalue_fg=food_gender[3]\n",
    "std_error_fg=food_gender[4]\n",
    "print(\"the slope of food expenditure and gender gap is: {:.4f}\".format(slope_fg))\n",
    "print(\"the intercept of food expenditure and gender gap is: {:.4f}\".format(intercept_fg))\n",
    "print(\"the r-squared of food expenditure and gender gap is: {:.4f}\".format(rsquared_fg))\n",
    "print(\"the p-value of food expenditure and gender gap is: {:.4f}\".format(pvalue_fg))"
   ]
  },
  {
   "cell_type": "code",
   "execution_count": 86,
   "metadata": {},
   "outputs": [
    {
     "name": "stdout",
     "output_type": "stream",
     "text": [
      "(-0.006524940533022413, -0.0008740738351676763)\n"
     ]
    }
   ],
   "source": [
    "#confidence interval calculated here \n",
    "conf_int_fg=(slope_fg - std_error_fg * 1.96, slope_fg + std_error_fg * 1.96 )\n",
    "print(conf_int_fg)"
   ]
  },
  {
   "cell_type": "markdown",
   "metadata": {},
   "source": [
    "Since the p-value of the t-test is 0.0129, which is less than 0.05, there is a relationship between food expenditure and gender gap. The regression equation is $gendergap = -0.0037(FoodExpenditure) + 12.4341$. In addition, the r-squared value is 0.1036 which shows that the relationship is extremely weak. This means that food expenditure is not a good predictor of gender gap. We calculated the confidence interval for the slope above and found that it was (-0.0065, -0.00087) "
   ]
  },
  {
   "cell_type": "markdown",
   "metadata": {},
   "source": [
    "## Analysis 1, Part 4: Regression Analysis for Food Expenditure and Privacy Trust  "
   ]
  },
  {
   "cell_type": "code",
   "execution_count": 87,
   "metadata": {
    "scrolled": false
   },
   "outputs": [
    {
     "data": {
      "image/png": "[encoded data removed]",
      "text/plain": [
       "<Figure size 432x288 with 1 Axes>"
      ]
     },
     "metadata": {
      "needs_background": "light"
     },
     "output_type": "display_data"
    }
   ],
   "source": [
    "plotreg(if_data, 'food_expenditure', 'privacy_trust')"
   ]
  },
  {
   "cell_type": "code",
   "execution_count": 88,
   "metadata": {},
   "outputs": [
    {
     "data": {
      "image/png": "[encoded data removed]",
      "text/plain": [
       "<Figure size 432x288 with 1 Axes>"
      ]
     },
     "metadata": {
      "needs_background": "light"
     },
     "output_type": "display_data"
    }
   ],
   "source": [
    "student_residuals = plotreg_resid(if_data, 'food_expenditure', 'privacy_trust')"
   ]
  },
  {
   "cell_type": "code",
   "execution_count": 89,
   "metadata": {},
   "outputs": [
    {
     "data": {
      "text/html": [
       "<div>\n",
       "<style scoped>\n",
       "    .dataframe tbody tr th:only-of-type {\n",
       "        vertical-align: middle;\n",
       "    }\n",
       "\n",
       "    .dataframe tbody tr th {\n",
       "        vertical-align: top;\n",
       "    }\n",
       "\n",
       "    .dataframe thead th {\n",
       "        text-align: right;\n",
       "    }\n",
       "</style>\n",
       "<table border=\"1\" class=\"dataframe\">\n",
       "  <thead>\n",
       "    <tr style=\"text-align: right;\">\n",
       "      <th></th>\n",
       "      <th>food_expenditure</th>\n",
       "      <th>privacy_trust</th>\n",
       "    </tr>\n",
       "  </thead>\n",
       "  <tbody>\n",
       "    <tr>\n",
       "      <th>0</th>\n",
       "      <td>639.0</td>\n",
       "      <td>46.0</td>\n",
       "    </tr>\n",
       "    <tr>\n",
       "      <th>1</th>\n",
       "      <td>2306.0</td>\n",
       "      <td>60.0</td>\n",
       "    </tr>\n",
       "    <tr>\n",
       "      <th>2</th>\n",
       "      <td>2927.0</td>\n",
       "      <td>52.0</td>\n",
       "    </tr>\n",
       "    <tr>\n",
       "      <th>3</th>\n",
       "      <td>2273.0</td>\n",
       "      <td>58.0</td>\n",
       "    </tr>\n",
       "    <tr>\n",
       "      <th>4</th>\n",
       "      <td>896.0</td>\n",
       "      <td>39.0</td>\n",
       "    </tr>\n",
       "  </tbody>\n",
       "</table>\n",
       "</div>"
      ],
      "text/plain": [
       "   food_expenditure  privacy_trust\n",
       "0             639.0           46.0\n",
       "1            2306.0           60.0\n",
       "2            2927.0           52.0\n",
       "3            2273.0           58.0\n",
       "4             896.0           39.0"
      ]
     },
     "execution_count": 89,
     "metadata": {},
     "output_type": "execute_result"
    }
   ],
   "source": [
    "#subset data to just privacy_trust and food_expenditure \n",
    "privacy_data = if_data[['food_expenditure','privacy_trust']]\n",
    "\n",
    "#remove point outside of range\n",
    "privacy_data = privacy_data[privacy_data['food_expenditure'] < 4000]\n",
    "\n",
    "privacy_data.head()"
   ]
  },
  {
   "cell_type": "code",
   "execution_count": 90,
   "metadata": {},
   "outputs": [
    {
     "data": {
      "image/png": "[encoded data removed]",
      "text/plain": [
       "<Figure size 432x288 with 1 Axes>"
      ]
     },
     "metadata": {
      "needs_background": "light"
     },
     "output_type": "display_data"
    }
   ],
   "source": [
    "new_resid_plot=plotreg_resid(privacy_data, 'food_expenditure', 'privacy_trust')"
   ]
  },
  {
   "cell_type": "markdown",
   "metadata": {},
   "source": [
    "The data points are spread out evenly around the line in the graph above "
   ]
  },
  {
   "cell_type": "code",
   "execution_count": 91,
   "metadata": {},
   "outputs": [
    {
     "data": {
      "text/plain": [
       "<matplotlib.axes._subplots.AxesSubplot at 0x7ff566ef34d0>"
      ]
     },
     "execution_count": 91,
     "metadata": {},
     "output_type": "execute_result"
    },
    {
     "data": {
      "image/png": "[encoded data removed]",
      "text/plain": [
       "<Figure size 432x288 with 1 Axes>"
      ]
     },
     "metadata": {
      "needs_background": "light"
     },
     "output_type": "display_data"
    }
   ],
   "source": [
    "sns.regplot(x='food_expenditure', y='privacy_trust', data=privacy_data)"
   ]
  },
  {
   "cell_type": "code",
   "execution_count": 92,
   "metadata": {},
   "outputs": [
    {
     "name": "stdout",
     "output_type": "stream",
     "text": [
      "the slope of the log of food expenditure and privacy trust is: -0.0054\n",
      "the intercept of the log of food expenditure and privacy trust is: 59.0994\n",
      "the r-squared of the log of food expenditure and privacy trust is: 0.0793\n",
      "the p-value of the log of food expenditure and privacy trust is: 0.0279\n"
     ]
    }
   ],
   "source": [
    "food_privacy=stats.linregress(privacy_data['food_expenditure'], privacy_data['privacy_trust'])\n",
    "slope_fp=food_privacy[0]\n",
    "intercept_fp=food_privacy[1]\n",
    "rsquared_fp=(food_privacy[2]**2)\n",
    "pvalue_fp=food_privacy[3]\n",
    "std_error_fp=food_privacy[4]\n",
    "print(\"the slope of the log of food expenditure and privacy trust is: {:.4f}\".format(slope_fp))\n",
    "print(\"the intercept of the log of food expenditure and privacy trust is: {:.4f}\".format(intercept_fp))\n",
    "print(\"the r-squared of the log of food expenditure and privacy trust is: {:.4f}\".format(rsquared_fp))\n",
    "print(\"the p-value of the log of food expenditure and privacy trust is: {:.4f}\".format(pvalue_fp))"
   ]
  },
  {
   "cell_type": "code",
   "execution_count": 93,
   "metadata": {},
   "outputs": [
    {
     "name": "stdout",
     "output_type": "stream",
     "text": [
      "(0.012807202606773933, 0.020837701082847576)\n"
     ]
    }
   ],
   "source": [
    "#confidence interval calculated here \n",
    "conf_int_fu=(slope_fp - std_error_fp * 1.96, slope_fp + std_error_fp * 1.96 )\n",
    "print(conf_int_fp)"
   ]
  },
  {
   "cell_type": "markdown",
   "metadata": {},
   "source": [
    "Since the p-value of the t-test is 0.0279, which is less than 0.05, there is clearly a relationship between food expenditure and internet users. The regression equation is $internetusers = -0.0054(FoodExpenditure) + 59.0994$. In addition, the r-squared value is 0.0793 which shows that the relationship is extremely weak. Food expenditure is a poor predictor of privacy trust. The confidence interval is (0.0128,0.0208)\n",
    "<hr>"
   ]
  },
  {
   "cell_type": "markdown",
   "metadata": {},
   "source": [
    "## Interpretations and Conclusions for Analysis 1 \n",
    "\n",
    "Each part of Analysis 1 includes specific interpretations and conclusions for the tests run on each variable. However, for your convenience, a quick summary has been included below. \n",
    "\n",
    "Part 1 of analysis one looked at the correlation between food expenditure and phone cost. We plotted the points and found that there was an outlier which we proceeded to remove. We replotted the points to confirm that our data was ready to run a linear regression. After confirmation, we ran linear regression and found the slope (0.0168), intercept (27.6338), r-squared (0.5376), and p-value (0.0000)  between food expenditure and phone cost. We also calculated a confidence interval. We concluded that there was clearly a relationship between food expenditure and phone cost since the p-value was 0.000 which is less than 0.05. The r-squared value also confirms that the relationship is somewhat weak; however, there is still a relationship between these two variables.\n",
    "\n",
    "Part 2 of analysis 1 looked at the correlation between food expenditure and internet users. We plotted the data, removed the outliers, and then replotted the data to confirm we could run a linear regression. Because the points were not evenly spread, we had to linearize the data which we achieved by taking the log of both variables. We found taking the log of both variables did not result in a better plot so we ended up just taking the log of food expenditure and then ran linear regression. We found that the slope was 26.0245, the intercept was -114.28298, the r-squared was 0.5816, and the p-value was 0.0000. We also calculated the confidence interval which was (20.39195, 31,6571). We concluded that there is clearly a relationship between food expenditure and internet users as the p-value is less than 0.05. The r-squared value is very close to the r-squared value we got in part 1 of analysis 1. Again, it shows that the relationship is somewhat weak but that there still is a relationship between these two variables. \n",
    "\n",
    "Part 3 of analysis 1 looked at the correlation between Food expenditure and the Gender Gap. Again, we plotted the data, removed outliers. We experienced issues with taking the log of both variables as we would have had to manipulate both the X and Y variable which is much more complicated/beyond the scope of this course. We ran a linear regression on the unlinearized variables. We found the slope was -0.0037, the intercept was 12.4341, the r-squared was 0.1036, the p-value was 0.0129 and the confidence interval was (0.0065, -0.00087). We concluded that there is a relationship between food expenditure and gender gap as the p-value is less than 0.05. The r-squared also showed the relationship is extremely weak. \n",
    "\n",
    "Part 4 of Analysis 1 looked at the correlation between food expenditure and privacy trust. We plotted the data, removed outliers, and then ran linear regression. We found the slope was -0.0054, the intercept was 59.0994, the r-squared was 0.0793, and the p-value was 0.0279. The confidence interval was (0.0128, 0.0208). Since the p-value was less than 0.05, we conclude there is a relationship between food expenditure and privacy trust. The r-squared value shows that the relationship is extremely weak. \n",
    "\n",
    "Overall, we found that phone cost was the best predictor of food expenditure while internet users, gender gap, and privacy trust were much weaker predictors despite all having a relationship with food expenditure. ‘\n",
    "\n",
    "Our takeaway from this analysis is that certain variables are better predictors of food expenditure. We originally thought that gender gap would have been a good predictor for food expenditure. Typically, countries with a lower GDP have a larger gender gap (“The case for Gender Equality”). Although the gender gap we looked at was the percent difference in internet users, we thought that a country's GDP would still affect that and therefore affect food expenditure. However, we found out that gender gap was in fact a poor predictor of food expenditure. Overall, we are more surprised with the outcome for gender gap than for the other three variables, even though the GDP did have an influence on all four variables.\n",
    "\n",
    "#### Work Cited\n",
    "\n",
    "- “The Case for Gender Equality.” Global Gender Gap Report 2015,\n",
    "reports.weforum.org/global-gender-gap-report-2015/the-case-for-gender-equality/. \n",
    "\n",
    "<hr>"
   ]
  },
  {
   "cell_type": "markdown",
   "metadata": {},
   "source": [
    "# Analysis 2\n"
   ]
  },
  {
   "cell_type": "markdown",
   "metadata": {},
   "source": [
    "## Model Building"
   ]
  },
  {
   "cell_type": "markdown",
   "metadata": {},
   "source": [
    "In this section, we are going to try to fit a model where we use the columns we picked as predictors for level of web accessability. While we know that the relationships between many of these columns and level of web accessability are not causal, we could still use them as predictors if there is a strong correlation. We are going to build the model using AIC and BIC selection, which are complex methods that a computer can use to select significant predictors for a model. AIC (Akaike's Information Criteria) often overestimates the number of significant predictors and is best for large datasets where number of observations divided by number of candidate variables is greater than 40. Since this is not the case for our data set, we will start with BIC (Bayesian Information Criteria), which underestimates the number of significant predictors and is better for small datasets."
   ]
  },
  {
   "cell_type": "code",
   "execution_count": 94,
   "metadata": {},
   "outputs": [
    {
     "name": "stdout",
     "output_type": "stream",
     "text": [
      "Coefficients:\n",
      "[0. 0. 0. 0. 0. 0. 0. 0. 0. 0. 0.]\n"
     ]
    },
    {
     "data": {
      "text/html": [
       "<div>\n",
       "<style scoped>\n",
       "    .dataframe tbody tr th:only-of-type {\n",
       "        vertical-align: middle;\n",
       "    }\n",
       "\n",
       "    .dataframe tbody tr th {\n",
       "        vertical-align: top;\n",
       "    }\n",
       "\n",
       "    .dataframe thead th {\n",
       "        text-align: right;\n",
       "    }\n",
       "</style>\n",
       "<table border=\"1\" class=\"dataframe\">\n",
       "  <thead>\n",
       "    <tr style=\"text-align: right;\">\n",
       "      <th></th>\n",
       "      <th>gender_gap</th>\n",
       "      <th>urban_elec_access</th>\n",
       "      <th>rural_elec_access</th>\n",
       "      <th>phone_cost</th>\n",
       "      <th>privacy_trust</th>\n",
       "      <th>electric_access</th>\n",
       "      <th>gender_gap_pt</th>\n",
       "      <th>internet_users</th>\n",
       "      <th>total_population</th>\n",
       "      <th>GDP</th>\n",
       "      <th>food_expenditure</th>\n",
       "    </tr>\n",
       "  </thead>\n",
       "  <tbody>\n",
       "    <tr>\n",
       "      <th>0</th>\n",
       "      <td>21.7</td>\n",
       "      <td>100.0</td>\n",
       "      <td>100.0</td>\n",
       "      <td>32.0</td>\n",
       "      <td>46.0</td>\n",
       "      <td>100.0</td>\n",
       "      <td>13.0</td>\n",
       "      <td>59.6</td>\n",
       "      <td>40551000.0</td>\n",
       "      <td>3916.881571</td>\n",
       "      <td>639.0</td>\n",
       "    </tr>\n",
       "    <tr>\n",
       "      <th>1</th>\n",
       "      <td>-5.7</td>\n",
       "      <td>100.0</td>\n",
       "      <td>85.3</td>\n",
       "      <td>43.9</td>\n",
       "      <td>60.0</td>\n",
       "      <td>98.8</td>\n",
       "      <td>-4.0</td>\n",
       "      <td>74.3</td>\n",
       "      <td>43508000.0</td>\n",
       "      <td>12654.354999</td>\n",
       "      <td>2306.0</td>\n",
       "    </tr>\n",
       "    <tr>\n",
       "      <th>2</th>\n",
       "      <td>2.1</td>\n",
       "      <td>100.0</td>\n",
       "      <td>100.0</td>\n",
       "      <td>93.6</td>\n",
       "      <td>52.0</td>\n",
       "      <td>100.0</td>\n",
       "      <td>2.0</td>\n",
       "      <td>86.5</td>\n",
       "      <td>24263000.0</td>\n",
       "      <td>49896.681101</td>\n",
       "      <td>2927.0</td>\n",
       "    </tr>\n",
       "    <tr>\n",
       "      <th>3</th>\n",
       "      <td>2.2</td>\n",
       "      <td>100.0</td>\n",
       "      <td>100.0</td>\n",
       "      <td>68.8</td>\n",
       "      <td>58.0</td>\n",
       "      <td>100.0</td>\n",
       "      <td>2.0</td>\n",
       "      <td>87.7</td>\n",
       "      <td>8747000.0</td>\n",
       "      <td>44731.010855</td>\n",
       "      <td>2273.0</td>\n",
       "    </tr>\n",
       "    <tr>\n",
       "      <th>4</th>\n",
       "      <td>15.0</td>\n",
       "      <td>100.0</td>\n",
       "      <td>100.0</td>\n",
       "      <td>22.7</td>\n",
       "      <td>39.0</td>\n",
       "      <td>100.0</td>\n",
       "      <td>12.0</td>\n",
       "      <td>79.8</td>\n",
       "      <td>9736000.0</td>\n",
       "      <td>3880.738731</td>\n",
       "      <td>896.0</td>\n",
       "    </tr>\n",
       "  </tbody>\n",
       "</table>\n",
       "</div>"
      ],
      "text/plain": [
       "   gender_gap  urban_elec_access  rural_elec_access  phone_cost  \\\n",
       "0        21.7              100.0              100.0        32.0   \n",
       "1        -5.7              100.0               85.3        43.9   \n",
       "2         2.1              100.0              100.0        93.6   \n",
       "3         2.2              100.0              100.0        68.8   \n",
       "4        15.0              100.0              100.0        22.7   \n",
       "\n",
       "   privacy_trust  electric_access  gender_gap_pt  internet_users  \\\n",
       "0           46.0            100.0           13.0            59.6   \n",
       "1           60.0             98.8           -4.0            74.3   \n",
       "2           52.0            100.0            2.0            86.5   \n",
       "3           58.0            100.0            2.0            87.7   \n",
       "4           39.0            100.0           12.0            79.8   \n",
       "\n",
       "   total_population           GDP  food_expenditure  \n",
       "0        40551000.0   3916.881571             639.0  \n",
       "1        43508000.0  12654.354999            2306.0  \n",
       "2        24263000.0  49896.681101            2927.0  \n",
       "3         8747000.0  44731.010855            2273.0  \n",
       "4         9736000.0   3880.738731             896.0  "
      ]
     },
     "execution_count": 94,
     "metadata": {},
     "output_type": "execute_result"
    }
   ],
   "source": [
    "from sklearn import linear_model\n",
    "data = if_data.copy()\n",
    "X = data.drop(['country', 'web_access', 'Unnamed: 0'], axis=1) #X is an array of all of the candidate variables\n",
    "y = data['web_access'] #y is the dependent variable, web accessibility\n",
    "model = linear_model.LassoLarsIC('bic').fit(X, y)\n",
    "print('Coefficients:\\n' + str(model.coef_))\n",
    "X.head()"
   ]
  },
  {
   "cell_type": "markdown",
   "metadata": {},
   "source": [
    "Given that all of the coefficients are zero, BIC is saying that none of the predictors in the dataframe above are statistically significant. We will try AIC instead:"
   ]
  },
  {
   "cell_type": "code",
   "execution_count": 95,
   "metadata": {},
   "outputs": [
    {
     "name": "stdout",
     "output_type": "stream",
     "text": [
      "Coefficients:\n",
      "[0.00000000e+00 0.00000000e+00 0.00000000e+00 1.16543390e-02\n",
      " 0.00000000e+00 0.00000000e+00 0.00000000e+00 7.83794449e-03\n",
      " 0.00000000e+00 3.29149392e-06 9.49257984e-05]\n",
      "\n",
      "R squared: 0.23494436688426745\n"
     ]
    }
   ],
   "source": [
    "modelA = linear_model.LassoLarsIC('aic').fit(X, y)\n",
    "\n",
    "print('Coefficients:\\n' + str(modelA.coef_))\n",
    "print('\\nR squared: ' + str(modelA.score(X,y)))"
   ]
  },
  {
   "cell_type": "markdown",
   "metadata": {},
   "source": [
    "Most of the coefficients of significant predictors are close to zero, and the R squared value is very low. Since AIC is the more generous of the two criteria, the columns we chose arbitrarily clearly do not have a strong correlation with web accessibility. After seeing this result, we rethought about what we are really trying to do here. We realized that it did not make sense to drop columns while cleaning the dataset because some of those columns may have had a correlation with web access. Therefore, we are going to try building a model with the entire internet acessibility dataset. It is already clean other than the fact that the column names are long, but there are many columns and the long names help accurately describe what they represent, so we will leave the full dataset as is for now as you can see below."
   ]
  },
  {
   "cell_type": "code",
   "execution_count": 96,
   "metadata": {},
   "outputs": [
    {
     "data": {
      "text/html": [
       "<div>\n",
       "<style scoped>\n",
       "    .dataframe tbody tr th:only-of-type {\n",
       "        vertical-align: middle;\n",
       "    }\n",
       "\n",
       "    .dataframe tbody tr th {\n",
       "        vertical-align: top;\n",
       "    }\n",
       "\n",
       "    .dataframe thead th {\n",
       "        text-align: right;\n",
       "    }\n",
       "</style>\n",
       "<table border=\"1\" class=\"dataframe\">\n",
       "  <thead>\n",
       "    <tr style=\"text-align: right;\">\n",
       "      <th></th>\n",
       "      <th>s(o)</th>\n",
       "      <th>ountry(roup)</th>\n",
       "      <th>internet_users_(%_of_households)</th>\n",
       "      <th>fixed-line_broadband_subscribers_(per_100_inhabitants)</th>\n",
       "      <th>mobile_subscribers_(per_100_inhabitants)</th>\n",
       "      <th>gender_gap_in_internet_access_(%_difference)</th>\n",
       "      <th>gender_gap_in_mobile_phone_access_(%_difference)</th>\n",
       "      <th>average_fixed_broadband_upload_speed_(kbps)</th>\n",
       "      <th>average_fixed_broadband_download_speed_(kbps)</th>\n",
       "      <th>average_fixed_broadband_latency_(ms)</th>\n",
       "      <th>...</th>\n",
       "      <th>internet_users_(population)_(millions)</th>\n",
       "      <th>offline_population_(millions)</th>\n",
       "      <th>internet_access_gender_gap_(difference_in_percentage_points)</th>\n",
       "      <th>mobile_phone_access_gender_gap_(difference_in_percentage_points)</th>\n",
       "      <th>internet_users_(percent_of_population)_(%_of_population)</th>\n",
       "      <th>male_internet_users_(%_of_male_population)</th>\n",
       "      <th>female_internet_users_(%_of_female_population)</th>\n",
       "      <th>male_mobile_phone_subscribers_(%_of_male_population)</th>\n",
       "      <th>female_mobile_phone_subscribers_(%_of_female_population)</th>\n",
       "      <th>total_fixed_line_broadband_subscribers_(number_of_subscriptions)</th>\n",
       "    </tr>\n",
       "  </thead>\n",
       "  <tbody>\n",
       "    <tr>\n",
       "      <th>0</th>\n",
       "      <td>DZ</td>\n",
       "      <td>Algeria</td>\n",
       "      <td>74.4</td>\n",
       "      <td>7.26</td>\n",
       "      <td>121.9</td>\n",
       "      <td>21.7</td>\n",
       "      <td>7.3</td>\n",
       "      <td>2090.0</td>\n",
       "      <td>3990.0</td>\n",
       "      <td>64.0</td>\n",
       "      <td>...</td>\n",
       "      <td>25.16</td>\n",
       "      <td>17.07</td>\n",
       "      <td>13.0</td>\n",
       "      <td>6.0</td>\n",
       "      <td>59.6</td>\n",
       "      <td>60.0</td>\n",
       "      <td>47.0</td>\n",
       "      <td>82.0</td>\n",
       "      <td>76.0</td>\n",
       "      <td>3063835.0</td>\n",
       "    </tr>\n",
       "    <tr>\n",
       "      <th>1</th>\n",
       "      <td>AR</td>\n",
       "      <td>Argentina</td>\n",
       "      <td>75.9</td>\n",
       "      <td>19.10</td>\n",
       "      <td>130.0</td>\n",
       "      <td>-5.7</td>\n",
       "      <td>-3.6</td>\n",
       "      <td>7960.0</td>\n",
       "      <td>33960.0</td>\n",
       "      <td>31.0</td>\n",
       "      <td>...</td>\n",
       "      <td>32.64</td>\n",
       "      <td>11.29</td>\n",
       "      <td>-4.0</td>\n",
       "      <td>-3.0</td>\n",
       "      <td>74.3</td>\n",
       "      <td>70.0</td>\n",
       "      <td>74.0</td>\n",
       "      <td>83.0</td>\n",
       "      <td>86.0</td>\n",
       "      <td>8473655.0</td>\n",
       "    </tr>\n",
       "    <tr>\n",
       "      <th>2</th>\n",
       "      <td>AU</td>\n",
       "      <td>Australia</td>\n",
       "      <td>86.1</td>\n",
       "      <td>32.22</td>\n",
       "      <td>113.6</td>\n",
       "      <td>2.1</td>\n",
       "      <td>2.2</td>\n",
       "      <td>20030.0</td>\n",
       "      <td>42630.0</td>\n",
       "      <td>24.0</td>\n",
       "      <td>...</td>\n",
       "      <td>21.28</td>\n",
       "      <td>3.31</td>\n",
       "      <td>2.0</td>\n",
       "      <td>2.0</td>\n",
       "      <td>86.5</td>\n",
       "      <td>94.0</td>\n",
       "      <td>92.0</td>\n",
       "      <td>93.0</td>\n",
       "      <td>91.0</td>\n",
       "      <td>7922000.0</td>\n",
       "    </tr>\n",
       "    <tr>\n",
       "      <th>3</th>\n",
       "      <td>AT</td>\n",
       "      <td>Austria</td>\n",
       "      <td>88.8</td>\n",
       "      <td>28.35</td>\n",
       "      <td>123.5</td>\n",
       "      <td>2.2</td>\n",
       "      <td>-1.0</td>\n",
       "      <td>16920.0</td>\n",
       "      <td>55030.0</td>\n",
       "      <td>20.0</td>\n",
       "      <td>...</td>\n",
       "      <td>7.80</td>\n",
       "      <td>1.09</td>\n",
       "      <td>2.0</td>\n",
       "      <td>-1.0</td>\n",
       "      <td>87.7</td>\n",
       "      <td>91.0</td>\n",
       "      <td>89.0</td>\n",
       "      <td>96.0</td>\n",
       "      <td>97.0</td>\n",
       "      <td>2521000.0</td>\n",
       "    </tr>\n",
       "    <tr>\n",
       "      <th>4</th>\n",
       "      <td>AZ</td>\n",
       "      <td>Azerbaijan</td>\n",
       "      <td>78.2</td>\n",
       "      <td>18.20</td>\n",
       "      <td>103.9</td>\n",
       "      <td>15.0</td>\n",
       "      <td>11.5</td>\n",
       "      <td>23490.0</td>\n",
       "      <td>21200.0</td>\n",
       "      <td>31.0</td>\n",
       "      <td>...</td>\n",
       "      <td>7.94</td>\n",
       "      <td>2.01</td>\n",
       "      <td>12.0</td>\n",
       "      <td>11.0</td>\n",
       "      <td>79.8</td>\n",
       "      <td>80.0</td>\n",
       "      <td>68.0</td>\n",
       "      <td>96.0</td>\n",
       "      <td>85.0</td>\n",
       "      <td>1810474.0</td>\n",
       "    </tr>\n",
       "  </tbody>\n",
       "</table>\n",
       "<p>5 rows × 87 columns</p>\n",
       "</div>"
      ],
      "text/plain": [
       "  s(o) ountry(roup)  internet_users_(%_of_households)  \\\n",
       "0   DZ      Algeria                              74.4   \n",
       "1   AR    Argentina                              75.9   \n",
       "2   AU    Australia                              86.1   \n",
       "3   AT      Austria                              88.8   \n",
       "4   AZ   Azerbaijan                              78.2   \n",
       "\n",
       "   fixed-line_broadband_subscribers_(per_100_inhabitants)  \\\n",
       "0                                               7.26        \n",
       "1                                              19.10        \n",
       "2                                              32.22        \n",
       "3                                              28.35        \n",
       "4                                              18.20        \n",
       "\n",
       "   mobile_subscribers_(per_100_inhabitants)  \\\n",
       "0                                     121.9   \n",
       "1                                     130.0   \n",
       "2                                     113.6   \n",
       "3                                     123.5   \n",
       "4                                     103.9   \n",
       "\n",
       "   gender_gap_in_internet_access_(%_difference)  \\\n",
       "0                                          21.7   \n",
       "1                                          -5.7   \n",
       "2                                           2.1   \n",
       "3                                           2.2   \n",
       "4                                          15.0   \n",
       "\n",
       "   gender_gap_in_mobile_phone_access_(%_difference)  \\\n",
       "0                                               7.3   \n",
       "1                                              -3.6   \n",
       "2                                               2.2   \n",
       "3                                              -1.0   \n",
       "4                                              11.5   \n",
       "\n",
       "   average_fixed_broadband_upload_speed_(kbps)  \\\n",
       "0                                       2090.0   \n",
       "1                                       7960.0   \n",
       "2                                      20030.0   \n",
       "3                                      16920.0   \n",
       "4                                      23490.0   \n",
       "\n",
       "   average_fixed_broadband_download_speed_(kbps)  \\\n",
       "0                                         3990.0   \n",
       "1                                        33960.0   \n",
       "2                                        42630.0   \n",
       "3                                        55030.0   \n",
       "4                                        21200.0   \n",
       "\n",
       "   average_fixed_broadband_latency_(ms)  ...  \\\n",
       "0                                  64.0  ...   \n",
       "1                                  31.0  ...   \n",
       "2                                  24.0  ...   \n",
       "3                                  20.0  ...   \n",
       "4                                  31.0  ...   \n",
       "\n",
       "   internet_users_(population)_(millions)  offline_population_(millions)  \\\n",
       "0                                   25.16                          17.07   \n",
       "1                                   32.64                          11.29   \n",
       "2                                   21.28                           3.31   \n",
       "3                                    7.80                           1.09   \n",
       "4                                    7.94                           2.01   \n",
       "\n",
       "   internet_access_gender_gap_(difference_in_percentage_points)  \\\n",
       "0                                               13.0              \n",
       "1                                               -4.0              \n",
       "2                                                2.0              \n",
       "3                                                2.0              \n",
       "4                                               12.0              \n",
       "\n",
       "   mobile_phone_access_gender_gap_(difference_in_percentage_points)  \\\n",
       "0                                                6.0                  \n",
       "1                                               -3.0                  \n",
       "2                                                2.0                  \n",
       "3                                               -1.0                  \n",
       "4                                               11.0                  \n",
       "\n",
       "   internet_users_(percent_of_population)_(%_of_population)  \\\n",
       "0                                               59.6          \n",
       "1                                               74.3          \n",
       "2                                               86.5          \n",
       "3                                               87.7          \n",
       "4                                               79.8          \n",
       "\n",
       "   male_internet_users_(%_of_male_population)  \\\n",
       "0                                        60.0   \n",
       "1                                        70.0   \n",
       "2                                        94.0   \n",
       "3                                        91.0   \n",
       "4                                        80.0   \n",
       "\n",
       "   female_internet_users_(%_of_female_population)  \\\n",
       "0                                            47.0   \n",
       "1                                            74.0   \n",
       "2                                            92.0   \n",
       "3                                            89.0   \n",
       "4                                            68.0   \n",
       "\n",
       "   male_mobile_phone_subscribers_(%_of_male_population)  \\\n",
       "0                                               82.0      \n",
       "1                                               83.0      \n",
       "2                                               93.0      \n",
       "3                                               96.0      \n",
       "4                                               96.0      \n",
       "\n",
       "   female_mobile_phone_subscribers_(%_of_female_population)  \\\n",
       "0                                               76.0          \n",
       "1                                               86.0          \n",
       "2                                               91.0          \n",
       "3                                               97.0          \n",
       "4                                               85.0          \n",
       "\n",
       "   total_fixed_line_broadband_subscribers_(number_of_subscriptions)  \n",
       "0                                          3063835.0                 \n",
       "1                                          8473655.0                 \n",
       "2                                          7922000.0                 \n",
       "3                                          2521000.0                 \n",
       "4                                          1810474.0                 \n",
       "\n",
       "[5 rows x 87 columns]"
      ]
     },
     "execution_count": 96,
     "metadata": {},
     "output_type": "execute_result"
    }
   ],
   "source": [
    "full_internet_data = pd.read_csv(\"3i-index-data.csv\", encoding='latin-1')\n",
    "\n",
    "new_colnames_full = [c[c.find(')') + 2:].lower() for c in full_internet_data.columns]\n",
    "new_colnames_full = [c.replace(' ', '_') for c in new_colnames_full]\n",
    "new_colnames_full = [c[:c.find('/')] + '(' + c[c.find('/') + 2:] + ')' for c in new_colnames_full]\n",
    "\n",
    "full_internet_data.columns = new_colnames_full\n",
    "\n",
    "full_internet_data.head()"
   ]
  },
  {
   "cell_type": "code",
   "execution_count": 106,
   "metadata": {},
   "outputs": [
    {
     "name": "stdout",
     "output_type": "stream",
     "text": [
      "Coefficients:\n",
      "[0.         0.         0.         0.         0.         0.\n",
      " 0.         0.         0.         0.         0.         0.\n",
      " 0.         0.         0.         0.         0.         0.\n",
      " 0.         0.         0.         0.         0.         0.\n",
      " 0.         0.         0.         0.         0.         0.\n",
      " 0.         0.         0.         0.         0.         0.\n",
      " 0.         0.         0.         0.         0.         0.\n",
      " 0.         0.         0.         0.         0.         0.\n",
      " 0.         0.         0.         0.         0.         0.\n",
      " 0.         0.         0.         0.         0.         0.\n",
      " 0.         0.         0.         0.         0.         0.\n",
      " 0.         0.         0.         0.         0.04015812 0.\n",
      " 0.07166296 0.         0.         0.         0.         0.\n",
      " 0.         0.         0.         0.         0.         0.        ]\n",
      "\n",
      "R squared: 0.1294469934089938\n"
     ]
    }
   ],
   "source": [
    "#X is an array of all of the candidate variables\n",
    "X = full_internet_data.drop(['s(o)', 'ountry(roup)', 'level_of_web_accessibility_(qualitative_rating_0-4,_4=best)'], axis=1)\n",
    "#y is the dependent variable, web accessibility\n",
    "y = full_internet_data['level_of_web_accessibility_(qualitative_rating_0-4,_4=best)']\n",
    "\n",
    "model = linear_model.LassoLarsIC('bic').fit(X, y)\n",
    "\n",
    "print('Coefficients:\\n' + str(model.coef_))\n",
    "print('\\nR squared: ' + str(model.score(X,y)))"
   ]
  },
  {
   "cell_type": "markdown",
   "metadata": {},
   "source": [
    "According to the BIC criteria, 2 variables have coefficients that are not 0. Now, let's try AIC:"
   ]
  },
  {
   "cell_type": "code",
   "execution_count": 107,
   "metadata": {
    "scrolled": true
   },
   "outputs": [
    {
     "name": "stdout",
     "output_type": "stream",
     "text": [
      "Coefficients:\n",
      "[ 0.00000000e+00  0.00000000e+00  0.00000000e+00  0.00000000e+00\n",
      "  0.00000000e+00  0.00000000e+00  0.00000000e+00  0.00000000e+00\n",
      "  0.00000000e+00  0.00000000e+00  0.00000000e+00 -1.40793729e-07\n",
      "  0.00000000e+00  0.00000000e+00  0.00000000e+00  0.00000000e+00\n",
      "  0.00000000e+00  7.60446042e-02  4.98340508e-03  0.00000000e+00\n",
      "  0.00000000e+00  0.00000000e+00  2.30333322e-02  0.00000000e+00\n",
      "  0.00000000e+00  3.71069061e-04  0.00000000e+00  0.00000000e+00\n",
      " -1.21491943e-01  0.00000000e+00  0.00000000e+00  0.00000000e+00\n",
      " -6.03947231e-03  0.00000000e+00  0.00000000e+00  0.00000000e+00\n",
      "  0.00000000e+00  0.00000000e+00  0.00000000e+00  0.00000000e+00\n",
      "  0.00000000e+00  6.58977357e-02  0.00000000e+00  0.00000000e+00\n",
      "  0.00000000e+00  0.00000000e+00  0.00000000e+00  0.00000000e+00\n",
      "  0.00000000e+00  0.00000000e+00  0.00000000e+00  0.00000000e+00\n",
      "  0.00000000e+00  0.00000000e+00  0.00000000e+00  0.00000000e+00\n",
      "  3.13541277e-01  0.00000000e+00  0.00000000e+00  1.41328427e-01\n",
      "  0.00000000e+00  0.00000000e+00  0.00000000e+00  0.00000000e+00\n",
      "  0.00000000e+00  0.00000000e+00  0.00000000e+00  0.00000000e+00\n",
      "  0.00000000e+00  0.00000000e+00  9.34152916e-02  0.00000000e+00\n",
      "  8.21866739e-02  0.00000000e+00  0.00000000e+00  0.00000000e+00\n",
      "  0.00000000e+00  0.00000000e+00  0.00000000e+00  0.00000000e+00\n",
      "  0.00000000e+00  0.00000000e+00  0.00000000e+00  0.00000000e+00]\n",
      "\n",
      "R squared: 0.4049036321430518\n"
     ]
    }
   ],
   "source": [
    "modelA = linear_model.LassoLarsIC('aic').fit(X, y)\n",
    "\n",
    "print('Coefficients:\\n' + str(modelA.coef_))\n",
    "print('\\nR squared: ' + str(modelA.score(X,y)))"
   ]
  },
  {
   "cell_type": "markdown",
   "metadata": {},
   "source": [
    "Since AIC criteria found many variables to have slopes other than 0, we will do stepwise analyis starting with all of the variables that AIC criteria found, working our way down until all variables have p-values under 0.05. The idea here is that AIC overestimates the number of significant predictors, while BIC underestimates. We will do linear regression with all of the predictors estimated to be significant by AIC and remove the one with the highest value (meaning it is the least significant). We will continue to do this until all predictors are significant."
   ]
  },
  {
   "cell_type": "code",
   "execution_count": 129,
   "metadata": {},
   "outputs": [
    {
     "data": {
      "text/html": [
       "<table class=\"simpletable\">\n",
       "<caption>OLS Regression Results</caption>\n",
       "<tr>\n",
       "  <th>Dep. Variable:</th>    <td>level_of_web_accessibility_(qualitative_rating_0-4,_4=best)</td> <th>  R-squared (uncentered):</th>      <td>   0.833</td>\n",
       "</tr>\n",
       "<tr>\n",
       "  <th>Model:</th>                                        <td>OLS</td>                             <th>  Adj. R-squared (uncentered):</th> <td>   0.814</td>\n",
       "</tr>\n",
       "<tr>\n",
       "  <th>Method:</th>                                  <td>Least Squares</td>                        <th>  F-statistic:       </th>          <td>   44.43</td>\n",
       "</tr>\n",
       "<tr>\n",
       "  <th>Date:</th>                                  <td>Fri, 11 Dec 2020</td>                       <th>  Prob (F-statistic):</th>          <td>5.32e-36</td>\n",
       "</tr>\n",
       "<tr>\n",
       "  <th>Time:</th>                                      <td>17:56:31</td>                           <th>  Log-Likelihood:    </th>          <td> -132.71</td>\n",
       "</tr>\n",
       "<tr>\n",
       "  <th>No. Observations:</th>                           <td>   119</td>                            <th>  AIC:               </th>          <td>   289.4</td>\n",
       "</tr>\n",
       "<tr>\n",
       "  <th>Df Residuals:</th>                               <td>   107</td>                            <th>  BIC:               </th>          <td>   322.8</td>\n",
       "</tr>\n",
       "<tr>\n",
       "  <th>Df Model:</th>                                   <td>    12</td>                            <th>                     </th>              <td> </td>   \n",
       "</tr>\n",
       "<tr>\n",
       "  <th>Covariance Type:</th>                           <td>nonrobust</td>                          <th>                     </th>              <td> </td>   \n",
       "</tr>\n",
       "</table>\n",
       "<table class=\"simpletable\">\n",
       "<tr>\n",
       "                                              <td></td>                                                <th>coef</th>     <th>std err</th>      <th>t</th>      <th>P>|t|</th>  <th>[0.025</th>    <th>0.975]</th>  \n",
       "</tr>\n",
       "<tr>\n",
       "  <th>bandwidth_capacity_(bit/s_per_internet_user)</th>                                             <td>-2.878e-07</td> <td> 9.75e-08</td> <td>   -2.952</td> <td> 0.004</td> <td>-4.81e-07</td> <td>-9.45e-08</td>\n",
       "</tr>\n",
       "<tr>\n",
       "  <th>private_sector_initiatives_to_make_wi-fi_available_(qualitative_rating_0-2,_2=best)</th>      <td>    0.1297</td> <td>    0.104</td> <td>    1.250</td> <td> 0.214</td> <td>   -0.076</td> <td>    0.335</td>\n",
       "</tr>\n",
       "<tr>\n",
       "  <th>internet_exchange_points_(number_of_ixps_per_10_million_inhabitants)</th>                     <td>    0.0215</td> <td>    0.020</td> <td>    1.067</td> <td> 0.288</td> <td>   -0.018</td> <td>    0.061</td>\n",
       "</tr>\n",
       "<tr>\n",
       "  <th>mobile_phone_cost_(prepaid_tariff)_(%_of_monthly_gni_per_capita)</th>                         <td>    0.0640</td> <td>    0.020</td> <td>    3.180</td> <td> 0.002</td> <td>    0.024</td> <td>    0.104</td>\n",
       "</tr>\n",
       "<tr>\n",
       "  <th>average_revenue_per_user_(arpu,_annualized)_(usd)</th>                                        <td>-3.859e-06</td> <td>    0.001</td> <td>   -0.004</td> <td> 0.997</td> <td>   -0.002</td> <td>    0.002</td>\n",
       "</tr>\n",
       "<tr>\n",
       "  <th>availability_of_basic_information_in_the_local_language_(qualitative_rating_0-3,_3=best)</th> <td>   -0.2766</td> <td>    0.146</td> <td>   -1.889</td> <td> 0.062</td> <td>   -0.567</td> <td>    0.014</td>\n",
       "</tr>\n",
       "<tr>\n",
       "  <th>value_of_e-finance_(%)</th>                                                                   <td>   -0.0150</td> <td>    0.006</td> <td>   -2.569</td> <td> 0.012</td> <td>   -0.027</td> <td>   -0.003</td>\n",
       "</tr>\n",
       "<tr>\n",
       "  <th>support_for_digital_literacy_(qualitative_rating_0-3,_3=best)</th>                            <td>    0.2060</td> <td>    0.100</td> <td>    2.070</td> <td> 0.041</td> <td>    0.009</td> <td>    0.403</td>\n",
       "</tr>\n",
       "<tr>\n",
       "  <th>technology-neutrality_policy_for_spectrum_use_(qualitative_rating_0-1,_1=best)</th>           <td>    0.3957</td> <td>    0.242</td> <td>    1.637</td> <td> 0.104</td> <td>   -0.083</td> <td>    0.875</td>\n",
       "</tr>\n",
       "<tr>\n",
       "  <th>government_efforts_to_promote_5g_(qualitative_rating_0-3,_3=best)</th>                        <td>    0.2142</td> <td>    0.081</td> <td>    2.656</td> <td> 0.009</td> <td>    0.054</td> <td>    0.374</td>\n",
       "</tr>\n",
       "<tr>\n",
       "  <th>democracy_index_(score,_0-10;_10_=_best)</th>                                                 <td>    0.0927</td> <td>    0.055</td> <td>    1.673</td> <td> 0.097</td> <td>   -0.017</td> <td>    0.202</td>\n",
       "</tr>\n",
       "<tr>\n",
       "  <th>eiu_business_environment_rankings_(score,_1-10,_10_=_high)</th>                               <td>    0.1691</td> <td>    0.114</td> <td>    1.489</td> <td> 0.139</td> <td>   -0.056</td> <td>    0.394</td>\n",
       "</tr>\n",
       "</table>\n",
       "<table class=\"simpletable\">\n",
       "<tr>\n",
       "  <th>Omnibus:</th>       <td> 1.733</td> <th>  Durbin-Watson:     </th> <td>   1.994</td>\n",
       "</tr>\n",
       "<tr>\n",
       "  <th>Prob(Omnibus):</th> <td> 0.420</td> <th>  Jarque-Bera (JB):  </th> <td>   1.283</td>\n",
       "</tr>\n",
       "<tr>\n",
       "  <th>Skew:</th>          <td> 0.087</td> <th>  Prob(JB):          </th> <td>   0.527</td>\n",
       "</tr>\n",
       "<tr>\n",
       "  <th>Kurtosis:</th>      <td> 3.478</td> <th>  Cond. No.          </th> <td>2.70e+06</td>\n",
       "</tr>\n",
       "</table><br/><br/>Warnings:<br/>[1] Standard Errors assume that the covariance matrix of the errors is correctly specified.<br/>[2] The condition number is large, 2.7e+06. This might indicate that there are<br/>strong multicollinearity or other numerical problems."
      ],
      "text/plain": [
       "<class 'statsmodels.iolib.summary.Summary'>\n",
       "\"\"\"\n",
       "                                                     OLS Regression Results                                                     \n",
       "================================================================================================================================\n",
       "Dep. Variable:     level_of_web_accessibility_(qualitative_rating_0-4,_4=best)   R-squared (uncentered):                   0.833\n",
       "Model:                                                                     OLS   Adj. R-squared (uncentered):              0.814\n",
       "Method:                                                          Least Squares   F-statistic:                              44.43\n",
       "Date:                                                         Fri, 11 Dec 2020   Prob (F-statistic):                    5.32e-36\n",
       "Time:                                                                 17:56:31   Log-Likelihood:                         -132.71\n",
       "No. Observations:                                                          119   AIC:                                      289.4\n",
       "Df Residuals:                                                              107   BIC:                                      322.8\n",
       "Df Model:                                                                   12                                                  \n",
       "Covariance Type:                                                     nonrobust                                                  \n",
       "============================================================================================================================================================\n",
       "                                                                                               coef    std err          t      P>|t|      [0.025      0.975]\n",
       "------------------------------------------------------------------------------------------------------------------------------------------------------------\n",
       "bandwidth_capacity_(bit/s_per_internet_user)                                             -2.878e-07   9.75e-08     -2.952      0.004   -4.81e-07   -9.45e-08\n",
       "private_sector_initiatives_to_make_wi-fi_available_(qualitative_rating_0-2,_2=best)          0.1297      0.104      1.250      0.214      -0.076       0.335\n",
       "internet_exchange_points_(number_of_ixps_per_10_million_inhabitants)                         0.0215      0.020      1.067      0.288      -0.018       0.061\n",
       "mobile_phone_cost_(prepaid_tariff)_(%_of_monthly_gni_per_capita)                             0.0640      0.020      3.180      0.002       0.024       0.104\n",
       "average_revenue_per_user_(arpu,_annualized)_(usd)                                        -3.859e-06      0.001     -0.004      0.997      -0.002       0.002\n",
       "availability_of_basic_information_in_the_local_language_(qualitative_rating_0-3,_3=best)    -0.2766      0.146     -1.889      0.062      -0.567       0.014\n",
       "value_of_e-finance_(%)                                                                      -0.0150      0.006     -2.569      0.012      -0.027      -0.003\n",
       "support_for_digital_literacy_(qualitative_rating_0-3,_3=best)                                0.2060      0.100      2.070      0.041       0.009       0.403\n",
       "technology-neutrality_policy_for_spectrum_use_(qualitative_rating_0-1,_1=best)               0.3957      0.242      1.637      0.104      -0.083       0.875\n",
       "government_efforts_to_promote_5g_(qualitative_rating_0-3,_3=best)                            0.2142      0.081      2.656      0.009       0.054       0.374\n",
       "democracy_index_(score,_0-10;_10_=_best)                                                     0.0927      0.055      1.673      0.097      -0.017       0.202\n",
       "eiu_business_environment_rankings_(score,_1-10,_10_=_high)                                   0.1691      0.114      1.489      0.139      -0.056       0.394\n",
       "==============================================================================\n",
       "Omnibus:                        1.733   Durbin-Watson:                   1.994\n",
       "Prob(Omnibus):                  0.420   Jarque-Bera (JB):                1.283\n",
       "Skew:                           0.087   Prob(JB):                        0.527\n",
       "Kurtosis:                       3.478   Cond. No.                     2.70e+06\n",
       "==============================================================================\n",
       "\n",
       "Warnings:\n",
       "[1] Standard Errors assume that the covariance matrix of the errors is correctly specified.\n",
       "[2] The condition number is large, 2.7e+06. This might indicate that there are\n",
       "strong multicollinearity or other numerical problems.\n",
       "\"\"\""
      ]
     },
     "execution_count": 129,
     "metadata": {},
     "output_type": "execute_result"
    }
   ],
   "source": [
    "#find which variables are significant according to AIC criteria\n",
    "\n",
    "coefficients = []\n",
    "\n",
    "for i in range(len(modelA.coef_)):\n",
    "    if modelA.coef_[i] != 0:\n",
    "        coefficients.append(X.columns[i])\n",
    "\n",
    "#do linear regression with only those columns as the predictors\n",
    "reg12 = sm.OLS(y, full_internet_data[coefficients]).fit()\n",
    "reg12.summary()"
   ]
  },
  {
   "cell_type": "markdown",
   "metadata": {},
   "source": [
    "Since the Average Revenue Per User has the highest p-value, we will remove that variable from the regression. As you can see, the R-squared value is 0.833, which indicates a pretty strong relationship. As we remove variables, we will be watching how the R-squared value changes. It will probably decrease slightly, but if it is only by a percent or two, we are improving the model because we are simplifying it and hardly sacrificing accuracy."
   ]
  },
  {
   "cell_type": "code",
   "execution_count": 130,
   "metadata": {},
   "outputs": [
    {
     "data": {
      "text/html": [
       "<table class=\"simpletable\">\n",
       "<caption>OLS Regression Results</caption>\n",
       "<tr>\n",
       "  <th>Dep. Variable:</th>    <td>level_of_web_accessibility_(qualitative_rating_0-4,_4=best)</td> <th>  R-squared (uncentered):</th>      <td>   0.833</td>\n",
       "</tr>\n",
       "<tr>\n",
       "  <th>Model:</th>                                        <td>OLS</td>                             <th>  Adj. R-squared (uncentered):</th> <td>   0.816</td>\n",
       "</tr>\n",
       "<tr>\n",
       "  <th>Method:</th>                                  <td>Least Squares</td>                        <th>  F-statistic:       </th>          <td>   48.93</td>\n",
       "</tr>\n",
       "<tr>\n",
       "  <th>Date:</th>                                  <td>Fri, 11 Dec 2020</td>                       <th>  Prob (F-statistic):</th>          <td>7.40e-37</td>\n",
       "</tr>\n",
       "<tr>\n",
       "  <th>Time:</th>                                      <td>17:56:32</td>                           <th>  Log-Likelihood:    </th>          <td> -132.71</td>\n",
       "</tr>\n",
       "<tr>\n",
       "  <th>No. Observations:</th>                           <td>   119</td>                            <th>  AIC:               </th>          <td>   287.4</td>\n",
       "</tr>\n",
       "<tr>\n",
       "  <th>Df Residuals:</th>                               <td>   108</td>                            <th>  BIC:               </th>          <td>   318.0</td>\n",
       "</tr>\n",
       "<tr>\n",
       "  <th>Df Model:</th>                                   <td>    11</td>                            <th>                     </th>              <td> </td>   \n",
       "</tr>\n",
       "<tr>\n",
       "  <th>Covariance Type:</th>                           <td>nonrobust</td>                          <th>                     </th>              <td> </td>   \n",
       "</tr>\n",
       "</table>\n",
       "<table class=\"simpletable\">\n",
       "<tr>\n",
       "                                              <td></td>                                                <th>coef</th>     <th>std err</th>      <th>t</th>      <th>P>|t|</th>  <th>[0.025</th>    <th>0.975]</th>  \n",
       "</tr>\n",
       "<tr>\n",
       "  <th>bandwidth_capacity_(bit/s_per_internet_user)</th>                                             <td>-2.878e-07</td> <td> 9.68e-08</td> <td>   -2.973</td> <td> 0.004</td> <td> -4.8e-07</td> <td>-9.59e-08</td>\n",
       "</tr>\n",
       "<tr>\n",
       "  <th>private_sector_initiatives_to_make_wi-fi_available_(qualitative_rating_0-2,_2=best)</th>      <td>    0.1297</td> <td>    0.103</td> <td>    1.257</td> <td> 0.212</td> <td>   -0.075</td> <td>    0.334</td>\n",
       "</tr>\n",
       "<tr>\n",
       "  <th>internet_exchange_points_(number_of_ixps_per_10_million_inhabitants)</th>                     <td>    0.0215</td> <td>    0.020</td> <td>    1.075</td> <td> 0.285</td> <td>   -0.018</td> <td>    0.061</td>\n",
       "</tr>\n",
       "<tr>\n",
       "  <th>mobile_phone_cost_(prepaid_tariff)_(%_of_monthly_gni_per_capita)</th>                         <td>    0.0640</td> <td>    0.020</td> <td>    3.250</td> <td> 0.002</td> <td>    0.025</td> <td>    0.103</td>\n",
       "</tr>\n",
       "<tr>\n",
       "  <th>availability_of_basic_information_in_the_local_language_(qualitative_rating_0-3,_3=best)</th> <td>   -0.2765</td> <td>    0.141</td> <td>   -1.954</td> <td> 0.053</td> <td>   -0.557</td> <td>    0.004</td>\n",
       "</tr>\n",
       "<tr>\n",
       "  <th>value_of_e-finance_(%)</th>                                                                   <td>   -0.0150</td> <td>    0.005</td> <td>   -2.812</td> <td> 0.006</td> <td>   -0.026</td> <td>   -0.004</td>\n",
       "</tr>\n",
       "<tr>\n",
       "  <th>support_for_digital_literacy_(qualitative_rating_0-3,_3=best)</th>                            <td>    0.2060</td> <td>    0.099</td> <td>    2.081</td> <td> 0.040</td> <td>    0.010</td> <td>    0.402</td>\n",
       "</tr>\n",
       "<tr>\n",
       "  <th>technology-neutrality_policy_for_spectrum_use_(qualitative_rating_0-1,_1=best)</th>           <td>    0.3958</td> <td>    0.239</td> <td>    1.658</td> <td> 0.100</td> <td>   -0.077</td> <td>    0.869</td>\n",
       "</tr>\n",
       "<tr>\n",
       "  <th>government_efforts_to_promote_5g_(qualitative_rating_0-3,_3=best)</th>                        <td>    0.2142</td> <td>    0.078</td> <td>    2.746</td> <td> 0.007</td> <td>    0.060</td> <td>    0.369</td>\n",
       "</tr>\n",
       "<tr>\n",
       "  <th>democracy_index_(score,_0-10;_10_=_best)</th>                                                 <td>    0.0926</td> <td>    0.055</td> <td>    1.682</td> <td> 0.096</td> <td>   -0.017</td> <td>    0.202</td>\n",
       "</tr>\n",
       "<tr>\n",
       "  <th>eiu_business_environment_rankings_(score,_1-10,_10_=_high)</th>                               <td>    0.1688</td> <td>    0.098</td> <td>    1.716</td> <td> 0.089</td> <td>   -0.026</td> <td>    0.364</td>\n",
       "</tr>\n",
       "</table>\n",
       "<table class=\"simpletable\">\n",
       "<tr>\n",
       "  <th>Omnibus:</th>       <td> 1.733</td> <th>  Durbin-Watson:     </th> <td>   1.994</td>\n",
       "</tr>\n",
       "<tr>\n",
       "  <th>Prob(Omnibus):</th> <td> 0.421</td> <th>  Jarque-Bera (JB):  </th> <td>   1.283</td>\n",
       "</tr>\n",
       "<tr>\n",
       "  <th>Skew:</th>          <td> 0.087</td> <th>  Prob(JB):          </th> <td>   0.527</td>\n",
       "</tr>\n",
       "<tr>\n",
       "  <th>Kurtosis:</th>      <td> 3.478</td> <th>  Cond. No.          </th> <td>2.69e+06</td>\n",
       "</tr>\n",
       "</table><br/><br/>Warnings:<br/>[1] Standard Errors assume that the covariance matrix of the errors is correctly specified.<br/>[2] The condition number is large, 2.69e+06. This might indicate that there are<br/>strong multicollinearity or other numerical problems."
      ],
      "text/plain": [
       "<class 'statsmodels.iolib.summary.Summary'>\n",
       "\"\"\"\n",
       "                                                     OLS Regression Results                                                     \n",
       "================================================================================================================================\n",
       "Dep. Variable:     level_of_web_accessibility_(qualitative_rating_0-4,_4=best)   R-squared (uncentered):                   0.833\n",
       "Model:                                                                     OLS   Adj. R-squared (uncentered):              0.816\n",
       "Method:                                                          Least Squares   F-statistic:                              48.93\n",
       "Date:                                                         Fri, 11 Dec 2020   Prob (F-statistic):                    7.40e-37\n",
       "Time:                                                                 17:56:32   Log-Likelihood:                         -132.71\n",
       "No. Observations:                                                          119   AIC:                                      287.4\n",
       "Df Residuals:                                                              108   BIC:                                      318.0\n",
       "Df Model:                                                                   11                                                  \n",
       "Covariance Type:                                                     nonrobust                                                  \n",
       "============================================================================================================================================================\n",
       "                                                                                               coef    std err          t      P>|t|      [0.025      0.975]\n",
       "------------------------------------------------------------------------------------------------------------------------------------------------------------\n",
       "bandwidth_capacity_(bit/s_per_internet_user)                                             -2.878e-07   9.68e-08     -2.973      0.004    -4.8e-07   -9.59e-08\n",
       "private_sector_initiatives_to_make_wi-fi_available_(qualitative_rating_0-2,_2=best)          0.1297      0.103      1.257      0.212      -0.075       0.334\n",
       "internet_exchange_points_(number_of_ixps_per_10_million_inhabitants)                         0.0215      0.020      1.075      0.285      -0.018       0.061\n",
       "mobile_phone_cost_(prepaid_tariff)_(%_of_monthly_gni_per_capita)                             0.0640      0.020      3.250      0.002       0.025       0.103\n",
       "availability_of_basic_information_in_the_local_language_(qualitative_rating_0-3,_3=best)    -0.2765      0.141     -1.954      0.053      -0.557       0.004\n",
       "value_of_e-finance_(%)                                                                      -0.0150      0.005     -2.812      0.006      -0.026      -0.004\n",
       "support_for_digital_literacy_(qualitative_rating_0-3,_3=best)                                0.2060      0.099      2.081      0.040       0.010       0.402\n",
       "technology-neutrality_policy_for_spectrum_use_(qualitative_rating_0-1,_1=best)               0.3958      0.239      1.658      0.100      -0.077       0.869\n",
       "government_efforts_to_promote_5g_(qualitative_rating_0-3,_3=best)                            0.2142      0.078      2.746      0.007       0.060       0.369\n",
       "democracy_index_(score,_0-10;_10_=_best)                                                     0.0926      0.055      1.682      0.096      -0.017       0.202\n",
       "eiu_business_environment_rankings_(score,_1-10,_10_=_high)                                   0.1688      0.098      1.716      0.089      -0.026       0.364\n",
       "==============================================================================\n",
       "Omnibus:                        1.733   Durbin-Watson:                   1.994\n",
       "Prob(Omnibus):                  0.421   Jarque-Bera (JB):                1.283\n",
       "Skew:                           0.087   Prob(JB):                        0.527\n",
       "Kurtosis:                       3.478   Cond. No.                     2.69e+06\n",
       "==============================================================================\n",
       "\n",
       "Warnings:\n",
       "[1] Standard Errors assume that the covariance matrix of the errors is correctly specified.\n",
       "[2] The condition number is large, 2.69e+06. This might indicate that there are\n",
       "strong multicollinearity or other numerical problems.\n",
       "\"\"\""
      ]
     },
     "execution_count": 130,
     "metadata": {},
     "output_type": "execute_result"
    }
   ],
   "source": [
    "#Regression with 11 variables\n",
    "coefficients.remove('average_revenue_per_user_(arpu,_annualized)_(usd)')\n",
    "reg11 = sm.OLS(y, full_internet_data[coefficients]).fit()\n",
    "reg11.summary()"
   ]
  },
  {
   "cell_type": "markdown",
   "metadata": {},
   "source": [
    "Since Internet Exchange Points has the highest p-value, we will remove that variable from the regression."
   ]
  },
  {
   "cell_type": "code",
   "execution_count": 131,
   "metadata": {},
   "outputs": [
    {
     "data": {
      "text/html": [
       "<table class=\"simpletable\">\n",
       "<caption>OLS Regression Results</caption>\n",
       "<tr>\n",
       "  <th>Dep. Variable:</th>    <td>level_of_web_accessibility_(qualitative_rating_0-4,_4=best)</td> <th>  R-squared (uncentered):</th>      <td>   0.831</td>\n",
       "</tr>\n",
       "<tr>\n",
       "  <th>Model:</th>                                        <td>OLS</td>                             <th>  Adj. R-squared (uncentered):</th> <td>   0.816</td>\n",
       "</tr>\n",
       "<tr>\n",
       "  <th>Method:</th>                                  <td>Least Squares</td>                        <th>  F-statistic:       </th>          <td>   53.63</td>\n",
       "</tr>\n",
       "<tr>\n",
       "  <th>Date:</th>                                  <td>Fri, 11 Dec 2020</td>                       <th>  Prob (F-statistic):</th>          <td>1.73e-37</td>\n",
       "</tr>\n",
       "<tr>\n",
       "  <th>Time:</th>                                      <td>17:56:32</td>                           <th>  Log-Likelihood:    </th>          <td> -133.35</td>\n",
       "</tr>\n",
       "<tr>\n",
       "  <th>No. Observations:</th>                           <td>   119</td>                            <th>  AIC:               </th>          <td>   286.7</td>\n",
       "</tr>\n",
       "<tr>\n",
       "  <th>Df Residuals:</th>                               <td>   109</td>                            <th>  BIC:               </th>          <td>   314.5</td>\n",
       "</tr>\n",
       "<tr>\n",
       "  <th>Df Model:</th>                                   <td>    10</td>                            <th>                     </th>              <td> </td>   \n",
       "</tr>\n",
       "<tr>\n",
       "  <th>Covariance Type:</th>                           <td>nonrobust</td>                          <th>                     </th>              <td> </td>   \n",
       "</tr>\n",
       "</table>\n",
       "<table class=\"simpletable\">\n",
       "<tr>\n",
       "                                              <td></td>                                                <th>coef</th>     <th>std err</th>      <th>t</th>      <th>P>|t|</th>  <th>[0.025</th>    <th>0.975]</th>  \n",
       "</tr>\n",
       "<tr>\n",
       "  <th>bandwidth_capacity_(bit/s_per_internet_user)</th>                                             <td>-2.803e-07</td> <td> 9.66e-08</td> <td>   -2.901</td> <td> 0.005</td> <td>-4.72e-07</td> <td>-8.88e-08</td>\n",
       "</tr>\n",
       "<tr>\n",
       "  <th>private_sector_initiatives_to_make_wi-fi_available_(qualitative_rating_0-2,_2=best)</th>      <td>    0.1265</td> <td>    0.103</td> <td>    1.226</td> <td> 0.223</td> <td>   -0.078</td> <td>    0.331</td>\n",
       "</tr>\n",
       "<tr>\n",
       "  <th>mobile_phone_cost_(prepaid_tariff)_(%_of_monthly_gni_per_capita)</th>                         <td>    0.0615</td> <td>    0.020</td> <td>    3.142</td> <td> 0.002</td> <td>    0.023</td> <td>    0.100</td>\n",
       "</tr>\n",
       "<tr>\n",
       "  <th>availability_of_basic_information_in_the_local_language_(qualitative_rating_0-3,_3=best)</th> <td>   -0.2910</td> <td>    0.141</td> <td>   -2.064</td> <td> 0.041</td> <td>   -0.570</td> <td>   -0.012</td>\n",
       "</tr>\n",
       "<tr>\n",
       "  <th>value_of_e-finance_(%)</th>                                                                   <td>   -0.0153</td> <td>    0.005</td> <td>   -2.872</td> <td> 0.005</td> <td>   -0.026</td> <td>   -0.005</td>\n",
       "</tr>\n",
       "<tr>\n",
       "  <th>support_for_digital_literacy_(qualitative_rating_0-3,_3=best)</th>                            <td>    0.2039</td> <td>    0.099</td> <td>    2.058</td> <td> 0.042</td> <td>    0.008</td> <td>    0.400</td>\n",
       "</tr>\n",
       "<tr>\n",
       "  <th>technology-neutrality_policy_for_spectrum_use_(qualitative_rating_0-1,_1=best)</th>           <td>    0.4037</td> <td>    0.239</td> <td>    1.691</td> <td> 0.094</td> <td>   -0.070</td> <td>    0.877</td>\n",
       "</tr>\n",
       "<tr>\n",
       "  <th>government_efforts_to_promote_5g_(qualitative_rating_0-3,_3=best)</th>                        <td>    0.2206</td> <td>    0.078</td> <td>    2.836</td> <td> 0.005</td> <td>    0.066</td> <td>    0.375</td>\n",
       "</tr>\n",
       "<tr>\n",
       "  <th>democracy_index_(score,_0-10;_10_=_best)</th>                                                 <td>    0.0988</td> <td>    0.055</td> <td>    1.801</td> <td> 0.075</td> <td>   -0.010</td> <td>    0.207</td>\n",
       "</tr>\n",
       "<tr>\n",
       "  <th>eiu_business_environment_rankings_(score,_1-10,_10_=_high)</th>                               <td>    0.1813</td> <td>    0.098</td> <td>    1.854</td> <td> 0.066</td> <td>   -0.012</td> <td>    0.375</td>\n",
       "</tr>\n",
       "</table>\n",
       "<table class=\"simpletable\">\n",
       "<tr>\n",
       "  <th>Omnibus:</th>       <td> 1.392</td> <th>  Durbin-Watson:     </th> <td>   1.951</td>\n",
       "</tr>\n",
       "<tr>\n",
       "  <th>Prob(Omnibus):</th> <td> 0.498</td> <th>  Jarque-Bera (JB):  </th> <td>   0.927</td>\n",
       "</tr>\n",
       "<tr>\n",
       "  <th>Skew:</th>          <td> 0.069</td> <th>  Prob(JB):          </th> <td>   0.629</td>\n",
       "</tr>\n",
       "<tr>\n",
       "  <th>Kurtosis:</th>      <td> 3.410</td> <th>  Cond. No.          </th> <td>2.68e+06</td>\n",
       "</tr>\n",
       "</table><br/><br/>Warnings:<br/>[1] Standard Errors assume that the covariance matrix of the errors is correctly specified.<br/>[2] The condition number is large, 2.68e+06. This might indicate that there are<br/>strong multicollinearity or other numerical problems."
      ],
      "text/plain": [
       "<class 'statsmodels.iolib.summary.Summary'>\n",
       "\"\"\"\n",
       "                                                     OLS Regression Results                                                     \n",
       "================================================================================================================================\n",
       "Dep. Variable:     level_of_web_accessibility_(qualitative_rating_0-4,_4=best)   R-squared (uncentered):                   0.831\n",
       "Model:                                                                     OLS   Adj. R-squared (uncentered):              0.816\n",
       "Method:                                                          Least Squares   F-statistic:                              53.63\n",
       "Date:                                                         Fri, 11 Dec 2020   Prob (F-statistic):                    1.73e-37\n",
       "Time:                                                                 17:56:32   Log-Likelihood:                         -133.35\n",
       "No. Observations:                                                          119   AIC:                                      286.7\n",
       "Df Residuals:                                                              109   BIC:                                      314.5\n",
       "Df Model:                                                                   10                                                  \n",
       "Covariance Type:                                                     nonrobust                                                  \n",
       "============================================================================================================================================================\n",
       "                                                                                               coef    std err          t      P>|t|      [0.025      0.975]\n",
       "------------------------------------------------------------------------------------------------------------------------------------------------------------\n",
       "bandwidth_capacity_(bit/s_per_internet_user)                                             -2.803e-07   9.66e-08     -2.901      0.005   -4.72e-07   -8.88e-08\n",
       "private_sector_initiatives_to_make_wi-fi_available_(qualitative_rating_0-2,_2=best)          0.1265      0.103      1.226      0.223      -0.078       0.331\n",
       "mobile_phone_cost_(prepaid_tariff)_(%_of_monthly_gni_per_capita)                             0.0615      0.020      3.142      0.002       0.023       0.100\n",
       "availability_of_basic_information_in_the_local_language_(qualitative_rating_0-3,_3=best)    -0.2910      0.141     -2.064      0.041      -0.570      -0.012\n",
       "value_of_e-finance_(%)                                                                      -0.0153      0.005     -2.872      0.005      -0.026      -0.005\n",
       "support_for_digital_literacy_(qualitative_rating_0-3,_3=best)                                0.2039      0.099      2.058      0.042       0.008       0.400\n",
       "technology-neutrality_policy_for_spectrum_use_(qualitative_rating_0-1,_1=best)               0.4037      0.239      1.691      0.094      -0.070       0.877\n",
       "government_efforts_to_promote_5g_(qualitative_rating_0-3,_3=best)                            0.2206      0.078      2.836      0.005       0.066       0.375\n",
       "democracy_index_(score,_0-10;_10_=_best)                                                     0.0988      0.055      1.801      0.075      -0.010       0.207\n",
       "eiu_business_environment_rankings_(score,_1-10,_10_=_high)                                   0.1813      0.098      1.854      0.066      -0.012       0.375\n",
       "==============================================================================\n",
       "Omnibus:                        1.392   Durbin-Watson:                   1.951\n",
       "Prob(Omnibus):                  0.498   Jarque-Bera (JB):                0.927\n",
       "Skew:                           0.069   Prob(JB):                        0.629\n",
       "Kurtosis:                       3.410   Cond. No.                     2.68e+06\n",
       "==============================================================================\n",
       "\n",
       "Warnings:\n",
       "[1] Standard Errors assume that the covariance matrix of the errors is correctly specified.\n",
       "[2] The condition number is large, 2.68e+06. This might indicate that there are\n",
       "strong multicollinearity or other numerical problems.\n",
       "\"\"\""
      ]
     },
     "execution_count": 131,
     "metadata": {},
     "output_type": "execute_result"
    }
   ],
   "source": [
    "#Regression with 10 variables\n",
    "coefficients.remove('internet_exchange_points_(number_of_ixps_per_10_million_inhabitants)')\n",
    "reg10 = sm.OLS(y, full_internet_data[coefficients]).fit()\n",
    "reg10.summary()"
   ]
  },
  {
   "cell_type": "markdown",
   "metadata": {},
   "source": [
    "Since Private Sector Initiatives to Make Wi-fi Available has the highest p-value, we will remove it from the model."
   ]
  },
  {
   "cell_type": "code",
   "execution_count": 132,
   "metadata": {},
   "outputs": [
    {
     "data": {
      "text/html": [
       "<table class=\"simpletable\">\n",
       "<caption>OLS Regression Results</caption>\n",
       "<tr>\n",
       "  <th>Dep. Variable:</th>    <td>level_of_web_accessibility_(qualitative_rating_0-4,_4=best)</td> <th>  R-squared (uncentered):</th>      <td>   0.829</td>\n",
       "</tr>\n",
       "<tr>\n",
       "  <th>Model:</th>                                        <td>OLS</td>                             <th>  Adj. R-squared (uncentered):</th> <td>   0.815</td>\n",
       "</tr>\n",
       "<tr>\n",
       "  <th>Method:</th>                                  <td>Least Squares</td>                        <th>  F-statistic:       </th>          <td>   59.15</td>\n",
       "</tr>\n",
       "<tr>\n",
       "  <th>Date:</th>                                  <td>Fri, 11 Dec 2020</td>                       <th>  Prob (F-statistic):</th>          <td>4.54e-38</td>\n",
       "</tr>\n",
       "<tr>\n",
       "  <th>Time:</th>                                      <td>17:56:33</td>                           <th>  Log-Likelihood:    </th>          <td> -134.16</td>\n",
       "</tr>\n",
       "<tr>\n",
       "  <th>No. Observations:</th>                           <td>   119</td>                            <th>  AIC:               </th>          <td>   286.3</td>\n",
       "</tr>\n",
       "<tr>\n",
       "  <th>Df Residuals:</th>                               <td>   110</td>                            <th>  BIC:               </th>          <td>   311.3</td>\n",
       "</tr>\n",
       "<tr>\n",
       "  <th>Df Model:</th>                                   <td>     9</td>                            <th>                     </th>              <td> </td>   \n",
       "</tr>\n",
       "<tr>\n",
       "  <th>Covariance Type:</th>                           <td>nonrobust</td>                          <th>                     </th>              <td> </td>   \n",
       "</tr>\n",
       "</table>\n",
       "<table class=\"simpletable\">\n",
       "<tr>\n",
       "                                              <td></td>                                                <th>coef</th>     <th>std err</th>      <th>t</th>      <th>P>|t|</th>  <th>[0.025</th>    <th>0.975]</th>  \n",
       "</tr>\n",
       "<tr>\n",
       "  <th>bandwidth_capacity_(bit/s_per_internet_user)</th>                                             <td>-2.818e-07</td> <td> 9.68e-08</td> <td>   -2.909</td> <td> 0.004</td> <td>-4.74e-07</td> <td>-8.98e-08</td>\n",
       "</tr>\n",
       "<tr>\n",
       "  <th>mobile_phone_cost_(prepaid_tariff)_(%_of_monthly_gni_per_capita)</th>                         <td>    0.0607</td> <td>    0.020</td> <td>    3.098</td> <td> 0.002</td> <td>    0.022</td> <td>    0.100</td>\n",
       "</tr>\n",
       "<tr>\n",
       "  <th>availability_of_basic_information_in_the_local_language_(qualitative_rating_0-3,_3=best)</th> <td>   -0.3010</td> <td>    0.141</td> <td>   -2.134</td> <td> 0.035</td> <td>   -0.581</td> <td>   -0.022</td>\n",
       "</tr>\n",
       "<tr>\n",
       "  <th>value_of_e-finance_(%)</th>                                                                   <td>   -0.0151</td> <td>    0.005</td> <td>   -2.842</td> <td> 0.005</td> <td>   -0.026</td> <td>   -0.005</td>\n",
       "</tr>\n",
       "<tr>\n",
       "  <th>support_for_digital_literacy_(qualitative_rating_0-3,_3=best)</th>                            <td>    0.2058</td> <td>    0.099</td> <td>    2.073</td> <td> 0.040</td> <td>    0.009</td> <td>    0.403</td>\n",
       "</tr>\n",
       "<tr>\n",
       "  <th>technology-neutrality_policy_for_spectrum_use_(qualitative_rating_0-1,_1=best)</th>           <td>    0.4496</td> <td>    0.236</td> <td>    1.902</td> <td> 0.060</td> <td>   -0.019</td> <td>    0.918</td>\n",
       "</tr>\n",
       "<tr>\n",
       "  <th>government_efforts_to_promote_5g_(qualitative_rating_0-3,_3=best)</th>                        <td>    0.2268</td> <td>    0.078</td> <td>    2.915</td> <td> 0.004</td> <td>    0.073</td> <td>    0.381</td>\n",
       "</tr>\n",
       "<tr>\n",
       "  <th>democracy_index_(score,_0-10;_10_=_best)</th>                                                 <td>    0.1031</td> <td>    0.055</td> <td>    1.879</td> <td> 0.063</td> <td>   -0.006</td> <td>    0.212</td>\n",
       "</tr>\n",
       "<tr>\n",
       "  <th>eiu_business_environment_rankings_(score,_1-10,_10_=_high)</th>                               <td>    0.2026</td> <td>    0.096</td> <td>    2.101</td> <td> 0.038</td> <td>    0.011</td> <td>    0.394</td>\n",
       "</tr>\n",
       "</table>\n",
       "<table class=\"simpletable\">\n",
       "<tr>\n",
       "  <th>Omnibus:</th>       <td> 1.667</td> <th>  Durbin-Watson:     </th> <td>   1.962</td>\n",
       "</tr>\n",
       "<tr>\n",
       "  <th>Prob(Omnibus):</th> <td> 0.435</td> <th>  Jarque-Bera (JB):  </th> <td>   1.187</td>\n",
       "</tr>\n",
       "<tr>\n",
       "  <th>Skew:</th>          <td> 0.115</td> <th>  Prob(JB):          </th> <td>   0.552</td>\n",
       "</tr>\n",
       "<tr>\n",
       "  <th>Kurtosis:</th>      <td> 3.432</td> <th>  Cond. No.          </th> <td>2.64e+06</td>\n",
       "</tr>\n",
       "</table><br/><br/>Warnings:<br/>[1] Standard Errors assume that the covariance matrix of the errors is correctly specified.<br/>[2] The condition number is large, 2.64e+06. This might indicate that there are<br/>strong multicollinearity or other numerical problems."
      ],
      "text/plain": [
       "<class 'statsmodels.iolib.summary.Summary'>\n",
       "\"\"\"\n",
       "                                                     OLS Regression Results                                                     \n",
       "================================================================================================================================\n",
       "Dep. Variable:     level_of_web_accessibility_(qualitative_rating_0-4,_4=best)   R-squared (uncentered):                   0.829\n",
       "Model:                                                                     OLS   Adj. R-squared (uncentered):              0.815\n",
       "Method:                                                          Least Squares   F-statistic:                              59.15\n",
       "Date:                                                         Fri, 11 Dec 2020   Prob (F-statistic):                    4.54e-38\n",
       "Time:                                                                 17:56:33   Log-Likelihood:                         -134.16\n",
       "No. Observations:                                                          119   AIC:                                      286.3\n",
       "Df Residuals:                                                              110   BIC:                                      311.3\n",
       "Df Model:                                                                    9                                                  \n",
       "Covariance Type:                                                     nonrobust                                                  \n",
       "============================================================================================================================================================\n",
       "                                                                                               coef    std err          t      P>|t|      [0.025      0.975]\n",
       "------------------------------------------------------------------------------------------------------------------------------------------------------------\n",
       "bandwidth_capacity_(bit/s_per_internet_user)                                             -2.818e-07   9.68e-08     -2.909      0.004   -4.74e-07   -8.98e-08\n",
       "mobile_phone_cost_(prepaid_tariff)_(%_of_monthly_gni_per_capita)                             0.0607      0.020      3.098      0.002       0.022       0.100\n",
       "availability_of_basic_information_in_the_local_language_(qualitative_rating_0-3,_3=best)    -0.3010      0.141     -2.134      0.035      -0.581      -0.022\n",
       "value_of_e-finance_(%)                                                                      -0.0151      0.005     -2.842      0.005      -0.026      -0.005\n",
       "support_for_digital_literacy_(qualitative_rating_0-3,_3=best)                                0.2058      0.099      2.073      0.040       0.009       0.403\n",
       "technology-neutrality_policy_for_spectrum_use_(qualitative_rating_0-1,_1=best)               0.4496      0.236      1.902      0.060      -0.019       0.918\n",
       "government_efforts_to_promote_5g_(qualitative_rating_0-3,_3=best)                            0.2268      0.078      2.915      0.004       0.073       0.381\n",
       "democracy_index_(score,_0-10;_10_=_best)                                                     0.1031      0.055      1.879      0.063      -0.006       0.212\n",
       "eiu_business_environment_rankings_(score,_1-10,_10_=_high)                                   0.2026      0.096      2.101      0.038       0.011       0.394\n",
       "==============================================================================\n",
       "Omnibus:                        1.667   Durbin-Watson:                   1.962\n",
       "Prob(Omnibus):                  0.435   Jarque-Bera (JB):                1.187\n",
       "Skew:                           0.115   Prob(JB):                        0.552\n",
       "Kurtosis:                       3.432   Cond. No.                     2.64e+06\n",
       "==============================================================================\n",
       "\n",
       "Warnings:\n",
       "[1] Standard Errors assume that the covariance matrix of the errors is correctly specified.\n",
       "[2] The condition number is large, 2.64e+06. This might indicate that there are\n",
       "strong multicollinearity or other numerical problems.\n",
       "\"\"\""
      ]
     },
     "execution_count": 132,
     "metadata": {},
     "output_type": "execute_result"
    }
   ],
   "source": [
    "#Regression with 9 variables\n",
    "coefficients.remove('private_sector_initiatives_to_make_wi-fi_available_(qualitative_rating_0-2,_2=best)')\n",
    "reg9 = sm.OLS(y, full_internet_data[coefficients]).fit()\n",
    "reg9.summary()"
   ]
  },
  {
   "cell_type": "markdown",
   "metadata": {},
   "source": [
    "Since Democracy Index has the highest p-value, we will remove that variable from the regression."
   ]
  },
  {
   "cell_type": "code",
   "execution_count": 133,
   "metadata": {},
   "outputs": [
    {
     "data": {
      "text/html": [
       "<table class=\"simpletable\">\n",
       "<caption>OLS Regression Results</caption>\n",
       "<tr>\n",
       "  <th>Dep. Variable:</th>    <td>level_of_web_accessibility_(qualitative_rating_0-4,_4=best)</td> <th>  R-squared (uncentered):</th>      <td>   0.823</td>\n",
       "</tr>\n",
       "<tr>\n",
       "  <th>Model:</th>                                        <td>OLS</td>                             <th>  Adj. R-squared (uncentered):</th> <td>   0.811</td>\n",
       "</tr>\n",
       "<tr>\n",
       "  <th>Method:</th>                                  <td>Least Squares</td>                        <th>  F-statistic:       </th>          <td>   64.63</td>\n",
       "</tr>\n",
       "<tr>\n",
       "  <th>Date:</th>                                  <td>Fri, 11 Dec 2020</td>                       <th>  Prob (F-statistic):</th>          <td>3.03e-38</td>\n",
       "</tr>\n",
       "<tr>\n",
       "  <th>Time:</th>                                      <td>17:56:33</td>                           <th>  Log-Likelihood:    </th>          <td> -136.04</td>\n",
       "</tr>\n",
       "<tr>\n",
       "  <th>No. Observations:</th>                           <td>   119</td>                            <th>  AIC:               </th>          <td>   288.1</td>\n",
       "</tr>\n",
       "<tr>\n",
       "  <th>Df Residuals:</th>                               <td>   111</td>                            <th>  BIC:               </th>          <td>   310.3</td>\n",
       "</tr>\n",
       "<tr>\n",
       "  <th>Df Model:</th>                                   <td>     8</td>                            <th>                     </th>              <td> </td>   \n",
       "</tr>\n",
       "<tr>\n",
       "  <th>Covariance Type:</th>                           <td>nonrobust</td>                          <th>                     </th>              <td> </td>   \n",
       "</tr>\n",
       "</table>\n",
       "<table class=\"simpletable\">\n",
       "<tr>\n",
       "                                              <td></td>                                                <th>coef</th>     <th>std err</th>      <th>t</th>      <th>P>|t|</th>  <th>[0.025</th>    <th>0.975]</th>  \n",
       "</tr>\n",
       "<tr>\n",
       "  <th>bandwidth_capacity_(bit/s_per_internet_user)</th>                                             <td>-3.086e-07</td> <td> 9.69e-08</td> <td>   -3.186</td> <td> 0.002</td> <td>-5.01e-07</td> <td>-1.17e-07</td>\n",
       "</tr>\n",
       "<tr>\n",
       "  <th>mobile_phone_cost_(prepaid_tariff)_(%_of_monthly_gni_per_capita)</th>                         <td>    0.0579</td> <td>    0.020</td> <td>    2.929</td> <td> 0.004</td> <td>    0.019</td> <td>    0.097</td>\n",
       "</tr>\n",
       "<tr>\n",
       "  <th>availability_of_basic_information_in_the_local_language_(qualitative_rating_0-3,_3=best)</th> <td>   -0.3937</td> <td>    0.134</td> <td>   -2.946</td> <td> 0.004</td> <td>   -0.658</td> <td>   -0.129</td>\n",
       "</tr>\n",
       "<tr>\n",
       "  <th>value_of_e-finance_(%)</th>                                                                   <td>   -0.0130</td> <td>    0.005</td> <td>   -2.473</td> <td> 0.015</td> <td>   -0.023</td> <td>   -0.003</td>\n",
       "</tr>\n",
       "<tr>\n",
       "  <th>support_for_digital_literacy_(qualitative_rating_0-3,_3=best)</th>                            <td>    0.2197</td> <td>    0.100</td> <td>    2.194</td> <td> 0.030</td> <td>    0.021</td> <td>    0.418</td>\n",
       "</tr>\n",
       "<tr>\n",
       "  <th>technology-neutrality_policy_for_spectrum_use_(qualitative_rating_0-1,_1=best)</th>           <td>    0.5683</td> <td>    0.230</td> <td>    2.467</td> <td> 0.015</td> <td>    0.112</td> <td>    1.025</td>\n",
       "</tr>\n",
       "<tr>\n",
       "  <th>government_efforts_to_promote_5g_(qualitative_rating_0-3,_3=best)</th>                        <td>    0.2104</td> <td>    0.078</td> <td>    2.690</td> <td> 0.008</td> <td>    0.055</td> <td>    0.365</td>\n",
       "</tr>\n",
       "<tr>\n",
       "  <th>eiu_business_environment_rankings_(score,_1-10,_10_=_high)</th>                               <td>    0.3072</td> <td>    0.080</td> <td>    3.860</td> <td> 0.000</td> <td>    0.149</td> <td>    0.465</td>\n",
       "</tr>\n",
       "</table>\n",
       "<table class=\"simpletable\">\n",
       "<tr>\n",
       "  <th>Omnibus:</th>       <td> 1.084</td> <th>  Durbin-Watson:     </th> <td>   1.980</td>\n",
       "</tr>\n",
       "<tr>\n",
       "  <th>Prob(Omnibus):</th> <td> 0.582</td> <th>  Jarque-Bera (JB):  </th> <td>   0.767</td>\n",
       "</tr>\n",
       "<tr>\n",
       "  <th>Skew:</th>          <td> 0.188</td> <th>  Prob(JB):          </th> <td>   0.682</td>\n",
       "</tr>\n",
       "<tr>\n",
       "  <th>Kurtosis:</th>      <td> 3.115</td> <th>  Cond. No.          </th> <td>2.54e+06</td>\n",
       "</tr>\n",
       "</table><br/><br/>Warnings:<br/>[1] Standard Errors assume that the covariance matrix of the errors is correctly specified.<br/>[2] The condition number is large, 2.54e+06. This might indicate that there are<br/>strong multicollinearity or other numerical problems."
      ],
      "text/plain": [
       "<class 'statsmodels.iolib.summary.Summary'>\n",
       "\"\"\"\n",
       "                                                     OLS Regression Results                                                     \n",
       "================================================================================================================================\n",
       "Dep. Variable:     level_of_web_accessibility_(qualitative_rating_0-4,_4=best)   R-squared (uncentered):                   0.823\n",
       "Model:                                                                     OLS   Adj. R-squared (uncentered):              0.811\n",
       "Method:                                                          Least Squares   F-statistic:                              64.63\n",
       "Date:                                                         Fri, 11 Dec 2020   Prob (F-statistic):                    3.03e-38\n",
       "Time:                                                                 17:56:33   Log-Likelihood:                         -136.04\n",
       "No. Observations:                                                          119   AIC:                                      288.1\n",
       "Df Residuals:                                                              111   BIC:                                      310.3\n",
       "Df Model:                                                                    8                                                  \n",
       "Covariance Type:                                                     nonrobust                                                  \n",
       "============================================================================================================================================================\n",
       "                                                                                               coef    std err          t      P>|t|      [0.025      0.975]\n",
       "------------------------------------------------------------------------------------------------------------------------------------------------------------\n",
       "bandwidth_capacity_(bit/s_per_internet_user)                                             -3.086e-07   9.69e-08     -3.186      0.002   -5.01e-07   -1.17e-07\n",
       "mobile_phone_cost_(prepaid_tariff)_(%_of_monthly_gni_per_capita)                             0.0579      0.020      2.929      0.004       0.019       0.097\n",
       "availability_of_basic_information_in_the_local_language_(qualitative_rating_0-3,_3=best)    -0.3937      0.134     -2.946      0.004      -0.658      -0.129\n",
       "value_of_e-finance_(%)                                                                      -0.0130      0.005     -2.473      0.015      -0.023      -0.003\n",
       "support_for_digital_literacy_(qualitative_rating_0-3,_3=best)                                0.2197      0.100      2.194      0.030       0.021       0.418\n",
       "technology-neutrality_policy_for_spectrum_use_(qualitative_rating_0-1,_1=best)               0.5683      0.230      2.467      0.015       0.112       1.025\n",
       "government_efforts_to_promote_5g_(qualitative_rating_0-3,_3=best)                            0.2104      0.078      2.690      0.008       0.055       0.365\n",
       "eiu_business_environment_rankings_(score,_1-10,_10_=_high)                                   0.3072      0.080      3.860      0.000       0.149       0.465\n",
       "==============================================================================\n",
       "Omnibus:                        1.084   Durbin-Watson:                   1.980\n",
       "Prob(Omnibus):                  0.582   Jarque-Bera (JB):                0.767\n",
       "Skew:                           0.188   Prob(JB):                        0.682\n",
       "Kurtosis:                       3.115   Cond. No.                     2.54e+06\n",
       "==============================================================================\n",
       "\n",
       "Warnings:\n",
       "[1] Standard Errors assume that the covariance matrix of the errors is correctly specified.\n",
       "[2] The condition number is large, 2.54e+06. This might indicate that there are\n",
       "strong multicollinearity or other numerical problems.\n",
       "\"\"\""
      ]
     },
     "execution_count": 133,
     "metadata": {},
     "output_type": "execute_result"
    }
   ],
   "source": [
    "#Regression with 8 variables\n",
    "coefficients.remove('democracy_index_(score,_0-10;_10_=_best)')\n",
    "reg8 = sm.OLS(y, full_internet_data[coefficients]).fit()\n",
    "reg8.summary()"
   ]
  },
  {
   "cell_type": "markdown",
   "metadata": {},
   "source": [
    "Now that all p-values are below 0.05, we are checking if any polynomial terms are significant, by squaring all of the variables and adding them as predictors."
   ]
  },
  {
   "cell_type": "code",
   "execution_count": 134,
   "metadata": {},
   "outputs": [],
   "source": [
    "from sklearn.preprocessing import PolynomialFeatures\n",
    "interaction = PolynomialFeatures(degree=2).fit_transform(full_internet_data[coefficients])\n",
    "interaction = pd.DataFrame(interaction)"
   ]
  },
  {
   "cell_type": "code",
   "execution_count": 135,
   "metadata": {},
   "outputs": [
    {
     "data": {
      "text/html": [
       "<div>\n",
       "<style scoped>\n",
       "    .dataframe tbody tr th:only-of-type {\n",
       "        vertical-align: middle;\n",
       "    }\n",
       "\n",
       "    .dataframe tbody tr th {\n",
       "        vertical-align: top;\n",
       "    }\n",
       "\n",
       "    .dataframe thead th {\n",
       "        text-align: right;\n",
       "    }\n",
       "</style>\n",
       "<table border=\"1\" class=\"dataframe\">\n",
       "  <thead>\n",
       "    <tr style=\"text-align: right;\">\n",
       "      <th></th>\n",
       "      <th>0</th>\n",
       "      <th>1</th>\n",
       "      <th>2</th>\n",
       "      <th>3</th>\n",
       "      <th>4</th>\n",
       "      <th>5</th>\n",
       "      <th>6</th>\n",
       "      <th>7</th>\n",
       "      <th>8</th>\n",
       "      <th>9</th>\n",
       "      <th>...</th>\n",
       "      <th>35</th>\n",
       "      <th>36</th>\n",
       "      <th>37</th>\n",
       "      <th>38</th>\n",
       "      <th>39</th>\n",
       "      <th>40</th>\n",
       "      <th>41</th>\n",
       "      <th>42</th>\n",
       "      <th>43</th>\n",
       "      <th>44</th>\n",
       "    </tr>\n",
       "  </thead>\n",
       "  <tbody>\n",
       "    <tr>\n",
       "      <th>0</th>\n",
       "      <td>1.0</td>\n",
       "      <td>17239.000</td>\n",
       "      <td>2.040</td>\n",
       "      <td>3.000</td>\n",
       "      <td>32.000</td>\n",
       "      <td>1.000</td>\n",
       "      <td>1.000</td>\n",
       "      <td>0.000</td>\n",
       "      <td>4.400</td>\n",
       "      <td>2.971831e+08</td>\n",
       "      <td>...</td>\n",
       "      <td>1.000000</td>\n",
       "      <td>1.000000</td>\n",
       "      <td>0.000000</td>\n",
       "      <td>4.400000</td>\n",
       "      <td>1.000000</td>\n",
       "      <td>0.000000</td>\n",
       "      <td>4.400000</td>\n",
       "      <td>0.000000</td>\n",
       "      <td>0.000000</td>\n",
       "      <td>19.360000</td>\n",
       "    </tr>\n",
       "    <tr>\n",
       "      <th>1</th>\n",
       "      <td>1.0</td>\n",
       "      <td>42275.000</td>\n",
       "      <td>1.120</td>\n",
       "      <td>3.000</td>\n",
       "      <td>62.000</td>\n",
       "      <td>3.000</td>\n",
       "      <td>1.000</td>\n",
       "      <td>0.000</td>\n",
       "      <td>5.200</td>\n",
       "      <td>1.787176e+09</td>\n",
       "      <td>...</td>\n",
       "      <td>9.000000</td>\n",
       "      <td>3.000000</td>\n",
       "      <td>0.000000</td>\n",
       "      <td>15.600000</td>\n",
       "      <td>1.000000</td>\n",
       "      <td>0.000000</td>\n",
       "      <td>5.200000</td>\n",
       "      <td>0.000000</td>\n",
       "      <td>0.000000</td>\n",
       "      <td>27.040000</td>\n",
       "    </tr>\n",
       "    <tr>\n",
       "      <th>2</th>\n",
       "      <td>1.0</td>\n",
       "      <td>67209.000</td>\n",
       "      <td>0.500</td>\n",
       "      <td>3.000</td>\n",
       "      <td>44.000</td>\n",
       "      <td>3.000</td>\n",
       "      <td>1.000</td>\n",
       "      <td>3.000</td>\n",
       "      <td>8.300</td>\n",
       "      <td>4.517050e+09</td>\n",
       "      <td>...</td>\n",
       "      <td>9.000000</td>\n",
       "      <td>3.000000</td>\n",
       "      <td>9.000000</td>\n",
       "      <td>24.900000</td>\n",
       "      <td>1.000000</td>\n",
       "      <td>3.000000</td>\n",
       "      <td>8.300000</td>\n",
       "      <td>9.000000</td>\n",
       "      <td>24.900000</td>\n",
       "      <td>68.890000</td>\n",
       "    </tr>\n",
       "    <tr>\n",
       "      <th>3</th>\n",
       "      <td>1.0</td>\n",
       "      <td>52219.000</td>\n",
       "      <td>0.160</td>\n",
       "      <td>3.000</td>\n",
       "      <td>50.000</td>\n",
       "      <td>3.000</td>\n",
       "      <td>1.000</td>\n",
       "      <td>3.000</td>\n",
       "      <td>7.900</td>\n",
       "      <td>2.726824e+09</td>\n",
       "      <td>...</td>\n",
       "      <td>9.000000</td>\n",
       "      <td>3.000000</td>\n",
       "      <td>9.000000</td>\n",
       "      <td>23.700000</td>\n",
       "      <td>1.000000</td>\n",
       "      <td>3.000000</td>\n",
       "      <td>7.900000</td>\n",
       "      <td>9.000000</td>\n",
       "      <td>23.700000</td>\n",
       "      <td>62.410000</td>\n",
       "    </tr>\n",
       "    <tr>\n",
       "      <th>4</th>\n",
       "      <td>1.0</td>\n",
       "      <td>52143.000</td>\n",
       "      <td>1.380</td>\n",
       "      <td>3.000</td>\n",
       "      <td>45.000</td>\n",
       "      <td>1.000</td>\n",
       "      <td>0.000</td>\n",
       "      <td>0.000</td>\n",
       "      <td>5.100</td>\n",
       "      <td>2.718892e+09</td>\n",
       "      <td>...</td>\n",
       "      <td>1.000000</td>\n",
       "      <td>0.000000</td>\n",
       "      <td>0.000000</td>\n",
       "      <td>5.100000</td>\n",
       "      <td>0.000000</td>\n",
       "      <td>0.000000</td>\n",
       "      <td>0.000000</td>\n",
       "      <td>0.000000</td>\n",
       "      <td>0.000000</td>\n",
       "      <td>26.010000</td>\n",
       "    </tr>\n",
       "    <tr>\n",
       "      <th>...</th>\n",
       "      <td>...</td>\n",
       "      <td>...</td>\n",
       "      <td>...</td>\n",
       "      <td>...</td>\n",
       "      <td>...</td>\n",
       "      <td>...</td>\n",
       "      <td>...</td>\n",
       "      <td>...</td>\n",
       "      <td>...</td>\n",
       "      <td>...</td>\n",
       "      <td>...</td>\n",
       "      <td>...</td>\n",
       "      <td>...</td>\n",
       "      <td>...</td>\n",
       "      <td>...</td>\n",
       "      <td>...</td>\n",
       "      <td>...</td>\n",
       "      <td>...</td>\n",
       "      <td>...</td>\n",
       "      <td>...</td>\n",
       "      <td>...</td>\n",
       "    </tr>\n",
       "    <tr>\n",
       "      <th>114</th>\n",
       "      <td>1.0</td>\n",
       "      <td>24949.435</td>\n",
       "      <td>7.341</td>\n",
       "      <td>2.217</td>\n",
       "      <td>44.000</td>\n",
       "      <td>1.913</td>\n",
       "      <td>0.739</td>\n",
       "      <td>0.174</td>\n",
       "      <td>4.883</td>\n",
       "      <td>6.224743e+08</td>\n",
       "      <td>...</td>\n",
       "      <td>3.659569</td>\n",
       "      <td>1.413707</td>\n",
       "      <td>0.332862</td>\n",
       "      <td>9.341179</td>\n",
       "      <td>0.546121</td>\n",
       "      <td>0.128586</td>\n",
       "      <td>3.608537</td>\n",
       "      <td>0.030276</td>\n",
       "      <td>0.849642</td>\n",
       "      <td>23.843689</td>\n",
       "    </tr>\n",
       "    <tr>\n",
       "      <th>115</th>\n",
       "      <td>1.0</td>\n",
       "      <td>388460.000</td>\n",
       "      <td>0.744</td>\n",
       "      <td>2.973</td>\n",
       "      <td>50.805</td>\n",
       "      <td>2.811</td>\n",
       "      <td>0.973</td>\n",
       "      <td>2.189</td>\n",
       "      <td>7.397</td>\n",
       "      <td>1.509012e+11</td>\n",
       "      <td>...</td>\n",
       "      <td>7.901721</td>\n",
       "      <td>2.735103</td>\n",
       "      <td>6.153279</td>\n",
       "      <td>20.792967</td>\n",
       "      <td>0.946729</td>\n",
       "      <td>2.129897</td>\n",
       "      <td>7.197281</td>\n",
       "      <td>4.791721</td>\n",
       "      <td>16.192033</td>\n",
       "      <td>54.715609</td>\n",
       "    </tr>\n",
       "    <tr>\n",
       "      <th>116</th>\n",
       "      <td>1.0</td>\n",
       "      <td>7406.200</td>\n",
       "      <td>11.470</td>\n",
       "      <td>2.200</td>\n",
       "      <td>44.000</td>\n",
       "      <td>1.800</td>\n",
       "      <td>0.700</td>\n",
       "      <td>0.000</td>\n",
       "      <td>4.930</td>\n",
       "      <td>5.485180e+07</td>\n",
       "      <td>...</td>\n",
       "      <td>3.240000</td>\n",
       "      <td>1.260000</td>\n",
       "      <td>0.000000</td>\n",
       "      <td>8.874000</td>\n",
       "      <td>0.490000</td>\n",
       "      <td>0.000000</td>\n",
       "      <td>3.451000</td>\n",
       "      <td>0.000000</td>\n",
       "      <td>0.000000</td>\n",
       "      <td>24.304900</td>\n",
       "    </tr>\n",
       "    <tr>\n",
       "      <th>117</th>\n",
       "      <td>1.0</td>\n",
       "      <td>42145.192</td>\n",
       "      <td>3.741</td>\n",
       "      <td>2.500</td>\n",
       "      <td>49.754</td>\n",
       "      <td>2.038</td>\n",
       "      <td>0.731</td>\n",
       "      <td>0.500</td>\n",
       "      <td>5.150</td>\n",
       "      <td>1.776217e+09</td>\n",
       "      <td>...</td>\n",
       "      <td>4.153444</td>\n",
       "      <td>1.489778</td>\n",
       "      <td>1.019000</td>\n",
       "      <td>10.495700</td>\n",
       "      <td>0.534361</td>\n",
       "      <td>0.365500</td>\n",
       "      <td>3.764650</td>\n",
       "      <td>0.250000</td>\n",
       "      <td>2.575000</td>\n",
       "      <td>26.522500</td>\n",
       "    </tr>\n",
       "    <tr>\n",
       "      <th>118</th>\n",
       "      <td>1.0</td>\n",
       "      <td>51276.852</td>\n",
       "      <td>1.785</td>\n",
       "      <td>2.889</td>\n",
       "      <td>54.837</td>\n",
       "      <td>2.556</td>\n",
       "      <td>0.815</td>\n",
       "      <td>0.963</td>\n",
       "      <td>5.552</td>\n",
       "      <td>2.629316e+09</td>\n",
       "      <td>...</td>\n",
       "      <td>6.533136</td>\n",
       "      <td>2.083140</td>\n",
       "      <td>2.461428</td>\n",
       "      <td>14.190912</td>\n",
       "      <td>0.664225</td>\n",
       "      <td>0.784845</td>\n",
       "      <td>4.524880</td>\n",
       "      <td>0.927369</td>\n",
       "      <td>5.346576</td>\n",
       "      <td>30.824704</td>\n",
       "    </tr>\n",
       "  </tbody>\n",
       "</table>\n",
       "<p>119 rows × 45 columns</p>\n",
       "</div>"
      ],
      "text/plain": [
       "      0           1       2      3       4      5      6      7      8   \\\n",
       "0    1.0   17239.000   2.040  3.000  32.000  1.000  1.000  0.000  4.400   \n",
       "1    1.0   42275.000   1.120  3.000  62.000  3.000  1.000  0.000  5.200   \n",
       "2    1.0   67209.000   0.500  3.000  44.000  3.000  1.000  3.000  8.300   \n",
       "3    1.0   52219.000   0.160  3.000  50.000  3.000  1.000  3.000  7.900   \n",
       "4    1.0   52143.000   1.380  3.000  45.000  1.000  0.000  0.000  5.100   \n",
       "..   ...         ...     ...    ...     ...    ...    ...    ...    ...   \n",
       "114  1.0   24949.435   7.341  2.217  44.000  1.913  0.739  0.174  4.883   \n",
       "115  1.0  388460.000   0.744  2.973  50.805  2.811  0.973  2.189  7.397   \n",
       "116  1.0    7406.200  11.470  2.200  44.000  1.800  0.700  0.000  4.930   \n",
       "117  1.0   42145.192   3.741  2.500  49.754  2.038  0.731  0.500  5.150   \n",
       "118  1.0   51276.852   1.785  2.889  54.837  2.556  0.815  0.963  5.552   \n",
       "\n",
       "               9   ...        35        36        37         38        39  \\\n",
       "0    2.971831e+08  ...  1.000000  1.000000  0.000000   4.400000  1.000000   \n",
       "1    1.787176e+09  ...  9.000000  3.000000  0.000000  15.600000  1.000000   \n",
       "2    4.517050e+09  ...  9.000000  3.000000  9.000000  24.900000  1.000000   \n",
       "3    2.726824e+09  ...  9.000000  3.000000  9.000000  23.700000  1.000000   \n",
       "4    2.718892e+09  ...  1.000000  0.000000  0.000000   5.100000  0.000000   \n",
       "..            ...  ...       ...       ...       ...        ...       ...   \n",
       "114  6.224743e+08  ...  3.659569  1.413707  0.332862   9.341179  0.546121   \n",
       "115  1.509012e+11  ...  7.901721  2.735103  6.153279  20.792967  0.946729   \n",
       "116  5.485180e+07  ...  3.240000  1.260000  0.000000   8.874000  0.490000   \n",
       "117  1.776217e+09  ...  4.153444  1.489778  1.019000  10.495700  0.534361   \n",
       "118  2.629316e+09  ...  6.533136  2.083140  2.461428  14.190912  0.664225   \n",
       "\n",
       "           40        41        42         43         44  \n",
       "0    0.000000  4.400000  0.000000   0.000000  19.360000  \n",
       "1    0.000000  5.200000  0.000000   0.000000  27.040000  \n",
       "2    3.000000  8.300000  9.000000  24.900000  68.890000  \n",
       "3    3.000000  7.900000  9.000000  23.700000  62.410000  \n",
       "4    0.000000  0.000000  0.000000   0.000000  26.010000  \n",
       "..        ...       ...       ...        ...        ...  \n",
       "114  0.128586  3.608537  0.030276   0.849642  23.843689  \n",
       "115  2.129897  7.197281  4.791721  16.192033  54.715609  \n",
       "116  0.000000  3.451000  0.000000   0.000000  24.304900  \n",
       "117  0.365500  3.764650  0.250000   2.575000  26.522500  \n",
       "118  0.784845  4.524880  0.927369   5.346576  30.824704  \n",
       "\n",
       "[119 rows x 45 columns]"
      ]
     },
     "execution_count": 135,
     "metadata": {},
     "output_type": "execute_result"
    }
   ],
   "source": [
    "#DataFrame containing the squares of all of the variables and their interactions with other variables\n",
    "interaction"
   ]
  },
  {
   "cell_type": "markdown",
   "metadata": {},
   "source": [
    "Columns 1-8 represent the columns for each predictor, 9 is predictor 1 squared, 10 is predictor 1 times predictor 2, 11 is predictor 1 times 3, and so on until column 17, which is predictor 2 squared, column 18 is predictor 2 times predictor 3, etc. Therefore, each column after 8 is either a square or an interaction term, which we use in the following regressions."
   ]
  },
  {
   "cell_type": "code",
   "execution_count": 136,
   "metadata": {},
   "outputs": [],
   "source": [
    "internet_data_SQ = full_internet_data.copy()\n",
    "coefficients_SQ = coefficients.copy()"
   ]
  },
  {
   "cell_type": "code",
   "execution_count": 137,
   "metadata": {},
   "outputs": [],
   "source": [
    "internet_data_SQ['Bandwidth_Capacity_SQ'] = interaction[9]\n",
    "internet_data_SQ['Mobile_Phone_Cost_SQ'] = interaction[17]\n",
    "internet_data_SQ['Availability_Info_Local_Language_SQ'] = interaction[24]\n",
    "internet_data_SQ['Value_of_E-finance_SQ'] = interaction[30]\n",
    "internet_data_SQ['Support_For_Digital_Literacy_SQ'] = interaction[35]\n",
    "#internet_data_SQ['Technology-neutrality_policy_for_spectrum_use_SQ'] = interaction[39]\n",
    "internet_data_SQ['Govt_Effort_5g_SQ'] = interaction[42]\n",
    "internet_data_SQ['EIU_Business_Environment_Rankings_SQ'] = interaction[44]"
   ]
  },
  {
   "cell_type": "markdown",
   "metadata": {},
   "source": [
    "We commented out column 39 because the square of technology-neutrality_policy_for_spectrum_use is definitely not significant since it is either 0 or 1, and the squares of 0 and 1 are 0 and 1."
   ]
  },
  {
   "cell_type": "code",
   "execution_count": 138,
   "metadata": {},
   "outputs": [],
   "source": [
    "coefficients_SQ.extend(['Bandwidth_Capacity_SQ','Mobile_Phone_Cost_SQ','Availability_Info_Local_Language_SQ','Value_of_E-finance_SQ','Support_For_Digital_Literacy_SQ','Govt_Effort_5g_SQ','EIU_Business_Environment_Rankings_SQ'])\n"
   ]
  },
  {
   "cell_type": "code",
   "execution_count": 139,
   "metadata": {},
   "outputs": [
    {
     "data": {
      "text/html": [
       "<table class=\"simpletable\">\n",
       "<caption>OLS Regression Results</caption>\n",
       "<tr>\n",
       "  <th>Dep. Variable:</th>    <td>level_of_web_accessibility_(qualitative_rating_0-4,_4=best)</td> <th>  R-squared:         </th> <td>   0.490</td>\n",
       "</tr>\n",
       "<tr>\n",
       "  <th>Model:</th>                                        <td>OLS</td>                             <th>  Adj. R-squared:    </th> <td>   0.422</td>\n",
       "</tr>\n",
       "<tr>\n",
       "  <th>Method:</th>                                  <td>Least Squares</td>                        <th>  F-statistic:       </th> <td>   7.148</td>\n",
       "</tr>\n",
       "<tr>\n",
       "  <th>Date:</th>                                  <td>Fri, 11 Dec 2020</td>                       <th>  Prob (F-statistic):</th> <td>3.80e-10</td>\n",
       "</tr>\n",
       "<tr>\n",
       "  <th>Time:</th>                                      <td>17:56:37</td>                           <th>  Log-Likelihood:    </th> <td> -131.09</td>\n",
       "</tr>\n",
       "<tr>\n",
       "  <th>No. Observations:</th>                           <td>   119</td>                            <th>  AIC:               </th> <td>   292.2</td>\n",
       "</tr>\n",
       "<tr>\n",
       "  <th>Df Residuals:</th>                               <td>   104</td>                            <th>  BIC:               </th> <td>   333.9</td>\n",
       "</tr>\n",
       "<tr>\n",
       "  <th>Df Model:</th>                                   <td>    14</td>                            <th>                     </th>     <td> </td>   \n",
       "</tr>\n",
       "<tr>\n",
       "  <th>Covariance Type:</th>                           <td>nonrobust</td>                          <th>                     </th>     <td> </td>   \n",
       "</tr>\n",
       "</table>\n",
       "<table class=\"simpletable\">\n",
       "<tr>\n",
       "                                              <td></td>                                                <th>coef</th>     <th>std err</th>      <th>t</th>      <th>P>|t|</th>  <th>[0.025</th>    <th>0.975]</th>  \n",
       "</tr>\n",
       "<tr>\n",
       "  <th>bandwidth_capacity_(bit/s_per_internet_user)</th>                                             <td>-4.558e-07</td> <td> 4.39e-07</td> <td>   -1.038</td> <td> 0.302</td> <td>-1.33e-06</td> <td> 4.15e-07</td>\n",
       "</tr>\n",
       "<tr>\n",
       "  <th>mobile_phone_cost_(prepaid_tariff)_(%_of_monthly_gni_per_capita)</th>                         <td>   -0.0069</td> <td>    0.080</td> <td>   -0.086</td> <td> 0.932</td> <td>   -0.165</td> <td>    0.151</td>\n",
       "</tr>\n",
       "<tr>\n",
       "  <th>availability_of_basic_information_in_the_local_language_(qualitative_rating_0-3,_3=best)</th> <td>   -2.1708</td> <td>    1.135</td> <td>   -1.912</td> <td> 0.059</td> <td>   -4.422</td> <td>    0.081</td>\n",
       "</tr>\n",
       "<tr>\n",
       "  <th>value_of_e-finance_(%)</th>                                                                   <td>   -0.0358</td> <td>    0.029</td> <td>   -1.227</td> <td> 0.223</td> <td>   -0.094</td> <td>    0.022</td>\n",
       "</tr>\n",
       "<tr>\n",
       "  <th>support_for_digital_literacy_(qualitative_rating_0-3,_3=best)</th>                            <td>    0.4530</td> <td>    0.391</td> <td>    1.158</td> <td> 0.250</td> <td>   -0.323</td> <td>    1.229</td>\n",
       "</tr>\n",
       "<tr>\n",
       "  <th>technology-neutrality_policy_for_spectrum_use_(qualitative_rating_0-1,_1=best)</th>           <td>    0.5795</td> <td>    0.236</td> <td>    2.455</td> <td> 0.016</td> <td>    0.111</td> <td>    1.047</td>\n",
       "</tr>\n",
       "<tr>\n",
       "  <th>government_efforts_to_promote_5g_(qualitative_rating_0-3,_3=best)</th>                        <td>   -0.3134</td> <td>    0.284</td> <td>   -1.105</td> <td> 0.272</td> <td>   -0.876</td> <td>    0.249</td>\n",
       "</tr>\n",
       "<tr>\n",
       "  <th>eiu_business_environment_rankings_(score,_1-10,_10_=_high)</th>                               <td>    1.1154</td> <td>    0.431</td> <td>    2.587</td> <td> 0.011</td> <td>    0.260</td> <td>    1.971</td>\n",
       "</tr>\n",
       "<tr>\n",
       "  <th>Bandwidth_Capacity_SQ</th>                                                                    <td> 2.068e-14</td> <td> 5.38e-14</td> <td>    0.384</td> <td> 0.702</td> <td> -8.6e-14</td> <td> 1.27e-13</td>\n",
       "</tr>\n",
       "<tr>\n",
       "  <th>Mobile_Phone_Cost_SQ</th>                                                                     <td>    0.0037</td> <td>    0.004</td> <td>    0.916</td> <td> 0.362</td> <td>   -0.004</td> <td>    0.012</td>\n",
       "</tr>\n",
       "<tr>\n",
       "  <th>Availability_Info_Local_Language_SQ</th>                                                      <td>    0.3990</td> <td>    0.258</td> <td>    1.545</td> <td> 0.125</td> <td>   -0.113</td> <td>    0.911</td>\n",
       "</tr>\n",
       "<tr>\n",
       "  <th>Value_of_E-finance_SQ</th>                                                                    <td>    0.0002</td> <td>    0.000</td> <td>    0.733</td> <td> 0.465</td> <td>   -0.000</td> <td>    0.001</td>\n",
       "</tr>\n",
       "<tr>\n",
       "  <th>Support_For_Digital_Literacy_SQ</th>                                                          <td>   -0.0609</td> <td>    0.105</td> <td>   -0.582</td> <td> 0.562</td> <td>   -0.269</td> <td>    0.147</td>\n",
       "</tr>\n",
       "<tr>\n",
       "  <th>Govt_Effort_5g_SQ</th>                                                                        <td>    0.1637</td> <td>    0.090</td> <td>    1.816</td> <td> 0.072</td> <td>   -0.015</td> <td>    0.342</td>\n",
       "</tr>\n",
       "<tr>\n",
       "  <th>EIU_Business_Environment_Rankings_SQ</th>                                                     <td>   -0.0651</td> <td>    0.035</td> <td>   -1.838</td> <td> 0.069</td> <td>   -0.135</td> <td>    0.005</td>\n",
       "</tr>\n",
       "</table>\n",
       "<table class=\"simpletable\">\n",
       "<tr>\n",
       "  <th>Omnibus:</th>       <td> 0.071</td> <th>  Durbin-Watson:     </th> <td>   2.071</td>\n",
       "</tr>\n",
       "<tr>\n",
       "  <th>Prob(Omnibus):</th> <td> 0.965</td> <th>  Jarque-Bera (JB):  </th> <td>   0.001</td>\n",
       "</tr>\n",
       "<tr>\n",
       "  <th>Skew:</th>          <td>-0.003</td> <th>  Prob(JB):          </th> <td>   0.999</td>\n",
       "</tr>\n",
       "<tr>\n",
       "  <th>Kurtosis:</th>      <td> 2.986</td> <th>  Cond. No.          </th> <td>1.05e+14</td>\n",
       "</tr>\n",
       "</table><br/><br/>Warnings:<br/>[1] Standard Errors assume that the covariance matrix of the errors is correctly specified.<br/>[2] The condition number is large, 1.05e+14. This might indicate that there are<br/>strong multicollinearity or other numerical problems."
      ],
      "text/plain": [
       "<class 'statsmodels.iolib.summary.Summary'>\n",
       "\"\"\"\n",
       "                                                 OLS Regression Results                                                \n",
       "=======================================================================================================================\n",
       "Dep. Variable:     level_of_web_accessibility_(qualitative_rating_0-4,_4=best)   R-squared:                       0.490\n",
       "Model:                                                                     OLS   Adj. R-squared:                  0.422\n",
       "Method:                                                          Least Squares   F-statistic:                     7.148\n",
       "Date:                                                         Fri, 11 Dec 2020   Prob (F-statistic):           3.80e-10\n",
       "Time:                                                                 17:56:37   Log-Likelihood:                -131.09\n",
       "No. Observations:                                                          119   AIC:                             292.2\n",
       "Df Residuals:                                                              104   BIC:                             333.9\n",
       "Df Model:                                                                   14                                         \n",
       "Covariance Type:                                                     nonrobust                                         \n",
       "============================================================================================================================================================\n",
       "                                                                                               coef    std err          t      P>|t|      [0.025      0.975]\n",
       "------------------------------------------------------------------------------------------------------------------------------------------------------------\n",
       "bandwidth_capacity_(bit/s_per_internet_user)                                             -4.558e-07   4.39e-07     -1.038      0.302   -1.33e-06    4.15e-07\n",
       "mobile_phone_cost_(prepaid_tariff)_(%_of_monthly_gni_per_capita)                            -0.0069      0.080     -0.086      0.932      -0.165       0.151\n",
       "availability_of_basic_information_in_the_local_language_(qualitative_rating_0-3,_3=best)    -2.1708      1.135     -1.912      0.059      -4.422       0.081\n",
       "value_of_e-finance_(%)                                                                      -0.0358      0.029     -1.227      0.223      -0.094       0.022\n",
       "support_for_digital_literacy_(qualitative_rating_0-3,_3=best)                                0.4530      0.391      1.158      0.250      -0.323       1.229\n",
       "technology-neutrality_policy_for_spectrum_use_(qualitative_rating_0-1,_1=best)               0.5795      0.236      2.455      0.016       0.111       1.047\n",
       "government_efforts_to_promote_5g_(qualitative_rating_0-3,_3=best)                           -0.3134      0.284     -1.105      0.272      -0.876       0.249\n",
       "eiu_business_environment_rankings_(score,_1-10,_10_=_high)                                   1.1154      0.431      2.587      0.011       0.260       1.971\n",
       "Bandwidth_Capacity_SQ                                                                     2.068e-14   5.38e-14      0.384      0.702    -8.6e-14    1.27e-13\n",
       "Mobile_Phone_Cost_SQ                                                                         0.0037      0.004      0.916      0.362      -0.004       0.012\n",
       "Availability_Info_Local_Language_SQ                                                          0.3990      0.258      1.545      0.125      -0.113       0.911\n",
       "Value_of_E-finance_SQ                                                                        0.0002      0.000      0.733      0.465      -0.000       0.001\n",
       "Support_For_Digital_Literacy_SQ                                                             -0.0609      0.105     -0.582      0.562      -0.269       0.147\n",
       "Govt_Effort_5g_SQ                                                                            0.1637      0.090      1.816      0.072      -0.015       0.342\n",
       "EIU_Business_Environment_Rankings_SQ                                                        -0.0651      0.035     -1.838      0.069      -0.135       0.005\n",
       "==============================================================================\n",
       "Omnibus:                        0.071   Durbin-Watson:                   2.071\n",
       "Prob(Omnibus):                  0.965   Jarque-Bera (JB):                0.001\n",
       "Skew:                          -0.003   Prob(JB):                        0.999\n",
       "Kurtosis:                       2.986   Cond. No.                     1.05e+14\n",
       "==============================================================================\n",
       "\n",
       "Warnings:\n",
       "[1] Standard Errors assume that the covariance matrix of the errors is correctly specified.\n",
       "[2] The condition number is large, 1.05e+14. This might indicate that there are\n",
       "strong multicollinearity or other numerical problems.\n",
       "\"\"\""
      ]
     },
     "execution_count": 139,
     "metadata": {},
     "output_type": "execute_result"
    }
   ],
   "source": [
    "#Regression with the eight variables and their squares\n",
    "regSQ8 = sm.OLS(y, internet_data_SQ[coefficients_SQ]).fit()\n",
    "regSQ8.summary()"
   ]
  },
  {
   "cell_type": "markdown",
   "metadata": {},
   "source": [
    "Since none of the squared variables had p-values < 0.05, we can drop them from the model. Now, we will test interactions between each variable, which means adding new variables for the products of each pair of variables:"
   ]
  },
  {
   "cell_type": "code",
   "execution_count": 142,
   "metadata": {},
   "outputs": [],
   "source": [
    "internet_data_inter = full_internet_data.copy()\n",
    "coefficients_inter = coefficients.copy()"
   ]
  },
  {
   "cell_type": "code",
   "execution_count": 143,
   "metadata": {},
   "outputs": [],
   "source": [
    "for i in interaction.columns:\n",
    "    if i not in [0,1,2,3,4,5,6,7,8,9,17,24,30,35,39,42,44]:\n",
    "        internet_data_inter['interaction ' + str(i)] = interaction[i]\n",
    "        coefficients_inter.append('interaction ' + str(i))"
   ]
  },
  {
   "cell_type": "markdown",
   "metadata": {},
   "source": [
    "In the above cell, we are removing all of the columns with the predictors themselves or the squares so we are left with only the interaction terms."
   ]
  },
  {
   "cell_type": "code",
   "execution_count": 144,
   "metadata": {},
   "outputs": [
    {
     "data": {
      "text/html": [
       "<table class=\"simpletable\">\n",
       "<caption>OLS Regression Results</caption>\n",
       "<tr>\n",
       "  <th>Dep. Variable:</th>    <td>level_of_web_accessibility_(qualitative_rating_0-4,_4=best)</td> <th>  R-squared (uncentered):</th>      <td>   0.868</td>\n",
       "</tr>\n",
       "<tr>\n",
       "  <th>Model:</th>                                        <td>OLS</td>                             <th>  Adj. R-squared (uncentered):</th> <td>   0.811</td>\n",
       "</tr>\n",
       "<tr>\n",
       "  <th>Method:</th>                                  <td>Least Squares</td>                        <th>  F-statistic:       </th>          <td>   15.22</td>\n",
       "</tr>\n",
       "<tr>\n",
       "  <th>Date:</th>                                  <td>Fri, 11 Dec 2020</td>                       <th>  Prob (F-statistic):</th>          <td>6.22e-24</td>\n",
       "</tr>\n",
       "<tr>\n",
       "  <th>Time:</th>                                      <td>17:59:00</td>                           <th>  Log-Likelihood:    </th>          <td> -118.46</td>\n",
       "</tr>\n",
       "<tr>\n",
       "  <th>No. Observations:</th>                           <td>   119</td>                            <th>  AIC:               </th>          <td>   308.9</td>\n",
       "</tr>\n",
       "<tr>\n",
       "  <th>Df Residuals:</th>                               <td>    83</td>                            <th>  BIC:               </th>          <td>   409.0</td>\n",
       "</tr>\n",
       "<tr>\n",
       "  <th>Df Model:</th>                                   <td>    36</td>                            <th>                     </th>              <td> </td>   \n",
       "</tr>\n",
       "<tr>\n",
       "  <th>Covariance Type:</th>                           <td>nonrobust</td>                          <th>                     </th>              <td> </td>   \n",
       "</tr>\n",
       "</table>\n",
       "<table class=\"simpletable\">\n",
       "<tr>\n",
       "                                              <td></td>                                                <th>coef</th>     <th>std err</th>      <th>t</th>      <th>P>|t|</th>  <th>[0.025</th>    <th>0.975]</th>  \n",
       "</tr>\n",
       "<tr>\n",
       "  <th>bandwidth_capacity_(bit/s_per_internet_user)</th>                                             <td>-9.001e-06</td> <td> 2.37e-05</td> <td>   -0.380</td> <td> 0.705</td> <td>-5.61e-05</td> <td> 3.81e-05</td>\n",
       "</tr>\n",
       "<tr>\n",
       "  <th>mobile_phone_cost_(prepaid_tariff)_(%_of_monthly_gni_per_capita)</th>                         <td>    0.0644</td> <td>    0.192</td> <td>    0.336</td> <td> 0.738</td> <td>   -0.317</td> <td>    0.445</td>\n",
       "</tr>\n",
       "<tr>\n",
       "  <th>availability_of_basic_information_in_the_local_language_(qualitative_rating_0-3,_3=best)</th> <td>   -0.5996</td> <td>    0.734</td> <td>   -0.817</td> <td> 0.416</td> <td>   -2.059</td> <td>    0.860</td>\n",
       "</tr>\n",
       "<tr>\n",
       "  <th>value_of_e-finance_(%)</th>                                                                   <td>    0.1068</td> <td>    0.101</td> <td>    1.058</td> <td> 0.293</td> <td>   -0.094</td> <td>    0.308</td>\n",
       "</tr>\n",
       "<tr>\n",
       "  <th>support_for_digital_literacy_(qualitative_rating_0-3,_3=best)</th>                            <td>   -1.2124</td> <td>    1.377</td> <td>   -0.880</td> <td> 0.381</td> <td>   -3.951</td> <td>    1.526</td>\n",
       "</tr>\n",
       "<tr>\n",
       "  <th>technology-neutrality_policy_for_spectrum_use_(qualitative_rating_0-1,_1=best)</th>           <td>   -1.8307</td> <td>    3.328</td> <td>   -0.550</td> <td> 0.584</td> <td>   -8.449</td> <td>    4.788</td>\n",
       "</tr>\n",
       "<tr>\n",
       "  <th>government_efforts_to_promote_5g_(qualitative_rating_0-3,_3=best)</th>                        <td>   -3.8899</td> <td>    2.471</td> <td>   -1.575</td> <td> 0.119</td> <td>   -8.804</td> <td>    1.024</td>\n",
       "</tr>\n",
       "<tr>\n",
       "  <th>eiu_business_environment_rankings_(score,_1-10,_10_=_high)</th>                               <td>    0.1548</td> <td>    0.760</td> <td>    0.204</td> <td> 0.839</td> <td>   -1.357</td> <td>    1.667</td>\n",
       "</tr>\n",
       "<tr>\n",
       "  <th>interaction 10</th>                                                                           <td>-6.931e-07</td> <td> 1.55e-06</td> <td>   -0.447</td> <td> 0.656</td> <td>-3.77e-06</td> <td> 2.39e-06</td>\n",
       "</tr>\n",
       "<tr>\n",
       "  <th>interaction 11</th>                                                                           <td> 2.081e-06</td> <td> 5.95e-06</td> <td>    0.350</td> <td> 0.728</td> <td>-9.76e-06</td> <td> 1.39e-05</td>\n",
       "</tr>\n",
       "<tr>\n",
       "  <th>interaction 12</th>                                                                           <td> 2.307e-08</td> <td> 6.87e-08</td> <td>    0.336</td> <td> 0.738</td> <td>-1.14e-07</td> <td>  1.6e-07</td>\n",
       "</tr>\n",
       "<tr>\n",
       "  <th>interaction 13</th>                                                                           <td> 5.167e-07</td> <td> 3.29e-06</td> <td>    0.157</td> <td> 0.876</td> <td>-6.03e-06</td> <td> 7.06e-06</td>\n",
       "</tr>\n",
       "<tr>\n",
       "  <th>interaction 14</th>                                                                           <td>-3.345e-06</td> <td> 6.11e-06</td> <td>   -0.548</td> <td> 0.585</td> <td>-1.55e-05</td> <td> 8.81e-06</td>\n",
       "</tr>\n",
       "<tr>\n",
       "  <th>interaction 15</th>                                                                           <td>-2.621e-06</td> <td>  1.4e-06</td> <td>   -1.879</td> <td> 0.064</td> <td> -5.4e-06</td> <td> 1.54e-07</td>\n",
       "</tr>\n",
       "<tr>\n",
       "  <th>interaction 16</th>                                                                           <td> 1.334e-06</td> <td> 1.17e-06</td> <td>    1.136</td> <td> 0.259</td> <td>   -1e-06</td> <td> 3.67e-06</td>\n",
       "</tr>\n",
       "<tr>\n",
       "  <th>interaction 18</th>                                                                           <td>    0.0071</td> <td>    0.055</td> <td>    0.131</td> <td> 0.896</td> <td>   -0.101</td> <td>    0.116</td>\n",
       "</tr>\n",
       "<tr>\n",
       "  <th>interaction 19</th>                                                                           <td>   -0.0042</td> <td>    0.003</td> <td>   -1.603</td> <td> 0.113</td> <td>   -0.009</td> <td>    0.001</td>\n",
       "</tr>\n",
       "<tr>\n",
       "  <th>interaction 20</th>                                                                           <td>    0.0428</td> <td>    0.034</td> <td>    1.263</td> <td> 0.210</td> <td>   -0.025</td> <td>    0.110</td>\n",
       "</tr>\n",
       "<tr>\n",
       "  <th>interaction 21</th>                                                                           <td>   -0.0380</td> <td>    0.101</td> <td>   -0.378</td> <td> 0.707</td> <td>   -0.238</td> <td>    0.162</td>\n",
       "</tr>\n",
       "<tr>\n",
       "  <th>interaction 22</th>                                                                           <td>   -0.0388</td> <td>    0.094</td> <td>   -0.412</td> <td> 0.681</td> <td>   -0.226</td> <td>    0.149</td>\n",
       "</tr>\n",
       "<tr>\n",
       "  <th>interaction 23</th>                                                                           <td>    0.0322</td> <td>    0.064</td> <td>    0.505</td> <td> 0.615</td> <td>   -0.095</td> <td>    0.159</td>\n",
       "</tr>\n",
       "<tr>\n",
       "  <th>interaction 25</th>                                                                           <td>   -0.0103</td> <td>    0.027</td> <td>   -0.379</td> <td> 0.706</td> <td>   -0.064</td> <td>    0.044</td>\n",
       "</tr>\n",
       "<tr>\n",
       "  <th>interaction 26</th>                                                                           <td>    0.2855</td> <td>    0.305</td> <td>    0.935</td> <td> 0.352</td> <td>   -0.322</td> <td>    0.893</td>\n",
       "</tr>\n",
       "<tr>\n",
       "  <th>interaction 27</th>                                                                           <td>   -0.6797</td> <td>    0.710</td> <td>   -0.957</td> <td> 0.341</td> <td>   -2.092</td> <td>    0.733</td>\n",
       "</tr>\n",
       "<tr>\n",
       "  <th>interaction 28</th>                                                                           <td>    1.6070</td> <td>    0.808</td> <td>    1.988</td> <td> 0.050</td> <td>   -0.001</td> <td>    3.215</td>\n",
       "</tr>\n",
       "<tr>\n",
       "  <th>interaction 29</th>                                                                           <td>    0.0910</td> <td>    0.310</td> <td>    0.293</td> <td> 0.770</td> <td>   -0.526</td> <td>    0.708</td>\n",
       "</tr>\n",
       "<tr>\n",
       "  <th>interaction 31</th>                                                                           <td>    0.0012</td> <td>    0.011</td> <td>    0.106</td> <td> 0.915</td> <td>   -0.021</td> <td>    0.023</td>\n",
       "</tr>\n",
       "<tr>\n",
       "  <th>interaction 32</th>                                                                           <td>    0.0072</td> <td>    0.021</td> <td>    0.335</td> <td> 0.738</td> <td>   -0.035</td> <td>    0.050</td>\n",
       "</tr>\n",
       "<tr>\n",
       "  <th>interaction 33</th>                                                                           <td>    0.0050</td> <td>    0.008</td> <td>    0.616</td> <td> 0.539</td> <td>   -0.011</td> <td>    0.021</td>\n",
       "</tr>\n",
       "<tr>\n",
       "  <th>interaction 34</th>                                                                           <td>   -0.0160</td> <td>    0.009</td> <td>   -1.865</td> <td> 0.066</td> <td>   -0.033</td> <td>    0.001</td>\n",
       "</tr>\n",
       "<tr>\n",
       "  <th>interaction 36</th>                                                                           <td>    0.3172</td> <td>    0.422</td> <td>    0.751</td> <td> 0.455</td> <td>   -0.523</td> <td>    1.157</td>\n",
       "</tr>\n",
       "<tr>\n",
       "  <th>interaction 37</th>                                                                           <td>   -0.0131</td> <td>    0.152</td> <td>   -0.086</td> <td> 0.931</td> <td>   -0.316</td> <td>    0.290</td>\n",
       "</tr>\n",
       "<tr>\n",
       "  <th>interaction 38</th>                                                                           <td>    0.0456</td> <td>    0.161</td> <td>    0.282</td> <td> 0.778</td> <td>   -0.276</td> <td>    0.367</td>\n",
       "</tr>\n",
       "<tr>\n",
       "  <th>interaction 40</th>                                                                           <td>    0.1434</td> <td>    0.467</td> <td>    0.307</td> <td> 0.760</td> <td>   -0.786</td> <td>    1.072</td>\n",
       "</tr>\n",
       "<tr>\n",
       "  <th>interaction 41</th>                                                                           <td>    0.6406</td> <td>    0.471</td> <td>    1.361</td> <td> 0.177</td> <td>   -0.296</td> <td>    1.577</td>\n",
       "</tr>\n",
       "<tr>\n",
       "  <th>interaction 43</th>                                                                           <td>   -0.1291</td> <td>    0.089</td> <td>   -1.445</td> <td> 0.152</td> <td>   -0.307</td> <td>    0.049</td>\n",
       "</tr>\n",
       "</table>\n",
       "<table class=\"simpletable\">\n",
       "<tr>\n",
       "  <th>Omnibus:</th>       <td> 1.022</td> <th>  Durbin-Watson:     </th> <td>   1.824</td>\n",
       "</tr>\n",
       "<tr>\n",
       "  <th>Prob(Omnibus):</th> <td> 0.600</td> <th>  Jarque-Bera (JB):  </th> <td>   0.576</td>\n",
       "</tr>\n",
       "<tr>\n",
       "  <th>Skew:</th>          <td>-0.055</td> <th>  Prob(JB):          </th> <td>   0.750</td>\n",
       "</tr>\n",
       "<tr>\n",
       "  <th>Kurtosis:</th>      <td> 3.323</td> <th>  Cond. No.          </th> <td>2.42e+09</td>\n",
       "</tr>\n",
       "</table><br/><br/>Warnings:<br/>[1] Standard Errors assume that the covariance matrix of the errors is correctly specified.<br/>[2] The condition number is large, 2.42e+09. This might indicate that there are<br/>strong multicollinearity or other numerical problems."
      ],
      "text/plain": [
       "<class 'statsmodels.iolib.summary.Summary'>\n",
       "\"\"\"\n",
       "                                                     OLS Regression Results                                                     \n",
       "================================================================================================================================\n",
       "Dep. Variable:     level_of_web_accessibility_(qualitative_rating_0-4,_4=best)   R-squared (uncentered):                   0.868\n",
       "Model:                                                                     OLS   Adj. R-squared (uncentered):              0.811\n",
       "Method:                                                          Least Squares   F-statistic:                              15.22\n",
       "Date:                                                         Fri, 11 Dec 2020   Prob (F-statistic):                    6.22e-24\n",
       "Time:                                                                 17:59:00   Log-Likelihood:                         -118.46\n",
       "No. Observations:                                                          119   AIC:                                      308.9\n",
       "Df Residuals:                                                               83   BIC:                                      409.0\n",
       "Df Model:                                                                   36                                                  \n",
       "Covariance Type:                                                     nonrobust                                                  \n",
       "============================================================================================================================================================\n",
       "                                                                                               coef    std err          t      P>|t|      [0.025      0.975]\n",
       "------------------------------------------------------------------------------------------------------------------------------------------------------------\n",
       "bandwidth_capacity_(bit/s_per_internet_user)                                             -9.001e-06   2.37e-05     -0.380      0.705   -5.61e-05    3.81e-05\n",
       "mobile_phone_cost_(prepaid_tariff)_(%_of_monthly_gni_per_capita)                             0.0644      0.192      0.336      0.738      -0.317       0.445\n",
       "availability_of_basic_information_in_the_local_language_(qualitative_rating_0-3,_3=best)    -0.5996      0.734     -0.817      0.416      -2.059       0.860\n",
       "value_of_e-finance_(%)                                                                       0.1068      0.101      1.058      0.293      -0.094       0.308\n",
       "support_for_digital_literacy_(qualitative_rating_0-3,_3=best)                               -1.2124      1.377     -0.880      0.381      -3.951       1.526\n",
       "technology-neutrality_policy_for_spectrum_use_(qualitative_rating_0-1,_1=best)              -1.8307      3.328     -0.550      0.584      -8.449       4.788\n",
       "government_efforts_to_promote_5g_(qualitative_rating_0-3,_3=best)                           -3.8899      2.471     -1.575      0.119      -8.804       1.024\n",
       "eiu_business_environment_rankings_(score,_1-10,_10_=_high)                                   0.1548      0.760      0.204      0.839      -1.357       1.667\n",
       "interaction 10                                                                           -6.931e-07   1.55e-06     -0.447      0.656   -3.77e-06    2.39e-06\n",
       "interaction 11                                                                            2.081e-06   5.95e-06      0.350      0.728   -9.76e-06    1.39e-05\n",
       "interaction 12                                                                            2.307e-08   6.87e-08      0.336      0.738   -1.14e-07     1.6e-07\n",
       "interaction 13                                                                            5.167e-07   3.29e-06      0.157      0.876   -6.03e-06    7.06e-06\n",
       "interaction 14                                                                           -3.345e-06   6.11e-06     -0.548      0.585   -1.55e-05    8.81e-06\n",
       "interaction 15                                                                           -2.621e-06    1.4e-06     -1.879      0.064    -5.4e-06    1.54e-07\n",
       "interaction 16                                                                            1.334e-06   1.17e-06      1.136      0.259      -1e-06    3.67e-06\n",
       "interaction 18                                                                               0.0071      0.055      0.131      0.896      -0.101       0.116\n",
       "interaction 19                                                                              -0.0042      0.003     -1.603      0.113      -0.009       0.001\n",
       "interaction 20                                                                               0.0428      0.034      1.263      0.210      -0.025       0.110\n",
       "interaction 21                                                                              -0.0380      0.101     -0.378      0.707      -0.238       0.162\n",
       "interaction 22                                                                              -0.0388      0.094     -0.412      0.681      -0.226       0.149\n",
       "interaction 23                                                                               0.0322      0.064      0.505      0.615      -0.095       0.159\n",
       "interaction 25                                                                              -0.0103      0.027     -0.379      0.706      -0.064       0.044\n",
       "interaction 26                                                                               0.2855      0.305      0.935      0.352      -0.322       0.893\n",
       "interaction 27                                                                              -0.6797      0.710     -0.957      0.341      -2.092       0.733\n",
       "interaction 28                                                                               1.6070      0.808      1.988      0.050      -0.001       3.215\n",
       "interaction 29                                                                               0.0910      0.310      0.293      0.770      -0.526       0.708\n",
       "interaction 31                                                                               0.0012      0.011      0.106      0.915      -0.021       0.023\n",
       "interaction 32                                                                               0.0072      0.021      0.335      0.738      -0.035       0.050\n",
       "interaction 33                                                                               0.0050      0.008      0.616      0.539      -0.011       0.021\n",
       "interaction 34                                                                              -0.0160      0.009     -1.865      0.066      -0.033       0.001\n",
       "interaction 36                                                                               0.3172      0.422      0.751      0.455      -0.523       1.157\n",
       "interaction 37                                                                              -0.0131      0.152     -0.086      0.931      -0.316       0.290\n",
       "interaction 38                                                                               0.0456      0.161      0.282      0.778      -0.276       0.367\n",
       "interaction 40                                                                               0.1434      0.467      0.307      0.760      -0.786       1.072\n",
       "interaction 41                                                                               0.6406      0.471      1.361      0.177      -0.296       1.577\n",
       "interaction 43                                                                              -0.1291      0.089     -1.445      0.152      -0.307       0.049\n",
       "==============================================================================\n",
       "Omnibus:                        1.022   Durbin-Watson:                   1.824\n",
       "Prob(Omnibus):                  0.600   Jarque-Bera (JB):                0.576\n",
       "Skew:                          -0.055   Prob(JB):                        0.750\n",
       "Kurtosis:                       3.323   Cond. No.                     2.42e+09\n",
       "==============================================================================\n",
       "\n",
       "Warnings:\n",
       "[1] Standard Errors assume that the covariance matrix of the errors is correctly specified.\n",
       "[2] The condition number is large, 2.42e+09. This might indicate that there are\n",
       "strong multicollinearity or other numerical problems.\n",
       "\"\"\""
      ]
     },
     "execution_count": 144,
     "metadata": {},
     "output_type": "execute_result"
    }
   ],
   "source": [
    "#Regression with the eight predictors plus their interactions\n",
    "regi = sm.OLS(y, internet_data_inter[coefficients_inter]).fit()\n",
    "regi.summary()"
   ]
  },
  {
   "cell_type": "markdown",
   "metadata": {},
   "source": [
    "Interaction 28 seems like it may be significant, since the p-value is 0.05. We will drop the rest of the interactions and run the regression one more time."
   ]
  },
  {
   "cell_type": "code",
   "execution_count": 152,
   "metadata": {},
   "outputs": [],
   "source": [
    "internet_data_final = full_internet_data.copy()\n",
    "coefficients_final = coefficients.copy()"
   ]
  },
  {
   "cell_type": "code",
   "execution_count": 153,
   "metadata": {},
   "outputs": [],
   "source": [
    "internet_data_final['Availability_Info_Local_Language:Govt_Promote_5g'] = interaction[28]\n",
    "coefficients_final.extend(['Availability_Info_Local_Language:Govt_Promote_5g'])"
   ]
  },
  {
   "cell_type": "markdown",
   "metadata": {},
   "source": [
    "In the above cell, we are adding the one significant interaction term to the model, which we found by using the pattern I described when talking about the interaction dataframe."
   ]
  },
  {
   "cell_type": "code",
   "execution_count": 154,
   "metadata": {},
   "outputs": [
    {
     "data": {
      "text/html": [
       "<table class=\"simpletable\">\n",
       "<caption>OLS Regression Results</caption>\n",
       "<tr>\n",
       "  <th>Dep. Variable:</th>    <td>level_of_web_accessibility_(qualitative_rating_0-4,_4=best)</td> <th>  R-squared (uncentered):</th>      <td>   0.830</td>\n",
       "</tr>\n",
       "<tr>\n",
       "  <th>Model:</th>                                        <td>OLS</td>                             <th>  Adj. R-squared (uncentered):</th> <td>   0.817</td>\n",
       "</tr>\n",
       "<tr>\n",
       "  <th>Method:</th>                                  <td>Least Squares</td>                        <th>  F-statistic:       </th>          <td>   59.84</td>\n",
       "</tr>\n",
       "<tr>\n",
       "  <th>Date:</th>                                  <td>Fri, 11 Dec 2020</td>                       <th>  Prob (F-statistic):</th>          <td>2.69e-38</td>\n",
       "</tr>\n",
       "<tr>\n",
       "  <th>Time:</th>                                      <td>18:04:47</td>                           <th>  Log-Likelihood:    </th>          <td> -133.59</td>\n",
       "</tr>\n",
       "<tr>\n",
       "  <th>No. Observations:</th>                           <td>   119</td>                            <th>  AIC:               </th>          <td>   285.2</td>\n",
       "</tr>\n",
       "<tr>\n",
       "  <th>Df Residuals:</th>                               <td>   110</td>                            <th>  BIC:               </th>          <td>   310.2</td>\n",
       "</tr>\n",
       "<tr>\n",
       "  <th>Df Model:</th>                                   <td>     9</td>                            <th>                     </th>              <td> </td>   \n",
       "</tr>\n",
       "<tr>\n",
       "  <th>Covariance Type:</th>                           <td>nonrobust</td>                          <th>                     </th>              <td> </td>   \n",
       "</tr>\n",
       "</table>\n",
       "<table class=\"simpletable\">\n",
       "<tr>\n",
       "                                              <td></td>                                                <th>coef</th>     <th>std err</th>      <th>t</th>      <th>P>|t|</th>  <th>[0.025</th>    <th>0.975]</th>  \n",
       "</tr>\n",
       "<tr>\n",
       "  <th>bandwidth_capacity_(bit/s_per_internet_user)</th>                                             <td>-3.136e-07</td> <td> 9.54e-08</td> <td>   -3.288</td> <td> 0.001</td> <td>-5.03e-07</td> <td>-1.25e-07</td>\n",
       "</tr>\n",
       "<tr>\n",
       "  <th>mobile_phone_cost_(prepaid_tariff)_(%_of_monthly_gni_per_capita)</th>                         <td>    0.0594</td> <td>    0.019</td> <td>    3.053</td> <td> 0.003</td> <td>    0.021</td> <td>    0.098</td>\n",
       "</tr>\n",
       "<tr>\n",
       "  <th>availability_of_basic_information_in_the_local_language_(qualitative_rating_0-3,_3=best)</th> <td>   -0.4146</td> <td>    0.132</td> <td>   -3.144</td> <td> 0.002</td> <td>   -0.676</td> <td>   -0.153</td>\n",
       "</tr>\n",
       "<tr>\n",
       "  <th>value_of_e-finance_(%)</th>                                                                   <td>   -0.0123</td> <td>    0.005</td> <td>   -2.362</td> <td> 0.020</td> <td>   -0.023</td> <td>   -0.002</td>\n",
       "</tr>\n",
       "<tr>\n",
       "  <th>support_for_digital_literacy_(qualitative_rating_0-3,_3=best)</th>                            <td>    0.2384</td> <td>    0.099</td> <td>    2.410</td> <td> 0.018</td> <td>    0.042</td> <td>    0.434</td>\n",
       "</tr>\n",
       "<tr>\n",
       "  <th>technology-neutrality_policy_for_spectrum_use_(qualitative_rating_0-1,_1=best)</th>           <td>    0.5916</td> <td>    0.227</td> <td>    2.606</td> <td> 0.010</td> <td>    0.142</td> <td>    1.041</td>\n",
       "</tr>\n",
       "<tr>\n",
       "  <th>government_efforts_to_promote_5g_(qualitative_rating_0-3,_3=best)</th>                        <td>   -4.2557</td> <td>    2.077</td> <td>   -2.049</td> <td> 0.043</td> <td>   -8.372</td> <td>   -0.139</td>\n",
       "</tr>\n",
       "<tr>\n",
       "  <th>eiu_business_environment_rankings_(score,_1-10,_10_=_high)</th>                               <td>    0.3047</td> <td>    0.078</td> <td>    3.890</td> <td> 0.000</td> <td>    0.149</td> <td>    0.460</td>\n",
       "</tr>\n",
       "<tr>\n",
       "  <th>Availability_Info_Local_Language:Govt_Promote_5g</th>                                         <td>    1.4876</td> <td>    0.691</td> <td>    2.151</td> <td> 0.034</td> <td>    0.117</td> <td>    2.858</td>\n",
       "</tr>\n",
       "</table>\n",
       "<table class=\"simpletable\">\n",
       "<tr>\n",
       "  <th>Omnibus:</th>       <td> 0.927</td> <th>  Durbin-Watson:     </th> <td>   1.890</td>\n",
       "</tr>\n",
       "<tr>\n",
       "  <th>Prob(Omnibus):</th> <td> 0.629</td> <th>  Jarque-Bera (JB):  </th> <td>   0.671</td>\n",
       "</tr>\n",
       "<tr>\n",
       "  <th>Skew:</th>          <td> 0.180</td> <th>  Prob(JB):          </th> <td>   0.715</td>\n",
       "</tr>\n",
       "<tr>\n",
       "  <th>Kurtosis:</th>      <td> 3.073</td> <th>  Cond. No.          </th> <td>2.43e+07</td>\n",
       "</tr>\n",
       "</table><br/><br/>Warnings:<br/>[1] Standard Errors assume that the covariance matrix of the errors is correctly specified.<br/>[2] The condition number is large, 2.43e+07. This might indicate that there are<br/>strong multicollinearity or other numerical problems."
      ],
      "text/plain": [
       "<class 'statsmodels.iolib.summary.Summary'>\n",
       "\"\"\"\n",
       "                                                     OLS Regression Results                                                     \n",
       "================================================================================================================================\n",
       "Dep. Variable:     level_of_web_accessibility_(qualitative_rating_0-4,_4=best)   R-squared (uncentered):                   0.830\n",
       "Model:                                                                     OLS   Adj. R-squared (uncentered):              0.817\n",
       "Method:                                                          Least Squares   F-statistic:                              59.84\n",
       "Date:                                                         Fri, 11 Dec 2020   Prob (F-statistic):                    2.69e-38\n",
       "Time:                                                                 18:04:47   Log-Likelihood:                         -133.59\n",
       "No. Observations:                                                          119   AIC:                                      285.2\n",
       "Df Residuals:                                                              110   BIC:                                      310.2\n",
       "Df Model:                                                                    9                                                  \n",
       "Covariance Type:                                                     nonrobust                                                  \n",
       "============================================================================================================================================================\n",
       "                                                                                               coef    std err          t      P>|t|      [0.025      0.975]\n",
       "------------------------------------------------------------------------------------------------------------------------------------------------------------\n",
       "bandwidth_capacity_(bit/s_per_internet_user)                                             -3.136e-07   9.54e-08     -3.288      0.001   -5.03e-07   -1.25e-07\n",
       "mobile_phone_cost_(prepaid_tariff)_(%_of_monthly_gni_per_capita)                             0.0594      0.019      3.053      0.003       0.021       0.098\n",
       "availability_of_basic_information_in_the_local_language_(qualitative_rating_0-3,_3=best)    -0.4146      0.132     -3.144      0.002      -0.676      -0.153\n",
       "value_of_e-finance_(%)                                                                      -0.0123      0.005     -2.362      0.020      -0.023      -0.002\n",
       "support_for_digital_literacy_(qualitative_rating_0-3,_3=best)                                0.2384      0.099      2.410      0.018       0.042       0.434\n",
       "technology-neutrality_policy_for_spectrum_use_(qualitative_rating_0-1,_1=best)               0.5916      0.227      2.606      0.010       0.142       1.041\n",
       "government_efforts_to_promote_5g_(qualitative_rating_0-3,_3=best)                           -4.2557      2.077     -2.049      0.043      -8.372      -0.139\n",
       "eiu_business_environment_rankings_(score,_1-10,_10_=_high)                                   0.3047      0.078      3.890      0.000       0.149       0.460\n",
       "Availability_Info_Local_Language:Govt_Promote_5g                                             1.4876      0.691      2.151      0.034       0.117       2.858\n",
       "==============================================================================\n",
       "Omnibus:                        0.927   Durbin-Watson:                   1.890\n",
       "Prob(Omnibus):                  0.629   Jarque-Bera (JB):                0.671\n",
       "Skew:                           0.180   Prob(JB):                        0.715\n",
       "Kurtosis:                       3.073   Cond. No.                     2.43e+07\n",
       "==============================================================================\n",
       "\n",
       "Warnings:\n",
       "[1] Standard Errors assume that the covariance matrix of the errors is correctly specified.\n",
       "[2] The condition number is large, 2.43e+07. This might indicate that there are\n",
       "strong multicollinearity or other numerical problems.\n",
       "\"\"\""
      ]
     },
     "execution_count": 154,
     "metadata": {},
     "output_type": "execute_result"
    }
   ],
   "source": [
    "#Regression with the five predictors plus the interaction between Govt Promote 5g and Democracy Index\n",
    "regi28 = sm.OLS(y, internet_data_final[coefficients_final]).fit()\n",
    "regi28.summary()"
   ]
  },
  {
   "cell_type": "markdown",
   "metadata": {},
   "source": [
    "All of the p-values are finally below 0.05, so this is our final model. The R-squared only decreased from 0.833 to 0.830, showing that we were able to simplify the model at a cost of losing very little information. The DataFrame containing the coefficients for the final model is printed below:"
   ]
  },
  {
   "cell_type": "code",
   "execution_count": 157,
   "metadata": {
    "scrolled": true
   },
   "outputs": [
    {
     "data": {
      "text/html": [
       "<div>\n",
       "<style scoped>\n",
       "    .dataframe tbody tr th:only-of-type {\n",
       "        vertical-align: middle;\n",
       "    }\n",
       "\n",
       "    .dataframe tbody tr th {\n",
       "        vertical-align: top;\n",
       "    }\n",
       "\n",
       "    .dataframe thead th {\n",
       "        text-align: right;\n",
       "    }\n",
       "</style>\n",
       "<table border=\"1\" class=\"dataframe\">\n",
       "  <thead>\n",
       "    <tr style=\"text-align: right;\">\n",
       "      <th></th>\n",
       "      <th>bandwidth_capacity_(bit/s_per_internet_user)</th>\n",
       "      <th>mobile_phone_cost_(prepaid_tariff)_(%_of_monthly_gni_per_capita)</th>\n",
       "      <th>availability_of_basic_information_in_the_local_language_(qualitative_rating_0-3,_3=best)</th>\n",
       "      <th>value_of_e-finance_(%)</th>\n",
       "      <th>support_for_digital_literacy_(qualitative_rating_0-3,_3=best)</th>\n",
       "      <th>technology-neutrality_policy_for_spectrum_use_(qualitative_rating_0-1,_1=best)</th>\n",
       "      <th>government_efforts_to_promote_5g_(qualitative_rating_0-3,_3=best)</th>\n",
       "      <th>eiu_business_environment_rankings_(score,_1-10,_10_=_high)</th>\n",
       "      <th>Availability_Info_Local_Language:Govt_Promote_5g</th>\n",
       "    </tr>\n",
       "  </thead>\n",
       "  <tbody>\n",
       "    <tr>\n",
       "      <th>0</th>\n",
       "      <td>17239.0</td>\n",
       "      <td>2.04</td>\n",
       "      <td>3.0</td>\n",
       "      <td>32.0</td>\n",
       "      <td>1.0</td>\n",
       "      <td>1.0</td>\n",
       "      <td>0.0</td>\n",
       "      <td>4.4</td>\n",
       "      <td>0.0</td>\n",
       "    </tr>\n",
       "    <tr>\n",
       "      <th>1</th>\n",
       "      <td>42275.0</td>\n",
       "      <td>1.12</td>\n",
       "      <td>3.0</td>\n",
       "      <td>62.0</td>\n",
       "      <td>3.0</td>\n",
       "      <td>1.0</td>\n",
       "      <td>0.0</td>\n",
       "      <td>5.2</td>\n",
       "      <td>0.0</td>\n",
       "    </tr>\n",
       "    <tr>\n",
       "      <th>2</th>\n",
       "      <td>67209.0</td>\n",
       "      <td>0.50</td>\n",
       "      <td>3.0</td>\n",
       "      <td>44.0</td>\n",
       "      <td>3.0</td>\n",
       "      <td>1.0</td>\n",
       "      <td>3.0</td>\n",
       "      <td>8.3</td>\n",
       "      <td>9.0</td>\n",
       "    </tr>\n",
       "    <tr>\n",
       "      <th>3</th>\n",
       "      <td>52219.0</td>\n",
       "      <td>0.16</td>\n",
       "      <td>3.0</td>\n",
       "      <td>50.0</td>\n",
       "      <td>3.0</td>\n",
       "      <td>1.0</td>\n",
       "      <td>3.0</td>\n",
       "      <td>7.9</td>\n",
       "      <td>9.0</td>\n",
       "    </tr>\n",
       "    <tr>\n",
       "      <th>4</th>\n",
       "      <td>52143.0</td>\n",
       "      <td>1.38</td>\n",
       "      <td>3.0</td>\n",
       "      <td>45.0</td>\n",
       "      <td>1.0</td>\n",
       "      <td>0.0</td>\n",
       "      <td>0.0</td>\n",
       "      <td>5.1</td>\n",
       "      <td>0.0</td>\n",
       "    </tr>\n",
       "  </tbody>\n",
       "</table>\n",
       "</div>"
      ],
      "text/plain": [
       "   bandwidth_capacity_(bit/s_per_internet_user)  \\\n",
       "0                                       17239.0   \n",
       "1                                       42275.0   \n",
       "2                                       67209.0   \n",
       "3                                       52219.0   \n",
       "4                                       52143.0   \n",
       "\n",
       "   mobile_phone_cost_(prepaid_tariff)_(%_of_monthly_gni_per_capita)  \\\n",
       "0                                               2.04                  \n",
       "1                                               1.12                  \n",
       "2                                               0.50                  \n",
       "3                                               0.16                  \n",
       "4                                               1.38                  \n",
       "\n",
       "   availability_of_basic_information_in_the_local_language_(qualitative_rating_0-3,_3=best)  \\\n",
       "0                                                3.0                                          \n",
       "1                                                3.0                                          \n",
       "2                                                3.0                                          \n",
       "3                                                3.0                                          \n",
       "4                                                3.0                                          \n",
       "\n",
       "   value_of_e-finance_(%)  \\\n",
       "0                    32.0   \n",
       "1                    62.0   \n",
       "2                    44.0   \n",
       "3                    50.0   \n",
       "4                    45.0   \n",
       "\n",
       "   support_for_digital_literacy_(qualitative_rating_0-3,_3=best)  \\\n",
       "0                                                1.0               \n",
       "1                                                3.0               \n",
       "2                                                3.0               \n",
       "3                                                3.0               \n",
       "4                                                1.0               \n",
       "\n",
       "   technology-neutrality_policy_for_spectrum_use_(qualitative_rating_0-1,_1=best)  \\\n",
       "0                                                1.0                                \n",
       "1                                                1.0                                \n",
       "2                                                1.0                                \n",
       "3                                                1.0                                \n",
       "4                                                0.0                                \n",
       "\n",
       "   government_efforts_to_promote_5g_(qualitative_rating_0-3,_3=best)  \\\n",
       "0                                                0.0                   \n",
       "1                                                0.0                   \n",
       "2                                                3.0                   \n",
       "3                                                3.0                   \n",
       "4                                                0.0                   \n",
       "\n",
       "   eiu_business_environment_rankings_(score,_1-10,_10_=_high)  \\\n",
       "0                                                4.4            \n",
       "1                                                5.2            \n",
       "2                                                8.3            \n",
       "3                                                7.9            \n",
       "4                                                5.1            \n",
       "\n",
       "   Availability_Info_Local_Language:Govt_Promote_5g  \n",
       "0                                               0.0  \n",
       "1                                               0.0  \n",
       "2                                               9.0  \n",
       "3                                               9.0  \n",
       "4                                               0.0  "
      ]
     },
     "execution_count": 157,
     "metadata": {},
     "output_type": "execute_result"
    }
   ],
   "source": [
    "internet_data_final[coefficients_final].head()"
   ]
  },
  {
   "cell_type": "markdown",
   "metadata": {},
   "source": [
    "## Interpretations and Conclusions for Analysis 2\n",
    "As shown in the summary above, the 9 factors which have a strong correlation with web accessability are:\n",
    "\n",
    "- Bandwidth capacity (coefficient = -3.32e-7)\n",
    "- Cell phone cost (coefficient = -0.059)\n",
    "- Availability of information in the local language (coefficient = -0.415)\n",
    "- Value of e-finance (coefficient = -0.123)\n",
    "- Support for digital literacy (coefficient = 0.238)\n",
    "- Technology-neutrality policy for spectrum use (coefficient = 0.592)\n",
    "- Government efforts to promote 5g (coefficient = -4.26)\n",
    "- EIU Business Ranking (coefficient = 0.305)\n",
    "- AvailableInfoLocalLang:GovtPromote5g (coefficent = 1.49)\n",
    "\n",
    "Bandwidth capacity, which is the capacity of a wired or wireless network communications link to transmit the max amount of data from one computer to another, has a negative correlation with web accessibility. However, this coefficient was extremely small. Although we expected the bandwidth to positively correlate with web accessibility (due to how bandwidth typically affects the web based off of its definition), the negative correlation could be due to higher bandwidth costing more thus decreasing web accessibility. \n",
    "\n",
    "The cost of cell phones relative to overall income for individuals is a major factor in determining web accessibility. When people do not have access to fixed-line internet the only other option could be mobile devices, and when they are not affordable it makes sense that web accessibility drops. The coefficient for this variable was negative and was relatively small, which makes sense as when devices are more expensive less people are able to afford them and web accessibility would be reduced because of it. \n",
    "\n",
    "Availability of information in the local language had a negative correlation with web accessibility. This could be due to smaller countries relying on libraries or local sources rather than the internet. According to Data for Good, the “likelihood of internet adoption decreases if a group doesn’t find value in being connected” which shows that different countries may not always rely on the internet as their main source of information. \n",
    "The value of e finance had a negative correlation with web accessibility. We were surprised to see that valuing e finance highly would cause a decrease in web accessibility. Our intuition was that a country’s value in e finance would correlate to an overall increase in accessing the web since e finance lives on the web. However, the model output a negative correlation suggesting our intuition was wrong. \n",
    "\n",
    "Support for digital literacy, which measures the readiness of how a community is to be connected to the web, has a positive correlation to web accessibility. This variable makes sense as there when communities are more digitally literate they are more likely to want to and try to adopt web technologies, and internet accessibility will also be greater in these areas. \n",
    "\n",
    "The feature “Technology-neutrality policy for spectrum use” positively correlated with web accessibility with a coefficient of 0.592. According to the GSMA article, permitting technology neutral spectrum licenses in a country greatly increases better internet coverage and faster broadband speeds. Thus implementing the neutrality policy would indeed increase web accessibility.\n",
    "\n",
    "Government efforts to promote 5G has a negative correlation with web accessibility. In this correlation, both of the variables were qualitative which could have skewed the results due to opinion. However, one explanation for the negative correlation could be that countries with an already high level of web accessibility do not need to promote 5G whereas countries that have a low level of accessibility, promote 5G much more. \n",
    "\n",
    "The EIU business ranking indicates which country is best to do business in according to the Economist. It has a positive correlation with web accessibility. This is most likely due to businesses relying on the web to conduct business so it would make sense that countries with higher web accessibility are ranked higher for business. \n",
    "The interaction between available information in the local language and government promotions of 5G has a positive correlation with web accessibility. This is interesting because the two variables had a negative correlation with web accessibility when they were independent. This could be due to the fact that countries that are trying to promote 5G are more likely to make basic information available in the local language. Promoting 5G along with promoting sources in the local level would help promote web accessibility. \n",
    "\n",
    "The correlation enables us to estimate the web accessibility of a country if given values for these other factors. To do this, we would use the following regression equation, based on the coefficients of our final model:\n",
    "\n",
    "$WebAccessability = -3.32e^-7(BandwidthCapacity) - 0.059(MobilePhoneCost) - 0.415(AvailableInfoLocalLang) - 0.123(ValueEfinance) + 0.238(SupportDigitalLit) + 0.592(TechNeutralityPolicySpectrumUse) - 4.26(GovtPromote5g) + 0.305(EIUbusinessEnvironmentRankings) + 1.49(AvailableInfoLocalLang:GovtPromote5g)$ \n",
    "\n",
    "We could also use this equation to see how a country's internet accessability would change given a change in one of these factors. This would be very applicable to developing countries that are trying to work on improving web accessibility, because they could plug in new values for factors that they could realistically change and see the improvement in web accessibility. The r-squared value for this model is 0.83, which indicates a somewhat strong correlation between these factors and web accessability. The five factors explain 83% of the changes in web accessibility, leaving only 17% of change unexplained.\n",
    "\n",
    "#### Work Cited\n",
    "\n",
    "- “Effective Spectrum Management Needs Technology Neutral Licences.” Spectrum, 21 Oct. 2019, www.gsma.com/spectrum/resources/technology-neutral-spectrum/. \n",
    "- “The Inclusive Internet Index.” Facebook Data for Good, dataforgood.fb.com/tools/inclusive-internet-index/. \n",
    "- “Business Climate EIU.” iberglobal, 2014, https://www.iberglobal.com/files/business_climate_eiu.pdf\n",
    "\n",
    "<hr>"
   ]
  },
  {
   "cell_type": "markdown",
   "metadata": {},
   "source": [
    "# Data Limitations\n",
    "\n",
    "We found that we had several limitations within our datasets. Although the internet data set had a lot of columns with different variables, there were only 80 countries which ended up limiting our analysis. \n",
    "\n",
    "One limitation is that the data is based around the experiences in each country, but the experiences in both internet and food expenditure can be different within each region of countries. This is especially true for larger countries and countries with vast differences in wealth across regions. \n",
    "\n",
    "Furthermore, the data set is small since each row corresponds to a specific country and when dropping NaN values results in 85 rows.\n",
    "\n",
    "Another limitation is that this is a correlation and not a causal relationship because this data was retrieved from observational studies, which consist of surveys, rather than a controlled experiment.\n",
    "\n",
    "In addition, we are only looking at data from 2016. Although it does not necessarily limit our analysis, it is important to note that the data is 4 years old. It may not reflect 2020 scenarios.\n",
    "\n",
    "Another limitation we had was in analysis one where we needed to take the log of both variables in part 3 in order to linearize the data. However, this was beyond the scope of our knowledge so we had to run this regression without fully linearizing the data.\n",
    "\n",
    "Furthermore, in analysis 1, we only looked into 4 variables (the 2 with the highest positive correlation and the two with the highest negative correlation) so it is very possible that there are other variables that have a stronger relationship with food expenditure. The datasets were quite extensive (the internet data in particular) so we ended up just picking what we deemed most relevant/interesting. This decision was necessary; however, it could have skewed our results due to not incorporating every single variable. \n",
    "\n",
    "Finally, for analysis two it is important to note that the full column name for web accessibility was level_of_web_accessibility_(qualitative_rating_0-4,_4=best)' which shows us that the rating for this column was qualitative and not quantitative. This indicates that some of our columns may have been skewed due how the information was acquired/surveyed. We also believe that this explains why we were surprised with some of our finding in analysis 2. \n",
    "\n",
    "<hr>"
   ]
  },
  {
   "cell_type": "markdown",
   "metadata": {},
   "source": [
    "# Acknowledgements\n",
    "\n",
    "First, we would like to thank David Mimno and the rest of the course staff for supporting us throughout the process of this entire project. We would also like to thank all of the students who peer reviewed our project and gave us so much valuable feedback. Next, we would like to thank some of the packages which helped us on our project are pandas, numpy, matplotlib.pyplot, seaborn, spicy, and statsmodel.api. Our project would not have been possible without these packages. Lastly, we would like to thank stack overflow and other similar websites for being a valuable resource throughout the process. \n"
   ]
  }
 ],
 "metadata": {
  "kernelspec": {
   "display_name": "Python 3",
   "language": "python",
   "name": "python3"
  },
  "language_info": {
   "codemirror_mode": {
    "name": "ipython",
    "version": 3
   },
   "file_extension": ".py",
   "mimetype": "text/x-python",
   "name": "python",
   "nbconvert_exporter": "python",
   "pygments_lexer": "ipython3",
   "version": "3.7.6"
  }
 },
 "nbformat": 4,
 "nbformat_minor": 2
}
