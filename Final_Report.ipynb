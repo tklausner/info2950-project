{
 "cells": [
  {
   "cell_type": "markdown",
   "metadata": {},
   "source": [
    "# INFO 2950 Project - Final Report \n",
    "Net IDs: tjk223, bsp73, amm643, swp42\n",
    "\n",
    "Names: Teddy Klausner, Ben Polson, Sasha Miranda, Spencer Pettee\n",
    "### Details\n",
    "This file is the final report section of our final project. There are multiple sections in the notebook and they will be organized in the following format: **Introduction, Data Description, Preregistration Statement, Data Analysis, Evaluation of Signifigance, Interpretation and Conclusion, Limitations, Souce Code, and Acknowledgements.** In addition to this file we also have two appendicies. The first appendix shows our cleaning and merging of the data files. The second appedix shows other work that is not shown in this file. \n",
    "\n",
    "#### Github Repo: https://github.com/tklausner/info2950-project"
   ]
  },
  {
   "cell_type": "markdown",
   "metadata": {},
   "source": [
    "## Introduction\n",
    "What is the context of the work? What research question are you trying to answer? What are your main findings? Include a brief summary of your results.\n",
    "\n",
    "In this project we wanted to work with multiple data sets, so we decided explore food expenditure and internet data. The first step was to clean both data files. After both files were clean and ready to work with we merged them based on country. Another goal was discovering how factors impact internet quality by country. To do this we built a multiple regression model which told us that some of the most important factors on internet quality are. \n",
    "\n",
    "In analysis one, we analyze the relationship between food expenditure and each of the columns in the internet dataset that we kept after cleaning. We hypothesize that some of these columns may have a relationship with food expenditure, and we would like to find out which ones do. We will conclude by using p-values and confidence intervals to examine whether these relationships are statistically significant.\n",
    "\n",
    "We used the clean data and found the correlation of all of the variables. We then visualized the correlations using a heatmap \n",
    "\n",
    "note: we aren't doing GDP and food expenditure in analysis 1 \n",
    "also address the fu confidence interval \n",
    "[I can finish this later]-sasha "
   ]
  },
  {
   "cell_type": "markdown",
   "metadata": {},
   "source": [
    "## Data Description\n",
    "\n",
    "**What are the observations (rows) and the attributes (columns)?**\n",
    "\n",
    "We are using data about internet usage internationally and a separate dataset containing GDP and food expenditure internationally. We combined the two datasets into one where rows are countries and columns of interest from the internet dataset are gender gap in internet access, urban electricity access, rural electricity access, smartphone cost, level of web accessibility, trust in online privacy, total electricity access, internet users. The columns of interest from the other dataset are GDP, and food expenditure.\n",
    "\n",
    "**Why was this dataset created?**\n",
    "\n",
    "The internet data set was created to measure four categories of “The Inclusive Internet Index,” which tracks internet services in countries across the world. The four categories are affordability, availability, relevance and readiness. The index is meant for advocacy organizations, local governments and journalists. \n",
    "\n",
    "This dataset was created by Our World in Data, which wanted to look at the relationship between GDP per person and food expenditure per person. The data was originally sourced from the World Bank, whose goal is to help countries solve issues. They record many general statistics for nearly every country.\n",
    "\n",
    "**Who funded the creation of the dataset?**\n",
    "\n",
    "The internet service dataset was funded by Facebook. The data seems to be funded to support Facebook's internet.org whose mission is to bring internet access to those who do not have it. \n",
    "\n",
    "The World Bank funded the creation of the second dataset, and they receive funding from returns on their investments, country membership fees, and donations made by members\n",
    "\n",
    "**What processes might have influenced what data was observed and recorded and what was not?**\n",
    "\n",
    "The idea of finding how connected people are is more than just taking a survey of <5,000 people. This information may not be representative of the true experience people have in their country. Lastly there is the issue of having a device that connects to the internet. People may be able to afford internet access, but cannot afford the initial price of buying a device. Although the survey apparently covers 91% of the population, can we be sure of that number? \n",
    "\n",
    "For the GDP and food expenditure per person, they are calculated by dividing total GDP and food expenditure by population. The World Bank sources this data from other organizations that are more specific to countries or groups of countries, such as the U.S. Census Bureau. What data was recorded and what wasn’t is determined by how well these organizations sampled and surveyed the population, and also how well the population responded to these surveys.\n",
    "\n",
    "**What preprocessing was done, and how did the data come to be in the form that you are using?**\n",
    "\n",
    "The data appears to be compiled into a single file with many different columns that measure a variety of metrics about internet service. If the data was from surveys was then compiled into countries. The data also combines some of information into categories like regions (such as North America and others). \n",
    "\n",
    "Similarly to the internet data, the food/GDP data was taken from survey within each country. This data was taken from these countries by the World Bank and they compiled all of it into one table.\n",
    "\n",
    "**If people are involved, were they aware of the data collection and if so, what purpose did they expect the data to be used for?**\n",
    "\n",
    "Yes the data was collected through a survey which asked 4,953 participants from 99 countries across Asia-Pacific, the Americas, Europe, the Middle East, North Africa and Sub-Saharan Africa. Considering they took a survey they likely knew the data was being collected. The source is unclear about what the participants thought the data was for. \n",
    "\n",
    "People were certainly aware of this data collection, and the purpose that the participants expected the data to be used for was not specified online. We would guess that they expect it to be used for general government purposes.\n",
    "\n",
    "**Where can your raw source data be found, if applicable? Provide a link to the raw data.** \n",
    "\n",
    "https://drive.google.com/file/d/1R-GW2DyhUh5zsnOQBfxtm36_PCGUV3Kn/view?usp=sharing\n",
    "\n",
    "https://drive.google.com/file/d/11-kbLU49T1SuG5k_y8ENJqKn6eAqwlUo/view?usp=sharing"
   ]
  },
  {
   "cell_type": "markdown",
   "metadata": {},
   "source": [
    "## Preregistration Statement\n",
    "#### Our Two Analyses\n",
    "1) We will analyze the relationship between food expenditure and each of the columns in the internet dataset that we kept after cleaning. We hypothesize that some of these columns may have a relationship with food expenditure, and we would like to find out which ones do. We will conclude by using p-values and confidence intervals to examine whether these relationships are statistically significant.\n",
    "\n",
    "2) We would like to build a model for internet accessibility given all of the other columns in the dataset that we kept after cleaning. We will build a multiple regression model where we will find out which predictors are statistically significant. From the final model, we will not only know what factors impact internet accessibility within countries, but we will also be able to predict the internet accessibility of a country that isn’t listed in the dataset using this model."
   ]
  },
  {
   "cell_type": "markdown",
   "metadata": {},
   "source": [
    "## Data Analysis"
   ]
  },
  {
   "cell_type": "code",
   "execution_count": 1,
   "metadata": {},
   "outputs": [],
   "source": [
    "## load libraries\n",
    "import pandas as pd\n",
    "import numpy as np\n",
    "import matplotlib.pyplot as plt\n",
    "import seaborn as sns\n",
    "from scipy import stats\n",
    "import statsmodels.api as sm\n",
    "\n",
    "## load data\n",
    "if_data = pd.read_csv(\"clean_data.csv\", encoding='latin-1') #merged if_data "
   ]
  },
  {
   "cell_type": "code",
   "execution_count": 2,
   "metadata": {},
   "outputs": [
    {
     "data": {
      "image/png": "[encoded data removed]",
      "text/plain": [
       "<Figure size 432x288 with 1 Axes>"
      ]
     },
     "metadata": {
      "needs_background": "light"
     },
     "output_type": "display_data"
    }
   ],
   "source": [
    "plt.scatter(if_data['GDP'],if_data['food_expenditure'], alpha=0.5)\n",
    "plt.xlabel('GDP')\n",
    "plt.ylabel('Food Expenditure')\n",
    "plt.show()"
   ]
  },
  {
   "cell_type": "markdown",
   "metadata": {},
   "source": [
    "As we can see the data points between GDP and food expenditure are correlated. From this scatter plot the association appears to be linear with many points in the range of GDP <20,000 and food expenditure <2,000. "
   ]
  },
  {
   "cell_type": "code",
   "execution_count": 3,
   "metadata": {},
   "outputs": [
    {
     "data": {
      "image/png": "[encoded data removed]",
      "text/plain": [
       "<Figure size 432x288 with 1 Axes>"
      ]
     },
     "metadata": {
      "needs_background": "light"
     },
     "output_type": "display_data"
    }
   ],
   "source": [
    "plt.scatter(if_data['phone_cost'],if_data['food_expenditure'], alpha=0.5)\n",
    "plt.xlabel('Phone Cost')\n",
    "plt.ylabel('Food Expenditure')\n",
    "plt.show()"
   ]
  },
  {
   "cell_type": "markdown",
   "metadata": {},
   "source": [
    "This graph shows the food expenditure as a function of food cost. Again the data appears to have a positive linear correlation with food expenditure increasing as phone cost increases."
   ]
  },
  {
   "cell_type": "code",
   "execution_count": 4,
   "metadata": {},
   "outputs": [
    {
     "data": {
      "image/png": "[encoded data removed]",
      "text/plain": [
       "<Figure size 432x288 with 1 Axes>"
      ]
     },
     "metadata": {
      "needs_background": "light"
     },
     "output_type": "display_data"
    }
   ],
   "source": [
    "plt.scatter(if_data['internet_users'],if_data['rural_elec_access'], alpha=0.5)\n",
    "plt.xlabel('Internet Users')\n",
    "plt.ylabel('Rural Electricity Access')\n",
    "plt.show()"
   ]
  },
  {
   "cell_type": "markdown",
   "metadata": {},
   "source": [
    "This graph shows the relationship between Internet Users and Rural Electricity Access. The plot has many of the points clustered in the top right. To gain a better idea of the relationship we can perform a log transformation to attempt to linearize the data.  "
   ]
  },
  {
   "cell_type": "code",
   "execution_count": 5,
   "metadata": {},
   "outputs": [
    {
     "data": {
      "image/png": "[encoded data removed]",
      "text/plain": [
       "<Figure size 432x288 with 1 Axes>"
      ]
     },
     "metadata": {
      "needs_background": "light"
     },
     "output_type": "display_data"
    }
   ],
   "source": [
    "plt.scatter(if_data['internet_users'],if_data['urban_elec_access'], alpha=0.5)\n",
    "plt.xlabel('Internet Users')\n",
    "plt.ylabel('Urban Electricity Access')\n",
    "plt.show()"
   ]
  },
  {
   "cell_type": "markdown",
   "metadata": {},
   "source": [
    "This final plot is similar to the last in how the data has many points in the top right. We can also perform a log transformation on this plot to try and linearize the data."
   ]
  },
  {
   "cell_type": "markdown",
   "metadata": {},
   "source": [
    "## Data Limitations\n",
    "\n",
    "The data is fairly robust and does not have too many limitations. One limitation is that the data is based around the experiences in each country, but the experiences in both internet and food expenditure can be different within each region of countries. This is especially true for larger countries and countries with vast differences in wealth across  regions. \n",
    "\n",
    "In addition, we are only looking at data from 2016. Although it does not necessarily limit our analysis, it is important to note that the data is 4 years old. It may not reflect 2020 scenarios. \n"
   ]
  },
  {
   "cell_type": "markdown",
   "metadata": {},
   "source": [
    "# Analysis 1"
   ]
  },
  {
   "cell_type": "code",
   "execution_count": null,
   "metadata": {},
   "outputs": [],
   "source": []
  },
  {
   "cell_type": "code",
   "execution_count": 6,
   "metadata": {},
   "outputs": [
    {
     "name": "stdout",
     "output_type": "stream",
     "text": [
      "Correlation Coefficients of Food Expenditure and Internet Data\n",
      "Unnamed: 0          -0.085651\n",
      "gender_gap          -0.358075\n",
      "urban_elec_access    0.229720\n",
      "rural_elec_access    0.330072\n",
      "phone_cost           0.661712\n",
      "web_access           0.419633\n",
      "privacy_trust       -0.212550\n",
      "electric_access      0.335970\n",
      "gender_gap_pt       -0.238277\n",
      "internet_users       0.663592\n",
      "total_population    -0.285394\n",
      "GDP                  0.740374\n",
      "food_expenditure     1.000000\n",
      "Name: food_expenditure, dtype: float64\n"
     ]
    }
   ],
   "source": [
    "corr=if_data.corr()\n",
    "corr_table=corr.loc['food_expenditure',:]\n",
    "print('Correlation Coefficients of Food Expenditure and Internet Data')\n",
    "print(corr_table)"
   ]
  },
  {
   "cell_type": "code",
   "execution_count": 7,
   "metadata": {},
   "outputs": [
    {
     "data": {
      "text/plain": [
       "<AxesSubplot:>"
      ]
     },
     "execution_count": 7,
     "metadata": {},
     "output_type": "execute_result"
    },
    {
     "data": {
      "image/png": "[encoded data removed]",
      "text/plain": [
       "<Figure size 432x288 with 2 Axes>"
      ]
     },
     "metadata": {
      "needs_background": "light"
     },
     "output_type": "display_data"
    }
   ],
   "source": [
    "sns.heatmap(if_data.corr())"
   ]
  },
  {
   "cell_type": "markdown",
   "metadata": {},
   "source": [
    "Based on the correlations listed above and the heatmap(which visualizes the correlations), we can conclude that the gender gap and privacy trust have the strongest negative correlation while phone cost and internet users have the strongest positive correlation with food expenditure. Below, we define two functions. The function plotreg makes a scatter plot of data. Plotreg_resid makes a scatter plot of predicted values for data vs standardized residuals. We used these two functions to help visualize the data and to make sure we can run linear regression on the data. "
   ]
  },
  {
   "cell_type": "code",
   "execution_count": 8,
   "metadata": {},
   "outputs": [],
   "source": [
    "def plotreg(data, x_label, y_label):\n",
    "    \"\"\"\n",
    "    Makes a scatter plot of data['x_label'] vs data['y_label']\n",
    "    \"\"\"\n",
    "    plt.scatter(data[x_label], data[y_label], alpha=.6)\n",
    "    plt.title(x_label + ' vs ' + y_label)\n",
    "    plt.xlabel(x_label)\n",
    "    plt.ylabel(y_label)\n",
    "    plt.show()"
   ]
  },
  {
   "cell_type": "code",
   "execution_count": 9,
   "metadata": {},
   "outputs": [],
   "source": [
    "def plotreg_resid(data, x_label, y_label):\n",
    "    \"\"\"\n",
    "    Makes a scatter plot of predicted values for data['y_label'] vs standardized residuals\n",
    "    (the number of standard deviations the actual values are away from their predicted value)\n",
    "    \"\"\"\n",
    "    X=data[x_label]\n",
    "    Y=data[y_label]\n",
    "    X=sm.add_constant(X)\n",
    "    model = sm.OLS(Y,X).fit()\n",
    "    \n",
    "    student_residuals = pd.Series(model.get_influence().resid_studentized_internal)\n",
    "    fitted = model.fittedvalues\n",
    "    plt.scatter(fitted, student_residuals, alpha=.6)\n",
    "    plt.title('Fitted values vs Standardized Residuals')\n",
    "    plt.xlabel('Fits')\n",
    "    plt.ylabel('Std Resids')\n",
    "    plt.hlines(y=0, colors='red', xmin=min(fitted), xmax=max(fitted))\n",
    "    plt.show()\n",
    "    return student_residuals"
   ]
  },
  {
   "cell_type": "markdown",
   "metadata": {},
   "source": [
    "## Analysis 1, Part 1: Regression Analysis for Food Expenditure and Phone Cost "
   ]
  },
  {
   "cell_type": "code",
   "execution_count": 10,
   "metadata": {},
   "outputs": [
    {
     "data": {
      "image/png": "[encoded data removed]",
      "text/plain": [
       "<Figure size 432x288 with 1 Axes>"
      ]
     },
     "metadata": {
      "needs_background": "light"
     },
     "output_type": "display_data"
    }
   ],
   "source": [
    "plotreg(if_data, 'food_expenditure', 'phone_cost')"
   ]
  },
  {
   "cell_type": "code",
   "execution_count": 11,
   "metadata": {},
   "outputs": [
    {
     "data": {
      "image/png": "[encoded data removed]",
      "text/plain": [
       "<Figure size 432x288 with 1 Axes>"
      ]
     },
     "metadata": {
      "needs_background": "light"
     },
     "output_type": "display_data"
    }
   ],
   "source": [
    "student_residuals = plotreg_resid(if_data, 'food_expenditure', 'phone_cost')"
   ]
  },
  {
   "cell_type": "markdown",
   "metadata": {},
   "source": [
    "Since one of the points is more than 3 standard deviations from its predicted value, we will consider it an outlier. This country probably has an unusual situation where phone cost is way higher than expected due to tariffs or other specific factors. We will also remove the point in the bottom right corner because it is well outside of the range of the rest of the data in addition to being more than 2 standard deviations below its expected value."
   ]
  },
  {
   "cell_type": "code",
   "execution_count": 12,
   "metadata": {},
   "outputs": [
    {
     "data": {
      "text/html": [
       "<div>\n",
       "<style scoped>\n",
       "    .dataframe tbody tr th:only-of-type {\n",
       "        vertical-align: middle;\n",
       "    }\n",
       "\n",
       "    .dataframe tbody tr th {\n",
       "        vertical-align: top;\n",
       "    }\n",
       "\n",
       "    .dataframe thead th {\n",
       "        text-align: right;\n",
       "    }\n",
       "</style>\n",
       "<table border=\"1\" class=\"dataframe\">\n",
       "  <thead>\n",
       "    <tr style=\"text-align: right;\">\n",
       "      <th></th>\n",
       "      <th>food_expenditure</th>\n",
       "      <th>phone_cost</th>\n",
       "    </tr>\n",
       "  </thead>\n",
       "  <tbody>\n",
       "    <tr>\n",
       "      <th>0</th>\n",
       "      <td>639.0</td>\n",
       "      <td>32.0</td>\n",
       "    </tr>\n",
       "    <tr>\n",
       "      <th>1</th>\n",
       "      <td>2306.0</td>\n",
       "      <td>43.9</td>\n",
       "    </tr>\n",
       "    <tr>\n",
       "      <th>2</th>\n",
       "      <td>2927.0</td>\n",
       "      <td>93.6</td>\n",
       "    </tr>\n",
       "    <tr>\n",
       "      <th>3</th>\n",
       "      <td>2273.0</td>\n",
       "      <td>68.8</td>\n",
       "    </tr>\n",
       "    <tr>\n",
       "      <th>4</th>\n",
       "      <td>896.0</td>\n",
       "      <td>22.7</td>\n",
       "    </tr>\n",
       "  </tbody>\n",
       "</table>\n",
       "</div>"
      ],
      "text/plain": [
       "   food_expenditure  phone_cost\n",
       "0             639.0        32.0\n",
       "1            2306.0        43.9\n",
       "2            2927.0        93.6\n",
       "3            2273.0        68.8\n",
       "4             896.0        22.7"
      ]
     },
     "execution_count": 12,
     "metadata": {},
     "output_type": "execute_result"
    }
   ],
   "source": [
    "#subset data to just phone cost and food expenditure\n",
    "phone_data = if_data[['food_expenditure','phone_cost']]\n",
    "\n",
    "#remove point more than 3 SD from predicted value\n",
    "phone_data = phone_data[abs(student_residuals) <= 3]\n",
    "#remove point outside of range\n",
    "phone_data = phone_data[phone_data['food_expenditure'] < 4000]\n",
    "\n",
    "phone_data.head()"
   ]
  },
  {
   "cell_type": "code",
   "execution_count": 13,
   "metadata": {},
   "outputs": [
    {
     "data": {
      "image/png": "[encoded data removed]",
      "text/plain": [
       "<Figure size 432x288 with 1 Axes>"
      ]
     },
     "metadata": {
      "needs_background": "light"
     },
     "output_type": "display_data"
    }
   ],
   "source": [
    "new_resid_plot =plotreg_resid(phone_data, 'food_expenditure', 'phone_cost')"
   ]
  },
  {
   "cell_type": "code",
   "execution_count": 14,
   "metadata": {},
   "outputs": [
    {
     "data": {
      "text/plain": [
       "<AxesSubplot:xlabel='food_expenditure', ylabel='phone_cost'>"
      ]
     },
     "execution_count": 14,
     "metadata": {},
     "output_type": "execute_result"
    },
    {
     "data": {
      "image/png": "[encoded data removed]",
      "text/plain": [
       "<Figure size 432x288 with 1 Axes>"
      ]
     },
     "metadata": {
      "needs_background": "light"
     },
     "output_type": "display_data"
    }
   ],
   "source": [
    "sns.regplot(x='food_expenditure', y='phone_cost', data=phone_data)"
   ]
  },
  {
   "cell_type": "markdown",
   "metadata": {},
   "source": [
    "As you can see, the new plots look much more evenly spread."
   ]
  },
  {
   "cell_type": "code",
   "execution_count": 15,
   "metadata": {},
   "outputs": [
    {
     "name": "stdout",
     "output_type": "stream",
     "text": [
      "the slope of food expenditure and phone cost is: 0.0168\n",
      "the intercept of food expenditure and phone cost is: 27.6338\n",
      "the r-squared of food expenditure and phone cost is: 0.5376\n",
      "the p-value of food expenditure and phone cost is: 0.0000\n"
     ]
    }
   ],
   "source": [
    "food_phone=stats.linregress(phone_data['food_expenditure'], phone_data['phone_cost'])\n",
    "slope_fp=food_phone[0]\n",
    "intercept_fp=food_phone[1]\n",
    "rsquared_fp=(food_phone[2]**2)\n",
    "pvalue_fp=food_phone[3]\n",
    "std_error_fp=food_phone[4]\n",
    "print(\"the slope of food expenditure and phone cost is: {:.4f}\".format(slope_fp))\n",
    "print(\"the intercept of food expenditure and phone cost is: {:.4f}\".format(intercept_fp))\n",
    "print(\"the r-squared of food expenditure and phone cost is: {:.4f}\".format(rsquared_fp))\n",
    "print(\"the p-value of food expenditure and phone cost is: {:.4f}\".format(pvalue_fp))"
   ]
  },
  {
   "cell_type": "code",
   "execution_count": 16,
   "metadata": {},
   "outputs": [
    {
     "name": "stdout",
     "output_type": "stream",
     "text": [
      "(0.012807202606773933, 0.020837701082847576)\n"
     ]
    }
   ],
   "source": [
    "#confidence interval calculated here \n",
    "conf_int_fp=(slope_fp - std_error_fp * 1.96, slope_fp + std_error_fp * 1.96 )\n",
    "print(conf_int_fp)"
   ]
  },
  {
   "cell_type": "markdown",
   "metadata": {},
   "source": [
    "Since the p-value of the t-test is 0.000, which is less than 0.05, there is clearly a relationship between food expenditure and phone cost. The regression equation is $phoneCost = 0.0168(foodExpenditure) + 27.6338$. In addition, the r-squared value is 0.5376 which shows that the relationship is relatively weak but it still exists. We calculated the confidence interval for the slope above and found that it was (0.0128,0.0208)."
   ]
  },
  {
   "cell_type": "markdown",
   "metadata": {},
   "source": [
    "## Analysis 1, Part 2: Regression Analysis for Food Expenditure and Internet Users  "
   ]
  },
  {
   "cell_type": "code",
   "execution_count": 17,
   "metadata": {
    "scrolled": false
   },
   "outputs": [
    {
     "data": {
      "image/png": "[encoded data removed]",
      "text/plain": [
       "<Figure size 432x288 with 1 Axes>"
      ]
     },
     "metadata": {
      "needs_background": "light"
     },
     "output_type": "display_data"
    }
   ],
   "source": [
    "plotreg(if_data, 'food_expenditure', 'internet_users')"
   ]
  },
  {
   "cell_type": "code",
   "execution_count": 18,
   "metadata": {},
   "outputs": [
    {
     "data": {
      "image/png": "[encoded data removed]",
      "text/plain": [
       "<Figure size 432x288 with 1 Axes>"
      ]
     },
     "metadata": {
      "needs_background": "light"
     },
     "output_type": "display_data"
    }
   ],
   "source": [
    "student_residuals = plotreg_resid(if_data, 'food_expenditure', 'internet_users')"
   ]
  },
  {
   "cell_type": "code",
   "execution_count": 19,
   "metadata": {},
   "outputs": [
    {
     "data": {
      "text/html": [
       "<div>\n",
       "<style scoped>\n",
       "    .dataframe tbody tr th:only-of-type {\n",
       "        vertical-align: middle;\n",
       "    }\n",
       "\n",
       "    .dataframe tbody tr th {\n",
       "        vertical-align: top;\n",
       "    }\n",
       "\n",
       "    .dataframe thead th {\n",
       "        text-align: right;\n",
       "    }\n",
       "</style>\n",
       "<table border=\"1\" class=\"dataframe\">\n",
       "  <thead>\n",
       "    <tr style=\"text-align: right;\">\n",
       "      <th></th>\n",
       "      <th>food_expenditure</th>\n",
       "      <th>internet_users</th>\n",
       "    </tr>\n",
       "  </thead>\n",
       "  <tbody>\n",
       "    <tr>\n",
       "      <th>0</th>\n",
       "      <td>639.0</td>\n",
       "      <td>59.6</td>\n",
       "    </tr>\n",
       "    <tr>\n",
       "      <th>1</th>\n",
       "      <td>2306.0</td>\n",
       "      <td>74.3</td>\n",
       "    </tr>\n",
       "    <tr>\n",
       "      <th>2</th>\n",
       "      <td>2927.0</td>\n",
       "      <td>86.5</td>\n",
       "    </tr>\n",
       "    <tr>\n",
       "      <th>3</th>\n",
       "      <td>2273.0</td>\n",
       "      <td>87.7</td>\n",
       "    </tr>\n",
       "    <tr>\n",
       "      <th>4</th>\n",
       "      <td>896.0</td>\n",
       "      <td>79.8</td>\n",
       "    </tr>\n",
       "  </tbody>\n",
       "</table>\n",
       "</div>"
      ],
      "text/plain": [
       "   food_expenditure  internet_users\n",
       "0             639.0            59.6\n",
       "1            2306.0            74.3\n",
       "2            2927.0            86.5\n",
       "3            2273.0            87.7\n",
       "4             896.0            79.8"
      ]
     },
     "execution_count": 19,
     "metadata": {},
     "output_type": "execute_result"
    }
   ],
   "source": [
    "#subset data to just internent_users and food_expenditure \n",
    "user_data = if_data[['food_expenditure','internet_users']]\n",
    "\n",
    "#remove point outside of range\n",
    "user_data = user_data[user_data['food_expenditure'] < 4000]\n",
    "\n",
    "user_data.head()"
   ]
  },
  {
   "cell_type": "code",
   "execution_count": 20,
   "metadata": {},
   "outputs": [
    {
     "data": {
      "image/png": "[encoded data removed]",
      "text/plain": [
       "<Figure size 432x288 with 1 Axes>"
      ]
     },
     "metadata": {
      "needs_background": "light"
     },
     "output_type": "display_data"
    }
   ],
   "source": [
    "new_resid_plot =plotreg_resid(user_data, 'food_expenditure', 'internet_users')"
   ]
  },
  {
   "cell_type": "markdown",
   "metadata": {},
   "source": [
    "Since the points are not evenly spread around the line in the graph above, we have to linearize the data. We will achieve this through taking the log of each variable "
   ]
  },
  {
   "cell_type": "code",
   "execution_count": 21,
   "metadata": {},
   "outputs": [],
   "source": [
    "user_data['log_foodexpend']=np.log(user_data['food_expenditure'])\n",
    "user_data['log_internet_users']=np.log(user_data['internet_users'])"
   ]
  },
  {
   "cell_type": "code",
   "execution_count": 22,
   "metadata": {},
   "outputs": [
    {
     "data": {
      "image/png": "[encoded data removed]",
      "text/plain": [
       "<Figure size 432x288 with 1 Axes>"
      ]
     },
     "metadata": {
      "needs_background": "light"
     },
     "output_type": "display_data"
    }
   ],
   "source": [
    "plotreg(user_data, 'log_foodexpend', 'log_internet_users')"
   ]
  },
  {
   "cell_type": "code",
   "execution_count": 23,
   "metadata": {},
   "outputs": [
    {
     "data": {
      "image/png": "[encoded data removed]",
      "text/plain": [
       "<Figure size 432x288 with 1 Axes>"
      ]
     },
     "metadata": {
      "needs_background": "light"
     },
     "output_type": "display_data"
    }
   ],
   "source": [
    "new_resid_plot =plotreg_resid(user_data, 'log_foodexpend', 'internet_users')"
   ]
  },
  {
   "cell_type": "markdown",
   "metadata": {},
   "source": [
    "Taking the log of both variables did not result in a better plot, so we just took the log of food expenditure. The data is better distributed now, so we can now do linear regression. "
   ]
  },
  {
   "cell_type": "code",
   "execution_count": 24,
   "metadata": {},
   "outputs": [
    {
     "data": {
      "text/plain": [
       "<AxesSubplot:xlabel='log_foodexpend', ylabel='internet_users'>"
      ]
     },
     "execution_count": 24,
     "metadata": {},
     "output_type": "execute_result"
    },
    {
     "data": {
      "image/png": "[encoded data removed]",
      "text/plain": [
       "<Figure size 432x288 with 1 Axes>"
      ]
     },
     "metadata": {
      "needs_background": "light"
     },
     "output_type": "display_data"
    }
   ],
   "source": [
    "sns.regplot(x='log_foodexpend', y='internet_users', data=user_data)"
   ]
  },
  {
   "cell_type": "code",
   "execution_count": 25,
   "metadata": {},
   "outputs": [
    {
     "name": "stdout",
     "output_type": "stream",
     "text": [
      "the slope of the log of food expenditure and internet users is: 26.0245\n",
      "the intercept of the log of food expenditure and internent users is: -114.2829\n",
      "the r-squared of the log of food expenditure and internet users is: 0.5816\n",
      "the p-value of the log of food expenditure and internet users  is: 0.0000\n"
     ]
    }
   ],
   "source": [
    "food_user=stats.linregress(user_data['log_foodexpend'], user_data['internet_users'])\n",
    "slope_fu=food_user[0]\n",
    "intercept_fu=food_user[1]\n",
    "rsquared_fu=(food_user[2]**2)\n",
    "pvalue_fu=food_user[3]\n",
    "std_error_fu=food_user[4]\n",
    "print(\"the slope of the log of food expenditure and internet users is: {:.4f}\".format(slope_fu))\n",
    "print(\"the intercept of the log of food expenditure and internent users is: {:.4f}\".format(intercept_fu))\n",
    "print(\"the r-squared of the log of food expenditure and internet users is: {:.4f}\".format(rsquared_fu))\n",
    "print(\"the p-value of the log of food expenditure and internet users  is: {:.4f}\".format(pvalue_fu))"
   ]
  },
  {
   "cell_type": "code",
   "execution_count": 26,
   "metadata": {},
   "outputs": [
    {
     "name": "stdout",
     "output_type": "stream",
     "text": [
      "(20.391950720509456, 31.65710715773845)\n"
     ]
    }
   ],
   "source": [
    "#confidence interval calculated here \n",
    "conf_int_fu=(slope_fu - std_error_fu * 1.96, slope_fu + std_error_fu * 1.96 )\n",
    "print(conf_int_fu)"
   ]
  },
  {
   "cell_type": "markdown",
   "metadata": {},
   "source": [
    "Since the p-value of the t-test is 0.000, which is less than 0.05, there is clearly a relationship between food expenditure and internet users. The regression equation is $internet_users = 26.0245(log(FoodExpenditure)) + -114.2829$. In addition, the r-squared value is 0.5816 which shows that the relationship is relatively weak but it still exists. We calculated the confidence interval for the slope above and found that it was () **ADDRESS Confidence interval later **"
   ]
  },
  {
   "cell_type": "markdown",
   "metadata": {},
   "source": [
    "## Analysis 1, Part 3: Regression Analysis for Food Expenditure and Gender Gap"
   ]
  },
  {
   "cell_type": "code",
   "execution_count": 27,
   "metadata": {
    "scrolled": true
   },
   "outputs": [
    {
     "data": {
      "image/png": "[encoded data removed]",
      "text/plain": [
       "<Figure size 432x288 with 1 Axes>"
      ]
     },
     "metadata": {
      "needs_background": "light"
     },
     "output_type": "display_data"
    }
   ],
   "source": [
    "plotreg(if_data, 'food_expenditure', 'gender_gap')"
   ]
  },
  {
   "cell_type": "code",
   "execution_count": 28,
   "metadata": {},
   "outputs": [
    {
     "data": {
      "image/png": "[encoded data removed]",
      "text/plain": [
       "<Figure size 432x288 with 1 Axes>"
      ]
     },
     "metadata": {
      "needs_background": "light"
     },
     "output_type": "display_data"
    }
   ],
   "source": [
    "student_residuals = plotreg_resid(if_data, 'food_expenditure', 'gender_gap')"
   ]
  },
  {
   "cell_type": "code",
   "execution_count": 29,
   "metadata": {},
   "outputs": [
    {
     "data": {
      "text/html": [
       "<div>\n",
       "<style scoped>\n",
       "    .dataframe tbody tr th:only-of-type {\n",
       "        vertical-align: middle;\n",
       "    }\n",
       "\n",
       "    .dataframe tbody tr th {\n",
       "        vertical-align: top;\n",
       "    }\n",
       "\n",
       "    .dataframe thead th {\n",
       "        text-align: right;\n",
       "    }\n",
       "</style>\n",
       "<table border=\"1\" class=\"dataframe\">\n",
       "  <thead>\n",
       "    <tr style=\"text-align: right;\">\n",
       "      <th></th>\n",
       "      <th>food_expenditure</th>\n",
       "      <th>gender_gap</th>\n",
       "    </tr>\n",
       "  </thead>\n",
       "  <tbody>\n",
       "    <tr>\n",
       "      <th>0</th>\n",
       "      <td>639.0</td>\n",
       "      <td>21.7</td>\n",
       "    </tr>\n",
       "    <tr>\n",
       "      <th>1</th>\n",
       "      <td>2306.0</td>\n",
       "      <td>-5.7</td>\n",
       "    </tr>\n",
       "    <tr>\n",
       "      <th>2</th>\n",
       "      <td>2927.0</td>\n",
       "      <td>2.1</td>\n",
       "    </tr>\n",
       "    <tr>\n",
       "      <th>3</th>\n",
       "      <td>2273.0</td>\n",
       "      <td>2.2</td>\n",
       "    </tr>\n",
       "    <tr>\n",
       "      <th>4</th>\n",
       "      <td>896.0</td>\n",
       "      <td>15.0</td>\n",
       "    </tr>\n",
       "  </tbody>\n",
       "</table>\n",
       "</div>"
      ],
      "text/plain": [
       "   food_expenditure  gender_gap\n",
       "0             639.0        21.7\n",
       "1            2306.0        -5.7\n",
       "2            2927.0         2.1\n",
       "3            2273.0         2.2\n",
       "4             896.0        15.0"
      ]
     },
     "execution_count": 29,
     "metadata": {},
     "output_type": "execute_result"
    }
   ],
   "source": [
    "#subset data to just gender_gap and food_expenditure \n",
    "gender_data = if_data[['food_expenditure','gender_gap']]\n",
    "\n",
    "#remove point more than 3 SD from predicted value\n",
    "gender_data = gender_data[abs(student_residuals) <= 3]\n",
    "#remove point outside of range\n",
    "gender_data = gender_data[gender_data['food_expenditure'] < 4000]\n",
    "\n",
    "gender_data.head()"
   ]
  },
  {
   "cell_type": "code",
   "execution_count": 30,
   "metadata": {},
   "outputs": [
    {
     "data": {
      "image/png": "[encoded data removed]",
      "text/plain": [
       "<Figure size 432x288 with 1 Axes>"
      ]
     },
     "metadata": {
      "needs_background": "light"
     },
     "output_type": "display_data"
    }
   ],
   "source": [
    "new_resid_plot =plotreg_resid(gender_data, 'food_expenditure', 'gender_gap')"
   ]
  },
  {
   "cell_type": "markdown",
   "metadata": {},
   "source": [
    "The graph above shows that the variance increases as the graph goes up. We took the log of both variables (as shown through the commented out code below); however we experienced issues with taking the log in this situation. We were able to take the log in part two since we only had to manipulate the X variable. In this situation, we would have to manipulate both the X and Y variable which is much more complicated Since it is beyond the scope of this course, we ran the linear regression on unlinearized variables. "
   ]
  },
  {
   "cell_type": "code",
   "execution_count": 31,
   "metadata": {},
   "outputs": [],
   "source": [
    "#gender_data['log_gendergap']=np.log(gender_data['gender_gap'])\n",
    "#gender_data['log_foodexpend']=np.log(gender_data['food_expenditure'])"
   ]
  },
  {
   "cell_type": "code",
   "execution_count": 32,
   "metadata": {},
   "outputs": [],
   "source": [
    "#plotreg(gender_data, 'log_foodexpend', 'log_gendergap')"
   ]
  },
  {
   "cell_type": "code",
   "execution_count": 33,
   "metadata": {},
   "outputs": [],
   "source": [
    "#new_resid_plot =plotreg_resid(gender_data, 'log_foodexpend', 'log_gendergap')"
   ]
  },
  {
   "cell_type": "code",
   "execution_count": 34,
   "metadata": {},
   "outputs": [
    {
     "data": {
      "text/plain": [
       "<AxesSubplot:xlabel='food_expenditure', ylabel='gender_gap'>"
      ]
     },
     "execution_count": 34,
     "metadata": {},
     "output_type": "execute_result"
    },
    {
     "data": {
      "image/png": "[encoded data removed]",
      "text/plain": [
       "<Figure size 432x288 with 1 Axes>"
      ]
     },
     "metadata": {
      "needs_background": "light"
     },
     "output_type": "display_data"
    }
   ],
   "source": [
    "sns.regplot(x='food_expenditure', y='gender_gap', data=gender_data)"
   ]
  },
  {
   "cell_type": "code",
   "execution_count": 35,
   "metadata": {},
   "outputs": [
    {
     "name": "stdout",
     "output_type": "stream",
     "text": [
      "the slope of food expenditure and gender gap is: -0.0037\n",
      "the intercept of food expenditure and gender gap is: 12.4341\n",
      "the r-squared of food expenditure and gender gap is: 0.1036\n",
      "the p-value of food expenditure and gender gap is: 0.0129\n"
     ]
    }
   ],
   "source": [
    "food_gender=stats.linregress(gender_data['food_expenditure'], gender_data['gender_gap'])\n",
    "slope_fg=food_gender[0]\n",
    "intercept_fg=food_gender[1]\n",
    "rsquared_fg=(food_gender[2]**2)\n",
    "pvalue_fg=food_gender[3]\n",
    "std_error_fg=food_gender[4]\n",
    "print(\"the slope of food expenditure and gender gap is: {:.4f}\".format(slope_fg))\n",
    "print(\"the intercept of food expenditure and gender gap is: {:.4f}\".format(intercept_fg))\n",
    "print(\"the r-squared of food expenditure and gender gap is: {:.4f}\".format(rsquared_fg))\n",
    "print(\"the p-value of food expenditure and gender gap is: {:.4f}\".format(pvalue_fg))"
   ]
  },
  {
   "cell_type": "code",
   "execution_count": 36,
   "metadata": {},
   "outputs": [
    {
     "name": "stdout",
     "output_type": "stream",
     "text": [
      "(-0.006524940533022413, -0.0008740738351676763)\n"
     ]
    }
   ],
   "source": [
    "#confidence interval calculated here \n",
    "conf_int_fg=(slope_fg - std_error_fg * 1.96, slope_fg + std_error_fg * 1.96 )\n",
    "print(conf_int_fg)"
   ]
  },
  {
   "cell_type": "markdown",
   "metadata": {},
   "source": [
    "Since the p-value of the t-test is 0.0129, which is less than 0.05, there is a relationship between food expenditure and internet users. The regression equation is $gendergap = -0.0037(FoodExpenditure) + 12.4341$. In addition, the r-squared value is 0.1036 which shows that the relationship is extremely weak. This means that food expenditure is not a good predictor of gender gap. We calculated the confidence interval for the slope above and found that it was (-0.0065, -0.00087) "
   ]
  },
  {
   "cell_type": "markdown",
   "metadata": {},
   "source": [
    "## Analysis 1, Part 4: Regression Analysis for Food Expenditure and Privacy Trust  "
   ]
  },
  {
   "cell_type": "code",
   "execution_count": 37,
   "metadata": {
    "scrolled": false
   },
   "outputs": [
    {
     "data": {
      "image/png": "[encoded data removed]",
      "text/plain": [
       "<Figure size 432x288 with 1 Axes>"
      ]
     },
     "metadata": {
      "needs_background": "light"
     },
     "output_type": "display_data"
    }
   ],
   "source": [
    "plotreg(if_data, 'food_expenditure', 'privacy_trust')"
   ]
  },
  {
   "cell_type": "code",
   "execution_count": 38,
   "metadata": {},
   "outputs": [
    {
     "data": {
      "image/png": "[encoded data removed]",
      "text/plain": [
       "<Figure size 432x288 with 1 Axes>"
      ]
     },
     "metadata": {
      "needs_background": "light"
     },
     "output_type": "display_data"
    }
   ],
   "source": [
    "student_residuals = plotreg_resid(if_data, 'food_expenditure', 'privacy_trust')"
   ]
  },
  {
   "cell_type": "code",
   "execution_count": 39,
   "metadata": {},
   "outputs": [
    {
     "data": {
      "text/html": [
       "<div>\n",
       "<style scoped>\n",
       "    .dataframe tbody tr th:only-of-type {\n",
       "        vertical-align: middle;\n",
       "    }\n",
       "\n",
       "    .dataframe tbody tr th {\n",
       "        vertical-align: top;\n",
       "    }\n",
       "\n",
       "    .dataframe thead th {\n",
       "        text-align: right;\n",
       "    }\n",
       "</style>\n",
       "<table border=\"1\" class=\"dataframe\">\n",
       "  <thead>\n",
       "    <tr style=\"text-align: right;\">\n",
       "      <th></th>\n",
       "      <th>food_expenditure</th>\n",
       "      <th>privacy_trust</th>\n",
       "    </tr>\n",
       "  </thead>\n",
       "  <tbody>\n",
       "    <tr>\n",
       "      <th>0</th>\n",
       "      <td>639.0</td>\n",
       "      <td>46.0</td>\n",
       "    </tr>\n",
       "    <tr>\n",
       "      <th>1</th>\n",
       "      <td>2306.0</td>\n",
       "      <td>60.0</td>\n",
       "    </tr>\n",
       "    <tr>\n",
       "      <th>2</th>\n",
       "      <td>2927.0</td>\n",
       "      <td>52.0</td>\n",
       "    </tr>\n",
       "    <tr>\n",
       "      <th>3</th>\n",
       "      <td>2273.0</td>\n",
       "      <td>58.0</td>\n",
       "    </tr>\n",
       "    <tr>\n",
       "      <th>4</th>\n",
       "      <td>896.0</td>\n",
       "      <td>39.0</td>\n",
       "    </tr>\n",
       "  </tbody>\n",
       "</table>\n",
       "</div>"
      ],
      "text/plain": [
       "   food_expenditure  privacy_trust\n",
       "0             639.0           46.0\n",
       "1            2306.0           60.0\n",
       "2            2927.0           52.0\n",
       "3            2273.0           58.0\n",
       "4             896.0           39.0"
      ]
     },
     "execution_count": 39,
     "metadata": {},
     "output_type": "execute_result"
    }
   ],
   "source": [
    "#subset data to just privacy_trust and food_expenditure \n",
    "privacy_data = if_data[['food_expenditure','privacy_trust']]\n",
    "\n",
    "#remove point outside of range\n",
    "privacy_data = privacy_data[privacy_data['food_expenditure'] < 4000]\n",
    "\n",
    "privacy_data.head()"
   ]
  },
  {
   "cell_type": "code",
   "execution_count": 40,
   "metadata": {},
   "outputs": [
    {
     "data": {
      "image/png": "[encoded data removed]",
      "text/plain": [
       "<Figure size 432x288 with 1 Axes>"
      ]
     },
     "metadata": {
      "needs_background": "light"
     },
     "output_type": "display_data"
    }
   ],
   "source": [
    "new_resid_plot=plotreg_resid(privacy_data, 'food_expenditure', 'privacy_trust')"
   ]
  },
  {
   "cell_type": "markdown",
   "metadata": {},
   "source": [
    "The data points are spread out evenly around the line in the graph above "
   ]
  },
  {
   "cell_type": "code",
   "execution_count": 41,
   "metadata": {},
   "outputs": [
    {
     "data": {
      "text/plain": [
       "<AxesSubplot:xlabel='food_expenditure', ylabel='privacy_trust'>"
      ]
     },
     "execution_count": 41,
     "metadata": {},
     "output_type": "execute_result"
    },
    {
     "data": {
      "image/png": "[encoded data removed]",
      "text/plain": [
       "<Figure size 432x288 with 1 Axes>"
      ]
     },
     "metadata": {
      "needs_background": "light"
     },
     "output_type": "display_data"
    }
   ],
   "source": [
    "sns.regplot(x='food_expenditure', y='privacy_trust', data=privacy_data)"
   ]
  },
  {
   "cell_type": "code",
   "execution_count": 42,
   "metadata": {},
   "outputs": [
    {
     "name": "stdout",
     "output_type": "stream",
     "text": [
      "the slope of the log of food expenditure and food privacy is: -0.0054\n",
      "the intercept of the log of food expenditure and food privacy is: 59.0994\n",
      "the r-squared of the log of food expenditure and food privacy is: 0.0793\n",
      "the p-value of the log of food expenditure and food privacy is: 0.0279\n"
     ]
    }
   ],
   "source": [
    "food_privacy=stats.linregress(privacy_data['food_expenditure'], privacy_data['privacy_trust'])\n",
    "slope_fp=food_privacy[0]\n",
    "intercept_fp=food_privacy[1]\n",
    "rsquared_fp=(food_privacy[2]**2)\n",
    "pvalue_fp=food_privacy[3]\n",
    "std_error_fp=food_privacy[4]\n",
    "print(\"the slope of the log of food expenditure and food privacy is: {:.4f}\".format(slope_fp))\n",
    "print(\"the intercept of the log of food expenditure and food privacy is: {:.4f}\".format(intercept_fp))\n",
    "print(\"the r-squared of the log of food expenditure and food privacy is: {:.4f}\".format(rsquared_fp))\n",
    "print(\"the p-value of the log of food expenditure and food privacy is: {:.4f}\".format(pvalue_fp))"
   ]
  },
  {
   "cell_type": "code",
   "execution_count": 43,
   "metadata": {},
   "outputs": [
    {
     "name": "stdout",
     "output_type": "stream",
     "text": [
      "(0.012807202606773933, 0.020837701082847576)\n"
     ]
    }
   ],
   "source": [
    "#confidence interval calculated here \n",
    "conf_int_fu=(slope_fp - std_error_fp * 1.96, slope_fp + std_error_fp * 1.96 )\n",
    "print(conf_int_fp)"
   ]
  },
  {
   "cell_type": "markdown",
   "metadata": {},
   "source": [
    "Since the p-value of the t-test is 0.0279, which is less than 0.05, there is clearly a relationship between food expenditure and internet users. The regression equation is $internetusers = -0.0054(FoodExpenditure) + 59.0994$. In addition, the r-squared value is 0.0793 which shows that the relationship is extremely weak. Food expenditure is a poor predictor of privacy trust. The confidence interval is (0.0128,0.0208)"
   ]
  },
  {
   "cell_type": "markdown",
   "metadata": {},
   "source": [
    "## Interpretations and Conclusions for Analysis 1 (ADD)\n",
    "make sure to explain what each of the variables actually are (based on original column names from the original data). \n",
    "summarize what was said above and come to conclusions "
   ]
  },
  {
   "cell_type": "markdown",
   "metadata": {},
   "source": [
    "# Analysis 2\n"
   ]
  },
  {
   "cell_type": "markdown",
   "metadata": {},
   "source": [
    "## Model Building"
   ]
  },
  {
   "cell_type": "markdown",
   "metadata": {},
   "source": [
    "In this section, we are going to try to fit a model where we use the columns we picked as predictors for level of web accessability. While we know that the relationships between many of these columns and level of web accessability are not causal, we could still use them as predictors if there is a strong correlation. We are going to build the model using AIC and BIC selection. AIC (Akaike's Information Criteria) often overestimates the number of significant predictors and is best for large datasets where number of observations divided by number of candidate variables is greater than 40. Since this is not the case for our data set, we will start with BIC (Bayesian Information Criteria), which underestimates the number of significant predictors."
   ]
  },
  {
   "cell_type": "code",
   "execution_count": 44,
   "metadata": {},
   "outputs": [
    {
     "name": "stdout",
     "output_type": "stream",
     "text": [
      "Coefficients:\n",
      "[0. 0. 0. 0. 0. 0. 0. 0. 0. 0. 0.]\n"
     ]
    },
    {
     "data": {
      "text/html": [
       "<div>\n",
       "<style scoped>\n",
       "    .dataframe tbody tr th:only-of-type {\n",
       "        vertical-align: middle;\n",
       "    }\n",
       "\n",
       "    .dataframe tbody tr th {\n",
       "        vertical-align: top;\n",
       "    }\n",
       "\n",
       "    .dataframe thead th {\n",
       "        text-align: right;\n",
       "    }\n",
       "</style>\n",
       "<table border=\"1\" class=\"dataframe\">\n",
       "  <thead>\n",
       "    <tr style=\"text-align: right;\">\n",
       "      <th></th>\n",
       "      <th>gender_gap</th>\n",
       "      <th>urban_elec_access</th>\n",
       "      <th>rural_elec_access</th>\n",
       "      <th>phone_cost</th>\n",
       "      <th>privacy_trust</th>\n",
       "      <th>electric_access</th>\n",
       "      <th>gender_gap_pt</th>\n",
       "      <th>internet_users</th>\n",
       "      <th>total_population</th>\n",
       "      <th>GDP</th>\n",
       "      <th>food_expenditure</th>\n",
       "    </tr>\n",
       "  </thead>\n",
       "  <tbody>\n",
       "    <tr>\n",
       "      <th>0</th>\n",
       "      <td>21.7</td>\n",
       "      <td>100.0</td>\n",
       "      <td>100.0</td>\n",
       "      <td>32.0</td>\n",
       "      <td>46.0</td>\n",
       "      <td>100.0</td>\n",
       "      <td>13.0</td>\n",
       "      <td>59.6</td>\n",
       "      <td>40551000.0</td>\n",
       "      <td>3916.881571</td>\n",
       "      <td>639.0</td>\n",
       "    </tr>\n",
       "    <tr>\n",
       "      <th>1</th>\n",
       "      <td>-5.7</td>\n",
       "      <td>100.0</td>\n",
       "      <td>85.3</td>\n",
       "      <td>43.9</td>\n",
       "      <td>60.0</td>\n",
       "      <td>98.8</td>\n",
       "      <td>-4.0</td>\n",
       "      <td>74.3</td>\n",
       "      <td>43508000.0</td>\n",
       "      <td>12654.354999</td>\n",
       "      <td>2306.0</td>\n",
       "    </tr>\n",
       "    <tr>\n",
       "      <th>2</th>\n",
       "      <td>2.1</td>\n",
       "      <td>100.0</td>\n",
       "      <td>100.0</td>\n",
       "      <td>93.6</td>\n",
       "      <td>52.0</td>\n",
       "      <td>100.0</td>\n",
       "      <td>2.0</td>\n",
       "      <td>86.5</td>\n",
       "      <td>24263000.0</td>\n",
       "      <td>49896.681101</td>\n",
       "      <td>2927.0</td>\n",
       "    </tr>\n",
       "    <tr>\n",
       "      <th>3</th>\n",
       "      <td>2.2</td>\n",
       "      <td>100.0</td>\n",
       "      <td>100.0</td>\n",
       "      <td>68.8</td>\n",
       "      <td>58.0</td>\n",
       "      <td>100.0</td>\n",
       "      <td>2.0</td>\n",
       "      <td>87.7</td>\n",
       "      <td>8747000.0</td>\n",
       "      <td>44731.010855</td>\n",
       "      <td>2273.0</td>\n",
       "    </tr>\n",
       "    <tr>\n",
       "      <th>4</th>\n",
       "      <td>15.0</td>\n",
       "      <td>100.0</td>\n",
       "      <td>100.0</td>\n",
       "      <td>22.7</td>\n",
       "      <td>39.0</td>\n",
       "      <td>100.0</td>\n",
       "      <td>12.0</td>\n",
       "      <td>79.8</td>\n",
       "      <td>9736000.0</td>\n",
       "      <td>3880.738731</td>\n",
       "      <td>896.0</td>\n",
       "    </tr>\n",
       "  </tbody>\n",
       "</table>\n",
       "</div>"
      ],
      "text/plain": [
       "   gender_gap  urban_elec_access  rural_elec_access  phone_cost  \\\n",
       "0        21.7              100.0              100.0        32.0   \n",
       "1        -5.7              100.0               85.3        43.9   \n",
       "2         2.1              100.0              100.0        93.6   \n",
       "3         2.2              100.0              100.0        68.8   \n",
       "4        15.0              100.0              100.0        22.7   \n",
       "\n",
       "   privacy_trust  electric_access  gender_gap_pt  internet_users  \\\n",
       "0           46.0            100.0           13.0            59.6   \n",
       "1           60.0             98.8           -4.0            74.3   \n",
       "2           52.0            100.0            2.0            86.5   \n",
       "3           58.0            100.0            2.0            87.7   \n",
       "4           39.0            100.0           12.0            79.8   \n",
       "\n",
       "   total_population           GDP  food_expenditure  \n",
       "0        40551000.0   3916.881571             639.0  \n",
       "1        43508000.0  12654.354999            2306.0  \n",
       "2        24263000.0  49896.681101            2927.0  \n",
       "3         8747000.0  44731.010855            2273.0  \n",
       "4         9736000.0   3880.738731             896.0  "
      ]
     },
     "execution_count": 44,
     "metadata": {},
     "output_type": "execute_result"
    }
   ],
   "source": [
    "from sklearn import linear_model\n",
    "data = if_data.copy()\n",
    "X = data.drop(['country', 'web_access', 'Unnamed: 0'], axis=1) #X is an array of all of the candidate variables\n",
    "y = data['web_access'] #y is the dependent variable, web accessibility\n",
    "model = linear_model.LassoLarsIC('bic').fit(X, y)\n",
    "print('Coefficients:\\n' + str(model.coef_))\n",
    "X.head()"
   ]
  },
  {
   "cell_type": "markdown",
   "metadata": {},
   "source": [
    "Given that all of the coefficients are zero, BIC is saying that none of the predictors are statistically significant. We will try AIC instead:"
   ]
  },
  {
   "cell_type": "code",
   "execution_count": 45,
   "metadata": {},
   "outputs": [
    {
     "name": "stdout",
     "output_type": "stream",
     "text": [
      "Coefficients:\n",
      "[0.00000000e+00 0.00000000e+00 0.00000000e+00 1.16543390e-02\n",
      " 0.00000000e+00 0.00000000e+00 0.00000000e+00 7.83794449e-03\n",
      " 0.00000000e+00 3.29149392e-06 9.49257984e-05]\n",
      "\n",
      "R squared: 0.23494436688426745\n"
     ]
    }
   ],
   "source": [
    "modelA = linear_model.LassoLarsIC('aic').fit(X, y)\n",
    "\n",
    "print('Coefficients:\\n' + str(modelA.coef_))\n",
    "print('\\nR squared: ' + str(modelA.score(X,y)))"
   ]
  },
  {
   "cell_type": "markdown",
   "metadata": {},
   "source": [
    "Most of the coefficients of significant predictors are close to zero, and the R squared value is very low. Since AIC is the more generous of the two criteria, the columns we chose arbitrarily clearly do not have a strong correlation with web accessibility. After seeing this result, we rethought about what we are really trying to do here. We realized that it did not make sense to drop columns while cleaning the dataset because some of those columns may have had a correlation with web access. Therefore, we are going to try building a model with the entire internet acessibility dataset. It is already clean other than the fact that the column names are long, but there are many columns and the long names help accurately describe what they represent, so we will leave the full dataset as is for now as you can see below."
   ]
  },
  {
   "cell_type": "code",
   "execution_count": 46,
   "metadata": {},
   "outputs": [
    {
     "data": {
      "text/html": [
       "<div>\n",
       "<style scoped>\n",
       "    .dataframe tbody tr th:only-of-type {\n",
       "        vertical-align: middle;\n",
       "    }\n",
       "\n",
       "    .dataframe tbody tr th {\n",
       "        vertical-align: top;\n",
       "    }\n",
       "\n",
       "    .dataframe thead th {\n",
       "        text-align: right;\n",
       "    }\n",
       "</style>\n",
       "<table border=\"1\" class=\"dataframe\">\n",
       "  <thead>\n",
       "    <tr style=\"text-align: right;\">\n",
       "      <th></th>\n",
       "      <th>s(o)</th>\n",
       "      <th>ountry(roup)</th>\n",
       "      <th>internet_users_(%_of_households)</th>\n",
       "      <th>fixed-line_broadband_subscribers_(per_100_inhabitants)</th>\n",
       "      <th>mobile_subscribers_(per_100_inhabitants)</th>\n",
       "      <th>gender_gap_in_internet_access_(%_difference)</th>\n",
       "      <th>gender_gap_in_mobile_phone_access_(%_difference)</th>\n",
       "      <th>average_fixed_broadband_upload_speed_(kbps)</th>\n",
       "      <th>average_fixed_broadband_download_speed_(kbps)</th>\n",
       "      <th>average_fixed_broadband_latency_(ms)</th>\n",
       "      <th>...</th>\n",
       "      <th>internet_users_(population)_(millions)</th>\n",
       "      <th>offline_population_(millions)</th>\n",
       "      <th>internet_access_gender_gap_(difference_in_percentage_points)</th>\n",
       "      <th>mobile_phone_access_gender_gap_(difference_in_percentage_points)</th>\n",
       "      <th>internet_users_(percent_of_population)_(%_of_population)</th>\n",
       "      <th>male_internet_users_(%_of_male_population)</th>\n",
       "      <th>female_internet_users_(%_of_female_population)</th>\n",
       "      <th>male_mobile_phone_subscribers_(%_of_male_population)</th>\n",
       "      <th>female_mobile_phone_subscribers_(%_of_female_population)</th>\n",
       "      <th>total_fixed_line_broadband_subscribers_(number_of_subscriptions)</th>\n",
       "    </tr>\n",
       "  </thead>\n",
       "  <tbody>\n",
       "    <tr>\n",
       "      <th>0</th>\n",
       "      <td>DZ</td>\n",
       "      <td>Algeria</td>\n",
       "      <td>74.4</td>\n",
       "      <td>7.26</td>\n",
       "      <td>121.9</td>\n",
       "      <td>21.7</td>\n",
       "      <td>7.3</td>\n",
       "      <td>2090.0</td>\n",
       "      <td>3990.0</td>\n",
       "      <td>64.0</td>\n",
       "      <td>...</td>\n",
       "      <td>25.16</td>\n",
       "      <td>17.07</td>\n",
       "      <td>13.0</td>\n",
       "      <td>6.0</td>\n",
       "      <td>59.6</td>\n",
       "      <td>60.0</td>\n",
       "      <td>47.0</td>\n",
       "      <td>82.0</td>\n",
       "      <td>76.0</td>\n",
       "      <td>3063835.0</td>\n",
       "    </tr>\n",
       "    <tr>\n",
       "      <th>1</th>\n",
       "      <td>AR</td>\n",
       "      <td>Argentina</td>\n",
       "      <td>75.9</td>\n",
       "      <td>19.10</td>\n",
       "      <td>130.0</td>\n",
       "      <td>-5.7</td>\n",
       "      <td>-3.6</td>\n",
       "      <td>7960.0</td>\n",
       "      <td>33960.0</td>\n",
       "      <td>31.0</td>\n",
       "      <td>...</td>\n",
       "      <td>32.64</td>\n",
       "      <td>11.29</td>\n",
       "      <td>-4.0</td>\n",
       "      <td>-3.0</td>\n",
       "      <td>74.3</td>\n",
       "      <td>70.0</td>\n",
       "      <td>74.0</td>\n",
       "      <td>83.0</td>\n",
       "      <td>86.0</td>\n",
       "      <td>8473655.0</td>\n",
       "    </tr>\n",
       "    <tr>\n",
       "      <th>2</th>\n",
       "      <td>AU</td>\n",
       "      <td>Australia</td>\n",
       "      <td>86.1</td>\n",
       "      <td>32.22</td>\n",
       "      <td>113.6</td>\n",
       "      <td>2.1</td>\n",
       "      <td>2.2</td>\n",
       "      <td>20030.0</td>\n",
       "      <td>42630.0</td>\n",
       "      <td>24.0</td>\n",
       "      <td>...</td>\n",
       "      <td>21.28</td>\n",
       "      <td>3.31</td>\n",
       "      <td>2.0</td>\n",
       "      <td>2.0</td>\n",
       "      <td>86.5</td>\n",
       "      <td>94.0</td>\n",
       "      <td>92.0</td>\n",
       "      <td>93.0</td>\n",
       "      <td>91.0</td>\n",
       "      <td>7922000.0</td>\n",
       "    </tr>\n",
       "    <tr>\n",
       "      <th>3</th>\n",
       "      <td>AT</td>\n",
       "      <td>Austria</td>\n",
       "      <td>88.8</td>\n",
       "      <td>28.35</td>\n",
       "      <td>123.5</td>\n",
       "      <td>2.2</td>\n",
       "      <td>-1.0</td>\n",
       "      <td>16920.0</td>\n",
       "      <td>55030.0</td>\n",
       "      <td>20.0</td>\n",
       "      <td>...</td>\n",
       "      <td>7.80</td>\n",
       "      <td>1.09</td>\n",
       "      <td>2.0</td>\n",
       "      <td>-1.0</td>\n",
       "      <td>87.7</td>\n",
       "      <td>91.0</td>\n",
       "      <td>89.0</td>\n",
       "      <td>96.0</td>\n",
       "      <td>97.0</td>\n",
       "      <td>2521000.0</td>\n",
       "    </tr>\n",
       "    <tr>\n",
       "      <th>4</th>\n",
       "      <td>AZ</td>\n",
       "      <td>Azerbaijan</td>\n",
       "      <td>78.2</td>\n",
       "      <td>18.20</td>\n",
       "      <td>103.9</td>\n",
       "      <td>15.0</td>\n",
       "      <td>11.5</td>\n",
       "      <td>23490.0</td>\n",
       "      <td>21200.0</td>\n",
       "      <td>31.0</td>\n",
       "      <td>...</td>\n",
       "      <td>7.94</td>\n",
       "      <td>2.01</td>\n",
       "      <td>12.0</td>\n",
       "      <td>11.0</td>\n",
       "      <td>79.8</td>\n",
       "      <td>80.0</td>\n",
       "      <td>68.0</td>\n",
       "      <td>96.0</td>\n",
       "      <td>85.0</td>\n",
       "      <td>1810474.0</td>\n",
       "    </tr>\n",
       "  </tbody>\n",
       "</table>\n",
       "<p>5 rows × 87 columns</p>\n",
       "</div>"
      ],
      "text/plain": [
       "  s(o) ountry(roup)  internet_users_(%_of_households)  \\\n",
       "0   DZ      Algeria                              74.4   \n",
       "1   AR    Argentina                              75.9   \n",
       "2   AU    Australia                              86.1   \n",
       "3   AT      Austria                              88.8   \n",
       "4   AZ   Azerbaijan                              78.2   \n",
       "\n",
       "   fixed-line_broadband_subscribers_(per_100_inhabitants)  \\\n",
       "0                                               7.26        \n",
       "1                                              19.10        \n",
       "2                                              32.22        \n",
       "3                                              28.35        \n",
       "4                                              18.20        \n",
       "\n",
       "   mobile_subscribers_(per_100_inhabitants)  \\\n",
       "0                                     121.9   \n",
       "1                                     130.0   \n",
       "2                                     113.6   \n",
       "3                                     123.5   \n",
       "4                                     103.9   \n",
       "\n",
       "   gender_gap_in_internet_access_(%_difference)  \\\n",
       "0                                          21.7   \n",
       "1                                          -5.7   \n",
       "2                                           2.1   \n",
       "3                                           2.2   \n",
       "4                                          15.0   \n",
       "\n",
       "   gender_gap_in_mobile_phone_access_(%_difference)  \\\n",
       "0                                               7.3   \n",
       "1                                              -3.6   \n",
       "2                                               2.2   \n",
       "3                                              -1.0   \n",
       "4                                              11.5   \n",
       "\n",
       "   average_fixed_broadband_upload_speed_(kbps)  \\\n",
       "0                                       2090.0   \n",
       "1                                       7960.0   \n",
       "2                                      20030.0   \n",
       "3                                      16920.0   \n",
       "4                                      23490.0   \n",
       "\n",
       "   average_fixed_broadband_download_speed_(kbps)  \\\n",
       "0                                         3990.0   \n",
       "1                                        33960.0   \n",
       "2                                        42630.0   \n",
       "3                                        55030.0   \n",
       "4                                        21200.0   \n",
       "\n",
       "   average_fixed_broadband_latency_(ms)  ...  \\\n",
       "0                                  64.0  ...   \n",
       "1                                  31.0  ...   \n",
       "2                                  24.0  ...   \n",
       "3                                  20.0  ...   \n",
       "4                                  31.0  ...   \n",
       "\n",
       "   internet_users_(population)_(millions)  offline_population_(millions)  \\\n",
       "0                                   25.16                          17.07   \n",
       "1                                   32.64                          11.29   \n",
       "2                                   21.28                           3.31   \n",
       "3                                    7.80                           1.09   \n",
       "4                                    7.94                           2.01   \n",
       "\n",
       "   internet_access_gender_gap_(difference_in_percentage_points)  \\\n",
       "0                                               13.0              \n",
       "1                                               -4.0              \n",
       "2                                                2.0              \n",
       "3                                                2.0              \n",
       "4                                               12.0              \n",
       "\n",
       "   mobile_phone_access_gender_gap_(difference_in_percentage_points)  \\\n",
       "0                                                6.0                  \n",
       "1                                               -3.0                  \n",
       "2                                                2.0                  \n",
       "3                                               -1.0                  \n",
       "4                                               11.0                  \n",
       "\n",
       "   internet_users_(percent_of_population)_(%_of_population)  \\\n",
       "0                                               59.6          \n",
       "1                                               74.3          \n",
       "2                                               86.5          \n",
       "3                                               87.7          \n",
       "4                                               79.8          \n",
       "\n",
       "   male_internet_users_(%_of_male_population)  \\\n",
       "0                                        60.0   \n",
       "1                                        70.0   \n",
       "2                                        94.0   \n",
       "3                                        91.0   \n",
       "4                                        80.0   \n",
       "\n",
       "   female_internet_users_(%_of_female_population)  \\\n",
       "0                                            47.0   \n",
       "1                                            74.0   \n",
       "2                                            92.0   \n",
       "3                                            89.0   \n",
       "4                                            68.0   \n",
       "\n",
       "   male_mobile_phone_subscribers_(%_of_male_population)  \\\n",
       "0                                               82.0      \n",
       "1                                               83.0      \n",
       "2                                               93.0      \n",
       "3                                               96.0      \n",
       "4                                               96.0      \n",
       "\n",
       "   female_mobile_phone_subscribers_(%_of_female_population)  \\\n",
       "0                                               76.0          \n",
       "1                                               86.0          \n",
       "2                                               91.0          \n",
       "3                                               97.0          \n",
       "4                                               85.0          \n",
       "\n",
       "   total_fixed_line_broadband_subscribers_(number_of_subscriptions)  \n",
       "0                                          3063835.0                 \n",
       "1                                          8473655.0                 \n",
       "2                                          7922000.0                 \n",
       "3                                          2521000.0                 \n",
       "4                                          1810474.0                 \n",
       "\n",
       "[5 rows x 87 columns]"
      ]
     },
     "execution_count": 46,
     "metadata": {},
     "output_type": "execute_result"
    }
   ],
   "source": [
    "full_internet_data = pd.read_csv(\"3i-index-data.csv\", encoding='latin-1')\n",
    "\n",
    "new_colnames_full = [c[c.find(')') + 2:].lower() for c in full_internet_data.columns]\n",
    "new_colnames_full = [c.replace(' ', '_') for c in new_colnames_full]\n",
    "new_colnames_full = [c[:c.find('/')] + '(' + c[c.find('/') + 2:] + ')' for c in new_colnames_full]\n",
    "\n",
    "full_internet_data.columns = new_colnames_full\n",
    "\n",
    "full_internet_data.head()"
   ]
  },
  {
   "cell_type": "code",
   "execution_count": 47,
   "metadata": {},
   "outputs": [
    {
     "name": "stdout",
     "output_type": "stream",
     "text": [
      "Coefficients:\n",
      "[0.         0.         0.         0.         0.         0.\n",
      " 0.         0.         0.         0.         0.         0.\n",
      " 0.         0.         0.         0.         0.         0.\n",
      " 0.         0.         0.         0.         0.         0.\n",
      " 0.         0.         0.         0.         0.         0.\n",
      " 0.         0.         0.         0.         0.         0.\n",
      " 0.         0.         0.         0.         0.         0.\n",
      " 0.         0.         0.         0.         0.         0.\n",
      " 0.         0.         0.         0.         0.         0.\n",
      " 0.         0.         0.         0.         0.         0.\n",
      " 0.         0.         0.         0.         0.         0.\n",
      " 0.         0.         0.         0.         0.04015812 0.\n",
      " 0.07166296 0.         0.         0.         0.         0.\n",
      " 0.         0.         0.         0.         0.         0.        ]\n",
      "\n",
      "R squared: 0.12944699340899413\n"
     ]
    }
   ],
   "source": [
    "X = full_internet_data.drop(['s(o)', 'ountry(roup)', 'level_of_web_accessibility_(qualitative_rating_0-4,_4=best)'], axis=1) #X is an array of all of the candidate variables\n",
    "y = full_internet_data['level_of_web_accessibility_(qualitative_rating_0-4,_4=best)'] #y is the dependent variable, web accessibility\n",
    "\n",
    "model = linear_model.LassoLarsIC('bic').fit(X, y)\n",
    "\n",
    "print('Coefficients:\\n' + str(model.coef_))\n",
    "print('\\nR squared: ' + str(model.score(X,y)))"
   ]
  },
  {
   "cell_type": "code",
   "execution_count": 48,
   "metadata": {},
   "outputs": [
    {
     "name": "stdout",
     "output_type": "stream",
     "text": [
      "Coefficients:\n",
      "[ 0.00000000e+00  0.00000000e+00  0.00000000e+00  0.00000000e+00\n",
      "  0.00000000e+00  0.00000000e+00  0.00000000e+00  0.00000000e+00\n",
      "  0.00000000e+00  0.00000000e+00  0.00000000e+00 -1.40793729e-07\n",
      "  0.00000000e+00  0.00000000e+00  0.00000000e+00  0.00000000e+00\n",
      "  0.00000000e+00  7.60446042e-02  4.98340508e-03  0.00000000e+00\n",
      "  0.00000000e+00  0.00000000e+00  2.30333322e-02  0.00000000e+00\n",
      "  0.00000000e+00  3.71069061e-04  0.00000000e+00  0.00000000e+00\n",
      " -1.21491943e-01  0.00000000e+00  0.00000000e+00  0.00000000e+00\n",
      " -6.03947231e-03  0.00000000e+00  0.00000000e+00  0.00000000e+00\n",
      "  0.00000000e+00  0.00000000e+00  0.00000000e+00  0.00000000e+00\n",
      "  0.00000000e+00  6.58977357e-02  0.00000000e+00  0.00000000e+00\n",
      "  0.00000000e+00  0.00000000e+00  0.00000000e+00  0.00000000e+00\n",
      "  0.00000000e+00  0.00000000e+00  0.00000000e+00  0.00000000e+00\n",
      "  0.00000000e+00  0.00000000e+00  0.00000000e+00  0.00000000e+00\n",
      "  3.13541277e-01  0.00000000e+00  0.00000000e+00  1.41328427e-01\n",
      "  0.00000000e+00  0.00000000e+00  0.00000000e+00  0.00000000e+00\n",
      "  0.00000000e+00  0.00000000e+00  0.00000000e+00  0.00000000e+00\n",
      "  0.00000000e+00  0.00000000e+00  9.34152916e-02  0.00000000e+00\n",
      "  8.21866739e-02  0.00000000e+00  0.00000000e+00  0.00000000e+00\n",
      "  0.00000000e+00  0.00000000e+00  0.00000000e+00  0.00000000e+00\n",
      "  0.00000000e+00  0.00000000e+00  0.00000000e+00  0.00000000e+00]\n",
      "\n",
      "R squared: 0.40490363214305203\n"
     ]
    }
   ],
   "source": [
    "modelA = linear_model.LassoLarsIC('aic').fit(X, y)\n",
    "\n",
    "print('Coefficients:\\n' + str(modelA.coef_))\n",
    "print('\\nR squared: ' + str(modelA.score(X,y)))"
   ]
  },
  {
   "cell_type": "code",
   "execution_count": 49,
   "metadata": {},
   "outputs": [
    {
     "data": {
      "text/html": [
       "<table class=\"simpletable\">\n",
       "<caption>OLS Regression Results</caption>\n",
       "<tr>\n",
       "  <th>Dep. Variable:</th>    <td>level_of_web_accessibility_(qualitative_rating_0-4,_4=best)</td> <th>  R-squared (uncentered):</th>      <td>   0.833</td>\n",
       "</tr>\n",
       "<tr>\n",
       "  <th>Model:</th>                                        <td>OLS</td>                             <th>  Adj. R-squared (uncentered):</th> <td>   0.814</td>\n",
       "</tr>\n",
       "<tr>\n",
       "  <th>Method:</th>                                  <td>Least Squares</td>                        <th>  F-statistic:       </th>          <td>   44.43</td>\n",
       "</tr>\n",
       "<tr>\n",
       "  <th>Date:</th>                                  <td>Sat, 05 Dec 2020</td>                       <th>  Prob (F-statistic):</th>          <td>5.32e-36</td>\n",
       "</tr>\n",
       "<tr>\n",
       "  <th>Time:</th>                                      <td>17:12:55</td>                           <th>  Log-Likelihood:    </th>          <td> -132.71</td>\n",
       "</tr>\n",
       "<tr>\n",
       "  <th>No. Observations:</th>                           <td>   119</td>                            <th>  AIC:               </th>          <td>   289.4</td>\n",
       "</tr>\n",
       "<tr>\n",
       "  <th>Df Residuals:</th>                               <td>   107</td>                            <th>  BIC:               </th>          <td>   322.8</td>\n",
       "</tr>\n",
       "<tr>\n",
       "  <th>Df Model:</th>                                   <td>    12</td>                            <th>                     </th>              <td> </td>   \n",
       "</tr>\n",
       "<tr>\n",
       "  <th>Covariance Type:</th>                           <td>nonrobust</td>                          <th>                     </th>              <td> </td>   \n",
       "</tr>\n",
       "</table>\n",
       "<table class=\"simpletable\">\n",
       "<tr>\n",
       "                                              <td></td>                                                <th>coef</th>     <th>std err</th>      <th>t</th>      <th>P>|t|</th>  <th>[0.025</th>    <th>0.975]</th>  \n",
       "</tr>\n",
       "<tr>\n",
       "  <th>bandwidth_capacity_(bit/s_per_internet_user)</th>                                             <td>-2.878e-07</td> <td> 9.75e-08</td> <td>   -2.952</td> <td> 0.004</td> <td>-4.81e-07</td> <td>-9.45e-08</td>\n",
       "</tr>\n",
       "<tr>\n",
       "  <th>private_sector_initiatives_to_make_wi-fi_available_(qualitative_rating_0-2,_2=best)</th>      <td>    0.1297</td> <td>    0.104</td> <td>    1.250</td> <td> 0.214</td> <td>   -0.076</td> <td>    0.335</td>\n",
       "</tr>\n",
       "<tr>\n",
       "  <th>internet_exchange_points_(number_of_ixps_per_10_million_inhabitants)</th>                     <td>    0.0215</td> <td>    0.020</td> <td>    1.067</td> <td> 0.288</td> <td>   -0.018</td> <td>    0.061</td>\n",
       "</tr>\n",
       "<tr>\n",
       "  <th>mobile_phone_cost_(prepaid_tariff)_(%_of_monthly_gni_per_capita)</th>                         <td>    0.0640</td> <td>    0.020</td> <td>    3.180</td> <td> 0.002</td> <td>    0.024</td> <td>    0.104</td>\n",
       "</tr>\n",
       "<tr>\n",
       "  <th>average_revenue_per_user_(arpu,_annualized)_(usd)</th>                                        <td>-3.859e-06</td> <td>    0.001</td> <td>   -0.004</td> <td> 0.997</td> <td>   -0.002</td> <td>    0.002</td>\n",
       "</tr>\n",
       "<tr>\n",
       "  <th>availability_of_basic_information_in_the_local_language_(qualitative_rating_0-3,_3=best)</th> <td>   -0.2766</td> <td>    0.146</td> <td>   -1.889</td> <td> 0.062</td> <td>   -0.567</td> <td>    0.014</td>\n",
       "</tr>\n",
       "<tr>\n",
       "  <th>value_of_e-finance_(%)</th>                                                                   <td>   -0.0150</td> <td>    0.006</td> <td>   -2.569</td> <td> 0.012</td> <td>   -0.027</td> <td>   -0.003</td>\n",
       "</tr>\n",
       "<tr>\n",
       "  <th>support_for_digital_literacy_(qualitative_rating_0-3,_3=best)</th>                            <td>    0.2060</td> <td>    0.100</td> <td>    2.070</td> <td> 0.041</td> <td>    0.009</td> <td>    0.403</td>\n",
       "</tr>\n",
       "<tr>\n",
       "  <th>technology-neutrality_policy_for_spectrum_use_(qualitative_rating_0-1,_1=best)</th>           <td>    0.3957</td> <td>    0.242</td> <td>    1.637</td> <td> 0.104</td> <td>   -0.083</td> <td>    0.875</td>\n",
       "</tr>\n",
       "<tr>\n",
       "  <th>government_efforts_to_promote_5g_(qualitative_rating_0-3,_3=best)</th>                        <td>    0.2142</td> <td>    0.081</td> <td>    2.656</td> <td> 0.009</td> <td>    0.054</td> <td>    0.374</td>\n",
       "</tr>\n",
       "<tr>\n",
       "  <th>democracy_index_(score,_0-10;_10_=_best)</th>                                                 <td>    0.0927</td> <td>    0.055</td> <td>    1.673</td> <td> 0.097</td> <td>   -0.017</td> <td>    0.202</td>\n",
       "</tr>\n",
       "<tr>\n",
       "  <th>eiu_business_environment_rankings_(score,_1-10,_10_=_high)</th>                               <td>    0.1691</td> <td>    0.114</td> <td>    1.489</td> <td> 0.139</td> <td>   -0.056</td> <td>    0.394</td>\n",
       "</tr>\n",
       "</table>\n",
       "<table class=\"simpletable\">\n",
       "<tr>\n",
       "  <th>Omnibus:</th>       <td> 1.733</td> <th>  Durbin-Watson:     </th> <td>   1.994</td>\n",
       "</tr>\n",
       "<tr>\n",
       "  <th>Prob(Omnibus):</th> <td> 0.420</td> <th>  Jarque-Bera (JB):  </th> <td>   1.283</td>\n",
       "</tr>\n",
       "<tr>\n",
       "  <th>Skew:</th>          <td> 0.087</td> <th>  Prob(JB):          </th> <td>   0.527</td>\n",
       "</tr>\n",
       "<tr>\n",
       "  <th>Kurtosis:</th>      <td> 3.478</td> <th>  Cond. No.          </th> <td>2.70e+06</td>\n",
       "</tr>\n",
       "</table><br/><br/>Notes:<br/>[1] R² is computed without centering (uncentered) since the model does not contain a constant.<br/>[2] Standard Errors assume that the covariance matrix of the errors is correctly specified.<br/>[3] The condition number is large, 2.7e+06. This might indicate that there are<br/>strong multicollinearity or other numerical problems."
      ],
      "text/plain": [
       "<class 'statsmodels.iolib.summary.Summary'>\n",
       "\"\"\"\n",
       "                                                     OLS Regression Results                                                     \n",
       "================================================================================================================================\n",
       "Dep. Variable:     level_of_web_accessibility_(qualitative_rating_0-4,_4=best)   R-squared (uncentered):                   0.833\n",
       "Model:                                                                     OLS   Adj. R-squared (uncentered):              0.814\n",
       "Method:                                                          Least Squares   F-statistic:                              44.43\n",
       "Date:                                                         Sat, 05 Dec 2020   Prob (F-statistic):                    5.32e-36\n",
       "Time:                                                                 17:12:55   Log-Likelihood:                         -132.71\n",
       "No. Observations:                                                          119   AIC:                                      289.4\n",
       "Df Residuals:                                                              107   BIC:                                      322.8\n",
       "Df Model:                                                                   12                                                  \n",
       "Covariance Type:                                                     nonrobust                                                  \n",
       "============================================================================================================================================================\n",
       "                                                                                               coef    std err          t      P>|t|      [0.025      0.975]\n",
       "------------------------------------------------------------------------------------------------------------------------------------------------------------\n",
       "bandwidth_capacity_(bit/s_per_internet_user)                                             -2.878e-07   9.75e-08     -2.952      0.004   -4.81e-07   -9.45e-08\n",
       "private_sector_initiatives_to_make_wi-fi_available_(qualitative_rating_0-2,_2=best)          0.1297      0.104      1.250      0.214      -0.076       0.335\n",
       "internet_exchange_points_(number_of_ixps_per_10_million_inhabitants)                         0.0215      0.020      1.067      0.288      -0.018       0.061\n",
       "mobile_phone_cost_(prepaid_tariff)_(%_of_monthly_gni_per_capita)                             0.0640      0.020      3.180      0.002       0.024       0.104\n",
       "average_revenue_per_user_(arpu,_annualized)_(usd)                                        -3.859e-06      0.001     -0.004      0.997      -0.002       0.002\n",
       "availability_of_basic_information_in_the_local_language_(qualitative_rating_0-3,_3=best)    -0.2766      0.146     -1.889      0.062      -0.567       0.014\n",
       "value_of_e-finance_(%)                                                                      -0.0150      0.006     -2.569      0.012      -0.027      -0.003\n",
       "support_for_digital_literacy_(qualitative_rating_0-3,_3=best)                                0.2060      0.100      2.070      0.041       0.009       0.403\n",
       "technology-neutrality_policy_for_spectrum_use_(qualitative_rating_0-1,_1=best)               0.3957      0.242      1.637      0.104      -0.083       0.875\n",
       "government_efforts_to_promote_5g_(qualitative_rating_0-3,_3=best)                            0.2142      0.081      2.656      0.009       0.054       0.374\n",
       "democracy_index_(score,_0-10;_10_=_best)                                                     0.0927      0.055      1.673      0.097      -0.017       0.202\n",
       "eiu_business_environment_rankings_(score,_1-10,_10_=_high)                                   0.1691      0.114      1.489      0.139      -0.056       0.394\n",
       "==============================================================================\n",
       "Omnibus:                        1.733   Durbin-Watson:                   1.994\n",
       "Prob(Omnibus):                  0.420   Jarque-Bera (JB):                1.283\n",
       "Skew:                           0.087   Prob(JB):                        0.527\n",
       "Kurtosis:                       3.478   Cond. No.                     2.70e+06\n",
       "==============================================================================\n",
       "\n",
       "Notes:\n",
       "[1] R² is computed without centering (uncentered) since the model does not contain a constant.\n",
       "[2] Standard Errors assume that the covariance matrix of the errors is correctly specified.\n",
       "[3] The condition number is large, 2.7e+06. This might indicate that there are\n",
       "strong multicollinearity or other numerical problems.\n",
       "\"\"\""
      ]
     },
     "execution_count": 49,
     "metadata": {},
     "output_type": "execute_result"
    }
   ],
   "source": [
    "#find which variables are significant according to AIC criteria\n",
    "\n",
    "coefficients = []\n",
    "\n",
    "for i in range(len(modelA.coef_)):\n",
    "    if modelA.coef_[i] != 0:\n",
    "        coefficients.append(X.columns[i])\n",
    "\n",
    "#do linear regression with only those columns as the predictors\n",
    "import statsmodels.api as sm\n",
    "\n",
    "reg12 = sm.OLS(y, full_internet_data[coefficients]).fit()\n",
    "reg12.summary()"
   ]
  },
  {
   "cell_type": "code",
   "execution_count": 50,
   "metadata": {},
   "outputs": [
    {
     "data": {
      "text/html": [
       "<table class=\"simpletable\">\n",
       "<caption>OLS Regression Results</caption>\n",
       "<tr>\n",
       "  <th>Dep. Variable:</th>    <td>level_of_web_accessibility_(qualitative_rating_0-4,_4=best)</td> <th>  R-squared (uncentered):</th>      <td>   0.819</td>\n",
       "</tr>\n",
       "<tr>\n",
       "  <th>Model:</th>                                        <td>OLS</td>                             <th>  Adj. R-squared (uncentered):</th> <td>   0.801</td>\n",
       "</tr>\n",
       "<tr>\n",
       "  <th>Method:</th>                                  <td>Least Squares</td>                        <th>  F-statistic:       </th>          <td>   44.50</td>\n",
       "</tr>\n",
       "<tr>\n",
       "  <th>Date:</th>                                  <td>Sat, 05 Dec 2020</td>                       <th>  Prob (F-statistic):</th>          <td>4.72e-35</td>\n",
       "</tr>\n",
       "<tr>\n",
       "  <th>Time:</th>                                      <td>17:12:55</td>                           <th>  Log-Likelihood:    </th>          <td> -137.37</td>\n",
       "</tr>\n",
       "<tr>\n",
       "  <th>No. Observations:</th>                           <td>   119</td>                            <th>  AIC:               </th>          <td>   296.7</td>\n",
       "</tr>\n",
       "<tr>\n",
       "  <th>Df Residuals:</th>                               <td>   108</td>                            <th>  BIC:               </th>          <td>   327.3</td>\n",
       "</tr>\n",
       "<tr>\n",
       "  <th>Df Model:</th>                                   <td>    11</td>                            <th>                     </th>              <td> </td>   \n",
       "</tr>\n",
       "<tr>\n",
       "  <th>Covariance Type:</th>                           <td>nonrobust</td>                          <th>                     </th>              <td> </td>   \n",
       "</tr>\n",
       "</table>\n",
       "<table class=\"simpletable\">\n",
       "<tr>\n",
       "                                              <td></td>                                                <th>coef</th>     <th>std err</th>      <th>t</th>      <th>P>|t|</th>  <th>[0.025</th>    <th>0.975]</th>  \n",
       "</tr>\n",
       "<tr>\n",
       "  <th>private_sector_initiatives_to_make_wi-fi_available_(qualitative_rating_0-2,_2=best)</th>      <td>    0.1334</td> <td>    0.107</td> <td>    1.243</td> <td> 0.217</td> <td>   -0.079</td> <td>    0.346</td>\n",
       "</tr>\n",
       "<tr>\n",
       "  <th>internet_exchange_points_(number_of_ixps_per_10_million_inhabitants)</th>                     <td>    0.0169</td> <td>    0.021</td> <td>    0.815</td> <td> 0.417</td> <td>   -0.024</td> <td>    0.058</td>\n",
       "</tr>\n",
       "<tr>\n",
       "  <th>mobile_phone_cost_(prepaid_tariff)_(%_of_monthly_gni_per_capita)</th>                         <td>    0.0683</td> <td>    0.021</td> <td>    3.288</td> <td> 0.001</td> <td>    0.027</td> <td>    0.109</td>\n",
       "</tr>\n",
       "<tr>\n",
       "  <th>average_revenue_per_user_(arpu,_annualized)_(usd)</th>                                        <td>    0.0002</td> <td>    0.001</td> <td>    0.190</td> <td> 0.849</td> <td>   -0.002</td> <td>    0.002</td>\n",
       "</tr>\n",
       "<tr>\n",
       "  <th>availability_of_basic_information_in_the_local_language_(qualitative_rating_0-3,_3=best)</th> <td>   -0.2066</td> <td>    0.150</td> <td>   -1.381</td> <td> 0.170</td> <td>   -0.503</td> <td>    0.090</td>\n",
       "</tr>\n",
       "<tr>\n",
       "  <th>value_of_e-finance_(%)</th>                                                                   <td>   -0.0159</td> <td>    0.006</td> <td>   -2.643</td> <td> 0.009</td> <td>   -0.028</td> <td>   -0.004</td>\n",
       "</tr>\n",
       "<tr>\n",
       "  <th>support_for_digital_literacy_(qualitative_rating_0-3,_3=best)</th>                            <td>    0.2095</td> <td>    0.103</td> <td>    2.033</td> <td> 0.044</td> <td>    0.005</td> <td>    0.414</td>\n",
       "</tr>\n",
       "<tr>\n",
       "  <th>technology-neutrality_policy_for_spectrum_use_(qualitative_rating_0-1,_1=best)</th>           <td>    0.3890</td> <td>    0.250</td> <td>    1.555</td> <td> 0.123</td> <td>   -0.107</td> <td>    0.885</td>\n",
       "</tr>\n",
       "<tr>\n",
       "  <th>government_efforts_to_promote_5g_(qualitative_rating_0-3,_3=best)</th>                        <td>    0.1952</td> <td>    0.083</td> <td>    2.344</td> <td> 0.021</td> <td>    0.030</td> <td>    0.360</td>\n",
       "</tr>\n",
       "<tr>\n",
       "  <th>democracy_index_(score,_0-10;_10_=_best)</th>                                                 <td>    0.1171</td> <td>    0.057</td> <td>    2.066</td> <td> 0.041</td> <td>    0.005</td> <td>    0.229</td>\n",
       "</tr>\n",
       "<tr>\n",
       "  <th>eiu_business_environment_rankings_(score,_1-10,_10_=_high)</th>                               <td>    0.1117</td> <td>    0.116</td> <td>    0.965</td> <td> 0.337</td> <td>   -0.118</td> <td>    0.341</td>\n",
       "</tr>\n",
       "</table>\n",
       "<table class=\"simpletable\">\n",
       "<tr>\n",
       "  <th>Omnibus:</th>       <td> 1.423</td> <th>  Durbin-Watson:     </th> <td>   1.964</td>\n",
       "</tr>\n",
       "<tr>\n",
       "  <th>Prob(Omnibus):</th> <td> 0.491</td> <th>  Jarque-Bera (JB):  </th> <td>   0.974</td>\n",
       "</tr>\n",
       "<tr>\n",
       "  <th>Skew:</th>          <td> 0.001</td> <th>  Prob(JB):          </th> <td>   0.614</td>\n",
       "</tr>\n",
       "<tr>\n",
       "  <th>Kurtosis:</th>      <td> 3.443</td> <th>  Cond. No.          </th> <td>    661.</td>\n",
       "</tr>\n",
       "</table><br/><br/>Notes:<br/>[1] R² is computed without centering (uncentered) since the model does not contain a constant.<br/>[2] Standard Errors assume that the covariance matrix of the errors is correctly specified."
      ],
      "text/plain": [
       "<class 'statsmodels.iolib.summary.Summary'>\n",
       "\"\"\"\n",
       "                                                     OLS Regression Results                                                     \n",
       "================================================================================================================================\n",
       "Dep. Variable:     level_of_web_accessibility_(qualitative_rating_0-4,_4=best)   R-squared (uncentered):                   0.819\n",
       "Model:                                                                     OLS   Adj. R-squared (uncentered):              0.801\n",
       "Method:                                                          Least Squares   F-statistic:                              44.50\n",
       "Date:                                                         Sat, 05 Dec 2020   Prob (F-statistic):                    4.72e-35\n",
       "Time:                                                                 17:12:55   Log-Likelihood:                         -137.37\n",
       "No. Observations:                                                          119   AIC:                                      296.7\n",
       "Df Residuals:                                                              108   BIC:                                      327.3\n",
       "Df Model:                                                                   11                                                  \n",
       "Covariance Type:                                                     nonrobust                                                  \n",
       "============================================================================================================================================================\n",
       "                                                                                               coef    std err          t      P>|t|      [0.025      0.975]\n",
       "------------------------------------------------------------------------------------------------------------------------------------------------------------\n",
       "private_sector_initiatives_to_make_wi-fi_available_(qualitative_rating_0-2,_2=best)          0.1334      0.107      1.243      0.217      -0.079       0.346\n",
       "internet_exchange_points_(number_of_ixps_per_10_million_inhabitants)                         0.0169      0.021      0.815      0.417      -0.024       0.058\n",
       "mobile_phone_cost_(prepaid_tariff)_(%_of_monthly_gni_per_capita)                             0.0683      0.021      3.288      0.001       0.027       0.109\n",
       "average_revenue_per_user_(arpu,_annualized)_(usd)                                            0.0002      0.001      0.190      0.849      -0.002       0.002\n",
       "availability_of_basic_information_in_the_local_language_(qualitative_rating_0-3,_3=best)    -0.2066      0.150     -1.381      0.170      -0.503       0.090\n",
       "value_of_e-finance_(%)                                                                      -0.0159      0.006     -2.643      0.009      -0.028      -0.004\n",
       "support_for_digital_literacy_(qualitative_rating_0-3,_3=best)                                0.2095      0.103      2.033      0.044       0.005       0.414\n",
       "technology-neutrality_policy_for_spectrum_use_(qualitative_rating_0-1,_1=best)               0.3890      0.250      1.555      0.123      -0.107       0.885\n",
       "government_efforts_to_promote_5g_(qualitative_rating_0-3,_3=best)                            0.1952      0.083      2.344      0.021       0.030       0.360\n",
       "democracy_index_(score,_0-10;_10_=_best)                                                     0.1171      0.057      2.066      0.041       0.005       0.229\n",
       "eiu_business_environment_rankings_(score,_1-10,_10_=_high)                                   0.1117      0.116      0.965      0.337      -0.118       0.341\n",
       "==============================================================================\n",
       "Omnibus:                        1.423   Durbin-Watson:                   1.964\n",
       "Prob(Omnibus):                  0.491   Jarque-Bera (JB):                0.974\n",
       "Skew:                           0.001   Prob(JB):                        0.614\n",
       "Kurtosis:                       3.443   Cond. No.                         661.\n",
       "==============================================================================\n",
       "\n",
       "Notes:\n",
       "[1] R² is computed without centering (uncentered) since the model does not contain a constant.\n",
       "[2] Standard Errors assume that the covariance matrix of the errors is correctly specified.\n",
       "\"\"\""
      ]
     },
     "execution_count": 50,
     "metadata": {},
     "output_type": "execute_result"
    }
   ],
   "source": [
    "coefficients.remove('bandwidth_capacity_(bit/s_per_internet_user)')\n",
    "reg11 = sm.OLS(y, full_internet_data[coefficients]).fit()\n",
    "reg11.summary()"
   ]
  },
  {
   "cell_type": "code",
   "execution_count": 51,
   "metadata": {},
   "outputs": [
    {
     "data": {
      "text/html": [
       "<table class=\"simpletable\">\n",
       "<caption>OLS Regression Results</caption>\n",
       "<tr>\n",
       "  <th>Dep. Variable:</th>    <td>level_of_web_accessibility_(qualitative_rating_0-4,_4=best)</td> <th>  R-squared (uncentered):</th>      <td>   0.819</td>\n",
       "</tr>\n",
       "<tr>\n",
       "  <th>Model:</th>                                        <td>OLS</td>                             <th>  Adj. R-squared (uncentered):</th> <td>   0.803</td>\n",
       "</tr>\n",
       "<tr>\n",
       "  <th>Method:</th>                                  <td>Least Squares</td>                        <th>  F-statistic:       </th>          <td>   49.38</td>\n",
       "</tr>\n",
       "<tr>\n",
       "  <th>Date:</th>                                  <td>Sat, 05 Dec 2020</td>                       <th>  Prob (F-statistic):</th>          <td>6.64e-36</td>\n",
       "</tr>\n",
       "<tr>\n",
       "  <th>Time:</th>                                      <td>17:12:55</td>                           <th>  Log-Likelihood:    </th>          <td> -137.39</td>\n",
       "</tr>\n",
       "<tr>\n",
       "  <th>No. Observations:</th>                           <td>   119</td>                            <th>  AIC:               </th>          <td>   294.8</td>\n",
       "</tr>\n",
       "<tr>\n",
       "  <th>Df Residuals:</th>                               <td>   109</td>                            <th>  BIC:               </th>          <td>   322.6</td>\n",
       "</tr>\n",
       "<tr>\n",
       "  <th>Df Model:</th>                                   <td>    10</td>                            <th>                     </th>              <td> </td>   \n",
       "</tr>\n",
       "<tr>\n",
       "  <th>Covariance Type:</th>                           <td>nonrobust</td>                          <th>                     </th>              <td> </td>   \n",
       "</tr>\n",
       "</table>\n",
       "<table class=\"simpletable\">\n",
       "<tr>\n",
       "                                              <td></td>                                                <th>coef</th>     <th>std err</th>      <th>t</th>      <th>P>|t|</th>  <th>[0.025</th>    <th>0.975]</th>  \n",
       "</tr>\n",
       "<tr>\n",
       "  <th>private_sector_initiatives_to_make_wi-fi_available_(qualitative_rating_0-2,_2=best)</th>      <td>    0.1328</td> <td>    0.107</td> <td>    1.243</td> <td> 0.217</td> <td>   -0.079</td> <td>    0.345</td>\n",
       "</tr>\n",
       "<tr>\n",
       "  <th>internet_exchange_points_(number_of_ixps_per_10_million_inhabitants)</th>                     <td>    0.0172</td> <td>    0.021</td> <td>    0.835</td> <td> 0.406</td> <td>   -0.024</td> <td>    0.058</td>\n",
       "</tr>\n",
       "<tr>\n",
       "  <th>mobile_phone_cost_(prepaid_tariff)_(%_of_monthly_gni_per_capita)</th>                         <td>    0.0676</td> <td>    0.020</td> <td>    3.322</td> <td> 0.001</td> <td>    0.027</td> <td>    0.108</td>\n",
       "</tr>\n",
       "<tr>\n",
       "  <th>availability_of_basic_information_in_the_local_language_(qualitative_rating_0-3,_3=best)</th> <td>   -0.2132</td> <td>    0.145</td> <td>   -1.472</td> <td> 0.144</td> <td>   -0.500</td> <td>    0.074</td>\n",
       "</tr>\n",
       "<tr>\n",
       "  <th>value_of_e-finance_(%)</th>                                                                   <td>   -0.0164</td> <td>    0.005</td> <td>   -2.986</td> <td> 0.003</td> <td>   -0.027</td> <td>   -0.006</td>\n",
       "</tr>\n",
       "<tr>\n",
       "  <th>support_for_digital_literacy_(qualitative_rating_0-3,_3=best)</th>                            <td>    0.2101</td> <td>    0.103</td> <td>    2.050</td> <td> 0.043</td> <td>    0.007</td> <td>    0.413</td>\n",
       "</tr>\n",
       "<tr>\n",
       "  <th>technology-neutrality_policy_for_spectrum_use_(qualitative_rating_0-1,_1=best)</th>           <td>    0.3832</td> <td>    0.247</td> <td>    1.550</td> <td> 0.124</td> <td>   -0.107</td> <td>    0.873</td>\n",
       "</tr>\n",
       "<tr>\n",
       "  <th>government_efforts_to_promote_5g_(qualitative_rating_0-3,_3=best)</th>                        <td>    0.1989</td> <td>    0.081</td> <td>    2.468</td> <td> 0.015</td> <td>    0.039</td> <td>    0.359</td>\n",
       "</tr>\n",
       "<tr>\n",
       "  <th>democracy_index_(score,_0-10;_10_=_best)</th>                                                 <td>    0.1176</td> <td>    0.056</td> <td>    2.087</td> <td> 0.039</td> <td>    0.006</td> <td>    0.229</td>\n",
       "</tr>\n",
       "<tr>\n",
       "  <th>eiu_business_environment_rankings_(score,_1-10,_10_=_high)</th>                               <td>    0.1225</td> <td>    0.101</td> <td>    1.218</td> <td> 0.226</td> <td>   -0.077</td> <td>    0.322</td>\n",
       "</tr>\n",
       "</table>\n",
       "<table class=\"simpletable\">\n",
       "<tr>\n",
       "  <th>Omnibus:</th>       <td> 1.445</td> <th>  Durbin-Watson:     </th> <td>   1.965</td>\n",
       "</tr>\n",
       "<tr>\n",
       "  <th>Prob(Omnibus):</th> <td> 0.486</td> <th>  Jarque-Bera (JB):  </th> <td>   0.998</td>\n",
       "</tr>\n",
       "<tr>\n",
       "  <th>Skew:</th>          <td> 0.005</td> <th>  Prob(JB):          </th> <td>   0.607</td>\n",
       "</tr>\n",
       "<tr>\n",
       "  <th>Kurtosis:</th>      <td> 3.448</td> <th>  Cond. No.          </th> <td>    183.</td>\n",
       "</tr>\n",
       "</table><br/><br/>Notes:<br/>[1] R² is computed without centering (uncentered) since the model does not contain a constant.<br/>[2] Standard Errors assume that the covariance matrix of the errors is correctly specified."
      ],
      "text/plain": [
       "<class 'statsmodels.iolib.summary.Summary'>\n",
       "\"\"\"\n",
       "                                                     OLS Regression Results                                                     \n",
       "================================================================================================================================\n",
       "Dep. Variable:     level_of_web_accessibility_(qualitative_rating_0-4,_4=best)   R-squared (uncentered):                   0.819\n",
       "Model:                                                                     OLS   Adj. R-squared (uncentered):              0.803\n",
       "Method:                                                          Least Squares   F-statistic:                              49.38\n",
       "Date:                                                         Sat, 05 Dec 2020   Prob (F-statistic):                    6.64e-36\n",
       "Time:                                                                 17:12:55   Log-Likelihood:                         -137.39\n",
       "No. Observations:                                                          119   AIC:                                      294.8\n",
       "Df Residuals:                                                              109   BIC:                                      322.6\n",
       "Df Model:                                                                   10                                                  \n",
       "Covariance Type:                                                     nonrobust                                                  \n",
       "============================================================================================================================================================\n",
       "                                                                                               coef    std err          t      P>|t|      [0.025      0.975]\n",
       "------------------------------------------------------------------------------------------------------------------------------------------------------------\n",
       "private_sector_initiatives_to_make_wi-fi_available_(qualitative_rating_0-2,_2=best)          0.1328      0.107      1.243      0.217      -0.079       0.345\n",
       "internet_exchange_points_(number_of_ixps_per_10_million_inhabitants)                         0.0172      0.021      0.835      0.406      -0.024       0.058\n",
       "mobile_phone_cost_(prepaid_tariff)_(%_of_monthly_gni_per_capita)                             0.0676      0.020      3.322      0.001       0.027       0.108\n",
       "availability_of_basic_information_in_the_local_language_(qualitative_rating_0-3,_3=best)    -0.2132      0.145     -1.472      0.144      -0.500       0.074\n",
       "value_of_e-finance_(%)                                                                      -0.0164      0.005     -2.986      0.003      -0.027      -0.006\n",
       "support_for_digital_literacy_(qualitative_rating_0-3,_3=best)                                0.2101      0.103      2.050      0.043       0.007       0.413\n",
       "technology-neutrality_policy_for_spectrum_use_(qualitative_rating_0-1,_1=best)               0.3832      0.247      1.550      0.124      -0.107       0.873\n",
       "government_efforts_to_promote_5g_(qualitative_rating_0-3,_3=best)                            0.1989      0.081      2.468      0.015       0.039       0.359\n",
       "democracy_index_(score,_0-10;_10_=_best)                                                     0.1176      0.056      2.087      0.039       0.006       0.229\n",
       "eiu_business_environment_rankings_(score,_1-10,_10_=_high)                                   0.1225      0.101      1.218      0.226      -0.077       0.322\n",
       "==============================================================================\n",
       "Omnibus:                        1.445   Durbin-Watson:                   1.965\n",
       "Prob(Omnibus):                  0.486   Jarque-Bera (JB):                0.998\n",
       "Skew:                           0.005   Prob(JB):                        0.607\n",
       "Kurtosis:                       3.448   Cond. No.                         183.\n",
       "==============================================================================\n",
       "\n",
       "Notes:\n",
       "[1] R² is computed without centering (uncentered) since the model does not contain a constant.\n",
       "[2] Standard Errors assume that the covariance matrix of the errors is correctly specified.\n",
       "\"\"\""
      ]
     },
     "execution_count": 51,
     "metadata": {},
     "output_type": "execute_result"
    }
   ],
   "source": [
    "coefficients.remove('average_revenue_per_user_(arpu,_annualized)_(usd)')\n",
    "reg10 = sm.OLS(y, full_internet_data[coefficients]).fit()\n",
    "reg10.summary()"
   ]
  },
  {
   "cell_type": "code",
   "execution_count": 52,
   "metadata": {},
   "outputs": [
    {
     "data": {
      "text/html": [
       "<table class=\"simpletable\">\n",
       "<caption>OLS Regression Results</caption>\n",
       "<tr>\n",
       "  <th>Dep. Variable:</th>    <td>level_of_web_accessibility_(qualitative_rating_0-4,_4=best)</td> <th>  R-squared (uncentered):</th>      <td>   0.817</td>\n",
       "</tr>\n",
       "<tr>\n",
       "  <th>Model:</th>                                        <td>OLS</td>                             <th>  Adj. R-squared (uncentered):</th> <td>   0.802</td>\n",
       "</tr>\n",
       "<tr>\n",
       "  <th>Method:</th>                                  <td>Least Squares</td>                        <th>  F-statistic:       </th>          <td>   54.43</td>\n",
       "</tr>\n",
       "<tr>\n",
       "  <th>Date:</th>                                  <td>Sat, 05 Dec 2020</td>                       <th>  Prob (F-statistic):</th>          <td>1.85e-36</td>\n",
       "</tr>\n",
       "<tr>\n",
       "  <th>Time:</th>                                      <td>17:12:55</td>                           <th>  Log-Likelihood:    </th>          <td> -138.23</td>\n",
       "</tr>\n",
       "<tr>\n",
       "  <th>No. Observations:</th>                           <td>   119</td>                            <th>  AIC:               </th>          <td>   294.5</td>\n",
       "</tr>\n",
       "<tr>\n",
       "  <th>Df Residuals:</th>                               <td>   110</td>                            <th>  BIC:               </th>          <td>   319.5</td>\n",
       "</tr>\n",
       "<tr>\n",
       "  <th>Df Model:</th>                                   <td>     9</td>                            <th>                     </th>              <td> </td>   \n",
       "</tr>\n",
       "<tr>\n",
       "  <th>Covariance Type:</th>                           <td>nonrobust</td>                          <th>                     </th>              <td> </td>   \n",
       "</tr>\n",
       "</table>\n",
       "<table class=\"simpletable\">\n",
       "<tr>\n",
       "                                              <td></td>                                                <th>coef</th>     <th>std err</th>      <th>t</th>      <th>P>|t|</th>  <th>[0.025</th>    <th>0.975]</th>  \n",
       "</tr>\n",
       "<tr>\n",
       "  <th>internet_exchange_points_(number_of_ixps_per_10_million_inhabitants)</th>                     <td>    0.0165</td> <td>    0.021</td> <td>    0.797</td> <td> 0.427</td> <td>   -0.024</td> <td>    0.057</td>\n",
       "</tr>\n",
       "<tr>\n",
       "  <th>mobile_phone_cost_(prepaid_tariff)_(%_of_monthly_gni_per_capita)</th>                         <td>    0.0667</td> <td>    0.020</td> <td>    3.273</td> <td> 0.001</td> <td>    0.026</td> <td>    0.107</td>\n",
       "</tr>\n",
       "<tr>\n",
       "  <th>availability_of_basic_information_in_the_local_language_(qualitative_rating_0-3,_3=best)</th> <td>   -0.2239</td> <td>    0.145</td> <td>   -1.545</td> <td> 0.125</td> <td>   -0.511</td> <td>    0.063</td>\n",
       "</tr>\n",
       "<tr>\n",
       "  <th>value_of_e-finance_(%)</th>                                                                   <td>   -0.0163</td> <td>    0.005</td> <td>   -2.958</td> <td> 0.004</td> <td>   -0.027</td> <td>   -0.005</td>\n",
       "</tr>\n",
       "<tr>\n",
       "  <th>support_for_digital_literacy_(qualitative_rating_0-3,_3=best)</th>                            <td>    0.2121</td> <td>    0.103</td> <td>    2.064</td> <td> 0.041</td> <td>    0.008</td> <td>    0.416</td>\n",
       "</tr>\n",
       "<tr>\n",
       "  <th>technology-neutrality_policy_for_spectrum_use_(qualitative_rating_0-1,_1=best)</th>           <td>    0.4316</td> <td>    0.245</td> <td>    1.764</td> <td> 0.081</td> <td>   -0.053</td> <td>    0.916</td>\n",
       "</tr>\n",
       "<tr>\n",
       "  <th>government_efforts_to_promote_5g_(qualitative_rating_0-3,_3=best)</th>                        <td>    0.2055</td> <td>    0.081</td> <td>    2.550</td> <td> 0.012</td> <td>    0.046</td> <td>    0.365</td>\n",
       "</tr>\n",
       "<tr>\n",
       "  <th>democracy_index_(score,_0-10;_10_=_best)</th>                                                 <td>    0.1225</td> <td>    0.056</td> <td>    2.173</td> <td> 0.032</td> <td>    0.011</td> <td>    0.234</td>\n",
       "</tr>\n",
       "<tr>\n",
       "  <th>eiu_business_environment_rankings_(score,_1-10,_10_=_high)</th>                               <td>    0.1450</td> <td>    0.099</td> <td>    1.462</td> <td> 0.146</td> <td>   -0.051</td> <td>    0.342</td>\n",
       "</tr>\n",
       "</table>\n",
       "<table class=\"simpletable\">\n",
       "<tr>\n",
       "  <th>Omnibus:</th>       <td> 1.524</td> <th>  Durbin-Watson:     </th> <td>   1.974</td>\n",
       "</tr>\n",
       "<tr>\n",
       "  <th>Prob(Omnibus):</th> <td> 0.467</td> <th>  Jarque-Bera (JB):  </th> <td>   1.076</td>\n",
       "</tr>\n",
       "<tr>\n",
       "  <th>Skew:</th>          <td> 0.046</td> <th>  Prob(JB):          </th> <td>   0.584</td>\n",
       "</tr>\n",
       "<tr>\n",
       "  <th>Kurtosis:</th>      <td> 3.457</td> <th>  Cond. No.          </th> <td>    180.</td>\n",
       "</tr>\n",
       "</table><br/><br/>Notes:<br/>[1] R² is computed without centering (uncentered) since the model does not contain a constant.<br/>[2] Standard Errors assume that the covariance matrix of the errors is correctly specified."
      ],
      "text/plain": [
       "<class 'statsmodels.iolib.summary.Summary'>\n",
       "\"\"\"\n",
       "                                                     OLS Regression Results                                                     \n",
       "================================================================================================================================\n",
       "Dep. Variable:     level_of_web_accessibility_(qualitative_rating_0-4,_4=best)   R-squared (uncentered):                   0.817\n",
       "Model:                                                                     OLS   Adj. R-squared (uncentered):              0.802\n",
       "Method:                                                          Least Squares   F-statistic:                              54.43\n",
       "Date:                                                         Sat, 05 Dec 2020   Prob (F-statistic):                    1.85e-36\n",
       "Time:                                                                 17:12:55   Log-Likelihood:                         -138.23\n",
       "No. Observations:                                                          119   AIC:                                      294.5\n",
       "Df Residuals:                                                              110   BIC:                                      319.5\n",
       "Df Model:                                                                    9                                                  \n",
       "Covariance Type:                                                     nonrobust                                                  \n",
       "============================================================================================================================================================\n",
       "                                                                                               coef    std err          t      P>|t|      [0.025      0.975]\n",
       "------------------------------------------------------------------------------------------------------------------------------------------------------------\n",
       "internet_exchange_points_(number_of_ixps_per_10_million_inhabitants)                         0.0165      0.021      0.797      0.427      -0.024       0.057\n",
       "mobile_phone_cost_(prepaid_tariff)_(%_of_monthly_gni_per_capita)                             0.0667      0.020      3.273      0.001       0.026       0.107\n",
       "availability_of_basic_information_in_the_local_language_(qualitative_rating_0-3,_3=best)    -0.2239      0.145     -1.545      0.125      -0.511       0.063\n",
       "value_of_e-finance_(%)                                                                      -0.0163      0.005     -2.958      0.004      -0.027      -0.005\n",
       "support_for_digital_literacy_(qualitative_rating_0-3,_3=best)                                0.2121      0.103      2.064      0.041       0.008       0.416\n",
       "technology-neutrality_policy_for_spectrum_use_(qualitative_rating_0-1,_1=best)               0.4316      0.245      1.764      0.081      -0.053       0.916\n",
       "government_efforts_to_promote_5g_(qualitative_rating_0-3,_3=best)                            0.2055      0.081      2.550      0.012       0.046       0.365\n",
       "democracy_index_(score,_0-10;_10_=_best)                                                     0.1225      0.056      2.173      0.032       0.011       0.234\n",
       "eiu_business_environment_rankings_(score,_1-10,_10_=_high)                                   0.1450      0.099      1.462      0.146      -0.051       0.342\n",
       "==============================================================================\n",
       "Omnibus:                        1.524   Durbin-Watson:                   1.974\n",
       "Prob(Omnibus):                  0.467   Jarque-Bera (JB):                1.076\n",
       "Skew:                           0.046   Prob(JB):                        0.584\n",
       "Kurtosis:                       3.457   Cond. No.                         180.\n",
       "==============================================================================\n",
       "\n",
       "Notes:\n",
       "[1] R² is computed without centering (uncentered) since the model does not contain a constant.\n",
       "[2] Standard Errors assume that the covariance matrix of the errors is correctly specified.\n",
       "\"\"\""
      ]
     },
     "execution_count": 52,
     "metadata": {},
     "output_type": "execute_result"
    }
   ],
   "source": [
    "coefficients.remove('private_sector_initiatives_to_make_wi-fi_available_(qualitative_rating_0-2,_2=best)')\n",
    "reg9 = sm.OLS(y, full_internet_data[coefficients]).fit()\n",
    "reg9.summary()"
   ]
  },
  {
   "cell_type": "code",
   "execution_count": 53,
   "metadata": {},
   "outputs": [
    {
     "data": {
      "text/html": [
       "<table class=\"simpletable\">\n",
       "<caption>OLS Regression Results</caption>\n",
       "<tr>\n",
       "  <th>Dep. Variable:</th>    <td>level_of_web_accessibility_(qualitative_rating_0-4,_4=best)</td> <th>  R-squared (uncentered):</th>      <td>   0.816</td>\n",
       "</tr>\n",
       "<tr>\n",
       "  <th>Model:</th>                                        <td>OLS</td>                             <th>  Adj. R-squared (uncentered):</th> <td>   0.802</td>\n",
       "</tr>\n",
       "<tr>\n",
       "  <th>Method:</th>                                  <td>Least Squares</td>                        <th>  F-statistic:       </th>          <td>   61.36</td>\n",
       "</tr>\n",
       "<tr>\n",
       "  <th>Date:</th>                                  <td>Sat, 05 Dec 2020</td>                       <th>  Prob (F-statistic):</th>          <td>3.12e-37</td>\n",
       "</tr>\n",
       "<tr>\n",
       "  <th>Time:</th>                                      <td>17:12:55</td>                           <th>  Log-Likelihood:    </th>          <td> -138.57</td>\n",
       "</tr>\n",
       "<tr>\n",
       "  <th>No. Observations:</th>                           <td>   119</td>                            <th>  AIC:               </th>          <td>   293.1</td>\n",
       "</tr>\n",
       "<tr>\n",
       "  <th>Df Residuals:</th>                               <td>   111</td>                            <th>  BIC:               </th>          <td>   315.4</td>\n",
       "</tr>\n",
       "<tr>\n",
       "  <th>Df Model:</th>                                   <td>     8</td>                            <th>                     </th>              <td> </td>   \n",
       "</tr>\n",
       "<tr>\n",
       "  <th>Covariance Type:</th>                           <td>nonrobust</td>                          <th>                     </th>              <td> </td>   \n",
       "</tr>\n",
       "</table>\n",
       "<table class=\"simpletable\">\n",
       "<tr>\n",
       "                                              <td></td>                                                <th>coef</th>     <th>std err</th>      <th>t</th>      <th>P>|t|</th>  <th>[0.025</th>    <th>0.975]</th>  \n",
       "</tr>\n",
       "<tr>\n",
       "  <th>mobile_phone_cost_(prepaid_tariff)_(%_of_monthly_gni_per_capita)</th>                         <td>    0.0648</td> <td>    0.020</td> <td>    3.205</td> <td> 0.002</td> <td>    0.025</td> <td>    0.105</td>\n",
       "</tr>\n",
       "<tr>\n",
       "  <th>availability_of_basic_information_in_the_local_language_(qualitative_rating_0-3,_3=best)</th> <td>   -0.2362</td> <td>    0.144</td> <td>   -1.641</td> <td> 0.104</td> <td>   -0.521</td> <td>    0.049</td>\n",
       "</tr>\n",
       "<tr>\n",
       "  <th>value_of_e-finance_(%)</th>                                                                   <td>   -0.0165</td> <td>    0.005</td> <td>   -3.005</td> <td> 0.003</td> <td>   -0.027</td> <td>   -0.006</td>\n",
       "</tr>\n",
       "<tr>\n",
       "  <th>support_for_digital_literacy_(qualitative_rating_0-3,_3=best)</th>                            <td>    0.2103</td> <td>    0.103</td> <td>    2.051</td> <td> 0.043</td> <td>    0.007</td> <td>    0.414</td>\n",
       "</tr>\n",
       "<tr>\n",
       "  <th>technology-neutrality_policy_for_spectrum_use_(qualitative_rating_0-1,_1=best)</th>           <td>    0.4370</td> <td>    0.244</td> <td>    1.790</td> <td> 0.076</td> <td>   -0.047</td> <td>    0.921</td>\n",
       "</tr>\n",
       "<tr>\n",
       "  <th>government_efforts_to_promote_5g_(qualitative_rating_0-3,_3=best)</th>                        <td>    0.2107</td> <td>    0.080</td> <td>    2.627</td> <td> 0.010</td> <td>    0.052</td> <td>    0.370</td>\n",
       "</tr>\n",
       "<tr>\n",
       "  <th>democracy_index_(score,_0-10;_10_=_best)</th>                                                 <td>    0.1266</td> <td>    0.056</td> <td>    2.259</td> <td> 0.026</td> <td>    0.016</td> <td>    0.238</td>\n",
       "</tr>\n",
       "<tr>\n",
       "  <th>eiu_business_environment_rankings_(score,_1-10,_10_=_high)</th>                               <td>    0.1551</td> <td>    0.098</td> <td>    1.580</td> <td> 0.117</td> <td>   -0.039</td> <td>    0.350</td>\n",
       "</tr>\n",
       "</table>\n",
       "<table class=\"simpletable\">\n",
       "<tr>\n",
       "  <th>Omnibus:</th>       <td> 1.204</td> <th>  Durbin-Watson:     </th> <td>   1.947</td>\n",
       "</tr>\n",
       "<tr>\n",
       "  <th>Prob(Omnibus):</th> <td> 0.548</td> <th>  Jarque-Bera (JB):  </th> <td>   0.746</td>\n",
       "</tr>\n",
       "<tr>\n",
       "  <th>Skew:</th>          <td> 0.040</td> <th>  Prob(JB):          </th> <td>   0.689</td>\n",
       "</tr>\n",
       "<tr>\n",
       "  <th>Kurtosis:</th>      <td> 3.379</td> <th>  Cond. No.          </th> <td>    180.</td>\n",
       "</tr>\n",
       "</table><br/><br/>Notes:<br/>[1] R² is computed without centering (uncentered) since the model does not contain a constant.<br/>[2] Standard Errors assume that the covariance matrix of the errors is correctly specified."
      ],
      "text/plain": [
       "<class 'statsmodels.iolib.summary.Summary'>\n",
       "\"\"\"\n",
       "                                                     OLS Regression Results                                                     \n",
       "================================================================================================================================\n",
       "Dep. Variable:     level_of_web_accessibility_(qualitative_rating_0-4,_4=best)   R-squared (uncentered):                   0.816\n",
       "Model:                                                                     OLS   Adj. R-squared (uncentered):              0.802\n",
       "Method:                                                          Least Squares   F-statistic:                              61.36\n",
       "Date:                                                         Sat, 05 Dec 2020   Prob (F-statistic):                    3.12e-37\n",
       "Time:                                                                 17:12:55   Log-Likelihood:                         -138.57\n",
       "No. Observations:                                                          119   AIC:                                      293.1\n",
       "Df Residuals:                                                              111   BIC:                                      315.4\n",
       "Df Model:                                                                    8                                                  \n",
       "Covariance Type:                                                     nonrobust                                                  \n",
       "============================================================================================================================================================\n",
       "                                                                                               coef    std err          t      P>|t|      [0.025      0.975]\n",
       "------------------------------------------------------------------------------------------------------------------------------------------------------------\n",
       "mobile_phone_cost_(prepaid_tariff)_(%_of_monthly_gni_per_capita)                             0.0648      0.020      3.205      0.002       0.025       0.105\n",
       "availability_of_basic_information_in_the_local_language_(qualitative_rating_0-3,_3=best)    -0.2362      0.144     -1.641      0.104      -0.521       0.049\n",
       "value_of_e-finance_(%)                                                                      -0.0165      0.005     -3.005      0.003      -0.027      -0.006\n",
       "support_for_digital_literacy_(qualitative_rating_0-3,_3=best)                                0.2103      0.103      2.051      0.043       0.007       0.414\n",
       "technology-neutrality_policy_for_spectrum_use_(qualitative_rating_0-1,_1=best)               0.4370      0.244      1.790      0.076      -0.047       0.921\n",
       "government_efforts_to_promote_5g_(qualitative_rating_0-3,_3=best)                            0.2107      0.080      2.627      0.010       0.052       0.370\n",
       "democracy_index_(score,_0-10;_10_=_best)                                                     0.1266      0.056      2.259      0.026       0.016       0.238\n",
       "eiu_business_environment_rankings_(score,_1-10,_10_=_high)                                   0.1551      0.098      1.580      0.117      -0.039       0.350\n",
       "==============================================================================\n",
       "Omnibus:                        1.204   Durbin-Watson:                   1.947\n",
       "Prob(Omnibus):                  0.548   Jarque-Bera (JB):                0.746\n",
       "Skew:                           0.040   Prob(JB):                        0.689\n",
       "Kurtosis:                       3.379   Cond. No.                         180.\n",
       "==============================================================================\n",
       "\n",
       "Notes:\n",
       "[1] R² is computed without centering (uncentered) since the model does not contain a constant.\n",
       "[2] Standard Errors assume that the covariance matrix of the errors is correctly specified.\n",
       "\"\"\""
      ]
     },
     "execution_count": 53,
     "metadata": {},
     "output_type": "execute_result"
    }
   ],
   "source": [
    "coefficients.remove('internet_exchange_points_(number_of_ixps_per_10_million_inhabitants)')\n",
    "reg8 = sm.OLS(y, full_internet_data[coefficients]).fit()\n",
    "reg8.summary()"
   ]
  },
  {
   "cell_type": "code",
   "execution_count": 54,
   "metadata": {},
   "outputs": [
    {
     "data": {
      "text/html": [
       "<table class=\"simpletable\">\n",
       "<caption>OLS Regression Results</caption>\n",
       "<tr>\n",
       "  <th>Dep. Variable:</th>    <td>level_of_web_accessibility_(qualitative_rating_0-4,_4=best)</td> <th>  R-squared (uncentered):</th>      <td>   0.811</td>\n",
       "</tr>\n",
       "<tr>\n",
       "  <th>Model:</th>                                        <td>OLS</td>                             <th>  Adj. R-squared (uncentered):</th> <td>   0.800</td>\n",
       "</tr>\n",
       "<tr>\n",
       "  <th>Method:</th>                                  <td>Least Squares</td>                        <th>  F-statistic:       </th>          <td>   68.85</td>\n",
       "</tr>\n",
       "<tr>\n",
       "  <th>Date:</th>                                  <td>Sat, 05 Dec 2020</td>                       <th>  Prob (F-statistic):</th>          <td>1.22e-37</td>\n",
       "</tr>\n",
       "<tr>\n",
       "  <th>Time:</th>                                      <td>17:12:56</td>                           <th>  Log-Likelihood:    </th>          <td> -139.90</td>\n",
       "</tr>\n",
       "<tr>\n",
       "  <th>No. Observations:</th>                           <td>   119</td>                            <th>  AIC:               </th>          <td>   293.8</td>\n",
       "</tr>\n",
       "<tr>\n",
       "  <th>Df Residuals:</th>                               <td>   112</td>                            <th>  BIC:               </th>          <td>   313.2</td>\n",
       "</tr>\n",
       "<tr>\n",
       "  <th>Df Model:</th>                                   <td>     7</td>                            <th>                     </th>              <td> </td>   \n",
       "</tr>\n",
       "<tr>\n",
       "  <th>Covariance Type:</th>                           <td>nonrobust</td>                          <th>                     </th>              <td> </td>   \n",
       "</tr>\n",
       "</table>\n",
       "<table class=\"simpletable\">\n",
       "<tr>\n",
       "                                              <td></td>                                                <th>coef</th>     <th>std err</th>      <th>t</th>      <th>P>|t|</th>  <th>[0.025</th>    <th>0.975]</th>  \n",
       "</tr>\n",
       "<tr>\n",
       "  <th>mobile_phone_cost_(prepaid_tariff)_(%_of_monthly_gni_per_capita)</th>                         <td>    0.0731</td> <td>    0.020</td> <td>    3.724</td> <td> 0.000</td> <td>    0.034</td> <td>    0.112</td>\n",
       "</tr>\n",
       "<tr>\n",
       "  <th>availability_of_basic_information_in_the_local_language_(qualitative_rating_0-3,_3=best)</th> <td>   -0.0888</td> <td>    0.110</td> <td>   -0.805</td> <td> 0.422</td> <td>   -0.307</td> <td>    0.130</td>\n",
       "</tr>\n",
       "<tr>\n",
       "  <th>value_of_e-finance_(%)</th>                                                                   <td>   -0.0152</td> <td>    0.005</td> <td>   -2.790</td> <td> 0.006</td> <td>   -0.026</td> <td>   -0.004</td>\n",
       "</tr>\n",
       "<tr>\n",
       "  <th>support_for_digital_literacy_(qualitative_rating_0-3,_3=best)</th>                            <td>    0.2376</td> <td>    0.102</td> <td>    2.335</td> <td> 0.021</td> <td>    0.036</td> <td>    0.439</td>\n",
       "</tr>\n",
       "<tr>\n",
       "  <th>technology-neutrality_policy_for_spectrum_use_(qualitative_rating_0-1,_1=best)</th>           <td>    0.4535</td> <td>    0.246</td> <td>    1.847</td> <td> 0.067</td> <td>   -0.033</td> <td>    0.940</td>\n",
       "</tr>\n",
       "<tr>\n",
       "  <th>government_efforts_to_promote_5g_(qualitative_rating_0-3,_3=best)</th>                        <td>    0.2739</td> <td>    0.070</td> <td>    3.916</td> <td> 0.000</td> <td>    0.135</td> <td>    0.413</td>\n",
       "</tr>\n",
       "<tr>\n",
       "  <th>democracy_index_(score,_0-10;_10_=_best)</th>                                                 <td>    0.1768</td> <td>    0.046</td> <td>    3.805</td> <td> 0.000</td> <td>    0.085</td> <td>    0.269</td>\n",
       "</tr>\n",
       "</table>\n",
       "<table class=\"simpletable\">\n",
       "<tr>\n",
       "  <th>Omnibus:</th>       <td> 1.103</td> <th>  Durbin-Watson:     </th> <td>   1.919</td>\n",
       "</tr>\n",
       "<tr>\n",
       "  <th>Prob(Omnibus):</th> <td> 0.576</td> <th>  Jarque-Bera (JB):  </th> <td>   0.648</td>\n",
       "</tr>\n",
       "<tr>\n",
       "  <th>Skew:</th>          <td> 0.064</td> <th>  Prob(JB):          </th> <td>   0.723</td>\n",
       "</tr>\n",
       "<tr>\n",
       "  <th>Kurtosis:</th>      <td> 3.338</td> <th>  Cond. No.          </th> <td>    178.</td>\n",
       "</tr>\n",
       "</table><br/><br/>Notes:<br/>[1] R² is computed without centering (uncentered) since the model does not contain a constant.<br/>[2] Standard Errors assume that the covariance matrix of the errors is correctly specified."
      ],
      "text/plain": [
       "<class 'statsmodels.iolib.summary.Summary'>\n",
       "\"\"\"\n",
       "                                                     OLS Regression Results                                                     \n",
       "================================================================================================================================\n",
       "Dep. Variable:     level_of_web_accessibility_(qualitative_rating_0-4,_4=best)   R-squared (uncentered):                   0.811\n",
       "Model:                                                                     OLS   Adj. R-squared (uncentered):              0.800\n",
       "Method:                                                          Least Squares   F-statistic:                              68.85\n",
       "Date:                                                         Sat, 05 Dec 2020   Prob (F-statistic):                    1.22e-37\n",
       "Time:                                                                 17:12:56   Log-Likelihood:                         -139.90\n",
       "No. Observations:                                                          119   AIC:                                      293.8\n",
       "Df Residuals:                                                              112   BIC:                                      313.2\n",
       "Df Model:                                                                    7                                                  \n",
       "Covariance Type:                                                     nonrobust                                                  \n",
       "============================================================================================================================================================\n",
       "                                                                                               coef    std err          t      P>|t|      [0.025      0.975]\n",
       "------------------------------------------------------------------------------------------------------------------------------------------------------------\n",
       "mobile_phone_cost_(prepaid_tariff)_(%_of_monthly_gni_per_capita)                             0.0731      0.020      3.724      0.000       0.034       0.112\n",
       "availability_of_basic_information_in_the_local_language_(qualitative_rating_0-3,_3=best)    -0.0888      0.110     -0.805      0.422      -0.307       0.130\n",
       "value_of_e-finance_(%)                                                                      -0.0152      0.005     -2.790      0.006      -0.026      -0.004\n",
       "support_for_digital_literacy_(qualitative_rating_0-3,_3=best)                                0.2376      0.102      2.335      0.021       0.036       0.439\n",
       "technology-neutrality_policy_for_spectrum_use_(qualitative_rating_0-1,_1=best)               0.4535      0.246      1.847      0.067      -0.033       0.940\n",
       "government_efforts_to_promote_5g_(qualitative_rating_0-3,_3=best)                            0.2739      0.070      3.916      0.000       0.135       0.413\n",
       "democracy_index_(score,_0-10;_10_=_best)                                                     0.1768      0.046      3.805      0.000       0.085       0.269\n",
       "==============================================================================\n",
       "Omnibus:                        1.103   Durbin-Watson:                   1.919\n",
       "Prob(Omnibus):                  0.576   Jarque-Bera (JB):                0.648\n",
       "Skew:                           0.064   Prob(JB):                        0.723\n",
       "Kurtosis:                       3.338   Cond. No.                         178.\n",
       "==============================================================================\n",
       "\n",
       "Notes:\n",
       "[1] R² is computed without centering (uncentered) since the model does not contain a constant.\n",
       "[2] Standard Errors assume that the covariance matrix of the errors is correctly specified.\n",
       "\"\"\""
      ]
     },
     "execution_count": 54,
     "metadata": {},
     "output_type": "execute_result"
    }
   ],
   "source": [
    "coefficients.remove('eiu_business_environment_rankings_(score,_1-10,_10_=_high)')\n",
    "reg7 = sm.OLS(y, full_internet_data[coefficients]).fit()\n",
    "reg7.summary()"
   ]
  },
  {
   "cell_type": "code",
   "execution_count": 55,
   "metadata": {},
   "outputs": [
    {
     "data": {
      "text/html": [
       "<table class=\"simpletable\">\n",
       "<caption>OLS Regression Results</caption>\n",
       "<tr>\n",
       "  <th>Dep. Variable:</th>    <td>level_of_web_accessibility_(qualitative_rating_0-4,_4=best)</td> <th>  R-squared (uncentered):</th>      <td>   0.810</td>\n",
       "</tr>\n",
       "<tr>\n",
       "  <th>Model:</th>                                        <td>OLS</td>                             <th>  Adj. R-squared (uncentered):</th> <td>   0.800</td>\n",
       "</tr>\n",
       "<tr>\n",
       "  <th>Method:</th>                                  <td>Least Squares</td>                        <th>  F-statistic:       </th>          <td>   80.46</td>\n",
       "</tr>\n",
       "<tr>\n",
       "  <th>Date:</th>                                  <td>Sat, 05 Dec 2020</td>                       <th>  Prob (F-statistic):</th>          <td>1.79e-38</td>\n",
       "</tr>\n",
       "<tr>\n",
       "  <th>Time:</th>                                      <td>17:12:56</td>                           <th>  Log-Likelihood:    </th>          <td> -140.24</td>\n",
       "</tr>\n",
       "<tr>\n",
       "  <th>No. Observations:</th>                           <td>   119</td>                            <th>  AIC:               </th>          <td>   292.5</td>\n",
       "</tr>\n",
       "<tr>\n",
       "  <th>Df Residuals:</th>                               <td>   113</td>                            <th>  BIC:               </th>          <td>   309.2</td>\n",
       "</tr>\n",
       "<tr>\n",
       "  <th>Df Model:</th>                                   <td>     6</td>                            <th>                     </th>              <td> </td>   \n",
       "</tr>\n",
       "<tr>\n",
       "  <th>Covariance Type:</th>                           <td>nonrobust</td>                          <th>                     </th>              <td> </td>   \n",
       "</tr>\n",
       "</table>\n",
       "<table class=\"simpletable\">\n",
       "<tr>\n",
       "                                         <td></td>                                           <th>coef</th>     <th>std err</th>      <th>t</th>      <th>P>|t|</th>  <th>[0.025</th>    <th>0.975]</th>  \n",
       "</tr>\n",
       "<tr>\n",
       "  <th>mobile_phone_cost_(prepaid_tariff)_(%_of_monthly_gni_per_capita)</th>               <td>    0.0723</td> <td>    0.020</td> <td>    3.693</td> <td> 0.000</td> <td>    0.034</td> <td>    0.111</td>\n",
       "</tr>\n",
       "<tr>\n",
       "  <th>value_of_e-finance_(%)</th>                                                         <td>   -0.0174</td> <td>    0.005</td> <td>   -3.637</td> <td> 0.000</td> <td>   -0.027</td> <td>   -0.008</td>\n",
       "</tr>\n",
       "<tr>\n",
       "  <th>support_for_digital_literacy_(qualitative_rating_0-3,_3=best)</th>                  <td>    0.2111</td> <td>    0.096</td> <td>    2.196</td> <td> 0.030</td> <td>    0.021</td> <td>    0.402</td>\n",
       "</tr>\n",
       "<tr>\n",
       "  <th>technology-neutrality_policy_for_spectrum_use_(qualitative_rating_0-1,_1=best)</th> <td>    0.4067</td> <td>    0.238</td> <td>    1.707</td> <td> 0.091</td> <td>   -0.065</td> <td>    0.879</td>\n",
       "</tr>\n",
       "<tr>\n",
       "  <th>government_efforts_to_promote_5g_(qualitative_rating_0-3,_3=best)</th>              <td>    0.2659</td> <td>    0.069</td> <td>    3.847</td> <td> 0.000</td> <td>    0.129</td> <td>    0.403</td>\n",
       "</tr>\n",
       "<tr>\n",
       "  <th>democracy_index_(score,_0-10;_10_=_best)</th>                                       <td>    0.1748</td> <td>    0.046</td> <td>    3.773</td> <td> 0.000</td> <td>    0.083</td> <td>    0.267</td>\n",
       "</tr>\n",
       "</table>\n",
       "<table class=\"simpletable\">\n",
       "<tr>\n",
       "  <th>Omnibus:</th>       <td> 0.960</td> <th>  Durbin-Watson:     </th> <td>   1.930</td>\n",
       "</tr>\n",
       "<tr>\n",
       "  <th>Prob(Omnibus):</th> <td> 0.619</td> <th>  Jarque-Bera (JB):  </th> <td>   0.554</td>\n",
       "</tr>\n",
       "<tr>\n",
       "  <th>Skew:</th>          <td> 0.123</td> <th>  Prob(JB):          </th> <td>   0.758</td>\n",
       "</tr>\n",
       "<tr>\n",
       "  <th>Kurtosis:</th>      <td> 3.226</td> <th>  Cond. No.          </th> <td>    173.</td>\n",
       "</tr>\n",
       "</table><br/><br/>Notes:<br/>[1] R² is computed without centering (uncentered) since the model does not contain a constant.<br/>[2] Standard Errors assume that the covariance matrix of the errors is correctly specified."
      ],
      "text/plain": [
       "<class 'statsmodels.iolib.summary.Summary'>\n",
       "\"\"\"\n",
       "                                                     OLS Regression Results                                                     \n",
       "================================================================================================================================\n",
       "Dep. Variable:     level_of_web_accessibility_(qualitative_rating_0-4,_4=best)   R-squared (uncentered):                   0.810\n",
       "Model:                                                                     OLS   Adj. R-squared (uncentered):              0.800\n",
       "Method:                                                          Least Squares   F-statistic:                              80.46\n",
       "Date:                                                         Sat, 05 Dec 2020   Prob (F-statistic):                    1.79e-38\n",
       "Time:                                                                 17:12:56   Log-Likelihood:                         -140.24\n",
       "No. Observations:                                                          119   AIC:                                      292.5\n",
       "Df Residuals:                                                              113   BIC:                                      309.2\n",
       "Df Model:                                                                    6                                                  \n",
       "Covariance Type:                                                     nonrobust                                                  \n",
       "==================================================================================================================================================\n",
       "                                                                                     coef    std err          t      P>|t|      [0.025      0.975]\n",
       "--------------------------------------------------------------------------------------------------------------------------------------------------\n",
       "mobile_phone_cost_(prepaid_tariff)_(%_of_monthly_gni_per_capita)                   0.0723      0.020      3.693      0.000       0.034       0.111\n",
       "value_of_e-finance_(%)                                                            -0.0174      0.005     -3.637      0.000      -0.027      -0.008\n",
       "support_for_digital_literacy_(qualitative_rating_0-3,_3=best)                      0.2111      0.096      2.196      0.030       0.021       0.402\n",
       "technology-neutrality_policy_for_spectrum_use_(qualitative_rating_0-1,_1=best)     0.4067      0.238      1.707      0.091      -0.065       0.879\n",
       "government_efforts_to_promote_5g_(qualitative_rating_0-3,_3=best)                  0.2659      0.069      3.847      0.000       0.129       0.403\n",
       "democracy_index_(score,_0-10;_10_=_best)                                           0.1748      0.046      3.773      0.000       0.083       0.267\n",
       "==============================================================================\n",
       "Omnibus:                        0.960   Durbin-Watson:                   1.930\n",
       "Prob(Omnibus):                  0.619   Jarque-Bera (JB):                0.554\n",
       "Skew:                           0.123   Prob(JB):                        0.758\n",
       "Kurtosis:                       3.226   Cond. No.                         173.\n",
       "==============================================================================\n",
       "\n",
       "Notes:\n",
       "[1] R² is computed without centering (uncentered) since the model does not contain a constant.\n",
       "[2] Standard Errors assume that the covariance matrix of the errors is correctly specified.\n",
       "\"\"\""
      ]
     },
     "execution_count": 55,
     "metadata": {},
     "output_type": "execute_result"
    }
   ],
   "source": [
    "coefficients.remove('availability_of_basic_information_in_the_local_language_(qualitative_rating_0-3,_3=best)')\n",
    "reg6 = sm.OLS(y, full_internet_data[coefficients]).fit()\n",
    "reg6.summary()"
   ]
  },
  {
   "cell_type": "code",
   "execution_count": 56,
   "metadata": {},
   "outputs": [
    {
     "data": {
      "text/html": [
       "<table class=\"simpletable\">\n",
       "<caption>OLS Regression Results</caption>\n",
       "<tr>\n",
       "  <th>Dep. Variable:</th>    <td>level_of_web_accessibility_(qualitative_rating_0-4,_4=best)</td> <th>  R-squared (uncentered):</th>      <td>   0.805</td>\n",
       "</tr>\n",
       "<tr>\n",
       "  <th>Model:</th>                                        <td>OLS</td>                             <th>  Adj. R-squared (uncentered):</th> <td>   0.797</td>\n",
       "</tr>\n",
       "<tr>\n",
       "  <th>Method:</th>                                  <td>Least Squares</td>                        <th>  F-statistic:       </th>          <td>   94.39</td>\n",
       "</tr>\n",
       "<tr>\n",
       "  <th>Date:</th>                                  <td>Sat, 05 Dec 2020</td>                       <th>  Prob (F-statistic):</th>          <td>7.28e-39</td>\n",
       "</tr>\n",
       "<tr>\n",
       "  <th>Time:</th>                                      <td>17:12:56</td>                           <th>  Log-Likelihood:    </th>          <td> -141.76</td>\n",
       "</tr>\n",
       "<tr>\n",
       "  <th>No. Observations:</th>                           <td>   119</td>                            <th>  AIC:               </th>          <td>   293.5</td>\n",
       "</tr>\n",
       "<tr>\n",
       "  <th>Df Residuals:</th>                               <td>   114</td>                            <th>  BIC:               </th>          <td>   307.4</td>\n",
       "</tr>\n",
       "<tr>\n",
       "  <th>Df Model:</th>                                   <td>     5</td>                            <th>                     </th>              <td> </td>   \n",
       "</tr>\n",
       "<tr>\n",
       "  <th>Covariance Type:</th>                           <td>nonrobust</td>                          <th>                     </th>              <td> </td>   \n",
       "</tr>\n",
       "</table>\n",
       "<table class=\"simpletable\">\n",
       "<tr>\n",
       "                                  <td></td>                                     <th>coef</th>     <th>std err</th>      <th>t</th>      <th>P>|t|</th>  <th>[0.025</th>    <th>0.975]</th>  \n",
       "</tr>\n",
       "<tr>\n",
       "  <th>mobile_phone_cost_(prepaid_tariff)_(%_of_monthly_gni_per_capita)</th>  <td>    0.0762</td> <td>    0.020</td> <td>    3.884</td> <td> 0.000</td> <td>    0.037</td> <td>    0.115</td>\n",
       "</tr>\n",
       "<tr>\n",
       "  <th>value_of_e-finance_(%)</th>                                            <td>   -0.0170</td> <td>    0.005</td> <td>   -3.532</td> <td> 0.001</td> <td>   -0.027</td> <td>   -0.007</td>\n",
       "</tr>\n",
       "<tr>\n",
       "  <th>support_for_digital_literacy_(qualitative_rating_0-3,_3=best)</th>     <td>    0.2616</td> <td>    0.092</td> <td>    2.836</td> <td> 0.005</td> <td>    0.079</td> <td>    0.444</td>\n",
       "</tr>\n",
       "<tr>\n",
       "  <th>government_efforts_to_promote_5g_(qualitative_rating_0-3,_3=best)</th> <td>    0.2751</td> <td>    0.069</td> <td>    3.959</td> <td> 0.000</td> <td>    0.137</td> <td>    0.413</td>\n",
       "</tr>\n",
       "<tr>\n",
       "  <th>democracy_index_(score,_0-10;_10_=_best)</th>                          <td>    0.2047</td> <td>    0.043</td> <td>    4.734</td> <td> 0.000</td> <td>    0.119</td> <td>    0.290</td>\n",
       "</tr>\n",
       "</table>\n",
       "<table class=\"simpletable\">\n",
       "<tr>\n",
       "  <th>Omnibus:</th>       <td> 1.637</td> <th>  Durbin-Watson:     </th> <td>   1.920</td>\n",
       "</tr>\n",
       "<tr>\n",
       "  <th>Prob(Omnibus):</th> <td> 0.441</td> <th>  Jarque-Bera (JB):  </th> <td>   1.137</td>\n",
       "</tr>\n",
       "<tr>\n",
       "  <th>Skew:</th>          <td> 0.150</td> <th>  Prob(JB):          </th> <td>   0.566</td>\n",
       "</tr>\n",
       "<tr>\n",
       "  <th>Kurtosis:</th>      <td> 3.373</td> <th>  Cond. No.          </th> <td>    67.7</td>\n",
       "</tr>\n",
       "</table><br/><br/>Notes:<br/>[1] R² is computed without centering (uncentered) since the model does not contain a constant.<br/>[2] Standard Errors assume that the covariance matrix of the errors is correctly specified."
      ],
      "text/plain": [
       "<class 'statsmodels.iolib.summary.Summary'>\n",
       "\"\"\"\n",
       "                                                     OLS Regression Results                                                     \n",
       "================================================================================================================================\n",
       "Dep. Variable:     level_of_web_accessibility_(qualitative_rating_0-4,_4=best)   R-squared (uncentered):                   0.805\n",
       "Model:                                                                     OLS   Adj. R-squared (uncentered):              0.797\n",
       "Method:                                                          Least Squares   F-statistic:                              94.39\n",
       "Date:                                                         Sat, 05 Dec 2020   Prob (F-statistic):                    7.28e-39\n",
       "Time:                                                                 17:12:56   Log-Likelihood:                         -141.76\n",
       "No. Observations:                                                          119   AIC:                                      293.5\n",
       "Df Residuals:                                                              114   BIC:                                      307.4\n",
       "Df Model:                                                                    5                                                  \n",
       "Covariance Type:                                                     nonrobust                                                  \n",
       "=====================================================================================================================================\n",
       "                                                                        coef    std err          t      P>|t|      [0.025      0.975]\n",
       "-------------------------------------------------------------------------------------------------------------------------------------\n",
       "mobile_phone_cost_(prepaid_tariff)_(%_of_monthly_gni_per_capita)      0.0762      0.020      3.884      0.000       0.037       0.115\n",
       "value_of_e-finance_(%)                                               -0.0170      0.005     -3.532      0.001      -0.027      -0.007\n",
       "support_for_digital_literacy_(qualitative_rating_0-3,_3=best)         0.2616      0.092      2.836      0.005       0.079       0.444\n",
       "government_efforts_to_promote_5g_(qualitative_rating_0-3,_3=best)     0.2751      0.069      3.959      0.000       0.137       0.413\n",
       "democracy_index_(score,_0-10;_10_=_best)                              0.2047      0.043      4.734      0.000       0.119       0.290\n",
       "==============================================================================\n",
       "Omnibus:                        1.637   Durbin-Watson:                   1.920\n",
       "Prob(Omnibus):                  0.441   Jarque-Bera (JB):                1.137\n",
       "Skew:                           0.150   Prob(JB):                        0.566\n",
       "Kurtosis:                       3.373   Cond. No.                         67.7\n",
       "==============================================================================\n",
       "\n",
       "Notes:\n",
       "[1] R² is computed without centering (uncentered) since the model does not contain a constant.\n",
       "[2] Standard Errors assume that the covariance matrix of the errors is correctly specified.\n",
       "\"\"\""
      ]
     },
     "execution_count": 56,
     "metadata": {},
     "output_type": "execute_result"
    }
   ],
   "source": [
    "coefficients.remove('technology-neutrality_policy_for_spectrum_use_(qualitative_rating_0-1,_1=best)')\n",
    "reg5 = sm.OLS(y, full_internet_data[coefficients]).fit()\n",
    "reg5.summary()"
   ]
  },
  {
   "cell_type": "code",
   "execution_count": 57,
   "metadata": {},
   "outputs": [
    {
     "name": "stdout",
     "output_type": "stream",
     "text": [
      "['mobile_phone_cost_(prepaid_tariff)_(%_of_monthly_gni_per_capita)', 'value_of_e-finance_(%)', 'support_for_digital_literacy_(qualitative_rating_0-3,_3=best)', 'government_efforts_to_promote_5g_(qualitative_rating_0-3,_3=best)', 'democracy_index_(score,_0-10;_10_=_best)']\n"
     ]
    }
   ],
   "source": [
    "print(coefficients)"
   ]
  },
  {
   "cell_type": "code",
   "execution_count": 58,
   "metadata": {},
   "outputs": [],
   "source": [
    "newNames = {'mobile_phone_cost_(prepaid_tariff)_(%_of_monthly_gni_per_capita)':'Cell_Cost', 'value_of_e-finance_(%)':'E-Finance_Value','support_for_digital_literacy_(qualitative_rating_0-3,_3=best)':'Support_For_Dig_Lit','government_efforts_to_promote_5g_(qualitative_rating_0-3,_3=best)':'Govt_Promote_5g','democracy_index_(score,_0-10;_10_=_best)':'Democracy_Index'}\n",
    "full_internet_data = full_internet_data.rename(columns=newNames)\n",
    "coefficients = list(newNames.values())"
   ]
  },
  {
   "cell_type": "code",
   "execution_count": 59,
   "metadata": {},
   "outputs": [
    {
     "data": {
      "text/html": [
       "<div>\n",
       "<style scoped>\n",
       "    .dataframe tbody tr th:only-of-type {\n",
       "        vertical-align: middle;\n",
       "    }\n",
       "\n",
       "    .dataframe tbody tr th {\n",
       "        vertical-align: top;\n",
       "    }\n",
       "\n",
       "    .dataframe thead th {\n",
       "        text-align: right;\n",
       "    }\n",
       "</style>\n",
       "<table border=\"1\" class=\"dataframe\">\n",
       "  <thead>\n",
       "    <tr style=\"text-align: right;\">\n",
       "      <th></th>\n",
       "      <th>Cell_Cost</th>\n",
       "      <th>E-Finance_Value</th>\n",
       "      <th>Support_For_Dig_Lit</th>\n",
       "      <th>Govt_Promote_5g</th>\n",
       "      <th>Democracy_Index</th>\n",
       "    </tr>\n",
       "  </thead>\n",
       "  <tbody>\n",
       "    <tr>\n",
       "      <th>0</th>\n",
       "      <td>2.04</td>\n",
       "      <td>32.0</td>\n",
       "      <td>1.0</td>\n",
       "      <td>0.0</td>\n",
       "      <td>3.5</td>\n",
       "    </tr>\n",
       "    <tr>\n",
       "      <th>1</th>\n",
       "      <td>1.12</td>\n",
       "      <td>62.0</td>\n",
       "      <td>3.0</td>\n",
       "      <td>0.0</td>\n",
       "      <td>7.0</td>\n",
       "    </tr>\n",
       "    <tr>\n",
       "      <th>2</th>\n",
       "      <td>0.50</td>\n",
       "      <td>44.0</td>\n",
       "      <td>3.0</td>\n",
       "      <td>3.0</td>\n",
       "      <td>9.1</td>\n",
       "    </tr>\n",
       "    <tr>\n",
       "      <th>3</th>\n",
       "      <td>0.16</td>\n",
       "      <td>50.0</td>\n",
       "      <td>3.0</td>\n",
       "      <td>3.0</td>\n",
       "      <td>8.3</td>\n",
       "    </tr>\n",
       "    <tr>\n",
       "      <th>4</th>\n",
       "      <td>1.38</td>\n",
       "      <td>45.0</td>\n",
       "      <td>1.0</td>\n",
       "      <td>0.0</td>\n",
       "      <td>2.6</td>\n",
       "    </tr>\n",
       "  </tbody>\n",
       "</table>\n",
       "</div>"
      ],
      "text/plain": [
       "   Cell_Cost  E-Finance_Value  Support_For_Dig_Lit  Govt_Promote_5g  \\\n",
       "0       2.04             32.0                  1.0              0.0   \n",
       "1       1.12             62.0                  3.0              0.0   \n",
       "2       0.50             44.0                  3.0              3.0   \n",
       "3       0.16             50.0                  3.0              3.0   \n",
       "4       1.38             45.0                  1.0              0.0   \n",
       "\n",
       "   Democracy_Index  \n",
       "0              3.5  \n",
       "1              7.0  \n",
       "2              9.1  \n",
       "3              8.3  \n",
       "4              2.6  "
      ]
     },
     "execution_count": 59,
     "metadata": {},
     "output_type": "execute_result"
    }
   ],
   "source": [
    "from sklearn.preprocessing import PolynomialFeatures\n",
    "interaction = PolynomialFeatures(degree=2).fit_transform(full_internet_data[coefficients])\n",
    "interaction = pd.DataFrame(interaction)\n",
    "full_internet_data[coefficients].head()"
   ]
  },
  {
   "cell_type": "code",
   "execution_count": 60,
   "metadata": {},
   "outputs": [
    {
     "data": {
      "text/html": [
       "<div>\n",
       "<style scoped>\n",
       "    .dataframe tbody tr th:only-of-type {\n",
       "        vertical-align: middle;\n",
       "    }\n",
       "\n",
       "    .dataframe tbody tr th {\n",
       "        vertical-align: top;\n",
       "    }\n",
       "\n",
       "    .dataframe thead th {\n",
       "        text-align: right;\n",
       "    }\n",
       "</style>\n",
       "<table border=\"1\" class=\"dataframe\">\n",
       "  <thead>\n",
       "    <tr style=\"text-align: right;\">\n",
       "      <th></th>\n",
       "      <th>0</th>\n",
       "      <th>1</th>\n",
       "      <th>2</th>\n",
       "      <th>3</th>\n",
       "      <th>4</th>\n",
       "      <th>5</th>\n",
       "      <th>6</th>\n",
       "      <th>7</th>\n",
       "      <th>8</th>\n",
       "      <th>9</th>\n",
       "      <th>...</th>\n",
       "      <th>11</th>\n",
       "      <th>12</th>\n",
       "      <th>13</th>\n",
       "      <th>14</th>\n",
       "      <th>15</th>\n",
       "      <th>16</th>\n",
       "      <th>17</th>\n",
       "      <th>18</th>\n",
       "      <th>19</th>\n",
       "      <th>20</th>\n",
       "    </tr>\n",
       "  </thead>\n",
       "  <tbody>\n",
       "    <tr>\n",
       "      <th>0</th>\n",
       "      <td>1.0</td>\n",
       "      <td>2.04</td>\n",
       "      <td>32.0</td>\n",
       "      <td>1.0</td>\n",
       "      <td>0.0</td>\n",
       "      <td>3.5</td>\n",
       "      <td>4.1616</td>\n",
       "      <td>65.28</td>\n",
       "      <td>2.04</td>\n",
       "      <td>0.00</td>\n",
       "      <td>...</td>\n",
       "      <td>1024.0</td>\n",
       "      <td>32.0</td>\n",
       "      <td>0.0</td>\n",
       "      <td>112.0</td>\n",
       "      <td>1.0</td>\n",
       "      <td>0.0</td>\n",
       "      <td>3.5</td>\n",
       "      <td>0.0</td>\n",
       "      <td>0.0</td>\n",
       "      <td>12.25</td>\n",
       "    </tr>\n",
       "    <tr>\n",
       "      <th>1</th>\n",
       "      <td>1.0</td>\n",
       "      <td>1.12</td>\n",
       "      <td>62.0</td>\n",
       "      <td>3.0</td>\n",
       "      <td>0.0</td>\n",
       "      <td>7.0</td>\n",
       "      <td>1.2544</td>\n",
       "      <td>69.44</td>\n",
       "      <td>3.36</td>\n",
       "      <td>0.00</td>\n",
       "      <td>...</td>\n",
       "      <td>3844.0</td>\n",
       "      <td>186.0</td>\n",
       "      <td>0.0</td>\n",
       "      <td>434.0</td>\n",
       "      <td>9.0</td>\n",
       "      <td>0.0</td>\n",
       "      <td>21.0</td>\n",
       "      <td>0.0</td>\n",
       "      <td>0.0</td>\n",
       "      <td>49.00</td>\n",
       "    </tr>\n",
       "    <tr>\n",
       "      <th>2</th>\n",
       "      <td>1.0</td>\n",
       "      <td>0.50</td>\n",
       "      <td>44.0</td>\n",
       "      <td>3.0</td>\n",
       "      <td>3.0</td>\n",
       "      <td>9.1</td>\n",
       "      <td>0.2500</td>\n",
       "      <td>22.00</td>\n",
       "      <td>1.50</td>\n",
       "      <td>1.50</td>\n",
       "      <td>...</td>\n",
       "      <td>1936.0</td>\n",
       "      <td>132.0</td>\n",
       "      <td>132.0</td>\n",
       "      <td>400.4</td>\n",
       "      <td>9.0</td>\n",
       "      <td>9.0</td>\n",
       "      <td>27.3</td>\n",
       "      <td>9.0</td>\n",
       "      <td>27.3</td>\n",
       "      <td>82.81</td>\n",
       "    </tr>\n",
       "    <tr>\n",
       "      <th>3</th>\n",
       "      <td>1.0</td>\n",
       "      <td>0.16</td>\n",
       "      <td>50.0</td>\n",
       "      <td>3.0</td>\n",
       "      <td>3.0</td>\n",
       "      <td>8.3</td>\n",
       "      <td>0.0256</td>\n",
       "      <td>8.00</td>\n",
       "      <td>0.48</td>\n",
       "      <td>0.48</td>\n",
       "      <td>...</td>\n",
       "      <td>2500.0</td>\n",
       "      <td>150.0</td>\n",
       "      <td>150.0</td>\n",
       "      <td>415.0</td>\n",
       "      <td>9.0</td>\n",
       "      <td>9.0</td>\n",
       "      <td>24.9</td>\n",
       "      <td>9.0</td>\n",
       "      <td>24.9</td>\n",
       "      <td>68.89</td>\n",
       "    </tr>\n",
       "    <tr>\n",
       "      <th>4</th>\n",
       "      <td>1.0</td>\n",
       "      <td>1.38</td>\n",
       "      <td>45.0</td>\n",
       "      <td>1.0</td>\n",
       "      <td>0.0</td>\n",
       "      <td>2.6</td>\n",
       "      <td>1.9044</td>\n",
       "      <td>62.10</td>\n",
       "      <td>1.38</td>\n",
       "      <td>0.00</td>\n",
       "      <td>...</td>\n",
       "      <td>2025.0</td>\n",
       "      <td>45.0</td>\n",
       "      <td>0.0</td>\n",
       "      <td>117.0</td>\n",
       "      <td>1.0</td>\n",
       "      <td>0.0</td>\n",
       "      <td>2.6</td>\n",
       "      <td>0.0</td>\n",
       "      <td>0.0</td>\n",
       "      <td>6.76</td>\n",
       "    </tr>\n",
       "  </tbody>\n",
       "</table>\n",
       "<p>5 rows × 21 columns</p>\n",
       "</div>"
      ],
      "text/plain": [
       "    0     1     2    3    4    5       6      7     8     9   ...      11  \\\n",
       "0  1.0  2.04  32.0  1.0  0.0  3.5  4.1616  65.28  2.04  0.00  ...  1024.0   \n",
       "1  1.0  1.12  62.0  3.0  0.0  7.0  1.2544  69.44  3.36  0.00  ...  3844.0   \n",
       "2  1.0  0.50  44.0  3.0  3.0  9.1  0.2500  22.00  1.50  1.50  ...  1936.0   \n",
       "3  1.0  0.16  50.0  3.0  3.0  8.3  0.0256   8.00  0.48  0.48  ...  2500.0   \n",
       "4  1.0  1.38  45.0  1.0  0.0  2.6  1.9044  62.10  1.38  0.00  ...  2025.0   \n",
       "\n",
       "      12     13     14   15   16    17   18    19     20  \n",
       "0   32.0    0.0  112.0  1.0  0.0   3.5  0.0   0.0  12.25  \n",
       "1  186.0    0.0  434.0  9.0  0.0  21.0  0.0   0.0  49.00  \n",
       "2  132.0  132.0  400.4  9.0  9.0  27.3  9.0  27.3  82.81  \n",
       "3  150.0  150.0  415.0  9.0  9.0  24.9  9.0  24.9  68.89  \n",
       "4   45.0    0.0  117.0  1.0  0.0   2.6  0.0   0.0   6.76  \n",
       "\n",
       "[5 rows x 21 columns]"
      ]
     },
     "execution_count": 60,
     "metadata": {},
     "output_type": "execute_result"
    }
   ],
   "source": [
    "interaction.head()"
   ]
  },
  {
   "cell_type": "code",
   "execution_count": 61,
   "metadata": {},
   "outputs": [],
   "source": [
    "internet_data_SQ = full_internet_data.copy()\n",
    "coefficients_SQ = coefficients.copy()"
   ]
  },
  {
   "cell_type": "code",
   "execution_count": 62,
   "metadata": {},
   "outputs": [],
   "source": [
    "internet_data_SQ['Cell_Cost_SQ'] = interaction[6]\n",
    "internet_data_SQ['E-Finance_Value_SQ'] = interaction[11]\n",
    "internet_data_SQ['Support_For_Dig_Lit_SQ'] = interaction[15]\n",
    "internet_data_SQ['Govt_Promote_5g_SQ'] = interaction[18]\n",
    "internet_data_SQ['Democracy_Index_SQ'] = interaction[20]"
   ]
  },
  {
   "cell_type": "code",
   "execution_count": 63,
   "metadata": {},
   "outputs": [],
   "source": [
    "coefficients_SQ.extend(['Cell_Cost_SQ','E-Finance_Value_SQ','Support_For_Dig_Lit_SQ','Govt_Promote_5g_SQ','Democracy_Index_SQ'])"
   ]
  },
  {
   "cell_type": "code",
   "execution_count": 64,
   "metadata": {},
   "outputs": [
    {
     "data": {
      "text/html": [
       "<table class=\"simpletable\">\n",
       "<caption>OLS Regression Results</caption>\n",
       "<tr>\n",
       "  <th>Dep. Variable:</th>    <td>level_of_web_accessibility_(qualitative_rating_0-4,_4=best)</td> <th>  R-squared (uncentered):</th>      <td>   0.813</td>\n",
       "</tr>\n",
       "<tr>\n",
       "  <th>Model:</th>                                        <td>OLS</td>                             <th>  Adj. R-squared (uncentered):</th> <td>   0.796</td>\n",
       "</tr>\n",
       "<tr>\n",
       "  <th>Method:</th>                                  <td>Least Squares</td>                        <th>  F-statistic:       </th>          <td>   47.32</td>\n",
       "</tr>\n",
       "<tr>\n",
       "  <th>Date:</th>                                  <td>Sat, 05 Dec 2020</td>                       <th>  Prob (F-statistic):</th>          <td>4.31e-35</td>\n",
       "</tr>\n",
       "<tr>\n",
       "  <th>Time:</th>                                      <td>17:12:56</td>                           <th>  Log-Likelihood:    </th>          <td> -139.47</td>\n",
       "</tr>\n",
       "<tr>\n",
       "  <th>No. Observations:</th>                           <td>   119</td>                            <th>  AIC:               </th>          <td>   298.9</td>\n",
       "</tr>\n",
       "<tr>\n",
       "  <th>Df Residuals:</th>                               <td>   109</td>                            <th>  BIC:               </th>          <td>   326.7</td>\n",
       "</tr>\n",
       "<tr>\n",
       "  <th>Df Model:</th>                                   <td>    10</td>                            <th>                     </th>              <td> </td>   \n",
       "</tr>\n",
       "<tr>\n",
       "  <th>Covariance Type:</th>                           <td>nonrobust</td>                          <th>                     </th>              <td> </td>   \n",
       "</tr>\n",
       "</table>\n",
       "<table class=\"simpletable\">\n",
       "<tr>\n",
       "             <td></td>               <th>coef</th>     <th>std err</th>      <th>t</th>      <th>P>|t|</th>  <th>[0.025</th>    <th>0.975]</th>  \n",
       "</tr>\n",
       "<tr>\n",
       "  <th>Cell_Cost</th>              <td>    0.0016</td> <td>    0.072</td> <td>    0.023</td> <td> 0.982</td> <td>   -0.142</td> <td>    0.145</td>\n",
       "</tr>\n",
       "<tr>\n",
       "  <th>E-Finance_Value</th>        <td>   -0.0332</td> <td>    0.022</td> <td>   -1.541</td> <td> 0.126</td> <td>   -0.076</td> <td>    0.009</td>\n",
       "</tr>\n",
       "<tr>\n",
       "  <th>Support_For_Dig_Lit</th>    <td>    0.3744</td> <td>    0.406</td> <td>    0.922</td> <td> 0.358</td> <td>   -0.430</td> <td>    1.179</td>\n",
       "</tr>\n",
       "<tr>\n",
       "  <th>Govt_Promote_5g</th>        <td>   -0.1690</td> <td>    0.294</td> <td>   -0.575</td> <td> 0.566</td> <td>   -0.751</td> <td>    0.413</td>\n",
       "</tr>\n",
       "<tr>\n",
       "  <th>Democracy_Index</th>        <td>    0.4632</td> <td>    0.218</td> <td>    2.124</td> <td> 0.036</td> <td>    0.031</td> <td>    0.896</td>\n",
       "</tr>\n",
       "<tr>\n",
       "  <th>Cell_Cost_SQ</th>           <td>    0.0035</td> <td>    0.004</td> <td>    0.918</td> <td> 0.360</td> <td>   -0.004</td> <td>    0.011</td>\n",
       "</tr>\n",
       "<tr>\n",
       "  <th>E-Finance_Value_SQ</th>     <td>    0.0001</td> <td>    0.000</td> <td>    0.664</td> <td> 0.508</td> <td>   -0.000</td> <td>    0.001</td>\n",
       "</tr>\n",
       "<tr>\n",
       "  <th>Support_For_Dig_Lit_SQ</th> <td>   -0.0343</td> <td>    0.108</td> <td>   -0.318</td> <td> 0.751</td> <td>   -0.248</td> <td>    0.179</td>\n",
       "</tr>\n",
       "<tr>\n",
       "  <th>Govt_Promote_5g_SQ</th>     <td>    0.1479</td> <td>    0.093</td> <td>    1.590</td> <td> 0.115</td> <td>   -0.037</td> <td>    0.332</td>\n",
       "</tr>\n",
       "<tr>\n",
       "  <th>Democracy_Index_SQ</th>     <td>   -0.0244</td> <td>    0.019</td> <td>   -1.253</td> <td> 0.213</td> <td>   -0.063</td> <td>    0.014</td>\n",
       "</tr>\n",
       "</table>\n",
       "<table class=\"simpletable\">\n",
       "<tr>\n",
       "  <th>Omnibus:</th>       <td> 0.337</td> <th>  Durbin-Watson:     </th> <td>   2.018</td>\n",
       "</tr>\n",
       "<tr>\n",
       "  <th>Prob(Omnibus):</th> <td> 0.845</td> <th>  Jarque-Bera (JB):  </th> <td>   0.081</td>\n",
       "</tr>\n",
       "<tr>\n",
       "  <th>Skew:</th>          <td> 0.022</td> <th>  Prob(JB):          </th> <td>   0.960</td>\n",
       "</tr>\n",
       "<tr>\n",
       "  <th>Kurtosis:</th>      <td> 3.120</td> <th>  Cond. No.          </th> <td>1.79e+04</td>\n",
       "</tr>\n",
       "</table><br/><br/>Notes:<br/>[1] R² is computed without centering (uncentered) since the model does not contain a constant.<br/>[2] Standard Errors assume that the covariance matrix of the errors is correctly specified.<br/>[3] The condition number is large, 1.79e+04. This might indicate that there are<br/>strong multicollinearity or other numerical problems."
      ],
      "text/plain": [
       "<class 'statsmodels.iolib.summary.Summary'>\n",
       "\"\"\"\n",
       "                                                     OLS Regression Results                                                     \n",
       "================================================================================================================================\n",
       "Dep. Variable:     level_of_web_accessibility_(qualitative_rating_0-4,_4=best)   R-squared (uncentered):                   0.813\n",
       "Model:                                                                     OLS   Adj. R-squared (uncentered):              0.796\n",
       "Method:                                                          Least Squares   F-statistic:                              47.32\n",
       "Date:                                                         Sat, 05 Dec 2020   Prob (F-statistic):                    4.31e-35\n",
       "Time:                                                                 17:12:56   Log-Likelihood:                         -139.47\n",
       "No. Observations:                                                          119   AIC:                                      298.9\n",
       "Df Residuals:                                                              109   BIC:                                      326.7\n",
       "Df Model:                                                                   10                                                  \n",
       "Covariance Type:                                                     nonrobust                                                  \n",
       "==========================================================================================\n",
       "                             coef    std err          t      P>|t|      [0.025      0.975]\n",
       "------------------------------------------------------------------------------------------\n",
       "Cell_Cost                  0.0016      0.072      0.023      0.982      -0.142       0.145\n",
       "E-Finance_Value           -0.0332      0.022     -1.541      0.126      -0.076       0.009\n",
       "Support_For_Dig_Lit        0.3744      0.406      0.922      0.358      -0.430       1.179\n",
       "Govt_Promote_5g           -0.1690      0.294     -0.575      0.566      -0.751       0.413\n",
       "Democracy_Index            0.4632      0.218      2.124      0.036       0.031       0.896\n",
       "Cell_Cost_SQ               0.0035      0.004      0.918      0.360      -0.004       0.011\n",
       "E-Finance_Value_SQ         0.0001      0.000      0.664      0.508      -0.000       0.001\n",
       "Support_For_Dig_Lit_SQ    -0.0343      0.108     -0.318      0.751      -0.248       0.179\n",
       "Govt_Promote_5g_SQ         0.1479      0.093      1.590      0.115      -0.037       0.332\n",
       "Democracy_Index_SQ        -0.0244      0.019     -1.253      0.213      -0.063       0.014\n",
       "==============================================================================\n",
       "Omnibus:                        0.337   Durbin-Watson:                   2.018\n",
       "Prob(Omnibus):                  0.845   Jarque-Bera (JB):                0.081\n",
       "Skew:                           0.022   Prob(JB):                        0.960\n",
       "Kurtosis:                       3.120   Cond. No.                     1.79e+04\n",
       "==============================================================================\n",
       "\n",
       "Notes:\n",
       "[1] R² is computed without centering (uncentered) since the model does not contain a constant.\n",
       "[2] Standard Errors assume that the covariance matrix of the errors is correctly specified.\n",
       "[3] The condition number is large, 1.79e+04. This might indicate that there are\n",
       "strong multicollinearity or other numerical problems.\n",
       "\"\"\""
      ]
     },
     "execution_count": 64,
     "metadata": {},
     "output_type": "execute_result"
    }
   ],
   "source": [
    "regSQ5 = sm.OLS(y, internet_data_SQ[coefficients_SQ]).fit()\n",
    "regSQ5.summary()"
   ]
  },
  {
   "cell_type": "markdown",
   "metadata": {},
   "source": [
    "finalize model with significant interaction terms\n",
    "plot multivariable regression maybe\n",
    "write it uppp\n",
    "\n",
    "Since the squared values all increased the p values, we shall re remove them."
   ]
  },
  {
   "cell_type": "code",
   "execution_count": 65,
   "metadata": {},
   "outputs": [],
   "source": [
    "internet_data_inter = full_internet_data.copy()\n",
    "coefficients_inter = coefficients.copy()"
   ]
  },
  {
   "cell_type": "code",
   "execution_count": 66,
   "metadata": {},
   "outputs": [],
   "source": [
    "for i in interaction.columns:\n",
    "    if i not in [0,1,2,3,4,5,6,11,15,18,20]:\n",
    "        internet_data_inter['interaction ' + str(i)] = interaction[i]\n",
    "        coefficients_inter.append('interaction ' + str(i))"
   ]
  },
  {
   "cell_type": "code",
   "execution_count": 67,
   "metadata": {},
   "outputs": [
    {
     "data": {
      "text/html": [
       "<table class=\"simpletable\">\n",
       "<caption>OLS Regression Results</caption>\n",
       "<tr>\n",
       "  <th>Dep. Variable:</th>    <td>level_of_web_accessibility_(qualitative_rating_0-4,_4=best)</td> <th>  R-squared (uncentered):</th>      <td>   0.823</td>\n",
       "</tr>\n",
       "<tr>\n",
       "  <th>Model:</th>                                        <td>OLS</td>                             <th>  Adj. R-squared (uncentered):</th> <td>   0.798</td>\n",
       "</tr>\n",
       "<tr>\n",
       "  <th>Method:</th>                                  <td>Least Squares</td>                        <th>  F-statistic:       </th>          <td>   32.30</td>\n",
       "</tr>\n",
       "<tr>\n",
       "  <th>Date:</th>                                  <td>Sat, 05 Dec 2020</td>                       <th>  Prob (F-statistic):</th>          <td>2.49e-32</td>\n",
       "</tr>\n",
       "<tr>\n",
       "  <th>Time:</th>                                      <td>17:12:56</td>                           <th>  Log-Likelihood:    </th>          <td> -136.03</td>\n",
       "</tr>\n",
       "<tr>\n",
       "  <th>No. Observations:</th>                           <td>   119</td>                            <th>  AIC:               </th>          <td>   302.1</td>\n",
       "</tr>\n",
       "<tr>\n",
       "  <th>Df Residuals:</th>                               <td>   104</td>                            <th>  BIC:               </th>          <td>   343.7</td>\n",
       "</tr>\n",
       "<tr>\n",
       "  <th>Df Model:</th>                                   <td>    15</td>                            <th>                     </th>              <td> </td>   \n",
       "</tr>\n",
       "<tr>\n",
       "  <th>Covariance Type:</th>                           <td>nonrobust</td>                          <th>                     </th>              <td> </td>   \n",
       "</tr>\n",
       "</table>\n",
       "<table class=\"simpletable\">\n",
       "<tr>\n",
       "           <td></td>              <th>coef</th>     <th>std err</th>      <th>t</th>      <th>P>|t|</th>  <th>[0.025</th>    <th>0.975]</th>  \n",
       "</tr>\n",
       "<tr>\n",
       "  <th>Cell_Cost</th>           <td>    0.1259</td> <td>    0.111</td> <td>    1.131</td> <td> 0.260</td> <td>   -0.095</td> <td>    0.347</td>\n",
       "</tr>\n",
       "<tr>\n",
       "  <th>E-Finance_Value</th>     <td>   -0.0248</td> <td>    0.018</td> <td>   -1.359</td> <td> 0.177</td> <td>   -0.061</td> <td>    0.011</td>\n",
       "</tr>\n",
       "<tr>\n",
       "  <th>Support_For_Dig_Lit</th> <td>   -0.2218</td> <td>    0.360</td> <td>   -0.617</td> <td> 0.539</td> <td>   -0.935</td> <td>    0.491</td>\n",
       "</tr>\n",
       "<tr>\n",
       "  <th>Govt_Promote_5g</th>     <td>    1.0106</td> <td>    0.422</td> <td>    2.396</td> <td> 0.018</td> <td>    0.174</td> <td>    1.847</td>\n",
       "</tr>\n",
       "<tr>\n",
       "  <th>Democracy_Index</th>     <td>    0.3251</td> <td>    0.219</td> <td>    1.488</td> <td> 0.140</td> <td>   -0.108</td> <td>    0.758</td>\n",
       "</tr>\n",
       "<tr>\n",
       "  <th>interaction 7</th>       <td>   -0.0011</td> <td>    0.002</td> <td>   -0.567</td> <td> 0.572</td> <td>   -0.005</td> <td>    0.003</td>\n",
       "</tr>\n",
       "<tr>\n",
       "  <th>interaction 8</th>       <td>    0.0409</td> <td>    0.027</td> <td>    1.497</td> <td> 0.138</td> <td>   -0.013</td> <td>    0.095</td>\n",
       "</tr>\n",
       "<tr>\n",
       "  <th>interaction 9</th>       <td>   -0.0785</td> <td>    0.065</td> <td>   -1.213</td> <td> 0.228</td> <td>   -0.207</td> <td>    0.050</td>\n",
       "</tr>\n",
       "<tr>\n",
       "  <th>interaction 10</th>      <td>   -0.0096</td> <td>    0.020</td> <td>   -0.490</td> <td> 0.625</td> <td>   -0.048</td> <td>    0.029</td>\n",
       "</tr>\n",
       "<tr>\n",
       "  <th>interaction 12</th>      <td>    0.0050</td> <td>    0.008</td> <td>    0.643</td> <td> 0.522</td> <td>   -0.010</td> <td>    0.020</td>\n",
       "</tr>\n",
       "<tr>\n",
       "  <th>interaction 13</th>      <td>   -0.0056</td> <td>    0.005</td> <td>   -1.100</td> <td> 0.274</td> <td>   -0.016</td> <td>    0.004</td>\n",
       "</tr>\n",
       "<tr>\n",
       "  <th>interaction 14</th>      <td>    0.0008</td> <td>    0.003</td> <td>    0.300</td> <td> 0.765</td> <td>   -0.005</td> <td>    0.006</td>\n",
       "</tr>\n",
       "<tr>\n",
       "  <th>interaction 16</th>      <td>    0.0572</td> <td>    0.119</td> <td>    0.482</td> <td> 0.631</td> <td>   -0.178</td> <td>    0.293</td>\n",
       "</tr>\n",
       "<tr>\n",
       "  <th>interaction 17</th>      <td>   -0.0034</td> <td>    0.064</td> <td>   -0.053</td> <td> 0.958</td> <td>   -0.129</td> <td>    0.123</td>\n",
       "</tr>\n",
       "<tr>\n",
       "  <th>interaction 19</th>      <td>   -0.0813</td> <td>    0.039</td> <td>   -2.086</td> <td> 0.039</td> <td>   -0.159</td> <td>   -0.004</td>\n",
       "</tr>\n",
       "</table>\n",
       "<table class=\"simpletable\">\n",
       "<tr>\n",
       "  <th>Omnibus:</th>       <td> 0.369</td> <th>  Durbin-Watson:     </th> <td>   2.080</td>\n",
       "</tr>\n",
       "<tr>\n",
       "  <th>Prob(Omnibus):</th> <td> 0.832</td> <th>  Jarque-Bera (JB):  </th> <td>   0.239</td>\n",
       "</tr>\n",
       "<tr>\n",
       "  <th>Skew:</th>          <td>-0.110</td> <th>  Prob(JB):          </th> <td>   0.887</td>\n",
       "</tr>\n",
       "<tr>\n",
       "  <th>Kurtosis:</th>      <td> 3.010</td> <th>  Cond. No.          </th> <td>2.44e+03</td>\n",
       "</tr>\n",
       "</table><br/><br/>Notes:<br/>[1] R² is computed without centering (uncentered) since the model does not contain a constant.<br/>[2] Standard Errors assume that the covariance matrix of the errors is correctly specified.<br/>[3] The condition number is large, 2.44e+03. This might indicate that there are<br/>strong multicollinearity or other numerical problems."
      ],
      "text/plain": [
       "<class 'statsmodels.iolib.summary.Summary'>\n",
       "\"\"\"\n",
       "                                                     OLS Regression Results                                                     \n",
       "================================================================================================================================\n",
       "Dep. Variable:     level_of_web_accessibility_(qualitative_rating_0-4,_4=best)   R-squared (uncentered):                   0.823\n",
       "Model:                                                                     OLS   Adj. R-squared (uncentered):              0.798\n",
       "Method:                                                          Least Squares   F-statistic:                              32.30\n",
       "Date:                                                         Sat, 05 Dec 2020   Prob (F-statistic):                    2.49e-32\n",
       "Time:                                                                 17:12:56   Log-Likelihood:                         -136.03\n",
       "No. Observations:                                                          119   AIC:                                      302.1\n",
       "Df Residuals:                                                              104   BIC:                                      343.7\n",
       "Df Model:                                                                   15                                                  \n",
       "Covariance Type:                                                     nonrobust                                                  \n",
       "=======================================================================================\n",
       "                          coef    std err          t      P>|t|      [0.025      0.975]\n",
       "---------------------------------------------------------------------------------------\n",
       "Cell_Cost               0.1259      0.111      1.131      0.260      -0.095       0.347\n",
       "E-Finance_Value        -0.0248      0.018     -1.359      0.177      -0.061       0.011\n",
       "Support_For_Dig_Lit    -0.2218      0.360     -0.617      0.539      -0.935       0.491\n",
       "Govt_Promote_5g         1.0106      0.422      2.396      0.018       0.174       1.847\n",
       "Democracy_Index         0.3251      0.219      1.488      0.140      -0.108       0.758\n",
       "interaction 7          -0.0011      0.002     -0.567      0.572      -0.005       0.003\n",
       "interaction 8           0.0409      0.027      1.497      0.138      -0.013       0.095\n",
       "interaction 9          -0.0785      0.065     -1.213      0.228      -0.207       0.050\n",
       "interaction 10         -0.0096      0.020     -0.490      0.625      -0.048       0.029\n",
       "interaction 12          0.0050      0.008      0.643      0.522      -0.010       0.020\n",
       "interaction 13         -0.0056      0.005     -1.100      0.274      -0.016       0.004\n",
       "interaction 14          0.0008      0.003      0.300      0.765      -0.005       0.006\n",
       "interaction 16          0.0572      0.119      0.482      0.631      -0.178       0.293\n",
       "interaction 17         -0.0034      0.064     -0.053      0.958      -0.129       0.123\n",
       "interaction 19         -0.0813      0.039     -2.086      0.039      -0.159      -0.004\n",
       "==============================================================================\n",
       "Omnibus:                        0.369   Durbin-Watson:                   2.080\n",
       "Prob(Omnibus):                  0.832   Jarque-Bera (JB):                0.239\n",
       "Skew:                          -0.110   Prob(JB):                        0.887\n",
       "Kurtosis:                       3.010   Cond. No.                     2.44e+03\n",
       "==============================================================================\n",
       "\n",
       "Notes:\n",
       "[1] R² is computed without centering (uncentered) since the model does not contain a constant.\n",
       "[2] Standard Errors assume that the covariance matrix of the errors is correctly specified.\n",
       "[3] The condition number is large, 2.44e+03. This might indicate that there are\n",
       "strong multicollinearity or other numerical problems.\n",
       "\"\"\""
      ]
     },
     "execution_count": 67,
     "metadata": {},
     "output_type": "execute_result"
    }
   ],
   "source": [
    "regi = sm.OLS(y, internet_data_inter[coefficients_inter]).fit()\n",
    "regi.summary()"
   ]
  },
  {
   "cell_type": "code",
   "execution_count": 68,
   "metadata": {},
   "outputs": [],
   "source": [
    "internet_data_final = full_internet_data.copy()\n",
    "coefficients_final = coefficients.copy()"
   ]
  },
  {
   "cell_type": "code",
   "execution_count": 69,
   "metadata": {},
   "outputs": [],
   "source": [
    "internet_data_final['Govt_Promote_5g:Democracy_Index'] = interaction[19]\n",
    "coefficients_final.extend(['Govt_Promote_5g:Democracy_Index'])"
   ]
  },
  {
   "cell_type": "code",
   "execution_count": 70,
   "metadata": {},
   "outputs": [
    {
     "data": {
      "text/html": [
       "<table class=\"simpletable\">\n",
       "<caption>OLS Regression Results</caption>\n",
       "<tr>\n",
       "  <th>Dep. Variable:</th>    <td>level_of_web_accessibility_(qualitative_rating_0-4,_4=best)</td> <th>  R-squared (uncentered):</th>      <td>   0.814</td>\n",
       "</tr>\n",
       "<tr>\n",
       "  <th>Model:</th>                                        <td>OLS</td>                             <th>  Adj. R-squared (uncentered):</th> <td>   0.804</td>\n",
       "</tr>\n",
       "<tr>\n",
       "  <th>Method:</th>                                  <td>Least Squares</td>                        <th>  F-statistic:       </th>          <td>   82.18</td>\n",
       "</tr>\n",
       "<tr>\n",
       "  <th>Date:</th>                                  <td>Sat, 05 Dec 2020</td>                       <th>  Prob (F-statistic):</th>          <td>6.85e-39</td>\n",
       "</tr>\n",
       "<tr>\n",
       "  <th>Time:</th>                                      <td>17:12:56</td>                           <th>  Log-Likelihood:    </th>          <td> -139.22</td>\n",
       "</tr>\n",
       "<tr>\n",
       "  <th>No. Observations:</th>                           <td>   119</td>                            <th>  AIC:               </th>          <td>   290.4</td>\n",
       "</tr>\n",
       "<tr>\n",
       "  <th>Df Residuals:</th>                               <td>   113</td>                            <th>  BIC:               </th>          <td>   307.1</td>\n",
       "</tr>\n",
       "<tr>\n",
       "  <th>Df Model:</th>                                   <td>     6</td>                            <th>                     </th>              <td> </td>   \n",
       "</tr>\n",
       "<tr>\n",
       "  <th>Covariance Type:</th>                           <td>nonrobust</td>                          <th>                     </th>              <td> </td>   \n",
       "</tr>\n",
       "</table>\n",
       "<table class=\"simpletable\">\n",
       "<tr>\n",
       "                 <td></td>                    <th>coef</th>     <th>std err</th>      <th>t</th>      <th>P>|t|</th>  <th>[0.025</th>    <th>0.975]</th>  \n",
       "</tr>\n",
       "<tr>\n",
       "  <th>Cell_Cost</th>                       <td>    0.0670</td> <td>    0.020</td> <td>    3.399</td> <td> 0.001</td> <td>    0.028</td> <td>    0.106</td>\n",
       "</tr>\n",
       "<tr>\n",
       "  <th>E-Finance_Value</th>                 <td>   -0.0206</td> <td>    0.005</td> <td>   -4.115</td> <td> 0.000</td> <td>   -0.030</td> <td>   -0.011</td>\n",
       "</tr>\n",
       "<tr>\n",
       "  <th>Support_For_Dig_Lit</th>             <td>    0.1440</td> <td>    0.105</td> <td>    1.372</td> <td> 0.173</td> <td>   -0.064</td> <td>    0.352</td>\n",
       "</tr>\n",
       "<tr>\n",
       "  <th>Govt_Promote_5g</th>                 <td>    0.6449</td> <td>    0.180</td> <td>    3.580</td> <td> 0.001</td> <td>    0.288</td> <td>    1.002</td>\n",
       "</tr>\n",
       "<tr>\n",
       "  <th>Democracy_Index</th>                 <td>    0.3002</td> <td>    0.060</td> <td>    4.963</td> <td> 0.000</td> <td>    0.180</td> <td>    0.420</td>\n",
       "</tr>\n",
       "<tr>\n",
       "  <th>Govt_Promote_5g:Democracy_Index</th> <td>   -0.0608</td> <td>    0.027</td> <td>   -2.219</td> <td> 0.029</td> <td>   -0.115</td> <td>   -0.007</td>\n",
       "</tr>\n",
       "</table>\n",
       "<table class=\"simpletable\">\n",
       "<tr>\n",
       "  <th>Omnibus:</th>       <td> 0.176</td> <th>  Durbin-Watson:     </th> <td>   2.014</td>\n",
       "</tr>\n",
       "<tr>\n",
       "  <th>Prob(Omnibus):</th> <td> 0.916</td> <th>  Jarque-Bera (JB):  </th> <td>   0.161</td>\n",
       "</tr>\n",
       "<tr>\n",
       "  <th>Skew:</th>          <td> 0.084</td> <th>  Prob(JB):          </th> <td>   0.922</td>\n",
       "</tr>\n",
       "<tr>\n",
       "  <th>Kurtosis:</th>      <td> 2.935</td> <th>  Cond. No.          </th> <td>    144.</td>\n",
       "</tr>\n",
       "</table><br/><br/>Notes:<br/>[1] R² is computed without centering (uncentered) since the model does not contain a constant.<br/>[2] Standard Errors assume that the covariance matrix of the errors is correctly specified."
      ],
      "text/plain": [
       "<class 'statsmodels.iolib.summary.Summary'>\n",
       "\"\"\"\n",
       "                                                     OLS Regression Results                                                     \n",
       "================================================================================================================================\n",
       "Dep. Variable:     level_of_web_accessibility_(qualitative_rating_0-4,_4=best)   R-squared (uncentered):                   0.814\n",
       "Model:                                                                     OLS   Adj. R-squared (uncentered):              0.804\n",
       "Method:                                                          Least Squares   F-statistic:                              82.18\n",
       "Date:                                                         Sat, 05 Dec 2020   Prob (F-statistic):                    6.85e-39\n",
       "Time:                                                                 17:12:56   Log-Likelihood:                         -139.22\n",
       "No. Observations:                                                          119   AIC:                                      290.4\n",
       "Df Residuals:                                                              113   BIC:                                      307.1\n",
       "Df Model:                                                                    6                                                  \n",
       "Covariance Type:                                                     nonrobust                                                  \n",
       "===================================================================================================\n",
       "                                      coef    std err          t      P>|t|      [0.025      0.975]\n",
       "---------------------------------------------------------------------------------------------------\n",
       "Cell_Cost                           0.0670      0.020      3.399      0.001       0.028       0.106\n",
       "E-Finance_Value                    -0.0206      0.005     -4.115      0.000      -0.030      -0.011\n",
       "Support_For_Dig_Lit                 0.1440      0.105      1.372      0.173      -0.064       0.352\n",
       "Govt_Promote_5g                     0.6449      0.180      3.580      0.001       0.288       1.002\n",
       "Democracy_Index                     0.3002      0.060      4.963      0.000       0.180       0.420\n",
       "Govt_Promote_5g:Democracy_Index    -0.0608      0.027     -2.219      0.029      -0.115      -0.007\n",
       "==============================================================================\n",
       "Omnibus:                        0.176   Durbin-Watson:                   2.014\n",
       "Prob(Omnibus):                  0.916   Jarque-Bera (JB):                0.161\n",
       "Skew:                           0.084   Prob(JB):                        0.922\n",
       "Kurtosis:                       2.935   Cond. No.                         144.\n",
       "==============================================================================\n",
       "\n",
       "Notes:\n",
       "[1] R² is computed without centering (uncentered) since the model does not contain a constant.\n",
       "[2] Standard Errors assume that the covariance matrix of the errors is correctly specified.\n",
       "\"\"\""
      ]
     },
     "execution_count": 70,
     "metadata": {},
     "output_type": "execute_result"
    }
   ],
   "source": [
    "regi19 = sm.OLS(y, internet_data_final[coefficients_final]).fit()\n",
    "regi19.summary()"
   ]
  },
  {
   "cell_type": "code",
   "execution_count": 71,
   "metadata": {},
   "outputs": [],
   "source": [
    "internet_data_final.drop(columns=['Support_For_Dig_Lit'])\n",
    "coefficients_final.remove('Support_For_Dig_Lit')"
   ]
  },
  {
   "cell_type": "code",
   "execution_count": 72,
   "metadata": {},
   "outputs": [
    {
     "data": {
      "text/html": [
       "<table class=\"simpletable\">\n",
       "<caption>OLS Regression Results</caption>\n",
       "<tr>\n",
       "  <th>Dep. Variable:</th>    <td>level_of_web_accessibility_(qualitative_rating_0-4,_4=best)</td> <th>  R-squared (uncentered):</th>      <td>   0.810</td>\n",
       "</tr>\n",
       "<tr>\n",
       "  <th>Model:</th>                                        <td>OLS</td>                             <th>  Adj. R-squared (uncentered):</th> <td>   0.802</td>\n",
       "</tr>\n",
       "<tr>\n",
       "  <th>Method:</th>                                  <td>Least Squares</td>                        <th>  F-statistic:       </th>          <td>   97.49</td>\n",
       "</tr>\n",
       "<tr>\n",
       "  <th>Date:</th>                                  <td>Sat, 05 Dec 2020</td>                       <th>  Prob (F-statistic):</th>          <td>1.66e-39</td>\n",
       "</tr>\n",
       "<tr>\n",
       "  <th>Time:</th>                                      <td>17:12:56</td>                           <th>  Log-Likelihood:    </th>          <td> -140.20</td>\n",
       "</tr>\n",
       "<tr>\n",
       "  <th>No. Observations:</th>                           <td>   119</td>                            <th>  AIC:               </th>          <td>   290.4</td>\n",
       "</tr>\n",
       "<tr>\n",
       "  <th>Df Residuals:</th>                               <td>   114</td>                            <th>  BIC:               </th>          <td>   304.3</td>\n",
       "</tr>\n",
       "<tr>\n",
       "  <th>Df Model:</th>                                   <td>     5</td>                            <th>                     </th>              <td> </td>   \n",
       "</tr>\n",
       "<tr>\n",
       "  <th>Covariance Type:</th>                           <td>nonrobust</td>                          <th>                     </th>              <td> </td>   \n",
       "</tr>\n",
       "</table>\n",
       "<table class=\"simpletable\">\n",
       "<tr>\n",
       "                 <td></td>                    <th>coef</th>     <th>std err</th>      <th>t</th>      <th>P>|t|</th>  <th>[0.025</th>    <th>0.975]</th>  \n",
       "</tr>\n",
       "<tr>\n",
       "  <th>Cell_Cost</th>                       <td>    0.0609</td> <td>    0.019</td> <td>    3.160</td> <td> 0.002</td> <td>    0.023</td> <td>    0.099</td>\n",
       "</tr>\n",
       "<tr>\n",
       "  <th>E-Finance_Value</th>                 <td>   -0.0191</td> <td>    0.005</td> <td>   -3.900</td> <td> 0.000</td> <td>   -0.029</td> <td>   -0.009</td>\n",
       "</tr>\n",
       "<tr>\n",
       "  <th>Govt_Promote_5g</th>                 <td>    0.7730</td> <td>    0.155</td> <td>    4.998</td> <td> 0.000</td> <td>    0.467</td> <td>    1.079</td>\n",
       "</tr>\n",
       "<tr>\n",
       "  <th>Democracy_Index</th>                 <td>    0.3505</td> <td>    0.048</td> <td>    7.265</td> <td> 0.000</td> <td>    0.255</td> <td>    0.446</td>\n",
       "</tr>\n",
       "<tr>\n",
       "  <th>Govt_Promote_5g:Democracy_Index</th> <td>   -0.0798</td> <td>    0.024</td> <td>   -3.358</td> <td> 0.001</td> <td>   -0.127</td> <td>   -0.033</td>\n",
       "</tr>\n",
       "</table>\n",
       "<table class=\"simpletable\">\n",
       "<tr>\n",
       "  <th>Omnibus:</th>       <td> 0.092</td> <th>  Durbin-Watson:     </th> <td>   2.042</td>\n",
       "</tr>\n",
       "<tr>\n",
       "  <th>Prob(Omnibus):</th> <td> 0.955</td> <th>  Jarque-Bera (JB):  </th> <td>   0.085</td>\n",
       "</tr>\n",
       "<tr>\n",
       "  <th>Skew:</th>          <td> 0.057</td> <th>  Prob(JB):          </th> <td>   0.958</td>\n",
       "</tr>\n",
       "<tr>\n",
       "  <th>Kurtosis:</th>      <td> 2.936</td> <th>  Cond. No.          </th> <td>    115.</td>\n",
       "</tr>\n",
       "</table><br/><br/>Notes:<br/>[1] R² is computed without centering (uncentered) since the model does not contain a constant.<br/>[2] Standard Errors assume that the covariance matrix of the errors is correctly specified."
      ],
      "text/plain": [
       "<class 'statsmodels.iolib.summary.Summary'>\n",
       "\"\"\"\n",
       "                                                     OLS Regression Results                                                     \n",
       "================================================================================================================================\n",
       "Dep. Variable:     level_of_web_accessibility_(qualitative_rating_0-4,_4=best)   R-squared (uncentered):                   0.810\n",
       "Model:                                                                     OLS   Adj. R-squared (uncentered):              0.802\n",
       "Method:                                                          Least Squares   F-statistic:                              97.49\n",
       "Date:                                                         Sat, 05 Dec 2020   Prob (F-statistic):                    1.66e-39\n",
       "Time:                                                                 17:12:56   Log-Likelihood:                         -140.20\n",
       "No. Observations:                                                          119   AIC:                                      290.4\n",
       "Df Residuals:                                                              114   BIC:                                      304.3\n",
       "Df Model:                                                                    5                                                  \n",
       "Covariance Type:                                                     nonrobust                                                  \n",
       "===================================================================================================\n",
       "                                      coef    std err          t      P>|t|      [0.025      0.975]\n",
       "---------------------------------------------------------------------------------------------------\n",
       "Cell_Cost                           0.0609      0.019      3.160      0.002       0.023       0.099\n",
       "E-Finance_Value                    -0.0191      0.005     -3.900      0.000      -0.029      -0.009\n",
       "Govt_Promote_5g                     0.7730      0.155      4.998      0.000       0.467       1.079\n",
       "Democracy_Index                     0.3505      0.048      7.265      0.000       0.255       0.446\n",
       "Govt_Promote_5g:Democracy_Index    -0.0798      0.024     -3.358      0.001      -0.127      -0.033\n",
       "==============================================================================\n",
       "Omnibus:                        0.092   Durbin-Watson:                   2.042\n",
       "Prob(Omnibus):                  0.955   Jarque-Bera (JB):                0.085\n",
       "Skew:                           0.057   Prob(JB):                        0.958\n",
       "Kurtosis:                       2.936   Cond. No.                         115.\n",
       "==============================================================================\n",
       "\n",
       "Notes:\n",
       "[1] R² is computed without centering (uncentered) since the model does not contain a constant.\n",
       "[2] Standard Errors assume that the covariance matrix of the errors is correctly specified.\n",
       "\"\"\""
      ]
     },
     "execution_count": 72,
     "metadata": {},
     "output_type": "execute_result"
    }
   ],
   "source": [
    "reg_final = sm.OLS(y, internet_data_final[coefficients_final]).fit()\n",
    "reg_final.summary()"
   ]
  },
  {
   "cell_type": "code",
   "execution_count": 73,
   "metadata": {},
   "outputs": [
    {
     "data": {
      "text/html": [
       "<div>\n",
       "<style scoped>\n",
       "    .dataframe tbody tr th:only-of-type {\n",
       "        vertical-align: middle;\n",
       "    }\n",
       "\n",
       "    .dataframe tbody tr th {\n",
       "        vertical-align: top;\n",
       "    }\n",
       "\n",
       "    .dataframe thead th {\n",
       "        text-align: right;\n",
       "    }\n",
       "</style>\n",
       "<table border=\"1\" class=\"dataframe\">\n",
       "  <thead>\n",
       "    <tr style=\"text-align: right;\">\n",
       "      <th></th>\n",
       "      <th>Cell_Cost</th>\n",
       "      <th>E-Finance_Value</th>\n",
       "      <th>Govt_Promote_5g</th>\n",
       "      <th>Democracy_Index</th>\n",
       "      <th>Govt_Promote_5g:Democracy_Index</th>\n",
       "    </tr>\n",
       "  </thead>\n",
       "  <tbody>\n",
       "    <tr>\n",
       "      <th>0</th>\n",
       "      <td>2.04</td>\n",
       "      <td>32.0</td>\n",
       "      <td>0.0</td>\n",
       "      <td>3.5</td>\n",
       "      <td>0.0</td>\n",
       "    </tr>\n",
       "    <tr>\n",
       "      <th>1</th>\n",
       "      <td>1.12</td>\n",
       "      <td>62.0</td>\n",
       "      <td>0.0</td>\n",
       "      <td>7.0</td>\n",
       "      <td>0.0</td>\n",
       "    </tr>\n",
       "    <tr>\n",
       "      <th>2</th>\n",
       "      <td>0.50</td>\n",
       "      <td>44.0</td>\n",
       "      <td>3.0</td>\n",
       "      <td>9.1</td>\n",
       "      <td>27.3</td>\n",
       "    </tr>\n",
       "    <tr>\n",
       "      <th>3</th>\n",
       "      <td>0.16</td>\n",
       "      <td>50.0</td>\n",
       "      <td>3.0</td>\n",
       "      <td>8.3</td>\n",
       "      <td>24.9</td>\n",
       "    </tr>\n",
       "    <tr>\n",
       "      <th>4</th>\n",
       "      <td>1.38</td>\n",
       "      <td>45.0</td>\n",
       "      <td>0.0</td>\n",
       "      <td>2.6</td>\n",
       "      <td>0.0</td>\n",
       "    </tr>\n",
       "  </tbody>\n",
       "</table>\n",
       "</div>"
      ],
      "text/plain": [
       "   Cell_Cost  E-Finance_Value  Govt_Promote_5g  Democracy_Index  \\\n",
       "0       2.04             32.0              0.0              3.5   \n",
       "1       1.12             62.0              0.0              7.0   \n",
       "2       0.50             44.0              3.0              9.1   \n",
       "3       0.16             50.0              3.0              8.3   \n",
       "4       1.38             45.0              0.0              2.6   \n",
       "\n",
       "   Govt_Promote_5g:Democracy_Index  \n",
       "0                              0.0  \n",
       "1                              0.0  \n",
       "2                             27.3  \n",
       "3                             24.9  \n",
       "4                              0.0  "
      ]
     },
     "execution_count": 73,
     "metadata": {},
     "output_type": "execute_result"
    }
   ],
   "source": [
    "internet_data_final[coefficients_final].head()"
   ]
  },
  {
   "cell_type": "code",
   "execution_count": 74,
   "metadata": {},
   "outputs": [],
   "source": [
    "X = internet_data_final[coefficients_final]"
   ]
  },
  {
   "cell_type": "code",
   "execution_count": 75,
   "metadata": {},
   "outputs": [
    {
     "name": "stdout",
     "output_type": "stream",
     "text": [
      "     Cell_Cost  E-Finance_Value  Govt_Promote_5g  Democracy_Index  \\\n",
      "0        2.040           32.000            0.000            3.500   \n",
      "1        1.120           62.000            0.000            7.000   \n",
      "2        0.500           44.000            3.000            9.100   \n",
      "3        0.160           50.000            3.000            8.300   \n",
      "4        1.380           45.000            0.000            2.600   \n",
      "..         ...              ...              ...              ...   \n",
      "114      7.341           44.000            0.174            4.783   \n",
      "115      0.744           50.805            2.189            7.111   \n",
      "116     11.470           44.000            0.000            4.440   \n",
      "117      3.741           49.754            0.500            4.688   \n",
      "118      1.785           54.837            0.963            5.233   \n",
      "\n",
      "     Govt_Promote_5g:Democracy_Index  \n",
      "0                           0.000000  \n",
      "1                           0.000000  \n",
      "2                          27.300000  \n",
      "3                          24.900000  \n",
      "4                           0.000000  \n",
      "..                               ...  \n",
      "114                         0.832242  \n",
      "115                        15.565979  \n",
      "116                         0.000000  \n",
      "117                         2.344000  \n",
      "118                         5.039379  \n",
      "\n",
      "[119 rows x 5 columns]\n"
     ]
    }
   ],
   "source": [
    "print(X)"
   ]
  },
  {
   "cell_type": "markdown",
   "metadata": {},
   "source": [
    "## Interpretations and Conclusions for Analysis 2 (ADD)"
   ]
  },
  {
   "cell_type": "markdown",
   "metadata": {},
   "source": [
    "# Questions for reviewers\n",
    "1. How should we fix the error with the graph (mentioned above) in analysis 1? \n",
    "2. Is there anything in our code that you want us to clarify with written analysis?\n",
    "3. Is our code easy enough/organized enough to follow? \n"
   ]
  },
  {
   "cell_type": "markdown",
   "metadata": {},
   "source": [
    "FEEDBACK TO ADDRESS: \n",
    "1. Intro: In this section you need to clearly state the result/finding of your project, which is currently missing. Say more about the context, such as the background of your research question and the summary of data you use. This part should give any reader a general understanding of your project.\n",
    "2. data description: Good. I'd recommend moving the explanation of data processing in your intro into this part.\n",
    "3. PreregisterQ: good\n",
    "4. data analysis: Please have more comment for all of your codes and graphs to connect them into a complete story. It is confusing now how you got your conclusion from the heat map. One suggestion is reduce the amount of var you compare with food expenditure and only choose the most significant vars. Analysis 2 is now hard to understand.\n",
    "5. limitation: You should explore more on the limitations of your study, not just the data. You can use this as an opportunity to explain why some of your models doesn't work\n",
    "6. conclusion: missing. See the handbook deliverables section for what you need.\n",
    "Question for reviewers: You need to explain all of your code more. Now you have large clusters of code with no comment that is very hard to follow. Please be very clear where your evaluation of significance is. Please come to office hour to solve analysis 1 error, more info is needed."
   ]
  },
  {
   "cell_type": "code",
   "execution_count": null,
   "metadata": {},
   "outputs": [],
   "source": []
  }
 ],
 "metadata": {
  "kernelspec": {
   "display_name": "Python 3",
   "language": "python",
   "name": "python3"
  },
  "language_info": {
   "codemirror_mode": {
    "name": "ipython",
    "version": 3
   },
   "file_extension": ".py",
   "mimetype": "text/x-python",
   "name": "python",
   "nbconvert_exporter": "python",
   "pygments_lexer": "ipython3",
   "version": "3.7.9"
  }
 },
 "nbformat": 4,
 "nbformat_minor": 2
}
