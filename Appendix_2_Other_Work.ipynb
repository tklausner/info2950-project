{
 "cells": [
  {
   "cell_type": "markdown",
   "metadata": {},
   "source": [
    "# INFO 2950 Project\n",
    "### Appendix 2 - Other Work\n",
    "Net IDs: tjk223, bsp73, amm643, swp42\n",
    "\n",
    "Names: Teddy Klausner, Ben Polson, Sasha Miranda, Spencer Pettee\n",
    "### Details\n",
    "This file includes other information which was not included in the final report. "
   ]
  },
  {
   "cell_type": "markdown",
   "metadata": {},
   "source": [
    "## Intersting Columns - Internet Dataset\n",
    "The following list of columns are from the internet dataset. The bolded bullet points are those which we would like to focus on. This was originally from phase II of the project.\n",
    "\n",
    "- **Name: 1.1.4) Gender gap in internet access / % difference, dtype: float64**\n",
    "- Name: 1.1.5) Gender gap in mobile phone access / % difference, dtype: float64\n",
    "- Name: 1.2.7) Bandwidth capacity / Bit/s per Internet user, dtype: float64 \n",
    "- **Name: 1.4.1) Urban electricity access / % of population, dtype: float64**\n",
    "- **Name: 1.4.2) Rural electricity access / % of population, dtype: float64**\n",
    "- **Name: 2.1.1) Smartphone cost (handset) / Score of 0-100, 100=most affordable, dtype: float64**\n",
    "- Name: 2.2.1) Average revenue per user (ARPU, annualized) / USD, dtype: float64 \n",
    "- Name: 3.1.1) Availability of basic information in the local language / Qualitative rating 0-3, 3=best, dtype: float64 \n",
    "- Name: 4.1.1) Level of literacy / % of population, dtype: float64 \n",
    "- **Name: 4.1.4) Level of web accessibility / Qualitative rating 0-4, 4=best, dtype: float64**\n",
    "- Name: 4.2.1) Privacy regulations / Qualitative rating 0-2, 2=best, dtype: float64\n",
    "- **Name: 4.2.2) Trust in online privacy / %, dtype: float64**\n",
    "- Name: 4.3.5.1) Technology-neutrality policy for spectrum use / Qualitative rating 0-1, 1=best, dtype: float64 \n",
    "- Name: BG1) Nominal GDP / USD billions, dtype: float64 \n",
    "- **Name: BG7) Total electricity access / % of population, dtype: float64**\n",
    "- Name: BG9) Percentage of schools with Internet access / % of schools, dtype: float64 \n",
    "- Name: BG10) Global Peace Index / Score, 1-5; 1 = best, dtype: float64 \n",
    "- Name: BG11) Democracy Index / Score, 0-10; 10 = best, dtype: float64 \n",
    "- Name: BG15) Internet users (population) / Millions, dtype: float64 \n",
    "- Name: BG16) Offline population / Millions, dtype: float64 \n",
    "- **Name: BG17) Internet access gender gap / Difference in percentage points, dtype: float64**\n",
    "- **Name: BG19) Internet users (percent of population) / % of population, dtype: float64**"
   ]
  },
  {
   "cell_type": "code",
   "execution_count": null,
   "metadata": {},
   "outputs": [],
   "source": []
  }
 ],
 "metadata": {
  "kernelspec": {
   "display_name": "Python 3",
   "language": "python",
   "name": "python3"
  },
  "language_info": {
   "codemirror_mode": {
    "name": "ipython",
    "version": 3
   },
   "file_extension": ".py",
   "mimetype": "text/x-python",
   "name": "python",
   "nbconvert_exporter": "python",
   "pygments_lexer": "ipython3",
   "version": "3.8.3"
  }
 },
 "nbformat": 4,
 "nbformat_minor": 4
}
